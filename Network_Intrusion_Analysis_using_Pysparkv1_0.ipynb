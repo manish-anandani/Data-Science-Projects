{
  "nbformat": 4,
  "nbformat_minor": 5,
  "metadata": {
    "kernelspec": {
      "display_name": "Python 3",
      "language": "python",
      "name": "python3"
    },
    "language_info": {
      "codemirror_mode": {
        "name": "ipython",
        "version": 3
      },
      "file_extension": ".py",
      "mimetype": "text/x-python",
      "name": "python",
      "nbconvert_exporter": "python",
      "pygments_lexer": "ipython3",
      "version": "3.9.2"
    },
    "colab": {
      "provenance": [],
      "include_colab_link": true
    }
  },
  "cells": [
    {
      "cell_type": "markdown",
      "metadata": {
        "id": "view-in-github",
        "colab_type": "text"
      },
      "source": [
        "<a href=\"https://colab.research.google.com/github/manish-anandani/Data-Science-Projects/blob/main/Network_Intrusion_Analysis_using_Pysparkv1_0.ipynb\" target=\"_parent\"><img src=\"https://colab.research.google.com/assets/colab-badge.svg\" alt=\"Open In Colab\"/></a>"
      ]
    },
    {
      "cell_type": "markdown",
      "metadata": {
        "id": "terminal-strip"
      },
      "source": [
        "## Problem Statement"
      ],
      "id": "terminal-strip"
    },
    {
      "cell_type": "markdown",
      "metadata": {
        "id": "supported-supplement"
      },
      "source": [
        "Perform complex analytics on a network intrusion dataset using Pyspark"
      ],
      "id": "supported-supplement"
    },
    {
      "cell_type": "markdown",
      "metadata": {
        "id": "decimal-replication"
      },
      "source": [
        "## Learning Objectives"
      ],
      "id": "decimal-replication"
    },
    {
      "cell_type": "markdown",
      "metadata": {
        "id": "informational-yacht"
      },
      "source": [
        "At the end of the mini-project, we will be able to :\n",
        "\n",
        "* analyze the data using Pyspark\n",
        "* implement RDD based operations on the data\n",
        "* derive insights from the complex data"
      ],
      "id": "informational-yacht"
    },
    {
      "cell_type": "markdown",
      "metadata": {
        "id": "quality-approval"
      },
      "source": [
        "### Dataset"
      ],
      "id": "quality-approval"
    },
    {
      "cell_type": "markdown",
      "metadata": {
        "id": "biblical-syracuse"
      },
      "source": [
        "The dataset chosen for this mini-project is a [10% subset](https://www.kdd.org/kdd-cup/view/kdd-cup-1999/Data) of the **[KDD Cup 1999 dataset](http://kdd.ics.uci.edu/databases/kddcup99/task.html)** (Computer network intrusion detection). This is the dataset used for the Third International Knowledge Discovery and Data Mining Tools Competition. The competition task was to build a network intrusion detector, a predictive model capable of distinguishing between ``bad`` connections, called intrusions or attacks, and ``good`` normal connections. This database contains a standard set of data to be audited, which includes a wide variety of intrusions simulated in a military network environment."
      ],
      "id": "biblical-syracuse"
    },
    {
      "cell_type": "markdown",
      "metadata": {
        "id": "listed-numbers"
      },
      "source": [
        "## Information"
      ],
      "id": "listed-numbers"
    },
    {
      "cell_type": "markdown",
      "metadata": {
        "id": "skilled-concern"
      },
      "source": [
        "Since 1999, KDD’99 has been the most widely used data set for the evaluation of anomaly detection methods. This data set is prepared by S. J. Stolfo and is built based on the data captured in DARPA’98 IDS evaluation program. DARPA’98 is about 4 gigabytes of compressed raw (binary) tcpdump data of 7 weeks of network traffic, which can be processed into about 5 million connection\n",
        "records, each with about 100 bytes. KDD dataset consists of approximately 4,900,000 single connection vectors each of which contains 41 features and is labeled as either normal or an attack, with exactly one specific attack type. The simulated attacks fall into one of the following four categories:\n",
        "\n",
        "* Denial of Service Attack (DoS): making some computing or memory resources too busy so that they deny legitimate users access to these resources.\n",
        "* User to Root Attack (U2R): unauthorized access from a remote machine according to exploit machine's vulnerabilities.\n",
        "* Remote to Local Attack (R2L): unauthorized access to local super user (root) privileges using system's susceptibility.\n",
        "* Probing Attack: host and port scans as precursors to other attacks. An attacker scans a network to gather information or find known vulnerabilities.\n",
        "\n",
        "KDD’99 features can be classified into three groups:\n",
        "\n",
        "1) Basic features: this category encapsulates all the attributes that can be extracted from a TCP/IP connection. Most of these features leading to an implicit delay in detection.\n",
        "\n",
        "2) Traffic features: this category includes features that are computed with respect to a window interval and is divided into two groups:\n",
        "\n",
        "  * \"same host\" features\n",
        "\n",
        "  * \"same service\" features\n",
        "\n",
        "3) Content features: unlike most of the DoS and Probing attacks, the R2L and U2R attacks don’t have any intrusion frequent sequential patterns. This is because the DoS and Probing attacks involve many connections to some host(s) in a very short period of time, however the R2L and U2R attacks are embedded in the data portions of the packets, and normally involve only a single connection. To detect these kinds of attacks, we need some features to be able to look for suspicious behavior in the data portion, e.g., the number of failed login attempts. These features are called content features."
      ],
      "id": "skilled-concern"
    },
    {
      "cell_type": "code",
      "metadata": {
        "id": "extreme-working",
        "colab": {
          "base_uri": "https://localhost:8080/"
        },
        "outputId": "50f3ebe7-27fc-4397-d3dc-c9ad477ab1b2"
      },
      "source": [
        "#@title Install packages and Download Dataset\n",
        "!pip -qq install pyspark\n",
        "# Download the data\n",
        "!wget -qq https://cdn.iisc.talentsprint.com/CDS/Datasets/kddcup.data_10_percent.gz\n",
        "# Download feature names\n",
        "!wget -qq https://cdn.iisc.talentsprint.com/CDS/Datasets/kddcup.names\n",
        "print(\"Successfully Installed packages and downloaded datasets!\")"
      ],
      "id": "extreme-working",
      "execution_count": null,
      "outputs": [
        {
          "output_type": "stream",
          "name": "stdout",
          "text": [
            "\u001b[2K     \u001b[90m━━━━━━━━━━━━━━━━━━━━━━━━━━━━━━━━━━━━━━━━\u001b[0m \u001b[32m316.9/316.9 MB\u001b[0m \u001b[31m2.9 MB/s\u001b[0m eta \u001b[36m0:00:00\u001b[0m\n",
            "\u001b[?25h  Preparing metadata (setup.py) ... \u001b[?25l\u001b[?25hdone\n",
            "  Building wheel for pyspark (setup.py) ... \u001b[?25l\u001b[?25hdone\n",
            "Successfully Installed packages and downloaded datasets!\n"
          ]
        }
      ]
    },
    {
      "cell_type": "markdown",
      "metadata": {
        "id": "6VwMxTT0KObc"
      },
      "source": [
        "### Create Spark Session and load the data"
      ],
      "id": "6VwMxTT0KObc"
    },
    {
      "cell_type": "markdown",
      "metadata": {
        "id": "italic-gross"
      },
      "source": [
        "#### Import required packages"
      ],
      "id": "italic-gross"
    },
    {
      "cell_type": "code",
      "metadata": {
        "id": "published-remove"
      },
      "source": [
        "from pyspark.sql import SparkSession\n",
        "from pyspark.sql import SQLContext\n",
        "from pyspark.sql import *\n",
        "from pyspark.sql.functions import *\n",
        "from pyspark.mllib.stat import Statistics\n",
        "# from pyspark.ml.stat import Correlation\n",
        "\n",
        "import seaborn as sns\n",
        "from matplotlib import pyplot as plt\n",
        "import numpy as np\n",
        "import pandas as pd\n",
        "from operator import add"
      ],
      "id": "published-remove",
      "execution_count": null,
      "outputs": []
    },
    {
      "cell_type": "code",
      "source": [
        "import os\n",
        "os.environ[\"JAVA_HOME\"] = \"/usr/lib/jvm/java-11-openjdk-amd64\""
      ],
      "metadata": {
        "id": "SdH7HwrrpFlP"
      },
      "id": "SdH7HwrrpFlP",
      "execution_count": null,
      "outputs": []
    },
    {
      "cell_type": "markdown",
      "metadata": {
        "id": "proved-pressure"
      },
      "source": [
        "#### Create a Spark session\n",
        "\n",
        "A Spark session is a combined entry point of a Spark application, which came into implementation from Spark 2.0 (Instead of having various contexts, everything is encapsulated in a Spark session)"
      ],
      "id": "proved-pressure"
    },
    {
      "cell_type": "code",
      "metadata": {
        "id": "confused-xerox",
        "colab": {
          "base_uri": "https://localhost:8080/",
          "height": 219
        },
        "outputId": "56b7f313-e262-4342-aa85-a4eda9c2d098"
      },
      "source": [
        "# Start spark session\n",
        "# spark = SparkSession.builder.appName('LearningSpark').config('spark.ui.port', '4050').config('spark.sql.catalogImplementation','hive').enableHiveSupport().getOrCreate()\n",
        "spark = SparkSession.builder.appName('MP3').config('spark.ui.port', '4050').getOrCreate()\n",
        "spark"
      ],
      "id": "confused-xerox",
      "execution_count": null,
      "outputs": [
        {
          "output_type": "execute_result",
          "data": {
            "text/plain": [
              "<pyspark.sql.session.SparkSession at 0x783d0376ea40>"
            ],
            "text/html": [
              "\n",
              "            <div>\n",
              "                <p><b>SparkSession - in-memory</b></p>\n",
              "                \n",
              "        <div>\n",
              "            <p><b>SparkContext</b></p>\n",
              "\n",
              "            <p><a href=\"http://0c7a9fd8d191:4050\">Spark UI</a></p>\n",
              "\n",
              "            <dl>\n",
              "              <dt>Version</dt>\n",
              "                <dd><code>v3.5.0</code></dd>\n",
              "              <dt>Master</dt>\n",
              "                <dd><code>local[*]</code></dd>\n",
              "              <dt>AppName</dt>\n",
              "                <dd><code>MP3</code></dd>\n",
              "            </dl>\n",
              "        </div>\n",
              "        \n",
              "            </div>\n",
              "        "
            ]
          },
          "metadata": {},
          "execution_count": 4
        }
      ]
    },
    {
      "cell_type": "code",
      "source": [
        "# spark.sparkContext.stop()"
      ],
      "metadata": {
        "id": "7KEBvk2A3n2M"
      },
      "id": "7KEBvk2A3n2M",
      "execution_count": null,
      "outputs": []
    },
    {
      "cell_type": "code",
      "source": [
        "spark.sparkContext._conf.getAll()"
      ],
      "metadata": {
        "colab": {
          "base_uri": "https://localhost:8080/"
        },
        "id": "2uzMwHH1rCPS",
        "outputId": "a7b54154-8a9a-48fd-f91b-c55fa59ceaba"
      },
      "id": "2uzMwHH1rCPS",
      "execution_count": null,
      "outputs": [
        {
          "output_type": "execute_result",
          "data": {
            "text/plain": [
              "[('spark.app.name', 'MP3'),\n",
              " ('spark.driver.host', '0c7a9fd8d191'),\n",
              " ('spark.executor.id', 'driver'),\n",
              " ('spark.sql.warehouse.dir', 'file:/content/spark-warehouse'),\n",
              " ('spark.driver.port', '41325'),\n",
              " ('spark.driver.extraJavaOptions',\n",
              "  '-Djava.net.preferIPv6Addresses=false -XX:+IgnoreUnrecognizedVMOptions --add-opens=java.base/java.lang=ALL-UNNAMED --add-opens=java.base/java.lang.invoke=ALL-UNNAMED --add-opens=java.base/java.lang.reflect=ALL-UNNAMED --add-opens=java.base/java.io=ALL-UNNAMED --add-opens=java.base/java.net=ALL-UNNAMED --add-opens=java.base/java.nio=ALL-UNNAMED --add-opens=java.base/java.util=ALL-UNNAMED --add-opens=java.base/java.util.concurrent=ALL-UNNAMED --add-opens=java.base/java.util.concurrent.atomic=ALL-UNNAMED --add-opens=java.base/sun.nio.ch=ALL-UNNAMED --add-opens=java.base/sun.nio.cs=ALL-UNNAMED --add-opens=java.base/sun.security.action=ALL-UNNAMED --add-opens=java.base/sun.util.calendar=ALL-UNNAMED --add-opens=java.security.jgss/sun.security.krb5=ALL-UNNAMED -Djdk.reflect.useDirectMethodHandle=false'),\n",
              " ('spark.ui.port', '4050'),\n",
              " ('spark.rdd.compress', 'True'),\n",
              " ('spark.app.id', 'local-1707808073333'),\n",
              " ('spark.app.submitTime', '1707808071322'),\n",
              " ('spark.serializer.objectStreamReset', '100'),\n",
              " ('spark.master', 'local[*]'),\n",
              " ('spark.submit.pyFiles', ''),\n",
              " ('spark.submit.deployMode', 'client'),\n",
              " ('spark.app.startTime', '1707808071584'),\n",
              " ('spark.ui.showConsoleProgress', 'true'),\n",
              " ('spark.executor.extraJavaOptions',\n",
              "  '-Djava.net.preferIPv6Addresses=false -XX:+IgnoreUnrecognizedVMOptions --add-opens=java.base/java.lang=ALL-UNNAMED --add-opens=java.base/java.lang.invoke=ALL-UNNAMED --add-opens=java.base/java.lang.reflect=ALL-UNNAMED --add-opens=java.base/java.io=ALL-UNNAMED --add-opens=java.base/java.net=ALL-UNNAMED --add-opens=java.base/java.nio=ALL-UNNAMED --add-opens=java.base/java.util=ALL-UNNAMED --add-opens=java.base/java.util.concurrent=ALL-UNNAMED --add-opens=java.base/java.util.concurrent.atomic=ALL-UNNAMED --add-opens=java.base/sun.nio.ch=ALL-UNNAMED --add-opens=java.base/sun.nio.cs=ALL-UNNAMED --add-opens=java.base/sun.security.action=ALL-UNNAMED --add-opens=java.base/sun.util.calendar=ALL-UNNAMED --add-opens=java.security.jgss/sun.security.krb5=ALL-UNNAMED -Djdk.reflect.useDirectMethodHandle=false')]"
            ]
          },
          "metadata": {},
          "execution_count": 5
        }
      ]
    },
    {
      "cell_type": "code",
      "source": [
        "!wget https://bin.equinox.io/c/4VmDzA7iaHb/ngrok-stable-linux-amd64.zip &> /dev/null\n",
        "!unzip ngrok-stable-linux-amd64.zip &> /dev/null"
      ],
      "metadata": {
        "id": "VcqVUR0UrKck"
      },
      "id": "VcqVUR0UrKck",
      "execution_count": null,
      "outputs": []
    },
    {
      "cell_type": "code",
      "source": [
        "!./ngrok authtoken 2bOIEyUzamnpPbik9XqjNFj7HWy_4maom5pWK1NhtBRZCnxDP"
      ],
      "metadata": {
        "colab": {
          "base_uri": "https://localhost:8080/"
        },
        "id": "wPNS1rQSrNXZ",
        "outputId": "2ff648b2-778b-49eb-87a5-a6751db7fbe6"
      },
      "id": "wPNS1rQSrNXZ",
      "execution_count": null,
      "outputs": [
        {
          "output_type": "stream",
          "name": "stdout",
          "text": [
            "Authtoken saved to configuration file: /root/.ngrok2/ngrok.yml\n"
          ]
        }
      ]
    },
    {
      "cell_type": "code",
      "source": [
        "get_ipython().system_raw('./ngrok http 4050 &')"
      ],
      "metadata": {
        "id": "fEluD5aarP7o"
      },
      "id": "fEluD5aarP7o",
      "execution_count": null,
      "outputs": []
    },
    {
      "cell_type": "code",
      "source": [
        "! cat /root/.ngrok2/ngrok.yml"
      ],
      "metadata": {
        "colab": {
          "base_uri": "https://localhost:8080/"
        },
        "id": "mP_CHyWWrRx6",
        "outputId": "b831a341-e43c-40df-9e09-3b501388384c"
      },
      "id": "mP_CHyWWrRx6",
      "execution_count": null,
      "outputs": [
        {
          "output_type": "stream",
          "name": "stdout",
          "text": [
            "authtoken: 2bOIEyUzamnpPbik9XqjNFj7HWy_4maom5pWK1NhtBRZCnxDP\n"
          ]
        }
      ]
    },
    {
      "cell_type": "code",
      "source": [
        "! curl ifconfig.me"
      ],
      "metadata": {
        "colab": {
          "base_uri": "https://localhost:8080/"
        },
        "id": "6d9mlY6M2ByD",
        "outputId": "49dee6e8-d8df-41f7-b24c-a38f11375496"
      },
      "id": "6d9mlY6M2ByD",
      "execution_count": null,
      "outputs": [
        {
          "output_type": "stream",
          "name": "stdout",
          "text": [
            "34.74.101.173"
          ]
        }
      ]
    },
    {
      "cell_type": "code",
      "source": [
        "!curl -s http://localhost:4040/api/tunnels | python3 -c \\\n",
        "    \"import sys, json; print(json.load(sys.stdin)['tunnels'][0]['public_url'])\"\n",
        "# !./ngrok http 4050 &"
      ],
      "metadata": {
        "colab": {
          "base_uri": "https://localhost:8080/"
        },
        "id": "Sn9Pwf21rbaA",
        "outputId": "8045ecf7-4a6c-4ce8-faed-96b0a66011a5"
      },
      "id": "Sn9Pwf21rbaA",
      "execution_count": null,
      "outputs": [
        {
          "output_type": "stream",
          "name": "stdout",
          "text": [
            "Traceback (most recent call last):\n",
            "  File \"<string>\", line 1, in <module>\n",
            "  File \"/usr/lib/python3.10/json/__init__.py\", line 293, in load\n",
            "    return loads(fp.read(),\n",
            "  File \"/usr/lib/python3.10/json/__init__.py\", line 346, in loads\n",
            "    return _default_decoder.decode(s)\n",
            "  File \"/usr/lib/python3.10/json/decoder.py\", line 337, in decode\n",
            "    obj, end = self.raw_decode(s, idx=_w(s, 0).end())\n",
            "  File \"/usr/lib/python3.10/json/decoder.py\", line 355, in raw_decode\n",
            "    raise JSONDecodeError(\"Expecting value\", s, err.value) from None\n",
            "json.decoder.JSONDecodeError: Expecting value: line 1 column 1 (char 0)\n"
          ]
        }
      ]
    },
    {
      "cell_type": "markdown",
      "metadata": {
        "id": "coastal-communications"
      },
      "source": [
        "#### Creating an RDD from a File\n",
        "\n",
        "The most common way of creating an RDD is to load it from a file. Notice that Spark's textFile can handle compressed files directly."
      ],
      "id": "coastal-communications"
    },
    {
      "cell_type": "code",
      "source": [
        "# to access sparkContext from sparkSession instance.\n",
        "sc = spark.sparkContext\n",
        "print(sc.version)"
      ],
      "metadata": {
        "colab": {
          "base_uri": "https://localhost:8080/"
        },
        "id": "LGxoKC3c-w2d",
        "outputId": "12011103-e587-4aee-acc4-27a21ca12db8"
      },
      "id": "LGxoKC3c-w2d",
      "execution_count": null,
      "outputs": [
        {
          "output_type": "stream",
          "name": "stdout",
          "text": [
            "3.5.0\n"
          ]
        }
      ]
    },
    {
      "cell_type": "markdown",
      "metadata": {
        "id": "pY0QylZEYTvg"
      },
      "source": [
        "Load the dataset and show the top 10 records\n",
        "\n",
        "Hint: sparkContext.textFile()"
      ],
      "id": "pY0QylZEYTvg"
    },
    {
      "cell_type": "code",
      "metadata": {
        "id": "wound-repository",
        "colab": {
          "base_uri": "https://localhost:8080/"
        },
        "outputId": "a03b0f5b-db64-4b93-cde3-3f515dad788c"
      },
      "source": [
        "filePath = \"/content/kddcup.data_10_percent.gz\"\n",
        "dataRDD = spark.sparkContext.textFile(filePath)\n",
        "dataRDD.take(10)"
      ],
      "id": "wound-repository",
      "execution_count": null,
      "outputs": [
        {
          "output_type": "execute_result",
          "data": {
            "text/plain": [
              "['0,tcp,http,SF,181,5450,0,0,0,0,0,1,0,0,0,0,0,0,0,0,0,0,8,8,0.00,0.00,0.00,0.00,1.00,0.00,0.00,9,9,1.00,0.00,0.11,0.00,0.00,0.00,0.00,0.00,normal.',\n",
              " '0,tcp,http,SF,239,486,0,0,0,0,0,1,0,0,0,0,0,0,0,0,0,0,8,8,0.00,0.00,0.00,0.00,1.00,0.00,0.00,19,19,1.00,0.00,0.05,0.00,0.00,0.00,0.00,0.00,normal.',\n",
              " '0,tcp,http,SF,235,1337,0,0,0,0,0,1,0,0,0,0,0,0,0,0,0,0,8,8,0.00,0.00,0.00,0.00,1.00,0.00,0.00,29,29,1.00,0.00,0.03,0.00,0.00,0.00,0.00,0.00,normal.',\n",
              " '0,tcp,http,SF,219,1337,0,0,0,0,0,1,0,0,0,0,0,0,0,0,0,0,6,6,0.00,0.00,0.00,0.00,1.00,0.00,0.00,39,39,1.00,0.00,0.03,0.00,0.00,0.00,0.00,0.00,normal.',\n",
              " '0,tcp,http,SF,217,2032,0,0,0,0,0,1,0,0,0,0,0,0,0,0,0,0,6,6,0.00,0.00,0.00,0.00,1.00,0.00,0.00,49,49,1.00,0.00,0.02,0.00,0.00,0.00,0.00,0.00,normal.',\n",
              " '0,tcp,http,SF,217,2032,0,0,0,0,0,1,0,0,0,0,0,0,0,0,0,0,6,6,0.00,0.00,0.00,0.00,1.00,0.00,0.00,59,59,1.00,0.00,0.02,0.00,0.00,0.00,0.00,0.00,normal.',\n",
              " '0,tcp,http,SF,212,1940,0,0,0,0,0,1,0,0,0,0,0,0,0,0,0,0,1,2,0.00,0.00,0.00,0.00,1.00,0.00,1.00,1,69,1.00,0.00,1.00,0.04,0.00,0.00,0.00,0.00,normal.',\n",
              " '0,tcp,http,SF,159,4087,0,0,0,0,0,1,0,0,0,0,0,0,0,0,0,0,5,5,0.00,0.00,0.00,0.00,1.00,0.00,0.00,11,79,1.00,0.00,0.09,0.04,0.00,0.00,0.00,0.00,normal.',\n",
              " '0,tcp,http,SF,210,151,0,0,0,0,0,1,0,0,0,0,0,0,0,0,0,0,8,8,0.00,0.00,0.00,0.00,1.00,0.00,0.00,8,89,1.00,0.00,0.12,0.04,0.00,0.00,0.00,0.00,normal.',\n",
              " '0,tcp,http,SF,212,786,0,0,0,1,0,1,0,0,0,0,0,0,0,0,0,0,8,8,0.00,0.00,0.00,0.00,1.00,0.00,0.00,8,99,1.00,0.00,0.12,0.05,0.00,0.00,0.00,0.00,normal.']"
            ]
          },
          "metadata": {},
          "execution_count": 13
        }
      ]
    },
    {
      "cell_type": "markdown",
      "metadata": {
        "id": "hollow-offense"
      },
      "source": [
        "### RDD Basic Operations"
      ],
      "id": "hollow-offense"
    },
    {
      "cell_type": "markdown",
      "metadata": {
        "id": "varying-amateur"
      },
      "source": [
        "#### Convert the data to CSV format (list of elements).\n",
        "\n",
        "To create a Dataframe using the RDD file, convert each row into a list by splitting with a comma (,)\n",
        "\n",
        "Hint: `map()` and `split()`"
      ],
      "id": "varying-amateur"
    },
    {
      "cell_type": "code",
      "metadata": {
        "id": "designed-malta",
        "colab": {
          "base_uri": "https://localhost:8080/"
        },
        "outputId": "c88a7ede-dd1e-48cb-ccfe-c3ca36113a05"
      },
      "source": [
        "data_df = spark.createDataFrame(dataRDD.map(lambda x:x.split(\",\")))\n",
        "data_df.show(10)"
      ],
      "id": "designed-malta",
      "execution_count": null,
      "outputs": [
        {
          "output_type": "stream",
          "name": "stdout",
          "text": [
            "+---+---+----+---+---+----+---+---+---+---+---+---+---+---+---+---+---+---+---+---+---+---+---+---+----+----+----+----+----+----+----+---+---+----+----+----+----+----+----+----+----+-------+\n",
            "| _1| _2|  _3| _4| _5|  _6| _7| _8| _9|_10|_11|_12|_13|_14|_15|_16|_17|_18|_19|_20|_21|_22|_23|_24| _25| _26| _27| _28| _29| _30| _31|_32|_33| _34| _35| _36| _37| _38| _39| _40| _41|    _42|\n",
            "+---+---+----+---+---+----+---+---+---+---+---+---+---+---+---+---+---+---+---+---+---+---+---+---+----+----+----+----+----+----+----+---+---+----+----+----+----+----+----+----+----+-------+\n",
            "|  0|tcp|http| SF|181|5450|  0|  0|  0|  0|  0|  1|  0|  0|  0|  0|  0|  0|  0|  0|  0|  0|  8|  8|0.00|0.00|0.00|0.00|1.00|0.00|0.00|  9|  9|1.00|0.00|0.11|0.00|0.00|0.00|0.00|0.00|normal.|\n",
            "|  0|tcp|http| SF|239| 486|  0|  0|  0|  0|  0|  1|  0|  0|  0|  0|  0|  0|  0|  0|  0|  0|  8|  8|0.00|0.00|0.00|0.00|1.00|0.00|0.00| 19| 19|1.00|0.00|0.05|0.00|0.00|0.00|0.00|0.00|normal.|\n",
            "|  0|tcp|http| SF|235|1337|  0|  0|  0|  0|  0|  1|  0|  0|  0|  0|  0|  0|  0|  0|  0|  0|  8|  8|0.00|0.00|0.00|0.00|1.00|0.00|0.00| 29| 29|1.00|0.00|0.03|0.00|0.00|0.00|0.00|0.00|normal.|\n",
            "|  0|tcp|http| SF|219|1337|  0|  0|  0|  0|  0|  1|  0|  0|  0|  0|  0|  0|  0|  0|  0|  0|  6|  6|0.00|0.00|0.00|0.00|1.00|0.00|0.00| 39| 39|1.00|0.00|0.03|0.00|0.00|0.00|0.00|0.00|normal.|\n",
            "|  0|tcp|http| SF|217|2032|  0|  0|  0|  0|  0|  1|  0|  0|  0|  0|  0|  0|  0|  0|  0|  0|  6|  6|0.00|0.00|0.00|0.00|1.00|0.00|0.00| 49| 49|1.00|0.00|0.02|0.00|0.00|0.00|0.00|0.00|normal.|\n",
            "|  0|tcp|http| SF|217|2032|  0|  0|  0|  0|  0|  1|  0|  0|  0|  0|  0|  0|  0|  0|  0|  0|  6|  6|0.00|0.00|0.00|0.00|1.00|0.00|0.00| 59| 59|1.00|0.00|0.02|0.00|0.00|0.00|0.00|0.00|normal.|\n",
            "|  0|tcp|http| SF|212|1940|  0|  0|  0|  0|  0|  1|  0|  0|  0|  0|  0|  0|  0|  0|  0|  0|  1|  2|0.00|0.00|0.00|0.00|1.00|0.00|1.00|  1| 69|1.00|0.00|1.00|0.04|0.00|0.00|0.00|0.00|normal.|\n",
            "|  0|tcp|http| SF|159|4087|  0|  0|  0|  0|  0|  1|  0|  0|  0|  0|  0|  0|  0|  0|  0|  0|  5|  5|0.00|0.00|0.00|0.00|1.00|0.00|0.00| 11| 79|1.00|0.00|0.09|0.04|0.00|0.00|0.00|0.00|normal.|\n",
            "|  0|tcp|http| SF|210| 151|  0|  0|  0|  0|  0|  1|  0|  0|  0|  0|  0|  0|  0|  0|  0|  0|  8|  8|0.00|0.00|0.00|0.00|1.00|0.00|0.00|  8| 89|1.00|0.00|0.12|0.04|0.00|0.00|0.00|0.00|normal.|\n",
            "|  0|tcp|http| SF|212| 786|  0|  0|  0|  1|  0|  1|  0|  0|  0|  0|  0|  0|  0|  0|  0|  0|  8|  8|0.00|0.00|0.00|0.00|1.00|0.00|0.00|  8| 99|1.00|0.00|0.12|0.05|0.00|0.00|0.00|0.00|normal.|\n",
            "+---+---+----+---+---+----+---+---+---+---+---+---+---+---+---+---+---+---+---+---+---+---+---+---+----+----+----+----+----+----+----+---+---+----+----+----+----+----+----+----+----+-------+\n",
            "only showing top 10 rows\n",
            "\n"
          ]
        }
      ]
    },
    {
      "cell_type": "markdown",
      "metadata": {
        "id": "restricted-bonus"
      },
      "source": [
        "Count how many interactions are normal and attacked in the dataset.\n",
        "\n",
        "Hint: apply `filter` on each row, except the rows with 'normal.', all the remaining values are attacked."
      ],
      "id": "restricted-bonus"
    },
    {
      "cell_type": "code",
      "source": [
        "data_df.printSchema()"
      ],
      "metadata": {
        "colab": {
          "base_uri": "https://localhost:8080/"
        },
        "id": "TOOTIW0VG2nn",
        "outputId": "ff23ca51-60db-40b9-921f-5733b3565f65"
      },
      "id": "TOOTIW0VG2nn",
      "execution_count": null,
      "outputs": [
        {
          "output_type": "stream",
          "name": "stdout",
          "text": [
            "root\n",
            " |-- _1: string (nullable = true)\n",
            " |-- _2: string (nullable = true)\n",
            " |-- _3: string (nullable = true)\n",
            " |-- _4: string (nullable = true)\n",
            " |-- _5: string (nullable = true)\n",
            " |-- _6: string (nullable = true)\n",
            " |-- _7: string (nullable = true)\n",
            " |-- _8: string (nullable = true)\n",
            " |-- _9: string (nullable = true)\n",
            " |-- _10: string (nullable = true)\n",
            " |-- _11: string (nullable = true)\n",
            " |-- _12: string (nullable = true)\n",
            " |-- _13: string (nullable = true)\n",
            " |-- _14: string (nullable = true)\n",
            " |-- _15: string (nullable = true)\n",
            " |-- _16: string (nullable = true)\n",
            " |-- _17: string (nullable = true)\n",
            " |-- _18: string (nullable = true)\n",
            " |-- _19: string (nullable = true)\n",
            " |-- _20: string (nullable = true)\n",
            " |-- _21: string (nullable = true)\n",
            " |-- _22: string (nullable = true)\n",
            " |-- _23: string (nullable = true)\n",
            " |-- _24: string (nullable = true)\n",
            " |-- _25: string (nullable = true)\n",
            " |-- _26: string (nullable = true)\n",
            " |-- _27: string (nullable = true)\n",
            " |-- _28: string (nullable = true)\n",
            " |-- _29: string (nullable = true)\n",
            " |-- _30: string (nullable = true)\n",
            " |-- _31: string (nullable = true)\n",
            " |-- _32: string (nullable = true)\n",
            " |-- _33: string (nullable = true)\n",
            " |-- _34: string (nullable = true)\n",
            " |-- _35: string (nullable = true)\n",
            " |-- _36: string (nullable = true)\n",
            " |-- _37: string (nullable = true)\n",
            " |-- _38: string (nullable = true)\n",
            " |-- _39: string (nullable = true)\n",
            " |-- _40: string (nullable = true)\n",
            " |-- _41: string (nullable = true)\n",
            " |-- _42: string (nullable = true)\n",
            "\n"
          ]
        }
      ]
    },
    {
      "cell_type": "code",
      "metadata": {
        "id": "architectural-appraisal",
        "colab": {
          "base_uri": "https://localhost:8080/"
        },
        "outputId": "2f406efa-a182-46a9-e23b-7a3058182b84"
      },
      "source": [
        "normal = data_df.select(\"*\").where(column('_42') == \"normal.\").count()\n",
        "not_normal = data_df.select(\"*\").where(column('_42') != \"normal.\").count()\n",
        "print(normal, not_normal, normal+not_normal)"
      ],
      "id": "architectural-appraisal",
      "execution_count": null,
      "outputs": [
        {
          "output_type": "stream",
          "name": "stdout",
          "text": [
            "97278 396743 494021\n"
          ]
        }
      ]
    },
    {
      "cell_type": "markdown",
      "metadata": {
        "id": "flying-apartment"
      },
      "source": [
        "#### Protocol and Service combinations using Cartesian product\n",
        "\n",
        "We can compute the Cartesian product between two RDDs by using the Cartesian transformation. It returns all possible pairs of elements between two RDDs. In our case, we will use it to generate all the possible combinations between Service and Protocol in our network interactions.\n",
        "\n",
        "First of all, isolate each collection of values in two separate RDDs. For that use `distinct` on the CSV-parsed dataset. From the dataset description, we know that protocol is the second column and service is the third."
      ],
      "id": "flying-apartment"
    },
    {
      "cell_type": "code",
      "metadata": {
        "id": "automatic-turning",
        "colab": {
          "base_uri": "https://localhost:8080/"
        },
        "outputId": "74417ad5-b25f-4260-f74e-69d6e8c9a513"
      },
      "source": [
        "protocol_data_df = data_df.select(\"_2\").distinct()\n",
        "protocol_data_df.show()"
      ],
      "id": "automatic-turning",
      "execution_count": null,
      "outputs": [
        {
          "output_type": "stream",
          "name": "stdout",
          "text": [
            "+----+\n",
            "|  _2|\n",
            "+----+\n",
            "| tcp|\n",
            "| udp|\n",
            "|icmp|\n",
            "+----+\n",
            "\n"
          ]
        }
      ]
    },
    {
      "cell_type": "code",
      "source": [
        "service_data_df = data_df.select(\"_3\").distinct()\n",
        "service_data_df.count()\n",
        "service_data_df.show()"
      ],
      "metadata": {
        "colab": {
          "base_uri": "https://localhost:8080/"
        },
        "id": "RBAfyFQMJjBj",
        "outputId": "34d8e5bf-5421-443c-fde5-6d435d6c1cdc"
      },
      "id": "RBAfyFQMJjBj",
      "execution_count": null,
      "outputs": [
        {
          "output_type": "stream",
          "name": "stdout",
          "text": [
            "+--------+\n",
            "|      _3|\n",
            "+--------+\n",
            "|  telnet|\n",
            "|     ftp|\n",
            "|    auth|\n",
            "|iso_tsap|\n",
            "|  systat|\n",
            "|    name|\n",
            "| sql_net|\n",
            "|   ntp_u|\n",
            "|     X11|\n",
            "|   pop_3|\n",
            "|    ldap|\n",
            "| discard|\n",
            "|  tftp_u|\n",
            "|  Z39_50|\n",
            "| daytime|\n",
            "|domain_u|\n",
            "|   login|\n",
            "|    smtp|\n",
            "|     mtp|\n",
            "|  domain|\n",
            "+--------+\n",
            "only showing top 20 rows\n",
            "\n"
          ]
        }
      ]
    },
    {
      "cell_type": "markdown",
      "metadata": {
        "id": "alleged-ranking"
      },
      "source": [
        "Now let's do the Cartesian product\n",
        "\n",
        "Hint: [Cartesian](https://spark.apache.org/docs/latest/api/python/reference/api/pyspark.RDD.cartesian.html#:~:text=Return%20the%20Cartesian%20product%20of,and%20b%20is%20in%20other%20.)"
      ],
      "id": "alleged-ranking"
    },
    {
      "cell_type": "code",
      "metadata": {
        "id": "focused-circulation",
        "colab": {
          "base_uri": "https://localhost:8080/"
        },
        "outputId": "5c354c3b-c526-4ecc-ab84-570bd5c5b516"
      },
      "source": [
        "sorted(protocol_data_df.rdd.cartesian(service_data_df.rdd).collect())"
      ],
      "id": "focused-circulation",
      "execution_count": null,
      "outputs": [
        {
          "output_type": "execute_result",
          "data": {
            "text/plain": [
              "[(Row(_2='icmp'), Row(_3='IRC')),\n",
              " (Row(_2='icmp'), Row(_3='X11')),\n",
              " (Row(_2='icmp'), Row(_3='Z39_50')),\n",
              " (Row(_2='icmp'), Row(_3='auth')),\n",
              " (Row(_2='icmp'), Row(_3='bgp')),\n",
              " (Row(_2='icmp'), Row(_3='courier')),\n",
              " (Row(_2='icmp'), Row(_3='csnet_ns')),\n",
              " (Row(_2='icmp'), Row(_3='ctf')),\n",
              " (Row(_2='icmp'), Row(_3='daytime')),\n",
              " (Row(_2='icmp'), Row(_3='discard')),\n",
              " (Row(_2='icmp'), Row(_3='domain')),\n",
              " (Row(_2='icmp'), Row(_3='domain_u')),\n",
              " (Row(_2='icmp'), Row(_3='echo')),\n",
              " (Row(_2='icmp'), Row(_3='eco_i')),\n",
              " (Row(_2='icmp'), Row(_3='ecr_i')),\n",
              " (Row(_2='icmp'), Row(_3='efs')),\n",
              " (Row(_2='icmp'), Row(_3='exec')),\n",
              " (Row(_2='icmp'), Row(_3='finger')),\n",
              " (Row(_2='icmp'), Row(_3='ftp')),\n",
              " (Row(_2='icmp'), Row(_3='ftp_data')),\n",
              " (Row(_2='icmp'), Row(_3='gopher')),\n",
              " (Row(_2='icmp'), Row(_3='hostnames')),\n",
              " (Row(_2='icmp'), Row(_3='http')),\n",
              " (Row(_2='icmp'), Row(_3='http_443')),\n",
              " (Row(_2='icmp'), Row(_3='imap4')),\n",
              " (Row(_2='icmp'), Row(_3='iso_tsap')),\n",
              " (Row(_2='icmp'), Row(_3='klogin')),\n",
              " (Row(_2='icmp'), Row(_3='kshell')),\n",
              " (Row(_2='icmp'), Row(_3='ldap')),\n",
              " (Row(_2='icmp'), Row(_3='link')),\n",
              " (Row(_2='icmp'), Row(_3='login')),\n",
              " (Row(_2='icmp'), Row(_3='mtp')),\n",
              " (Row(_2='icmp'), Row(_3='name')),\n",
              " (Row(_2='icmp'), Row(_3='netbios_dgm')),\n",
              " (Row(_2='icmp'), Row(_3='netbios_ns')),\n",
              " (Row(_2='icmp'), Row(_3='netbios_ssn')),\n",
              " (Row(_2='icmp'), Row(_3='netstat')),\n",
              " (Row(_2='icmp'), Row(_3='nnsp')),\n",
              " (Row(_2='icmp'), Row(_3='nntp')),\n",
              " (Row(_2='icmp'), Row(_3='ntp_u')),\n",
              " (Row(_2='icmp'), Row(_3='other')),\n",
              " (Row(_2='icmp'), Row(_3='pm_dump')),\n",
              " (Row(_2='icmp'), Row(_3='pop_2')),\n",
              " (Row(_2='icmp'), Row(_3='pop_3')),\n",
              " (Row(_2='icmp'), Row(_3='printer')),\n",
              " (Row(_2='icmp'), Row(_3='private')),\n",
              " (Row(_2='icmp'), Row(_3='red_i')),\n",
              " (Row(_2='icmp'), Row(_3='remote_job')),\n",
              " (Row(_2='icmp'), Row(_3='rje')),\n",
              " (Row(_2='icmp'), Row(_3='shell')),\n",
              " (Row(_2='icmp'), Row(_3='smtp')),\n",
              " (Row(_2='icmp'), Row(_3='sql_net')),\n",
              " (Row(_2='icmp'), Row(_3='ssh')),\n",
              " (Row(_2='icmp'), Row(_3='sunrpc')),\n",
              " (Row(_2='icmp'), Row(_3='supdup')),\n",
              " (Row(_2='icmp'), Row(_3='systat')),\n",
              " (Row(_2='icmp'), Row(_3='telnet')),\n",
              " (Row(_2='icmp'), Row(_3='tftp_u')),\n",
              " (Row(_2='icmp'), Row(_3='tim_i')),\n",
              " (Row(_2='icmp'), Row(_3='time')),\n",
              " (Row(_2='icmp'), Row(_3='urh_i')),\n",
              " (Row(_2='icmp'), Row(_3='urp_i')),\n",
              " (Row(_2='icmp'), Row(_3='uucp')),\n",
              " (Row(_2='icmp'), Row(_3='uucp_path')),\n",
              " (Row(_2='icmp'), Row(_3='vmnet')),\n",
              " (Row(_2='icmp'), Row(_3='whois')),\n",
              " (Row(_2='tcp'), Row(_3='IRC')),\n",
              " (Row(_2='tcp'), Row(_3='X11')),\n",
              " (Row(_2='tcp'), Row(_3='Z39_50')),\n",
              " (Row(_2='tcp'), Row(_3='auth')),\n",
              " (Row(_2='tcp'), Row(_3='bgp')),\n",
              " (Row(_2='tcp'), Row(_3='courier')),\n",
              " (Row(_2='tcp'), Row(_3='csnet_ns')),\n",
              " (Row(_2='tcp'), Row(_3='ctf')),\n",
              " (Row(_2='tcp'), Row(_3='daytime')),\n",
              " (Row(_2='tcp'), Row(_3='discard')),\n",
              " (Row(_2='tcp'), Row(_3='domain')),\n",
              " (Row(_2='tcp'), Row(_3='domain_u')),\n",
              " (Row(_2='tcp'), Row(_3='echo')),\n",
              " (Row(_2='tcp'), Row(_3='eco_i')),\n",
              " (Row(_2='tcp'), Row(_3='ecr_i')),\n",
              " (Row(_2='tcp'), Row(_3='efs')),\n",
              " (Row(_2='tcp'), Row(_3='exec')),\n",
              " (Row(_2='tcp'), Row(_3='finger')),\n",
              " (Row(_2='tcp'), Row(_3='ftp')),\n",
              " (Row(_2='tcp'), Row(_3='ftp_data')),\n",
              " (Row(_2='tcp'), Row(_3='gopher')),\n",
              " (Row(_2='tcp'), Row(_3='hostnames')),\n",
              " (Row(_2='tcp'), Row(_3='http')),\n",
              " (Row(_2='tcp'), Row(_3='http_443')),\n",
              " (Row(_2='tcp'), Row(_3='imap4')),\n",
              " (Row(_2='tcp'), Row(_3='iso_tsap')),\n",
              " (Row(_2='tcp'), Row(_3='klogin')),\n",
              " (Row(_2='tcp'), Row(_3='kshell')),\n",
              " (Row(_2='tcp'), Row(_3='ldap')),\n",
              " (Row(_2='tcp'), Row(_3='link')),\n",
              " (Row(_2='tcp'), Row(_3='login')),\n",
              " (Row(_2='tcp'), Row(_3='mtp')),\n",
              " (Row(_2='tcp'), Row(_3='name')),\n",
              " (Row(_2='tcp'), Row(_3='netbios_dgm')),\n",
              " (Row(_2='tcp'), Row(_3='netbios_ns')),\n",
              " (Row(_2='tcp'), Row(_3='netbios_ssn')),\n",
              " (Row(_2='tcp'), Row(_3='netstat')),\n",
              " (Row(_2='tcp'), Row(_3='nnsp')),\n",
              " (Row(_2='tcp'), Row(_3='nntp')),\n",
              " (Row(_2='tcp'), Row(_3='ntp_u')),\n",
              " (Row(_2='tcp'), Row(_3='other')),\n",
              " (Row(_2='tcp'), Row(_3='pm_dump')),\n",
              " (Row(_2='tcp'), Row(_3='pop_2')),\n",
              " (Row(_2='tcp'), Row(_3='pop_3')),\n",
              " (Row(_2='tcp'), Row(_3='printer')),\n",
              " (Row(_2='tcp'), Row(_3='private')),\n",
              " (Row(_2='tcp'), Row(_3='red_i')),\n",
              " (Row(_2='tcp'), Row(_3='remote_job')),\n",
              " (Row(_2='tcp'), Row(_3='rje')),\n",
              " (Row(_2='tcp'), Row(_3='shell')),\n",
              " (Row(_2='tcp'), Row(_3='smtp')),\n",
              " (Row(_2='tcp'), Row(_3='sql_net')),\n",
              " (Row(_2='tcp'), Row(_3='ssh')),\n",
              " (Row(_2='tcp'), Row(_3='sunrpc')),\n",
              " (Row(_2='tcp'), Row(_3='supdup')),\n",
              " (Row(_2='tcp'), Row(_3='systat')),\n",
              " (Row(_2='tcp'), Row(_3='telnet')),\n",
              " (Row(_2='tcp'), Row(_3='tftp_u')),\n",
              " (Row(_2='tcp'), Row(_3='tim_i')),\n",
              " (Row(_2='tcp'), Row(_3='time')),\n",
              " (Row(_2='tcp'), Row(_3='urh_i')),\n",
              " (Row(_2='tcp'), Row(_3='urp_i')),\n",
              " (Row(_2='tcp'), Row(_3='uucp')),\n",
              " (Row(_2='tcp'), Row(_3='uucp_path')),\n",
              " (Row(_2='tcp'), Row(_3='vmnet')),\n",
              " (Row(_2='tcp'), Row(_3='whois')),\n",
              " (Row(_2='udp'), Row(_3='IRC')),\n",
              " (Row(_2='udp'), Row(_3='X11')),\n",
              " (Row(_2='udp'), Row(_3='Z39_50')),\n",
              " (Row(_2='udp'), Row(_3='auth')),\n",
              " (Row(_2='udp'), Row(_3='bgp')),\n",
              " (Row(_2='udp'), Row(_3='courier')),\n",
              " (Row(_2='udp'), Row(_3='csnet_ns')),\n",
              " (Row(_2='udp'), Row(_3='ctf')),\n",
              " (Row(_2='udp'), Row(_3='daytime')),\n",
              " (Row(_2='udp'), Row(_3='discard')),\n",
              " (Row(_2='udp'), Row(_3='domain')),\n",
              " (Row(_2='udp'), Row(_3='domain_u')),\n",
              " (Row(_2='udp'), Row(_3='echo')),\n",
              " (Row(_2='udp'), Row(_3='eco_i')),\n",
              " (Row(_2='udp'), Row(_3='ecr_i')),\n",
              " (Row(_2='udp'), Row(_3='efs')),\n",
              " (Row(_2='udp'), Row(_3='exec')),\n",
              " (Row(_2='udp'), Row(_3='finger')),\n",
              " (Row(_2='udp'), Row(_3='ftp')),\n",
              " (Row(_2='udp'), Row(_3='ftp_data')),\n",
              " (Row(_2='udp'), Row(_3='gopher')),\n",
              " (Row(_2='udp'), Row(_3='hostnames')),\n",
              " (Row(_2='udp'), Row(_3='http')),\n",
              " (Row(_2='udp'), Row(_3='http_443')),\n",
              " (Row(_2='udp'), Row(_3='imap4')),\n",
              " (Row(_2='udp'), Row(_3='iso_tsap')),\n",
              " (Row(_2='udp'), Row(_3='klogin')),\n",
              " (Row(_2='udp'), Row(_3='kshell')),\n",
              " (Row(_2='udp'), Row(_3='ldap')),\n",
              " (Row(_2='udp'), Row(_3='link')),\n",
              " (Row(_2='udp'), Row(_3='login')),\n",
              " (Row(_2='udp'), Row(_3='mtp')),\n",
              " (Row(_2='udp'), Row(_3='name')),\n",
              " (Row(_2='udp'), Row(_3='netbios_dgm')),\n",
              " (Row(_2='udp'), Row(_3='netbios_ns')),\n",
              " (Row(_2='udp'), Row(_3='netbios_ssn')),\n",
              " (Row(_2='udp'), Row(_3='netstat')),\n",
              " (Row(_2='udp'), Row(_3='nnsp')),\n",
              " (Row(_2='udp'), Row(_3='nntp')),\n",
              " (Row(_2='udp'), Row(_3='ntp_u')),\n",
              " (Row(_2='udp'), Row(_3='other')),\n",
              " (Row(_2='udp'), Row(_3='pm_dump')),\n",
              " (Row(_2='udp'), Row(_3='pop_2')),\n",
              " (Row(_2='udp'), Row(_3='pop_3')),\n",
              " (Row(_2='udp'), Row(_3='printer')),\n",
              " (Row(_2='udp'), Row(_3='private')),\n",
              " (Row(_2='udp'), Row(_3='red_i')),\n",
              " (Row(_2='udp'), Row(_3='remote_job')),\n",
              " (Row(_2='udp'), Row(_3='rje')),\n",
              " (Row(_2='udp'), Row(_3='shell')),\n",
              " (Row(_2='udp'), Row(_3='smtp')),\n",
              " (Row(_2='udp'), Row(_3='sql_net')),\n",
              " (Row(_2='udp'), Row(_3='ssh')),\n",
              " (Row(_2='udp'), Row(_3='sunrpc')),\n",
              " (Row(_2='udp'), Row(_3='supdup')),\n",
              " (Row(_2='udp'), Row(_3='systat')),\n",
              " (Row(_2='udp'), Row(_3='telnet')),\n",
              " (Row(_2='udp'), Row(_3='tftp_u')),\n",
              " (Row(_2='udp'), Row(_3='tim_i')),\n",
              " (Row(_2='udp'), Row(_3='time')),\n",
              " (Row(_2='udp'), Row(_3='urh_i')),\n",
              " (Row(_2='udp'), Row(_3='urp_i')),\n",
              " (Row(_2='udp'), Row(_3='uucp')),\n",
              " (Row(_2='udp'), Row(_3='uucp_path')),\n",
              " (Row(_2='udp'), Row(_3='vmnet')),\n",
              " (Row(_2='udp'), Row(_3='whois'))]"
            ]
          },
          "metadata": {},
          "execution_count": 19
        }
      ]
    },
    {
      "cell_type": "markdown",
      "metadata": {
        "id": "boolean-representation"
      },
      "source": [
        "#### Inspecting interaction duration\n",
        "\n",
        "select the total duration of interactions for normal and attack intrusion types.\n",
        "* Use the above filtered normal and attacked data and convert the duration column to integer type using `map()`\n",
        "* get the sum of duration by applying `reduce` on both the data using add operator\n",
        "* find the mean of duration by dividing the sum with count\n",
        "\n",
        "Hint: [reduce()](https://spark.apache.org/docs/3.1.1/api/python/reference/api/pyspark.RDD.reduce.html)"
      ],
      "id": "boolean-representation"
    },
    {
      "cell_type": "code",
      "metadata": {
        "id": "requested-amateur",
        "colab": {
          "base_uri": "https://localhost:8080/"
        },
        "outputId": "d27b02ed-0f90-4cfe-89db-19a49eacc465"
      },
      "source": [
        "normal_df = data_df.select(\"_1\").where(column('_42') == \"normal.\")\n",
        "not_normal_df = data_df.select(\"_1\").where(column('_42') != \"normal.\")\n",
        "normal_df.rdd.getNumPartitions(), not_normal_df.rdd.getNumPartitions()"
      ],
      "id": "requested-amateur",
      "execution_count": null,
      "outputs": [
        {
          "output_type": "execute_result",
          "data": {
            "text/plain": [
              "(1, 1)"
            ]
          },
          "metadata": {},
          "execution_count": 20
        }
      ]
    },
    {
      "cell_type": "code",
      "metadata": {
        "id": "bulgarian-confidentiality",
        "colab": {
          "base_uri": "https://localhost:8080/"
        },
        "outputId": "9af77f54-8980-42d1-91aa-811edcc107d5"
      },
      "source": [
        "##### Summation using dataframe is also possible [normal_df.agg(sum(\"_1\")).collect()]\n",
        "mapped_rdd = normal_df.rdd.map(lambda x : int(x._1))\n",
        "print(mapped_rdd.reduce(add))\n",
        "stats = mapped_rdd.stats()\n",
        "print(stats.mean())"
      ],
      "id": "bulgarian-confidentiality",
      "execution_count": null,
      "outputs": [
        {
          "output_type": "stream",
          "name": "stdout",
          "text": [
            "21075991\n",
            "216.6573223133693\n"
          ]
        }
      ]
    },
    {
      "cell_type": "code",
      "metadata": {
        "id": "directed-officer",
        "colab": {
          "base_uri": "https://localhost:8080/"
        },
        "outputId": "1718901c-bf34-4c8d-f7f8-2a89054ff5c4"
      },
      "source": [
        "mapped_rdd = not_normal_df.rdd.map(lambda x : int(x._1))\n",
        "print(mapped_rdd.reduce(add))\n",
        "stats = mapped_rdd.stats()\n",
        "print(stats.mean())"
      ],
      "id": "directed-officer",
      "execution_count": null,
      "outputs": [
        {
          "output_type": "stream",
          "name": "stdout",
          "text": [
            "2626792\n",
            "6.620890601724734\n"
          ]
        }
      ]
    },
    {
      "cell_type": "markdown",
      "metadata": {
        "id": "tested-auction"
      },
      "source": [
        "#### Data aggregation with key/value pair RDDs\n",
        "\n",
        "We can use all the transformations and actions available for normal RDDs with key/value pair RDDs. We just need to make the functions work with pair elements.\n",
        "\n",
        "* create a key/value pair of intrusion type and duration\n",
        "* calculate the total duration of each intrusion type using `reduceByKey()`"
      ],
      "id": "tested-auction"
    },
    {
      "cell_type": "code",
      "metadata": {
        "id": "chicken-logging",
        "colab": {
          "base_uri": "https://localhost:8080/"
        },
        "outputId": "f9b97bf4-a75a-4d4b-808f-c9031acab5b6"
      },
      "source": [
        "data_df.select(\"*\").where(column('_42') != \"normal.\").groupby(\"_42\").agg(sum(\"_1\")).show(22)"
      ],
      "id": "chicken-logging",
      "execution_count": null,
      "outputs": [
        {
          "output_type": "stream",
          "name": "stdout",
          "text": [
            "+----------------+---------+\n",
            "|             _42|  sum(_1)|\n",
            "+----------------+---------+\n",
            "|    warezmaster.|    301.0|\n",
            "|          smurf.|      0.0|\n",
            "|            pod.|      0.0|\n",
            "|           imap.|     72.0|\n",
            "|           nmap.|      0.0|\n",
            "|   guess_passwd.|    144.0|\n",
            "|        ipsweep.|     43.0|\n",
            "|      portsweep.|1991911.0|\n",
            "|          satan.|     64.0|\n",
            "|           land.|      0.0|\n",
            "|     loadmodule.|    326.0|\n",
            "|      ftp_write.|    259.0|\n",
            "|buffer_overflow.|   2751.0|\n",
            "|        rootkit.|   1008.0|\n",
            "|    warezclient.| 627563.0|\n",
            "|       teardrop.|      0.0|\n",
            "|           perl.|    124.0|\n",
            "|            phf.|     18.0|\n",
            "|       multihop.|   1288.0|\n",
            "|        neptune.|      0.0|\n",
            "|           back.|    284.0|\n",
            "|            spy.|    636.0|\n",
            "+----------------+---------+\n",
            "\n"
          ]
        }
      ]
    },
    {
      "cell_type": "code",
      "source": [
        "norm_rdd = data_df.select(\"*\").where(column('_42') != \"normal.\").rdd\n",
        "pair_rdd = norm_rdd.map(lambda x: (x._42, int(x._1)))"
      ],
      "metadata": {
        "id": "vXTUZOGtbBx5"
      },
      "id": "vXTUZOGtbBx5",
      "execution_count": null,
      "outputs": []
    },
    {
      "cell_type": "code",
      "source": [
        "pair_rdd.take(10)\n",
        "pair_rdd.reduceByKey(lambda x,y : x+y).collect()"
      ],
      "metadata": {
        "colab": {
          "base_uri": "https://localhost:8080/"
        },
        "id": "xU6nlYnlf8oq",
        "outputId": "896fd442-096b-4e56-b73c-a30e285a5e2d"
      },
      "id": "xU6nlYnlf8oq",
      "execution_count": null,
      "outputs": [
        {
          "output_type": "execute_result",
          "data": {
            "text/plain": [
              "[('buffer_overflow.', 2751),\n",
              " ('loadmodule.', 326),\n",
              " ('perl.', 124),\n",
              " ('neptune.', 0),\n",
              " ('smurf.', 0),\n",
              " ('guess_passwd.', 144),\n",
              " ('pod.', 0),\n",
              " ('teardrop.', 0),\n",
              " ('portsweep.', 1991911),\n",
              " ('ipsweep.', 43),\n",
              " ('land.', 0),\n",
              " ('ftp_write.', 259),\n",
              " ('back.', 284),\n",
              " ('imap.', 72),\n",
              " ('satan.', 64),\n",
              " ('phf.', 18),\n",
              " ('nmap.', 0),\n",
              " ('multihop.', 1288),\n",
              " ('warezmaster.', 301),\n",
              " ('warezclient.', 627563),\n",
              " ('spy.', 636),\n",
              " ('rootkit.', 1008)]"
            ]
          },
          "metadata": {},
          "execution_count": 25
        }
      ]
    },
    {
      "cell_type": "markdown",
      "metadata": {
        "id": "balanced-table"
      },
      "source": [
        "### Create a DataFrame with the header as features"
      ],
      "id": "balanced-table"
    },
    {
      "cell_type": "markdown",
      "metadata": {
        "id": "Y-S3RgOYdghm"
      },
      "source": [
        "* Read the features (*kddcup.names*) and preprocess.\n",
        "\n",
        "    Hints:\n",
        "    - Each feature description appears row-wise in *kddcup.names*\n",
        "    - The first row consists of distinct values of intrusion_types\n",
        "    - Add or move the *intrusion_types* column name to the last, to align with the data.\n",
        "    - Each feature is represented as *feature_name*: *type*, remove *type* after colon (:)"
      ],
      "id": "Y-S3RgOYdghm"
    },
    {
      "cell_type": "code",
      "metadata": {
        "id": "stylish-chance",
        "colab": {
          "base_uri": "https://localhost:8080/"
        },
        "outputId": "464dacab-451f-4438-b88a-79489f902a00"
      },
      "source": [
        "filePath = \"/content/kddcup.names\"\n",
        "headersRDD = spark.sparkContext.textFile(filePath)\n",
        "\n",
        "# Add indexes to each RDD element\n",
        "index_RDD = headersRDD.zipWithIndex()\n",
        "\n",
        "# Extract the first element\n",
        "first_line = index_RDD.filter(lambda x : (x[1] == 0)).map(lambda x : x[0]).take(1)\n",
        "print(first_line)\n",
        "\n",
        "# Filter the RDD and remove the first element\n",
        "headers_RDD = index_RDD.filter(lambda x : (x[1] != 0))\n",
        "\n",
        "# Remove the data type labels from feature names and add intrution type at the end of the list\n",
        "headers_RDD = headers_RDD.map(lambda x : x[0].split(\":\")[0])\n",
        "header_list = headers_RDD.take(42)\n",
        "header_list.append('intrusion_type')\n",
        "\n",
        "headers_RDD = sc.parallelize(header_list)\n",
        "headers_RDD.take(42)"
      ],
      "id": "stylish-chance",
      "execution_count": null,
      "outputs": [
        {
          "output_type": "stream",
          "name": "stdout",
          "text": [
            "['back,buffer_overflow,ftp_write,guess_passwd,imap,ipsweep,land,loadmodule,multihop,neptune,nmap,normal,perl,phf,pod,portsweep,rootkit,satan,smurf,spy,teardrop,warezclient,warezmaster.']\n"
          ]
        },
        {
          "output_type": "execute_result",
          "data": {
            "text/plain": [
              "['duration',\n",
              " 'protocol_type',\n",
              " 'service',\n",
              " 'flag',\n",
              " 'src_bytes',\n",
              " 'dst_bytes',\n",
              " 'land',\n",
              " 'wrong_fragment',\n",
              " 'urgent',\n",
              " 'hot',\n",
              " 'num_failed_logins',\n",
              " 'logged_in',\n",
              " 'num_compromised',\n",
              " 'root_shell',\n",
              " 'su_attempted',\n",
              " 'num_root',\n",
              " 'num_file_creations',\n",
              " 'num_shells',\n",
              " 'num_access_files',\n",
              " 'num_outbound_cmds',\n",
              " 'is_host_login',\n",
              " 'is_guest_login',\n",
              " 'count',\n",
              " 'srv_count',\n",
              " 'serror_rate',\n",
              " 'srv_serror_rate',\n",
              " 'rerror_rate',\n",
              " 'srv_rerror_rate',\n",
              " 'same_srv_rate',\n",
              " 'diff_srv_rate',\n",
              " 'srv_diff_host_rate',\n",
              " 'dst_host_count',\n",
              " 'dst_host_srv_count',\n",
              " 'dst_host_same_srv_rate',\n",
              " 'dst_host_diff_srv_rate',\n",
              " 'dst_host_same_src_port_rate',\n",
              " 'dst_host_srv_diff_host_rate',\n",
              " 'dst_host_serror_rate',\n",
              " 'dst_host_srv_serror_rate',\n",
              " 'dst_host_rerror_rate',\n",
              " 'dst_host_srv_rerror_rate',\n",
              " 'intrusion_type']"
            ]
          },
          "metadata": {},
          "execution_count": 26
        }
      ]
    },
    {
      "cell_type": "markdown",
      "metadata": {
        "id": "XA-HDFEIdlwd"
      },
      "source": [
        "* Create a dataframe with the data and headers as preprocessed feature names"
      ],
      "id": "XA-HDFEIdlwd"
    },
    {
      "cell_type": "code",
      "metadata": {
        "id": "MJh_-plCdlZ1"
      },
      "source": [
        "old_columns = data_df.columns\n",
        "new_columns = headers_RDD.take(42)\n",
        "for old_col, new_col in zip(old_columns, new_columns):\n",
        "    data_df = data_df.withColumnRenamed(old_col, new_col)\n",
        "\n"
      ],
      "id": "MJh_-plCdlZ1",
      "execution_count": null,
      "outputs": []
    },
    {
      "cell_type": "code",
      "source": [
        "data_df.show(10)"
      ],
      "metadata": {
        "colab": {
          "base_uri": "https://localhost:8080/"
        },
        "id": "AFE7hqQL-iKC",
        "outputId": "9501df68-98cf-418c-96f8-36826396ecbf"
      },
      "id": "AFE7hqQL-iKC",
      "execution_count": null,
      "outputs": [
        {
          "output_type": "stream",
          "name": "stdout",
          "text": [
            "+--------+-------------+-------+----+---------+---------+----+--------------+------+---+-----------------+---------+---------------+----------+------------+--------+------------------+----------+----------------+-----------------+-------------+--------------+-----+---------+-----------+---------------+-----------+---------------+-------------+-------------+------------------+--------------+------------------+----------------------+----------------------+---------------------------+---------------------------+--------------------+------------------------+--------------------+------------------------+--------------+\n",
            "|duration|protocol_type|service|flag|src_bytes|dst_bytes|land|wrong_fragment|urgent|hot|num_failed_logins|logged_in|num_compromised|root_shell|su_attempted|num_root|num_file_creations|num_shells|num_access_files|num_outbound_cmds|is_host_login|is_guest_login|count|srv_count|serror_rate|srv_serror_rate|rerror_rate|srv_rerror_rate|same_srv_rate|diff_srv_rate|srv_diff_host_rate|dst_host_count|dst_host_srv_count|dst_host_same_srv_rate|dst_host_diff_srv_rate|dst_host_same_src_port_rate|dst_host_srv_diff_host_rate|dst_host_serror_rate|dst_host_srv_serror_rate|dst_host_rerror_rate|dst_host_srv_rerror_rate|intrusion_type|\n",
            "+--------+-------------+-------+----+---------+---------+----+--------------+------+---+-----------------+---------+---------------+----------+------------+--------+------------------+----------+----------------+-----------------+-------------+--------------+-----+---------+-----------+---------------+-----------+---------------+-------------+-------------+------------------+--------------+------------------+----------------------+----------------------+---------------------------+---------------------------+--------------------+------------------------+--------------------+------------------------+--------------+\n",
            "|       0|          tcp|   http|  SF|      181|     5450|   0|             0|     0|  0|                0|        1|              0|         0|           0|       0|                 0|         0|               0|                0|            0|             0|    8|        8|       0.00|           0.00|       0.00|           0.00|         1.00|         0.00|              0.00|             9|                 9|                  1.00|                  0.00|                       0.11|                       0.00|                0.00|                    0.00|                0.00|                    0.00|       normal.|\n",
            "|       0|          tcp|   http|  SF|      239|      486|   0|             0|     0|  0|                0|        1|              0|         0|           0|       0|                 0|         0|               0|                0|            0|             0|    8|        8|       0.00|           0.00|       0.00|           0.00|         1.00|         0.00|              0.00|            19|                19|                  1.00|                  0.00|                       0.05|                       0.00|                0.00|                    0.00|                0.00|                    0.00|       normal.|\n",
            "|       0|          tcp|   http|  SF|      235|     1337|   0|             0|     0|  0|                0|        1|              0|         0|           0|       0|                 0|         0|               0|                0|            0|             0|    8|        8|       0.00|           0.00|       0.00|           0.00|         1.00|         0.00|              0.00|            29|                29|                  1.00|                  0.00|                       0.03|                       0.00|                0.00|                    0.00|                0.00|                    0.00|       normal.|\n",
            "|       0|          tcp|   http|  SF|      219|     1337|   0|             0|     0|  0|                0|        1|              0|         0|           0|       0|                 0|         0|               0|                0|            0|             0|    6|        6|       0.00|           0.00|       0.00|           0.00|         1.00|         0.00|              0.00|            39|                39|                  1.00|                  0.00|                       0.03|                       0.00|                0.00|                    0.00|                0.00|                    0.00|       normal.|\n",
            "|       0|          tcp|   http|  SF|      217|     2032|   0|             0|     0|  0|                0|        1|              0|         0|           0|       0|                 0|         0|               0|                0|            0|             0|    6|        6|       0.00|           0.00|       0.00|           0.00|         1.00|         0.00|              0.00|            49|                49|                  1.00|                  0.00|                       0.02|                       0.00|                0.00|                    0.00|                0.00|                    0.00|       normal.|\n",
            "|       0|          tcp|   http|  SF|      217|     2032|   0|             0|     0|  0|                0|        1|              0|         0|           0|       0|                 0|         0|               0|                0|            0|             0|    6|        6|       0.00|           0.00|       0.00|           0.00|         1.00|         0.00|              0.00|            59|                59|                  1.00|                  0.00|                       0.02|                       0.00|                0.00|                    0.00|                0.00|                    0.00|       normal.|\n",
            "|       0|          tcp|   http|  SF|      212|     1940|   0|             0|     0|  0|                0|        1|              0|         0|           0|       0|                 0|         0|               0|                0|            0|             0|    1|        2|       0.00|           0.00|       0.00|           0.00|         1.00|         0.00|              1.00|             1|                69|                  1.00|                  0.00|                       1.00|                       0.04|                0.00|                    0.00|                0.00|                    0.00|       normal.|\n",
            "|       0|          tcp|   http|  SF|      159|     4087|   0|             0|     0|  0|                0|        1|              0|         0|           0|       0|                 0|         0|               0|                0|            0|             0|    5|        5|       0.00|           0.00|       0.00|           0.00|         1.00|         0.00|              0.00|            11|                79|                  1.00|                  0.00|                       0.09|                       0.04|                0.00|                    0.00|                0.00|                    0.00|       normal.|\n",
            "|       0|          tcp|   http|  SF|      210|      151|   0|             0|     0|  0|                0|        1|              0|         0|           0|       0|                 0|         0|               0|                0|            0|             0|    8|        8|       0.00|           0.00|       0.00|           0.00|         1.00|         0.00|              0.00|             8|                89|                  1.00|                  0.00|                       0.12|                       0.04|                0.00|                    0.00|                0.00|                    0.00|       normal.|\n",
            "|       0|          tcp|   http|  SF|      212|      786|   0|             0|     0|  1|                0|        1|              0|         0|           0|       0|                 0|         0|               0|                0|            0|             0|    8|        8|       0.00|           0.00|       0.00|           0.00|         1.00|         0.00|              0.00|             8|                99|                  1.00|                  0.00|                       0.12|                       0.05|                0.00|                    0.00|                0.00|                    0.00|       normal.|\n",
            "+--------+-------------+-------+----+---------+---------+----+--------------+------+---+-----------------+---------+---------------+----------+------------+--------+------------------+----------+----------------+-----------------+-------------+--------------+-----+---------+-----------+---------------+-----------+---------------+-------------+-------------+------------------+--------------+------------------+----------------------+----------------------+---------------------------+---------------------------+--------------------+------------------------+--------------------+------------------------+--------------+\n",
            "only showing top 10 rows\n",
            "\n"
          ]
        }
      ]
    },
    {
      "cell_type": "markdown",
      "metadata": {
        "id": "numerous-montreal"
      },
      "source": [
        "#### What is the count of each protocol type?\n",
        "\n",
        "Hint: apply `groupby` on protocol_type and count the records"
      ],
      "id": "numerous-montreal"
    },
    {
      "cell_type": "code",
      "metadata": {
        "id": "unusual-arizona",
        "colab": {
          "base_uri": "https://localhost:8080/"
        },
        "outputId": "5a54259b-5eeb-4978-fa27-c74dedbcbfee"
      },
      "source": [
        "data_df.groupby(column('protocol_type')).count().show()"
      ],
      "id": "unusual-arizona",
      "execution_count": null,
      "outputs": [
        {
          "output_type": "stream",
          "name": "stdout",
          "text": [
            "+-------------+------+\n",
            "|protocol_type| count|\n",
            "+-------------+------+\n",
            "|          tcp|190065|\n",
            "|          udp| 20354|\n",
            "|         icmp|283602|\n",
            "+-------------+------+\n",
            "\n"
          ]
        }
      ]
    },
    {
      "cell_type": "markdown",
      "metadata": {
        "id": "liable-edgar"
      },
      "source": [
        "#### Register the DataFrame as a temporary table and extract the data using queries\n",
        "\n",
        "Hint: [registerTempTable](https://spark.apache.org/docs/3.1.1/api/python/reference/api/pyspark.sql.DataFrame.registerTempTable.html)"
      ],
      "id": "liable-edgar"
    },
    {
      "cell_type": "code",
      "metadata": {
        "id": "_NA8e0kTefVr"
      },
      "source": [
        "data_df.createOrReplaceTempView(\"Temp_Table1\")"
      ],
      "id": "_NA8e0kTefVr",
      "execution_count": null,
      "outputs": []
    },
    {
      "cell_type": "markdown",
      "metadata": {
        "id": "PWOzPDAveLmd"
      },
      "source": [
        "* query to extract the label and their frequencies\n",
        "\n",
        " Hint: `SQLContext.sql(query)`"
      ],
      "id": "PWOzPDAveLmd"
    },
    {
      "cell_type": "code",
      "metadata": {
        "id": "thirty-automation",
        "colab": {
          "base_uri": "https://localhost:8080/"
        },
        "outputId": "c0dbc156-cb6c-445c-d222-28fece41ddfc"
      },
      "source": [
        "spark.sql(\"SELECT intrusion_type, COUNT(*) AS frequency FROM Temp_Table1 GROUP BY intrusion_type ORDER BY frequency DESC\").show(25)"
      ],
      "id": "thirty-automation",
      "execution_count": null,
      "outputs": [
        {
          "output_type": "stream",
          "name": "stdout",
          "text": [
            "+----------------+---------+\n",
            "|  intrusion_type|frequency|\n",
            "+----------------+---------+\n",
            "|          smurf.|   280790|\n",
            "|        neptune.|   107201|\n",
            "|         normal.|    97278|\n",
            "|           back.|     2203|\n",
            "|          satan.|     1589|\n",
            "|        ipsweep.|     1247|\n",
            "|      portsweep.|     1040|\n",
            "|    warezclient.|     1020|\n",
            "|       teardrop.|      979|\n",
            "|            pod.|      264|\n",
            "|           nmap.|      231|\n",
            "|   guess_passwd.|       53|\n",
            "|buffer_overflow.|       30|\n",
            "|           land.|       21|\n",
            "|    warezmaster.|       20|\n",
            "|           imap.|       12|\n",
            "|        rootkit.|       10|\n",
            "|     loadmodule.|        9|\n",
            "|      ftp_write.|        8|\n",
            "|       multihop.|        7|\n",
            "|            phf.|        4|\n",
            "|           perl.|        3|\n",
            "|            spy.|        2|\n",
            "+----------------+---------+\n",
            "\n"
          ]
        }
      ]
    },
    {
      "cell_type": "markdown",
      "metadata": {
        "id": "dQ4d2Y8SeP48"
      },
      "source": [
        "* select the distinct protocol types with their count of transactions which are not normal"
      ],
      "id": "dQ4d2Y8SeP48"
    },
    {
      "cell_type": "code",
      "metadata": {
        "id": "respiratory-parking",
        "colab": {
          "base_uri": "https://localhost:8080/"
        },
        "outputId": "6d0c453e-872e-4946-fdff-f80914a6bb88"
      },
      "source": [
        "spark.sql(\" \\\n",
        "SELECT protocol_type, COUNT(*) AS non_normal_count \\\n",
        "FROM Temp_Table1 \\\n",
        "WHERE intrusion_type != 'normal.' \\\n",
        "GROUP BY protocol_type \\\n",
        "ORDER BY non_normal_count DESC\").show(25)"
      ],
      "id": "respiratory-parking",
      "execution_count": null,
      "outputs": [
        {
          "output_type": "stream",
          "name": "stdout",
          "text": [
            "+-------------+----------------+\n",
            "|protocol_type|non_normal_count|\n",
            "+-------------+----------------+\n",
            "|         icmp|          282314|\n",
            "|          tcp|          113252|\n",
            "|          udp|            1177|\n",
            "+-------------+----------------+\n",
            "\n"
          ]
        }
      ]
    },
    {
      "cell_type": "markdown",
      "metadata": {
        "id": "AGUDJ92yeSBa"
      },
      "source": [
        "* select count of transactions in each protocol type that lasts more than 1 second (duration > 1000), with no data transfer from destination (dst_bytes == 0)"
      ],
      "id": "AGUDJ92yeSBa"
    },
    {
      "cell_type": "code",
      "metadata": {
        "id": "conventional-driving",
        "colab": {
          "base_uri": "https://localhost:8080/"
        },
        "outputId": "ffea65b3-03ff-44a4-feb5-d09bde06df6f"
      },
      "source": [
        "spark.sql(\" \\\n",
        "SELECT protocol_type, COUNT(*) AS non_normal_count \\\n",
        "FROM Temp_Table1 \\\n",
        "WHERE (duration > 1000 \\\n",
        "AND dst_bytes == 0) \\\n",
        "GROUP BY protocol_type \\\n",
        "ORDER BY non_normal_count DESC\").show(25)"
      ],
      "id": "conventional-driving",
      "execution_count": null,
      "outputs": [
        {
          "output_type": "stream",
          "name": "stdout",
          "text": [
            "+-------------+----------------+\n",
            "|protocol_type|non_normal_count|\n",
            "+-------------+----------------+\n",
            "|          tcp|             139|\n",
            "+-------------+----------------+\n",
            "\n"
          ]
        }
      ]
    },
    {
      "cell_type": "code",
      "source": [
        "## Validate the above using another binding\n",
        "data_df.where(column('duration') > 1000).where(column('dst_bytes') == 0).groupby(column('protocol_type')).count().show()"
      ],
      "metadata": {
        "id": "4SYe7CZdEVry",
        "colab": {
          "base_uri": "https://localhost:8080/"
        },
        "outputId": "40b3b348-aa64-4a18-d7ee-2b76145c71a3"
      },
      "id": "4SYe7CZdEVry",
      "execution_count": null,
      "outputs": [
        {
          "output_type": "stream",
          "name": "stdout",
          "text": [
            "+-------------+-----+\n",
            "|protocol_type|count|\n",
            "+-------------+-----+\n",
            "|          tcp|  139|\n",
            "+-------------+-----+\n",
            "\n"
          ]
        }
      ]
    },
    {
      "cell_type": "code",
      "source": [
        "data_df.printSchema()"
      ],
      "metadata": {
        "colab": {
          "base_uri": "https://localhost:8080/"
        },
        "id": "LCRBOIscbMcs",
        "outputId": "3b2056e0-59ec-4e5b-cb9a-dda70cfcfa2f"
      },
      "id": "LCRBOIscbMcs",
      "execution_count": null,
      "outputs": [
        {
          "output_type": "stream",
          "name": "stdout",
          "text": [
            "root\n",
            " |-- duration: string (nullable = true)\n",
            " |-- protocol_type: string (nullable = true)\n",
            " |-- service: string (nullable = true)\n",
            " |-- flag: string (nullable = true)\n",
            " |-- src_bytes: string (nullable = true)\n",
            " |-- dst_bytes: string (nullable = true)\n",
            " |-- land: string (nullable = true)\n",
            " |-- wrong_fragment: string (nullable = true)\n",
            " |-- urgent: string (nullable = true)\n",
            " |-- hot: string (nullable = true)\n",
            " |-- num_failed_logins: string (nullable = true)\n",
            " |-- logged_in: string (nullable = true)\n",
            " |-- num_compromised: string (nullable = true)\n",
            " |-- root_shell: string (nullable = true)\n",
            " |-- su_attempted: string (nullable = true)\n",
            " |-- num_root: string (nullable = true)\n",
            " |-- num_file_creations: string (nullable = true)\n",
            " |-- num_shells: string (nullable = true)\n",
            " |-- num_access_files: string (nullable = true)\n",
            " |-- num_outbound_cmds: string (nullable = true)\n",
            " |-- is_host_login: string (nullable = true)\n",
            " |-- is_guest_login: string (nullable = true)\n",
            " |-- count: string (nullable = true)\n",
            " |-- srv_count: string (nullable = true)\n",
            " |-- serror_rate: string (nullable = true)\n",
            " |-- srv_serror_rate: string (nullable = true)\n",
            " |-- rerror_rate: string (nullable = true)\n",
            " |-- srv_rerror_rate: string (nullable = true)\n",
            " |-- same_srv_rate: string (nullable = true)\n",
            " |-- diff_srv_rate: string (nullable = true)\n",
            " |-- srv_diff_host_rate: string (nullable = true)\n",
            " |-- dst_host_count: string (nullable = true)\n",
            " |-- dst_host_srv_count: string (nullable = true)\n",
            " |-- dst_host_same_srv_rate: string (nullable = true)\n",
            " |-- dst_host_diff_srv_rate: string (nullable = true)\n",
            " |-- dst_host_same_src_port_rate: string (nullable = true)\n",
            " |-- dst_host_srv_diff_host_rate: string (nullable = true)\n",
            " |-- dst_host_serror_rate: string (nullable = true)\n",
            " |-- dst_host_srv_serror_rate: string (nullable = true)\n",
            " |-- dst_host_rerror_rate: string (nullable = true)\n",
            " |-- dst_host_srv_rerror_rate: string (nullable = true)\n",
            " |-- intrusion_type: string (nullable = true)\n",
            "\n"
          ]
        }
      ]
    },
    {
      "cell_type": "markdown",
      "metadata": {
        "id": "likely-gambling"
      },
      "source": [
        "### Find the highly correlated columns\n",
        "\n",
        "* identify the columns which are not integer type and remove those columns\n",
        "* apply correlation function on the data (Hint: `Statistics.corr()`)\n",
        "* collect the names of the columns on which correlation is applied\n",
        "* create a dataframe with correlation matrix with index and columns as names\n",
        "* get the highly correlated features by considering a correlation value greater than 0.8\n",
        "\n",
        "    Hint: `np.triu()` , `pd.mask()`"
      ],
      "id": "likely-gambling"
    },
    {
      "cell_type": "code",
      "source": [
        "index_RDD.take(5)"
      ],
      "metadata": {
        "colab": {
          "base_uri": "https://localhost:8080/"
        },
        "id": "pAOryKY1oSKX",
        "outputId": "f29166ba-be5b-49f9-c918-6cc6cc2a65e0"
      },
      "id": "pAOryKY1oSKX",
      "execution_count": null,
      "outputs": [
        {
          "output_type": "execute_result",
          "data": {
            "text/plain": [
              "[('back,buffer_overflow,ftp_write,guess_passwd,imap,ipsweep,land,loadmodule,multihop,neptune,nmap,normal,perl,phf,pod,portsweep,rootkit,satan,smurf,spy,teardrop,warezclient,warezmaster.',\n",
              "  0),\n",
              " ('duration: continuous.', 1),\n",
              " ('protocol_type: symbolic.', 2),\n",
              " ('service: symbolic.', 3),\n",
              " ('flag: symbolic.', 4)]"
            ]
          },
          "metadata": {},
          "execution_count": 36
        }
      ]
    },
    {
      "cell_type": "code",
      "metadata": {
        "id": "cooked-promise"
      },
      "source": [
        "from pyspark.ml.linalg import Vectors\n",
        "\n",
        "headers_RDD = index_RDD.filter(lambda x : (x[1] != 0))\n",
        "num_columns = headers_RDD.filter(lambda x : (x[0].split(':')[1]) == ' continuous.').map(lambda x : x[0].split(':')[0]).take(50)\n",
        "num_df = data_df.select(num_columns)\n"
      ],
      "id": "cooked-promise",
      "execution_count": null,
      "outputs": []
    },
    {
      "cell_type": "code",
      "source": [
        "num_columns"
      ],
      "metadata": {
        "colab": {
          "base_uri": "https://localhost:8080/"
        },
        "id": "H5AtrUr8oOOv",
        "outputId": "d794f650-ff12-4ee1-f00b-8d7824f28bbb"
      },
      "id": "H5AtrUr8oOOv",
      "execution_count": null,
      "outputs": [
        {
          "output_type": "execute_result",
          "data": {
            "text/plain": [
              "['duration',\n",
              " 'src_bytes',\n",
              " 'dst_bytes',\n",
              " 'wrong_fragment',\n",
              " 'urgent',\n",
              " 'hot',\n",
              " 'num_failed_logins',\n",
              " 'num_compromised',\n",
              " 'root_shell',\n",
              " 'su_attempted',\n",
              " 'num_root',\n",
              " 'num_file_creations',\n",
              " 'num_shells',\n",
              " 'num_access_files',\n",
              " 'num_outbound_cmds',\n",
              " 'count',\n",
              " 'srv_count',\n",
              " 'serror_rate',\n",
              " 'srv_serror_rate',\n",
              " 'rerror_rate',\n",
              " 'srv_rerror_rate',\n",
              " 'same_srv_rate',\n",
              " 'diff_srv_rate',\n",
              " 'srv_diff_host_rate',\n",
              " 'dst_host_count',\n",
              " 'dst_host_srv_count',\n",
              " 'dst_host_same_srv_rate',\n",
              " 'dst_host_diff_srv_rate',\n",
              " 'dst_host_same_src_port_rate',\n",
              " 'dst_host_srv_diff_host_rate',\n",
              " 'dst_host_serror_rate',\n",
              " 'dst_host_srv_serror_rate',\n",
              " 'dst_host_rerror_rate',\n",
              " 'dst_host_srv_rerror_rate']"
            ]
          },
          "metadata": {},
          "execution_count": 38
        }
      ]
    },
    {
      "cell_type": "code",
      "source": [
        "for i in range(len(num_columns)):\n",
        "    num_df = num_df.withColumn(num_columns[i], col(num_columns[i]).cast(\"float\"))"
      ],
      "metadata": {
        "id": "kTDO2t0tfp-N"
      },
      "id": "kTDO2t0tfp-N",
      "execution_count": null,
      "outputs": []
    },
    {
      "cell_type": "code",
      "source": [
        "num_df.printSchema()"
      ],
      "metadata": {
        "colab": {
          "base_uri": "https://localhost:8080/"
        },
        "id": "2CPoTmK2pInk",
        "outputId": "71e342b4-715f-474e-ca2e-481d6a1f231d"
      },
      "id": "2CPoTmK2pInk",
      "execution_count": null,
      "outputs": [
        {
          "output_type": "stream",
          "name": "stdout",
          "text": [
            "root\n",
            " |-- duration: float (nullable = true)\n",
            " |-- src_bytes: float (nullable = true)\n",
            " |-- dst_bytes: float (nullable = true)\n",
            " |-- wrong_fragment: float (nullable = true)\n",
            " |-- urgent: float (nullable = true)\n",
            " |-- hot: float (nullable = true)\n",
            " |-- num_failed_logins: float (nullable = true)\n",
            " |-- num_compromised: float (nullable = true)\n",
            " |-- root_shell: float (nullable = true)\n",
            " |-- su_attempted: float (nullable = true)\n",
            " |-- num_root: float (nullable = true)\n",
            " |-- num_file_creations: float (nullable = true)\n",
            " |-- num_shells: float (nullable = true)\n",
            " |-- num_access_files: float (nullable = true)\n",
            " |-- num_outbound_cmds: float (nullable = true)\n",
            " |-- count: float (nullable = true)\n",
            " |-- srv_count: float (nullable = true)\n",
            " |-- serror_rate: float (nullable = true)\n",
            " |-- srv_serror_rate: float (nullable = true)\n",
            " |-- rerror_rate: float (nullable = true)\n",
            " |-- srv_rerror_rate: float (nullable = true)\n",
            " |-- same_srv_rate: float (nullable = true)\n",
            " |-- diff_srv_rate: float (nullable = true)\n",
            " |-- srv_diff_host_rate: float (nullable = true)\n",
            " |-- dst_host_count: float (nullable = true)\n",
            " |-- dst_host_srv_count: float (nullable = true)\n",
            " |-- dst_host_same_srv_rate: float (nullable = true)\n",
            " |-- dst_host_diff_srv_rate: float (nullable = true)\n",
            " |-- dst_host_same_src_port_rate: float (nullable = true)\n",
            " |-- dst_host_srv_diff_host_rate: float (nullable = true)\n",
            " |-- dst_host_serror_rate: float (nullable = true)\n",
            " |-- dst_host_srv_serror_rate: float (nullable = true)\n",
            " |-- dst_host_rerror_rate: float (nullable = true)\n",
            " |-- dst_host_srv_rerror_rate: float (nullable = true)\n",
            "\n"
          ]
        }
      ]
    },
    {
      "cell_type": "code",
      "source": [
        "len(num_columns)"
      ],
      "metadata": {
        "colab": {
          "base_uri": "https://localhost:8080/"
        },
        "id": "KRBlko3nuzHO",
        "outputId": "9bf0acc5-e7d5-406f-a0b3-25bc1fb9acdb"
      },
      "id": "KRBlko3nuzHO",
      "execution_count": null,
      "outputs": [
        {
          "output_type": "execute_result",
          "data": {
            "text/plain": [
              "34"
            ]
          },
          "metadata": {},
          "execution_count": 41
        }
      ]
    },
    {
      "cell_type": "code",
      "source": [
        "# num_df.stat.corr(num_columns[1],num_columns[2])"
      ],
      "metadata": {
        "id": "1hfSDyziyT8Y"
      },
      "id": "1hfSDyziyT8Y",
      "execution_count": null,
      "outputs": []
    },
    {
      "cell_type": "code",
      "source": [
        "# num_df.rdd.take(1)\n",
        "def extract_row(row):\n",
        "    data=[]\n",
        "    for ele in row:\n",
        "        data.append(ele)\n",
        "    return data\n",
        "\n",
        "headerless_rdd = num_df.rdd.map(extract_row).collect()"
      ],
      "metadata": {
        "id": "PDUolGEy393a"
      },
      "id": "PDUolGEy393a",
      "execution_count": null,
      "outputs": []
    },
    {
      "cell_type": "code",
      "source": [
        "len(headerless_rdd), len(headerless_rdd[0])"
      ],
      "metadata": {
        "colab": {
          "base_uri": "https://localhost:8080/"
        },
        "id": "deAZtCWtYE_X",
        "outputId": "b0c0a41d-f705-41e9-e592-78aa6fc3b5a5"
      },
      "id": "deAZtCWtYE_X",
      "execution_count": null,
      "outputs": [
        {
          "output_type": "execute_result",
          "data": {
            "text/plain": [
              "(494021, 34)"
            ]
          },
          "metadata": {},
          "execution_count": 44
        }
      ]
    },
    {
      "cell_type": "code",
      "source": [
        "\n",
        "vector_set=[]\n",
        "vector_list=[]\n",
        "for i in range(len(headerless_rdd)):\n",
        "    vector_set=[]\n",
        "    for j in range(len(headerless_rdd[0])):\n",
        "        vector_set.append(headerless_rdd[i][j])\n",
        "    vector = Vectors.dense(vector_set)\n",
        "    vector_list.append(vector.toArray())"
      ],
      "metadata": {
        "id": "IDLak-hb6OYr"
      },
      "id": "IDLak-hb6OYr",
      "execution_count": null,
      "outputs": []
    },
    {
      "cell_type": "code",
      "source": [
        "len(vector_list[0])"
      ],
      "metadata": {
        "colab": {
          "base_uri": "https://localhost:8080/"
        },
        "id": "jPHFQziRYJkX",
        "outputId": "2bd45be1-256f-4a2c-f933-e8c3fe6fd713"
      },
      "id": "jPHFQziRYJkX",
      "execution_count": null,
      "outputs": [
        {
          "output_type": "execute_result",
          "data": {
            "text/plain": [
              "34"
            ]
          },
          "metadata": {},
          "execution_count": 46
        }
      ]
    },
    {
      "cell_type": "code",
      "source": [
        "data_rdd = sc.parallelize(vector_list)"
      ],
      "metadata": {
        "id": "N9i9wFQu_YGR"
      },
      "id": "N9i9wFQu_YGR",
      "execution_count": null,
      "outputs": []
    },
    {
      "cell_type": "code",
      "source": [
        "data_rdd.take(2)"
      ],
      "metadata": {
        "colab": {
          "base_uri": "https://localhost:8080/"
        },
        "id": "A3ICyXvh_ask",
        "outputId": "aca49435-dd35-4273-e276-f8881d2fcfe9"
      },
      "id": "A3ICyXvh_ask",
      "execution_count": null,
      "outputs": [
        {
          "output_type": "execute_result",
          "data": {
            "text/plain": [
              "[array([0.00000000e+00, 1.81000000e+02, 5.45000000e+03, 0.00000000e+00,\n",
              "        0.00000000e+00, 0.00000000e+00, 0.00000000e+00, 0.00000000e+00,\n",
              "        0.00000000e+00, 0.00000000e+00, 0.00000000e+00, 0.00000000e+00,\n",
              "        0.00000000e+00, 0.00000000e+00, 0.00000000e+00, 8.00000000e+00,\n",
              "        8.00000000e+00, 0.00000000e+00, 0.00000000e+00, 0.00000000e+00,\n",
              "        0.00000000e+00, 1.00000000e+00, 0.00000000e+00, 0.00000000e+00,\n",
              "        9.00000000e+00, 9.00000000e+00, 1.00000000e+00, 0.00000000e+00,\n",
              "        1.09999999e-01, 0.00000000e+00, 0.00000000e+00, 0.00000000e+00,\n",
              "        0.00000000e+00, 0.00000000e+00]),\n",
              " array([0.00000000e+00, 2.39000000e+02, 4.86000000e+02, 0.00000000e+00,\n",
              "        0.00000000e+00, 0.00000000e+00, 0.00000000e+00, 0.00000000e+00,\n",
              "        0.00000000e+00, 0.00000000e+00, 0.00000000e+00, 0.00000000e+00,\n",
              "        0.00000000e+00, 0.00000000e+00, 0.00000000e+00, 8.00000000e+00,\n",
              "        8.00000000e+00, 0.00000000e+00, 0.00000000e+00, 0.00000000e+00,\n",
              "        0.00000000e+00, 1.00000000e+00, 0.00000000e+00, 0.00000000e+00,\n",
              "        1.90000000e+01, 1.90000000e+01, 1.00000000e+00, 0.00000000e+00,\n",
              "        5.00000007e-02, 0.00000000e+00, 0.00000000e+00, 0.00000000e+00,\n",
              "        0.00000000e+00, 0.00000000e+00])]"
            ]
          },
          "metadata": {},
          "execution_count": 48
        }
      ]
    },
    {
      "cell_type": "code",
      "source": [
        "\n",
        "pearsonCorr = Statistics.corr(data_rdd)\n",
        "print(str(pearsonCorr).replace('nan', 'NaN'))\n"
      ],
      "metadata": {
        "colab": {
          "base_uri": "https://localhost:8080/"
        },
        "id": "gOjc9oEvPYoG",
        "outputId": "59b1a46a-d237-4a82-a454-daa0158ff57c"
      },
      "id": "gOjc9oEvPYoG",
      "execution_count": null,
      "outputs": [
        {
          "output_type": "stream",
          "name": "stdout",
          "text": [
            "[[ 1.00000000e+00  4.25823042e-03  5.43953448e-03 ... -3.06123538e-02\n",
            "   6.73916315e-03  1.04646380e-02]\n",
            " [ 4.25823042e-03  1.00000000e+00 -1.59677091e-06 ...  1.12209503e-03\n",
            "  -3.92691416e-04  1.32835779e-03]\n",
            " [ 5.43953448e-03 -1.59677091e-06  1.00000000e+00 ... -1.12349013e-02\n",
            "  -4.99962245e-03 -5.47081589e-03]\n",
            " ...\n",
            " [-3.06123538e-02  1.12209503e-03 -1.12349013e-02 ...  1.00000000e+00\n",
            "  -1.13184441e-01 -1.15320421e-01]\n",
            " [ 6.73916315e-03 -3.92691416e-04 -4.99962245e-03 ... -1.13184441e-01\n",
            "   1.00000000e+00  9.84803837e-01]\n",
            " [ 1.04646380e-02  1.32835779e-03 -5.47081589e-03 ... -1.15320421e-01\n",
            "   9.84803837e-01  1.00000000e+00]]\n"
          ]
        }
      ]
    },
    {
      "cell_type": "code",
      "metadata": {
        "id": "polish-claim",
        "colab": {
          "base_uri": "https://localhost:8080/"
        },
        "outputId": "d5c0109b-8e9e-4f78-94d7-eb157d16e6b4"
      },
      "source": [
        "# eliminating names of columns having string type\n",
        "pearsonCorr.shape"
      ],
      "id": "polish-claim",
      "execution_count": null,
      "outputs": [
        {
          "output_type": "execute_result",
          "data": {
            "text/plain": [
              "(34, 34)"
            ]
          },
          "metadata": {},
          "execution_count": 50
        }
      ]
    },
    {
      "cell_type": "code",
      "metadata": {
        "id": "skilled-domestic",
        "colab": {
          "base_uri": "https://localhost:8080/"
        },
        "outputId": "9f81ae4a-09b9-44a0-d64a-91781d0bb509"
      },
      "source": [
        "#  fill the null values with 0\n",
        "filled_arr = np.nan_to_num(pearsonCorr, nan=0)\n",
        "filled_arr"
      ],
      "id": "skilled-domestic",
      "execution_count": null,
      "outputs": [
        {
          "output_type": "execute_result",
          "data": {
            "text/plain": [
              "array([[ 1.00000000e+00,  4.25823042e-03,  5.43953448e-03, ...,\n",
              "        -3.06123538e-02,  6.73916315e-03,  1.04646380e-02],\n",
              "       [ 4.25823042e-03,  1.00000000e+00, -1.59677091e-06, ...,\n",
              "         1.12209503e-03, -3.92691416e-04,  1.32835779e-03],\n",
              "       [ 5.43953448e-03, -1.59677091e-06,  1.00000000e+00, ...,\n",
              "        -1.12349013e-02, -4.99962245e-03, -5.47081589e-03],\n",
              "       ...,\n",
              "       [-3.06123538e-02,  1.12209503e-03, -1.12349013e-02, ...,\n",
              "         1.00000000e+00, -1.13184441e-01, -1.15320421e-01],\n",
              "       [ 6.73916315e-03, -3.92691416e-04, -4.99962245e-03, ...,\n",
              "        -1.13184441e-01,  1.00000000e+00,  9.84803837e-01],\n",
              "       [ 1.04646380e-02,  1.32835779e-03, -5.47081589e-03, ...,\n",
              "        -1.15320421e-01,  9.84803837e-01,  1.00000000e+00]])"
            ]
          },
          "metadata": {},
          "execution_count": 51
        }
      ]
    },
    {
      "cell_type": "code",
      "metadata": {
        "id": "european-aaron",
        "colab": {
          "base_uri": "https://localhost:8080/",
          "height": 256
        },
        "outputId": "289e7355-da95-4f00-f294-95f5012aaf5b"
      },
      "source": [
        "# creating a dataframe with correlation matrix\n",
        "index_values = num_columns\n",
        "column_values = num_columns\n",
        "corr_df = pd.DataFrame(data = filled_arr, index = index_values, columns = column_values)\n",
        "corr_df = corr_df.round(1)\n",
        "corr_df.head()"
      ],
      "id": "european-aaron",
      "execution_count": null,
      "outputs": [
        {
          "output_type": "execute_result",
          "data": {
            "text/plain": [
              "                duration  src_bytes  dst_bytes  wrong_fragment  urgent  hot  \\\n",
              "duration             1.0        0.0        0.0            -0.0     0.0  0.0   \n",
              "src_bytes            0.0        1.0       -0.0            -0.0    -0.0  0.0   \n",
              "dst_bytes            0.0       -0.0        1.0            -0.0     0.0  0.0   \n",
              "wrong_fragment      -0.0       -0.0       -0.0             1.0    -0.0 -0.0   \n",
              "urgent               0.0       -0.0        0.0            -0.0     1.0  0.0   \n",
              "\n",
              "                num_failed_logins  num_compromised  root_shell  su_attempted  \\\n",
              "duration                      0.0              0.1         0.0           0.1   \n",
              "src_bytes                    -0.0              0.0        -0.0          -0.0   \n",
              "dst_bytes                     0.0              0.0         0.0           0.1   \n",
              "wrong_fragment               -0.0             -0.0        -0.0          -0.0   \n",
              "urgent                        0.1              0.0         0.0          -0.0   \n",
              "\n",
              "                ...  dst_host_count  dst_host_srv_count  \\\n",
              "duration        ...             0.0                -0.1   \n",
              "src_bytes       ...            -0.0                -0.0   \n",
              "dst_bytes       ...            -0.0                -0.0   \n",
              "wrong_fragment  ...            -0.0                -0.1   \n",
              "urgent          ...            -0.0                -0.0   \n",
              "\n",
              "                dst_host_same_srv_rate  dst_host_diff_srv_rate  \\\n",
              "duration                          -0.1                     0.4   \n",
              "src_bytes                         -0.0                     0.0   \n",
              "dst_bytes                          0.0                    -0.0   \n",
              "wrong_fragment                    -0.1                     0.1   \n",
              "urgent                            -0.0                     0.0   \n",
              "\n",
              "                dst_host_same_src_port_rate  dst_host_srv_diff_host_rate  \\\n",
              "duration                                0.0                         -0.0   \n",
              "src_bytes                              -0.0                          0.0   \n",
              "dst_bytes                              -0.0                          0.0   \n",
              "wrong_fragment                         -0.0                          0.0   \n",
              "urgent                                 -0.0                         -0.0   \n",
              "\n",
              "                dst_host_serror_rate  dst_host_srv_serror_rate  \\\n",
              "duration                        -0.0                      -0.0   \n",
              "src_bytes                       -0.0                       0.0   \n",
              "dst_bytes                       -0.0                      -0.0   \n",
              "wrong_fragment                  -0.0                      -0.0   \n",
              "urgent                          -0.0                      -0.0   \n",
              "\n",
              "                dst_host_rerror_rate  dst_host_srv_rerror_rate  \n",
              "duration                         0.0                       0.0  \n",
              "src_bytes                       -0.0                       0.0  \n",
              "dst_bytes                       -0.0                      -0.0  \n",
              "wrong_fragment                   0.0                      -0.0  \n",
              "urgent                          -0.0                      -0.0  \n",
              "\n",
              "[5 rows x 34 columns]"
            ],
            "text/html": [
              "\n",
              "  <div id=\"df-d451142b-aa62-4957-b62d-2fda4e965892\" class=\"colab-df-container\">\n",
              "    <div>\n",
              "<style scoped>\n",
              "    .dataframe tbody tr th:only-of-type {\n",
              "        vertical-align: middle;\n",
              "    }\n",
              "\n",
              "    .dataframe tbody tr th {\n",
              "        vertical-align: top;\n",
              "    }\n",
              "\n",
              "    .dataframe thead th {\n",
              "        text-align: right;\n",
              "    }\n",
              "</style>\n",
              "<table border=\"1\" class=\"dataframe\">\n",
              "  <thead>\n",
              "    <tr style=\"text-align: right;\">\n",
              "      <th></th>\n",
              "      <th>duration</th>\n",
              "      <th>src_bytes</th>\n",
              "      <th>dst_bytes</th>\n",
              "      <th>wrong_fragment</th>\n",
              "      <th>urgent</th>\n",
              "      <th>hot</th>\n",
              "      <th>num_failed_logins</th>\n",
              "      <th>num_compromised</th>\n",
              "      <th>root_shell</th>\n",
              "      <th>su_attempted</th>\n",
              "      <th>...</th>\n",
              "      <th>dst_host_count</th>\n",
              "      <th>dst_host_srv_count</th>\n",
              "      <th>dst_host_same_srv_rate</th>\n",
              "      <th>dst_host_diff_srv_rate</th>\n",
              "      <th>dst_host_same_src_port_rate</th>\n",
              "      <th>dst_host_srv_diff_host_rate</th>\n",
              "      <th>dst_host_serror_rate</th>\n",
              "      <th>dst_host_srv_serror_rate</th>\n",
              "      <th>dst_host_rerror_rate</th>\n",
              "      <th>dst_host_srv_rerror_rate</th>\n",
              "    </tr>\n",
              "  </thead>\n",
              "  <tbody>\n",
              "    <tr>\n",
              "      <th>duration</th>\n",
              "      <td>1.0</td>\n",
              "      <td>0.0</td>\n",
              "      <td>0.0</td>\n",
              "      <td>-0.0</td>\n",
              "      <td>0.0</td>\n",
              "      <td>0.0</td>\n",
              "      <td>0.0</td>\n",
              "      <td>0.1</td>\n",
              "      <td>0.0</td>\n",
              "      <td>0.1</td>\n",
              "      <td>...</td>\n",
              "      <td>0.0</td>\n",
              "      <td>-0.1</td>\n",
              "      <td>-0.1</td>\n",
              "      <td>0.4</td>\n",
              "      <td>0.0</td>\n",
              "      <td>-0.0</td>\n",
              "      <td>-0.0</td>\n",
              "      <td>-0.0</td>\n",
              "      <td>0.0</td>\n",
              "      <td>0.0</td>\n",
              "    </tr>\n",
              "    <tr>\n",
              "      <th>src_bytes</th>\n",
              "      <td>0.0</td>\n",
              "      <td>1.0</td>\n",
              "      <td>-0.0</td>\n",
              "      <td>-0.0</td>\n",
              "      <td>-0.0</td>\n",
              "      <td>0.0</td>\n",
              "      <td>-0.0</td>\n",
              "      <td>0.0</td>\n",
              "      <td>-0.0</td>\n",
              "      <td>-0.0</td>\n",
              "      <td>...</td>\n",
              "      <td>-0.0</td>\n",
              "      <td>-0.0</td>\n",
              "      <td>-0.0</td>\n",
              "      <td>0.0</td>\n",
              "      <td>-0.0</td>\n",
              "      <td>0.0</td>\n",
              "      <td>-0.0</td>\n",
              "      <td>0.0</td>\n",
              "      <td>-0.0</td>\n",
              "      <td>0.0</td>\n",
              "    </tr>\n",
              "    <tr>\n",
              "      <th>dst_bytes</th>\n",
              "      <td>0.0</td>\n",
              "      <td>-0.0</td>\n",
              "      <td>1.0</td>\n",
              "      <td>-0.0</td>\n",
              "      <td>0.0</td>\n",
              "      <td>0.0</td>\n",
              "      <td>0.0</td>\n",
              "      <td>0.0</td>\n",
              "      <td>0.0</td>\n",
              "      <td>0.1</td>\n",
              "      <td>...</td>\n",
              "      <td>-0.0</td>\n",
              "      <td>-0.0</td>\n",
              "      <td>0.0</td>\n",
              "      <td>-0.0</td>\n",
              "      <td>-0.0</td>\n",
              "      <td>0.0</td>\n",
              "      <td>-0.0</td>\n",
              "      <td>-0.0</td>\n",
              "      <td>-0.0</td>\n",
              "      <td>-0.0</td>\n",
              "    </tr>\n",
              "    <tr>\n",
              "      <th>wrong_fragment</th>\n",
              "      <td>-0.0</td>\n",
              "      <td>-0.0</td>\n",
              "      <td>-0.0</td>\n",
              "      <td>1.0</td>\n",
              "      <td>-0.0</td>\n",
              "      <td>-0.0</td>\n",
              "      <td>-0.0</td>\n",
              "      <td>-0.0</td>\n",
              "      <td>-0.0</td>\n",
              "      <td>-0.0</td>\n",
              "      <td>...</td>\n",
              "      <td>-0.0</td>\n",
              "      <td>-0.1</td>\n",
              "      <td>-0.1</td>\n",
              "      <td>0.1</td>\n",
              "      <td>-0.0</td>\n",
              "      <td>0.0</td>\n",
              "      <td>-0.0</td>\n",
              "      <td>-0.0</td>\n",
              "      <td>0.0</td>\n",
              "      <td>-0.0</td>\n",
              "    </tr>\n",
              "    <tr>\n",
              "      <th>urgent</th>\n",
              "      <td>0.0</td>\n",
              "      <td>-0.0</td>\n",
              "      <td>0.0</td>\n",
              "      <td>-0.0</td>\n",
              "      <td>1.0</td>\n",
              "      <td>0.0</td>\n",
              "      <td>0.1</td>\n",
              "      <td>0.0</td>\n",
              "      <td>0.0</td>\n",
              "      <td>-0.0</td>\n",
              "      <td>...</td>\n",
              "      <td>-0.0</td>\n",
              "      <td>-0.0</td>\n",
              "      <td>-0.0</td>\n",
              "      <td>0.0</td>\n",
              "      <td>-0.0</td>\n",
              "      <td>-0.0</td>\n",
              "      <td>-0.0</td>\n",
              "      <td>-0.0</td>\n",
              "      <td>-0.0</td>\n",
              "      <td>-0.0</td>\n",
              "    </tr>\n",
              "  </tbody>\n",
              "</table>\n",
              "<p>5 rows × 34 columns</p>\n",
              "</div>\n",
              "    <div class=\"colab-df-buttons\">\n",
              "\n",
              "  <div class=\"colab-df-container\">\n",
              "    <button class=\"colab-df-convert\" onclick=\"convertToInteractive('df-d451142b-aa62-4957-b62d-2fda4e965892')\"\n",
              "            title=\"Convert this dataframe to an interactive table.\"\n",
              "            style=\"display:none;\">\n",
              "\n",
              "  <svg xmlns=\"http://www.w3.org/2000/svg\" height=\"24px\" viewBox=\"0 -960 960 960\">\n",
              "    <path d=\"M120-120v-720h720v720H120Zm60-500h600v-160H180v160Zm220 220h160v-160H400v160Zm0 220h160v-160H400v160ZM180-400h160v-160H180v160Zm440 0h160v-160H620v160ZM180-180h160v-160H180v160Zm440 0h160v-160H620v160Z\"/>\n",
              "  </svg>\n",
              "    </button>\n",
              "\n",
              "  <style>\n",
              "    .colab-df-container {\n",
              "      display:flex;\n",
              "      gap: 12px;\n",
              "    }\n",
              "\n",
              "    .colab-df-convert {\n",
              "      background-color: #E8F0FE;\n",
              "      border: none;\n",
              "      border-radius: 50%;\n",
              "      cursor: pointer;\n",
              "      display: none;\n",
              "      fill: #1967D2;\n",
              "      height: 32px;\n",
              "      padding: 0 0 0 0;\n",
              "      width: 32px;\n",
              "    }\n",
              "\n",
              "    .colab-df-convert:hover {\n",
              "      background-color: #E2EBFA;\n",
              "      box-shadow: 0px 1px 2px rgba(60, 64, 67, 0.3), 0px 1px 3px 1px rgba(60, 64, 67, 0.15);\n",
              "      fill: #174EA6;\n",
              "    }\n",
              "\n",
              "    .colab-df-buttons div {\n",
              "      margin-bottom: 4px;\n",
              "    }\n",
              "\n",
              "    [theme=dark] .colab-df-convert {\n",
              "      background-color: #3B4455;\n",
              "      fill: #D2E3FC;\n",
              "    }\n",
              "\n",
              "    [theme=dark] .colab-df-convert:hover {\n",
              "      background-color: #434B5C;\n",
              "      box-shadow: 0px 1px 3px 1px rgba(0, 0, 0, 0.15);\n",
              "      filter: drop-shadow(0px 1px 2px rgba(0, 0, 0, 0.3));\n",
              "      fill: #FFFFFF;\n",
              "    }\n",
              "  </style>\n",
              "\n",
              "    <script>\n",
              "      const buttonEl =\n",
              "        document.querySelector('#df-d451142b-aa62-4957-b62d-2fda4e965892 button.colab-df-convert');\n",
              "      buttonEl.style.display =\n",
              "        google.colab.kernel.accessAllowed ? 'block' : 'none';\n",
              "\n",
              "      async function convertToInteractive(key) {\n",
              "        const element = document.querySelector('#df-d451142b-aa62-4957-b62d-2fda4e965892');\n",
              "        const dataTable =\n",
              "          await google.colab.kernel.invokeFunction('convertToInteractive',\n",
              "                                                    [key], {});\n",
              "        if (!dataTable) return;\n",
              "\n",
              "        const docLinkHtml = 'Like what you see? Visit the ' +\n",
              "          '<a target=\"_blank\" href=https://colab.research.google.com/notebooks/data_table.ipynb>data table notebook</a>'\n",
              "          + ' to learn more about interactive tables.';\n",
              "        element.innerHTML = '';\n",
              "        dataTable['output_type'] = 'display_data';\n",
              "        await google.colab.output.renderOutput(dataTable, element);\n",
              "        const docLink = document.createElement('div');\n",
              "        docLink.innerHTML = docLinkHtml;\n",
              "        element.appendChild(docLink);\n",
              "      }\n",
              "    </script>\n",
              "  </div>\n",
              "\n",
              "\n",
              "<div id=\"df-a81981a6-a6f4-4cce-8005-5afd2e3f1330\">\n",
              "  <button class=\"colab-df-quickchart\" onclick=\"quickchart('df-a81981a6-a6f4-4cce-8005-5afd2e3f1330')\"\n",
              "            title=\"Suggest charts\"\n",
              "            style=\"display:none;\">\n",
              "\n",
              "<svg xmlns=\"http://www.w3.org/2000/svg\" height=\"24px\"viewBox=\"0 0 24 24\"\n",
              "     width=\"24px\">\n",
              "    <g>\n",
              "        <path d=\"M19 3H5c-1.1 0-2 .9-2 2v14c0 1.1.9 2 2 2h14c1.1 0 2-.9 2-2V5c0-1.1-.9-2-2-2zM9 17H7v-7h2v7zm4 0h-2V7h2v10zm4 0h-2v-4h2v4z\"/>\n",
              "    </g>\n",
              "</svg>\n",
              "  </button>\n",
              "\n",
              "<style>\n",
              "  .colab-df-quickchart {\n",
              "      --bg-color: #E8F0FE;\n",
              "      --fill-color: #1967D2;\n",
              "      --hover-bg-color: #E2EBFA;\n",
              "      --hover-fill-color: #174EA6;\n",
              "      --disabled-fill-color: #AAA;\n",
              "      --disabled-bg-color: #DDD;\n",
              "  }\n",
              "\n",
              "  [theme=dark] .colab-df-quickchart {\n",
              "      --bg-color: #3B4455;\n",
              "      --fill-color: #D2E3FC;\n",
              "      --hover-bg-color: #434B5C;\n",
              "      --hover-fill-color: #FFFFFF;\n",
              "      --disabled-bg-color: #3B4455;\n",
              "      --disabled-fill-color: #666;\n",
              "  }\n",
              "\n",
              "  .colab-df-quickchart {\n",
              "    background-color: var(--bg-color);\n",
              "    border: none;\n",
              "    border-radius: 50%;\n",
              "    cursor: pointer;\n",
              "    display: none;\n",
              "    fill: var(--fill-color);\n",
              "    height: 32px;\n",
              "    padding: 0;\n",
              "    width: 32px;\n",
              "  }\n",
              "\n",
              "  .colab-df-quickchart:hover {\n",
              "    background-color: var(--hover-bg-color);\n",
              "    box-shadow: 0 1px 2px rgba(60, 64, 67, 0.3), 0 1px 3px 1px rgba(60, 64, 67, 0.15);\n",
              "    fill: var(--button-hover-fill-color);\n",
              "  }\n",
              "\n",
              "  .colab-df-quickchart-complete:disabled,\n",
              "  .colab-df-quickchart-complete:disabled:hover {\n",
              "    background-color: var(--disabled-bg-color);\n",
              "    fill: var(--disabled-fill-color);\n",
              "    box-shadow: none;\n",
              "  }\n",
              "\n",
              "  .colab-df-spinner {\n",
              "    border: 2px solid var(--fill-color);\n",
              "    border-color: transparent;\n",
              "    border-bottom-color: var(--fill-color);\n",
              "    animation:\n",
              "      spin 1s steps(1) infinite;\n",
              "  }\n",
              "\n",
              "  @keyframes spin {\n",
              "    0% {\n",
              "      border-color: transparent;\n",
              "      border-bottom-color: var(--fill-color);\n",
              "      border-left-color: var(--fill-color);\n",
              "    }\n",
              "    20% {\n",
              "      border-color: transparent;\n",
              "      border-left-color: var(--fill-color);\n",
              "      border-top-color: var(--fill-color);\n",
              "    }\n",
              "    30% {\n",
              "      border-color: transparent;\n",
              "      border-left-color: var(--fill-color);\n",
              "      border-top-color: var(--fill-color);\n",
              "      border-right-color: var(--fill-color);\n",
              "    }\n",
              "    40% {\n",
              "      border-color: transparent;\n",
              "      border-right-color: var(--fill-color);\n",
              "      border-top-color: var(--fill-color);\n",
              "    }\n",
              "    60% {\n",
              "      border-color: transparent;\n",
              "      border-right-color: var(--fill-color);\n",
              "    }\n",
              "    80% {\n",
              "      border-color: transparent;\n",
              "      border-right-color: var(--fill-color);\n",
              "      border-bottom-color: var(--fill-color);\n",
              "    }\n",
              "    90% {\n",
              "      border-color: transparent;\n",
              "      border-bottom-color: var(--fill-color);\n",
              "    }\n",
              "  }\n",
              "</style>\n",
              "\n",
              "  <script>\n",
              "    async function quickchart(key) {\n",
              "      const quickchartButtonEl =\n",
              "        document.querySelector('#' + key + ' button');\n",
              "      quickchartButtonEl.disabled = true;  // To prevent multiple clicks.\n",
              "      quickchartButtonEl.classList.add('colab-df-spinner');\n",
              "      try {\n",
              "        const charts = await google.colab.kernel.invokeFunction(\n",
              "            'suggestCharts', [key], {});\n",
              "      } catch (error) {\n",
              "        console.error('Error during call to suggestCharts:', error);\n",
              "      }\n",
              "      quickchartButtonEl.classList.remove('colab-df-spinner');\n",
              "      quickchartButtonEl.classList.add('colab-df-quickchart-complete');\n",
              "    }\n",
              "    (() => {\n",
              "      let quickchartButtonEl =\n",
              "        document.querySelector('#df-a81981a6-a6f4-4cce-8005-5afd2e3f1330 button');\n",
              "      quickchartButtonEl.style.display =\n",
              "        google.colab.kernel.accessAllowed ? 'block' : 'none';\n",
              "    })();\n",
              "  </script>\n",
              "</div>\n",
              "\n",
              "    </div>\n",
              "  </div>\n"
            ]
          },
          "metadata": {},
          "execution_count": 52
        }
      ]
    },
    {
      "cell_type": "code",
      "source": [
        "mask = np.triu(np.ones_like(corr_df))\n",
        "plt.figure(figsize=(20, 15))\n",
        "sns.heatmap(corr_df, annot=True, vmax=1, vmin=-1, center=0, cmap='vlag',mask=mask)\n",
        "plt.show()"
      ],
      "metadata": {
        "colab": {
          "base_uri": "https://localhost:8080/",
          "height": 1000
        },
        "id": "_N5gORIz3eeg",
        "outputId": "2df6f4bb-97db-42d2-f902-e838f94f849d"
      },
      "id": "_N5gORIz3eeg",
      "execution_count": null,
      "outputs": [
        {
          "output_type": "display_data",
          "data": {
            "text/plain": [
              "<Figure size 2000x1500 with 2 Axes>"
            ],
            "image/png": "[encoded data removed]"
          },
          "metadata": {}
        }
      ]
    },
    {
      "cell_type": "code",
      "metadata": {
        "id": "approved-dublin",
        "colab": {
          "base_uri": "https://localhost:8080/"
        },
        "outputId": "f778f8e3-913f-4f2a-c52b-d6a098f7092a"
      },
      "source": [
        "# Finding features with correlation value more than specified threshold value (bar=0.9)\n",
        "# Correlation matrix\n",
        "corr_df_abs = corr_df.abs()\n",
        "\n",
        "# Select upper triangle of correlation matrix\n",
        "upper = corr_df_abs.where(np.triu(np.ones(corr_df_abs.shape), k=1).astype(bool))\n",
        "\n",
        "# Find features with correlation greater than 0.90\n",
        "to_drop = [column for column in upper.columns if any(upper[column] > 0.80)]\n",
        "to_drop\n",
        "# Drop features\n",
        "# df.drop(to_drop, axis=1, inplace=True)"
      ],
      "id": "approved-dublin",
      "execution_count": null,
      "outputs": [
        {
          "output_type": "execute_result",
          "data": {
            "text/plain": [
              "['num_root',\n",
              " 'srv_count',\n",
              " 'srv_serror_rate',\n",
              " 'srv_rerror_rate',\n",
              " 'same_srv_rate',\n",
              " 'dst_host_srv_count',\n",
              " 'dst_host_same_srv_rate',\n",
              " 'dst_host_same_src_port_rate',\n",
              " 'dst_host_serror_rate',\n",
              " 'dst_host_srv_serror_rate',\n",
              " 'dst_host_rerror_rate',\n",
              " 'dst_host_srv_rerror_rate']"
            ]
          },
          "metadata": {},
          "execution_count": 60
        }
      ]
    },
    {
      "cell_type": "code",
      "source": [],
      "metadata": {
        "id": "FdbkzN7k2BM2"
      },
      "id": "FdbkzN7k2BM2",
      "execution_count": null,
      "outputs": []
    },
    {
      "cell_type": "markdown",
      "metadata": {
        "id": "working-accident"
      },
      "source": [
        "### Analysis report\n",
        "\n",
        "* Find the ratio of attacked transactions vs normal transactions\n",
        "\n",
        "    Hint: encode instrusion_type column by replacing normal with 1 and all other with 0\n",
        "\n",
        "* Describe the statistics of attacked and normal transactions\n",
        "    \n",
        "    Hint: Min, Max, Mean\n",
        "    \n",
        "* Select any two features that influence the intrusion_type and visualize the scatter plot to see the separation of normal and attacked"
      ],
      "id": "working-accident"
    },
    {
      "cell_type": "code",
      "metadata": {
        "id": "greatest-pressing"
      },
      "source": [
        "# Add another col binary_label\n",
        "data_df = data_df.withColumn(\"binary_label\", when(data_df[\"intrusion_type\"] == \"normal.\", 1).otherwise(0))\n",
        "# data_df.printSchema()"
      ],
      "id": "greatest-pressing",
      "execution_count": null,
      "outputs": []
    },
    {
      "cell_type": "code",
      "source": [
        "att_transactions = data_df.select(\"*\").where(column(\"binary_label\") == 0).count()\n",
        "normal_transactions = data_df.select(\"*\").where(column(\"binary_label\") == 1).count()\n",
        "att_transactions, normal_transactions, att_transactions/normal_transactions"
      ],
      "metadata": {
        "colab": {
          "base_uri": "https://localhost:8080/"
        },
        "id": "0pK4oONgFF5N",
        "outputId": "545e6923-8358-4561-ed1d-2b719fde2c5a"
      },
      "id": "0pK4oONgFF5N",
      "execution_count": null,
      "outputs": [
        {
          "output_type": "execute_result",
          "data": {
            "text/plain": [
              "(396743, 97278, 4.0784452805361955)"
            ]
          },
          "metadata": {},
          "execution_count": 55
        }
      ]
    },
    {
      "cell_type": "code",
      "metadata": {
        "id": "dimensional-inspiration",
        "colab": {
          "base_uri": "https://localhost:8080/"
        },
        "outputId": "6cf8b021-7dfa-42e3-f6ed-df2b1fd6672d"
      },
      "source": [
        "att_df = data_df.select(\"binary_label\").where(column(\"binary_label\") == 0)\n",
        "nor_df = data_df.select(\"binary_label\").where(column(\"binary_label\") == 1)\n",
        "\n",
        "att_df.describe().show()\n",
        "nor_df.describe().show()\n"
      ],
      "id": "dimensional-inspiration",
      "execution_count": null,
      "outputs": [
        {
          "output_type": "stream",
          "name": "stdout",
          "text": [
            "+-------+------------+\n",
            "|summary|binary_label|\n",
            "+-------+------------+\n",
            "|  count|      396743|\n",
            "|   mean|         0.0|\n",
            "| stddev|         0.0|\n",
            "|    min|           0|\n",
            "|    max|           0|\n",
            "+-------+------------+\n",
            "\n",
            "+-------+------------+\n",
            "|summary|binary_label|\n",
            "+-------+------------+\n",
            "|  count|       97278|\n",
            "|   mean|         1.0|\n",
            "| stddev|         0.0|\n",
            "|    min|           1|\n",
            "|    max|           1|\n",
            "+-------+------------+\n",
            "\n"
          ]
        }
      ]
    },
    {
      "cell_type": "code",
      "metadata": {
        "id": "csNSaN2oaNYS",
        "colab": {
          "base_uri": "https://localhost:8080/"
        },
        "outputId": "10116de8-d9f7-4094-a3dd-4a0464358d3c"
      },
      "source": [
        "data_df.show(10)\n",
        "pd_df = data_df.toPandas()\n"
      ],
      "id": "csNSaN2oaNYS",
      "execution_count": null,
      "outputs": [
        {
          "output_type": "stream",
          "name": "stdout",
          "text": [
            "+--------+-------------+-------+----+---------+---------+----+--------------+------+---+-----------------+---------+---------------+----------+------------+--------+------------------+----------+----------------+-----------------+-------------+--------------+-----+---------+-----------+---------------+-----------+---------------+-------------+-------------+------------------+--------------+------------------+----------------------+----------------------+---------------------------+---------------------------+--------------------+------------------------+--------------------+------------------------+--------------+------------+\n",
            "|duration|protocol_type|service|flag|src_bytes|dst_bytes|land|wrong_fragment|urgent|hot|num_failed_logins|logged_in|num_compromised|root_shell|su_attempted|num_root|num_file_creations|num_shells|num_access_files|num_outbound_cmds|is_host_login|is_guest_login|count|srv_count|serror_rate|srv_serror_rate|rerror_rate|srv_rerror_rate|same_srv_rate|diff_srv_rate|srv_diff_host_rate|dst_host_count|dst_host_srv_count|dst_host_same_srv_rate|dst_host_diff_srv_rate|dst_host_same_src_port_rate|dst_host_srv_diff_host_rate|dst_host_serror_rate|dst_host_srv_serror_rate|dst_host_rerror_rate|dst_host_srv_rerror_rate|intrusion_type|binary_label|\n",
            "+--------+-------------+-------+----+---------+---------+----+--------------+------+---+-----------------+---------+---------------+----------+------------+--------+------------------+----------+----------------+-----------------+-------------+--------------+-----+---------+-----------+---------------+-----------+---------------+-------------+-------------+------------------+--------------+------------------+----------------------+----------------------+---------------------------+---------------------------+--------------------+------------------------+--------------------+------------------------+--------------+------------+\n",
            "|       0|          tcp|   http|  SF|      181|     5450|   0|             0|     0|  0|                0|        1|              0|         0|           0|       0|                 0|         0|               0|                0|            0|             0|    8|        8|       0.00|           0.00|       0.00|           0.00|         1.00|         0.00|              0.00|             9|                 9|                  1.00|                  0.00|                       0.11|                       0.00|                0.00|                    0.00|                0.00|                    0.00|       normal.|           1|\n",
            "|       0|          tcp|   http|  SF|      239|      486|   0|             0|     0|  0|                0|        1|              0|         0|           0|       0|                 0|         0|               0|                0|            0|             0|    8|        8|       0.00|           0.00|       0.00|           0.00|         1.00|         0.00|              0.00|            19|                19|                  1.00|                  0.00|                       0.05|                       0.00|                0.00|                    0.00|                0.00|                    0.00|       normal.|           1|\n",
            "|       0|          tcp|   http|  SF|      235|     1337|   0|             0|     0|  0|                0|        1|              0|         0|           0|       0|                 0|         0|               0|                0|            0|             0|    8|        8|       0.00|           0.00|       0.00|           0.00|         1.00|         0.00|              0.00|            29|                29|                  1.00|                  0.00|                       0.03|                       0.00|                0.00|                    0.00|                0.00|                    0.00|       normal.|           1|\n",
            "|       0|          tcp|   http|  SF|      219|     1337|   0|             0|     0|  0|                0|        1|              0|         0|           0|       0|                 0|         0|               0|                0|            0|             0|    6|        6|       0.00|           0.00|       0.00|           0.00|         1.00|         0.00|              0.00|            39|                39|                  1.00|                  0.00|                       0.03|                       0.00|                0.00|                    0.00|                0.00|                    0.00|       normal.|           1|\n",
            "|       0|          tcp|   http|  SF|      217|     2032|   0|             0|     0|  0|                0|        1|              0|         0|           0|       0|                 0|         0|               0|                0|            0|             0|    6|        6|       0.00|           0.00|       0.00|           0.00|         1.00|         0.00|              0.00|            49|                49|                  1.00|                  0.00|                       0.02|                       0.00|                0.00|                    0.00|                0.00|                    0.00|       normal.|           1|\n",
            "|       0|          tcp|   http|  SF|      217|     2032|   0|             0|     0|  0|                0|        1|              0|         0|           0|       0|                 0|         0|               0|                0|            0|             0|    6|        6|       0.00|           0.00|       0.00|           0.00|         1.00|         0.00|              0.00|            59|                59|                  1.00|                  0.00|                       0.02|                       0.00|                0.00|                    0.00|                0.00|                    0.00|       normal.|           1|\n",
            "|       0|          tcp|   http|  SF|      212|     1940|   0|             0|     0|  0|                0|        1|              0|         0|           0|       0|                 0|         0|               0|                0|            0|             0|    1|        2|       0.00|           0.00|       0.00|           0.00|         1.00|         0.00|              1.00|             1|                69|                  1.00|                  0.00|                       1.00|                       0.04|                0.00|                    0.00|                0.00|                    0.00|       normal.|           1|\n",
            "|       0|          tcp|   http|  SF|      159|     4087|   0|             0|     0|  0|                0|        1|              0|         0|           0|       0|                 0|         0|               0|                0|            0|             0|    5|        5|       0.00|           0.00|       0.00|           0.00|         1.00|         0.00|              0.00|            11|                79|                  1.00|                  0.00|                       0.09|                       0.04|                0.00|                    0.00|                0.00|                    0.00|       normal.|           1|\n",
            "|       0|          tcp|   http|  SF|      210|      151|   0|             0|     0|  0|                0|        1|              0|         0|           0|       0|                 0|         0|               0|                0|            0|             0|    8|        8|       0.00|           0.00|       0.00|           0.00|         1.00|         0.00|              0.00|             8|                89|                  1.00|                  0.00|                       0.12|                       0.04|                0.00|                    0.00|                0.00|                    0.00|       normal.|           1|\n",
            "|       0|          tcp|   http|  SF|      212|      786|   0|             0|     0|  1|                0|        1|              0|         0|           0|       0|                 0|         0|               0|                0|            0|             0|    8|        8|       0.00|           0.00|       0.00|           0.00|         1.00|         0.00|              0.00|             8|                99|                  1.00|                  0.00|                       0.12|                       0.05|                0.00|                    0.00|                0.00|                    0.00|       normal.|           1|\n",
            "+--------+-------------+-------+----+---------+---------+----+--------------+------+---+-----------------+---------+---------------+----------+------------+--------+------------------+----------+----------------+-----------------+-------------+--------------+-----+---------+-----------+---------------+-----------+---------------+-------------+-------------+------------------+--------------+------------------+----------------------+----------------------+---------------------------+---------------------------+--------------------+------------------------+--------------------+------------------------+--------------+------------+\n",
            "only showing top 10 rows\n",
            "\n"
          ]
        }
      ]
    },
    {
      "cell_type": "code",
      "source": [
        "plt.figure(figsize=(30, 15))\n",
        "pd_df.plot.scatter(x='duration', y='srv_count')\n",
        "plt.show()"
      ],
      "metadata": {
        "colab": {
          "base_uri": "https://localhost:8080/",
          "height": 467
        },
        "id": "Ef2ag8k-KQLR",
        "outputId": "0c215b3a-782f-4e65-ad76-e123083898c1"
      },
      "id": "Ef2ag8k-KQLR",
      "execution_count": null,
      "outputs": [
        {
          "output_type": "display_data",
          "data": {
            "text/plain": [
              "<Figure size 3000x1500 with 0 Axes>"
            ]
          },
          "metadata": {}
        },
        {
          "output_type": "display_data",
          "data": {
            "text/plain": [
              "<Figure size 640x480 with 1 Axes>"
            ],
            "image/png": "[encoded data removed]"
          },
          "metadata": {}
        }
      ]
    }
  ]
}