{
  "cells": [
    {
      "cell_type": "markdown",
      "metadata": {
        "id": "view-in-github",
        "colab_type": "text"
      },
      "source": [
        "<a href=\"https://colab.research.google.com/github/manish-anandani/Data-Science-Projects/blob/main/Sentiment_Classification_using_nltk_pyspark_streamlitv1_0.ipynb\" target=\"_parent\"><img src=\"https://colab.research.google.com/assets/colab-badge.svg\" alt=\"Open In Colab\"/></a>"
      ]
    },
    {
      "cell_type": "markdown",
      "metadata": {
        "id": "buried-qualification"
      },
      "source": [
        "## Problem Statement"
      ],
      "id": "buried-qualification"
    },
    {
      "cell_type": "markdown",
      "metadata": {
        "id": "smaller-diana"
      },
      "source": [
        "Perform sentiment classification by analyzing the tweets data with Pyspark"
      ],
      "id": "smaller-diana"
    },
    {
      "cell_type": "markdown",
      "metadata": {
        "id": "opposite-defense"
      },
      "source": [
        "## Learning Objectives"
      ],
      "id": "opposite-defense"
    },
    {
      "cell_type": "markdown",
      "metadata": {
        "id": "incoming-professor"
      },
      "source": [
        "At the end of the mini-project, you will be able to :\n",
        "\n",
        "* analyze the text data using pyspark\n",
        "* derive the insights and visualize the data\n",
        "* implement feature extraction and classify the data\n",
        "* train the classification model and deploy"
      ],
      "id": "incoming-professor"
    },
    {
      "cell_type": "markdown",
      "metadata": {
        "id": "varied-emission"
      },
      "source": [
        "### Dataset"
      ],
      "id": "varied-emission"
    },
    {
      "cell_type": "markdown",
      "metadata": {
        "id": "usual-suffering"
      },
      "source": [
        "The dataset chosen for this mini-project is **[Twitter US Airline Sentiment](https://data.world/socialmediadata/twitter-us-airline-sentiment)**. It is a record of tweets about airlines in the US. It was created by scraping Twitter data from February 2015. Contributors were asked to first classify positive, negative, and neutral tweets, followed by categorizing negative reasons (such as \"late flight\" or \"rude service\").  Along with other information, it contains ID of a Tweet, the sentiment of a tweet ( neutral, negative and positive), reason for a negative tweet, name of airline and text of a tweet."
      ],
      "id": "usual-suffering"
    },
    {
      "cell_type": "markdown",
      "metadata": {
        "id": "original-tsunami"
      },
      "source": [
        "## Information"
      ],
      "id": "original-tsunami"
    },
    {
      "cell_type": "markdown",
      "metadata": {
        "id": "premier-northeast"
      },
      "source": [
        "The airline industry is a very competitive market that has grown rapidly in the past 2 decades. Airline companies resort to traditional customer feedback forms which in turn are very tedious and time consuming. This is where Twitter data serves as a good source to gather customer feedback tweets and perform sentiment analysis. This dataset comprises of tweets for 6 major US Airlines and a multi-class classification can be performed to categorize the sentiment (neutral, negative, positive). For this mini-project we will start with pre-processing techniques to clean the tweets and then represent these tweets as vectors. A classification algorithm will be used to predict the sentiment for unseen tweets data. The end-to-end analytics will be performed using Pyspark."
      ],
      "id": "premier-northeast"
    },
    {
      "cell_type": "markdown",
      "metadata": {
        "id": "younger-macro"
      },
      "source": [
        "#### Install Pyspark"
      ],
      "id": "younger-macro"
    },
    {
      "cell_type": "code",
      "execution_count": null,
      "metadata": {
        "cellView": "form",
        "colab": {
          "base_uri": "https://localhost:8080/"
        },
        "id": "aerial-amplifier",
        "outputId": "2755c2f1-62c4-4974-f16d-10f5b4993190"
      },
      "outputs": [
        {
          "output_type": "stream",
          "name": "stdout",
          "text": [
            "\u001b[2K     \u001b[90m━━━━━━━━━━━━━━━━━━━━━━━━━━━━━━━━━━━━━━━━\u001b[0m \u001b[32m316.9/316.9 MB\u001b[0m \u001b[31m2.2 MB/s\u001b[0m eta \u001b[36m0:00:00\u001b[0m\n",
            "\u001b[?25h  Preparing metadata (setup.py) ... \u001b[?25l\u001b[?25hdone\n",
            "  Building wheel for pyspark (setup.py) ... \u001b[?25l\u001b[?25hdone\n",
            "Packages installed successfully and dataset downloaded!!\n"
          ]
        }
      ],
      "source": [
        "#@title Install packages and download the dataset\n",
        "!pip -qq install pyspark\n",
        "!pip -qq install handyspark\n",
        "!wget -qq https://cdn.iisc.talentsprint.com/CDS/MiniProjects/US_Airline_Tweets.csv\n",
        "print(\"Packages installed successfully and dataset downloaded!!\")"
      ],
      "id": "aerial-amplifier"
    },
    {
      "cell_type": "markdown",
      "metadata": {
        "id": "rough-battlefield"
      },
      "source": [
        "#### Import required packages"
      ],
      "id": "rough-battlefield"
    },
    {
      "cell_type": "code",
      "execution_count": null,
      "metadata": {
        "id": "cheap-workplace"
      },
      "outputs": [],
      "source": [
        "from pyspark.sql import SparkSession\n",
        "from pyspark.sql.functions import *\n",
        "from handyspark import *\n",
        "import seaborn as sns\n",
        "from matplotlib import pyplot as plt\n",
        "import re\n",
        "import string\n",
        "from pyspark.ml.feature import VectorAssembler\n",
        "from pyspark.ml.feature import CountVectorizer\n",
        "from pyspark.ml.classification import NaiveBayes\n",
        "from pyspark.sql.types import ArrayType, StringType\n",
        "from pyspark.sql.types import *\n",
        "import warnings\n",
        "warnings.filterwarnings(\"ignore\")"
      ],
      "id": "cheap-workplace"
    },
    {
      "cell_type": "code",
      "execution_count": null,
      "metadata": {
        "colab": {
          "base_uri": "https://localhost:8080/"
        },
        "id": "useful-meter",
        "outputId": "e6febcd9-845f-4b8a-fcf0-497af014e8bc"
      },
      "outputs": [
        {
          "output_type": "stream",
          "name": "stderr",
          "text": [
            "[nltk_data] Downloading package punkt to /root/nltk_data...\n",
            "[nltk_data]   Unzipping tokenizers/punkt.zip.\n",
            "[nltk_data] Downloading package stopwords to /root/nltk_data...\n",
            "[nltk_data]   Unzipping corpora/stopwords.zip.\n",
            "[nltk_data] Downloading package wordnet to /root/nltk_data...\n",
            "[nltk_data] Downloading package omw-1.4 to /root/nltk_data...\n"
          ]
        }
      ],
      "source": [
        "# NLTK imports\n",
        "import nltk\n",
        "nltk.download('punkt')\n",
        "# Download stopwords\n",
        "nltk.download('stopwords')\n",
        "nltk.download('wordnet')\n",
        "nltk.download('omw-1.4')\n",
        "from nltk.corpus import stopwords\n",
        "from nltk.tokenize import word_tokenize\n",
        "from nltk.stem import WordNetLemmatizer"
      ],
      "id": "useful-meter"
    },
    {
      "cell_type": "markdown",
      "metadata": {
        "id": "pregnant-april"
      },
      "source": [
        "### Data Loading"
      ],
      "id": "pregnant-april"
    },
    {
      "cell_type": "markdown",
      "metadata": {
        "id": "toxic-baseball"
      },
      "source": [
        "#### Start a Spark Session\n",
        "\n",
        "Spark session is a combined entry point of a Spark application, which came into implementation from Spark 2.0. It provides a way to interact with various Spark functionalities, with a lesser number of constructs."
      ],
      "id": "toxic-baseball"
    },
    {
      "cell_type": "code",
      "execution_count": null,
      "metadata": {
        "id": "oYZHt5Ub3Xzd"
      },
      "outputs": [],
      "source": [
        "import os\n",
        "os.environ[\"JAVA_HOME\"] = \"/usr/lib/jvm/java-11-openjdk-amd64\""
      ],
      "id": "oYZHt5Ub3Xzd"
    },
    {
      "cell_type": "code",
      "execution_count": null,
      "metadata": {
        "colab": {
          "base_uri": "https://localhost:8080/",
          "height": 219
        },
        "id": "christian-rental",
        "outputId": "35096ac3-93ed-4477-98b7-82e690627df1"
      },
      "outputs": [
        {
          "output_type": "execute_result",
          "data": {
            "text/plain": [
              "<pyspark.sql.session.SparkSession at 0x7be99ae841c0>"
            ],
            "text/html": [
              "\n",
              "            <div>\n",
              "                <p><b>SparkSession - in-memory</b></p>\n",
              "                \n",
              "        <div>\n",
              "            <p><b>SparkContext</b></p>\n",
              "\n",
              "            <p><a href=\"http://b805466963dd:4050\">Spark UI</a></p>\n",
              "\n",
              "            <dl>\n",
              "              <dt>Version</dt>\n",
              "                <dd><code>v3.5.0</code></dd>\n",
              "              <dt>Master</dt>\n",
              "                <dd><code>local[*]</code></dd>\n",
              "              <dt>AppName</dt>\n",
              "                <dd><code>MP4</code></dd>\n",
              "            </dl>\n",
              "        </div>\n",
              "        \n",
              "            </div>\n",
              "        "
            ]
          },
          "metadata": {},
          "execution_count": 5
        }
      ],
      "source": [
        "spark = SparkSession.builder.appName('MP4').config('spark.ui.port', '4050').getOrCreate()\n",
        "spark"
      ],
      "id": "christian-rental"
    },
    {
      "cell_type": "code",
      "execution_count": null,
      "metadata": {
        "colab": {
          "base_uri": "https://localhost:8080/"
        },
        "id": "_T_48MUWNPIu",
        "outputId": "2efa4fba-29c2-4dfd-ff99-1ff569d195a5"
      },
      "outputs": [
        {
          "output_type": "execute_result",
          "data": {
            "text/plain": [
              "[('spark.app.submitTime', '1707807687490'),\n",
              " ('spark.driver.host', 'b805466963dd'),\n",
              " ('spark.app.startTime', '1707807687841'),\n",
              " ('spark.driver.port', '39525'),\n",
              " ('spark.executor.id', 'driver'),\n",
              " ('spark.sql.warehouse.dir', 'file:/content/spark-warehouse'),\n",
              " ('spark.app.id', 'local-1707807691960'),\n",
              " ('spark.driver.extraJavaOptions',\n",
              "  '-Djava.net.preferIPv6Addresses=false -XX:+IgnoreUnrecognizedVMOptions --add-opens=java.base/java.lang=ALL-UNNAMED --add-opens=java.base/java.lang.invoke=ALL-UNNAMED --add-opens=java.base/java.lang.reflect=ALL-UNNAMED --add-opens=java.base/java.io=ALL-UNNAMED --add-opens=java.base/java.net=ALL-UNNAMED --add-opens=java.base/java.nio=ALL-UNNAMED --add-opens=java.base/java.util=ALL-UNNAMED --add-opens=java.base/java.util.concurrent=ALL-UNNAMED --add-opens=java.base/java.util.concurrent.atomic=ALL-UNNAMED --add-opens=java.base/sun.nio.ch=ALL-UNNAMED --add-opens=java.base/sun.nio.cs=ALL-UNNAMED --add-opens=java.base/sun.security.action=ALL-UNNAMED --add-opens=java.base/sun.util.calendar=ALL-UNNAMED --add-opens=java.security.jgss/sun.security.krb5=ALL-UNNAMED -Djdk.reflect.useDirectMethodHandle=false'),\n",
              " ('spark.ui.port', '4050'),\n",
              " ('spark.rdd.compress', 'True'),\n",
              " ('spark.serializer.objectStreamReset', '100'),\n",
              " ('spark.app.name', 'MP4'),\n",
              " ('spark.master', 'local[*]'),\n",
              " ('spark.submit.pyFiles', ''),\n",
              " ('spark.submit.deployMode', 'client'),\n",
              " ('spark.ui.showConsoleProgress', 'true'),\n",
              " ('spark.executor.extraJavaOptions',\n",
              "  '-Djava.net.preferIPv6Addresses=false -XX:+IgnoreUnrecognizedVMOptions --add-opens=java.base/java.lang=ALL-UNNAMED --add-opens=java.base/java.lang.invoke=ALL-UNNAMED --add-opens=java.base/java.lang.reflect=ALL-UNNAMED --add-opens=java.base/java.io=ALL-UNNAMED --add-opens=java.base/java.net=ALL-UNNAMED --add-opens=java.base/java.nio=ALL-UNNAMED --add-opens=java.base/java.util=ALL-UNNAMED --add-opens=java.base/java.util.concurrent=ALL-UNNAMED --add-opens=java.base/java.util.concurrent.atomic=ALL-UNNAMED --add-opens=java.base/sun.nio.ch=ALL-UNNAMED --add-opens=java.base/sun.nio.cs=ALL-UNNAMED --add-opens=java.base/sun.security.action=ALL-UNNAMED --add-opens=java.base/sun.util.calendar=ALL-UNNAMED --add-opens=java.security.jgss/sun.security.krb5=ALL-UNNAMED -Djdk.reflect.useDirectMethodHandle=false')]"
            ]
          },
          "metadata": {},
          "execution_count": 6
        }
      ],
      "source": [
        "spark.sparkContext._conf.getAll()"
      ],
      "id": "_T_48MUWNPIu"
    },
    {
      "cell_type": "markdown",
      "metadata": {
        "id": "casual-narrative"
      },
      "source": [
        "#### Load the data and infer the schema\n",
        "\n",
        "To load the dataset use the `read.csv` with `inferSchema` and `header` as parameters."
      ],
      "id": "casual-narrative"
    },
    {
      "cell_type": "code",
      "execution_count": null,
      "metadata": {
        "id": "natural-lexington"
      },
      "outputs": [],
      "source": [
        "path = \"/content/US_Airline_Tweets.csv\"\n",
        "df = spark.read.csv(path, header=True, inferSchema=True)"
      ],
      "id": "natural-lexington"
    },
    {
      "cell_type": "code",
      "execution_count": null,
      "metadata": {
        "colab": {
          "base_uri": "https://localhost:8080/"
        },
        "id": "j8Ik4aY3qeQK",
        "outputId": "90de924a-eced-45e3-f4d8-0604b8b4a640"
      },
      "outputs": [
        {
          "output_type": "stream",
          "name": "stdout",
          "text": [
            "+--------------------+-----------------+----------------------------+--------------+-------------------------+--------------+----------------------+---------------+-------------------+-------------+--------------------+-----------+--------------------+--------------------+--------------------+\n",
            "|            tweet_id|airline_sentiment|airline_sentiment_confidence|negativereason|negativereason_confidence|       airline|airline_sentiment_gold|           name|negativereason_gold|retweet_count|                text|tweet_coord|       tweet_created|      tweet_location|       user_timezone|\n",
            "+--------------------+-----------------+----------------------------+--------------+-------------------------+--------------+----------------------+---------------+-------------------+-------------+--------------------+-----------+--------------------+--------------------+--------------------+\n",
            "|  570306133677760513|          neutral|                         1.0|          NULL|                     NULL|Virgin America|                  NULL|        cairdin|               NULL|            0|@VirginAmerica Wh...|       NULL|2015-02-24 11:35:...|                NULL|Eastern Time (US ...|\n",
            "|  570301130888122368|         positive|                      0.3486|          NULL|                      0.0|Virgin America|                  NULL|       jnardino|               NULL|            0|@VirginAmerica pl...|       NULL|2015-02-24 11:15:...|                NULL|Pacific Time (US ...|\n",
            "|  570301083672813571|          neutral|                      0.6837|          NULL|                     NULL|Virgin America|                  NULL|     yvonnalynn|               NULL|            0|@VirginAmerica I ...|       NULL|2015-02-24 11:15:...|           Lets Play|Central Time (US ...|\n",
            "|  570301031407624196|         negative|                         1.0|    Bad Flight|                   0.7033|Virgin America|                  NULL|       jnardino|               NULL|            0|\"@VirginAmerica i...|       NULL|2015-02-24 11:15:...|                NULL|Pacific Time (US ...|\n",
            "|  570300817074462722|         negative|                         1.0|    Can't Tell|                      1.0|Virgin America|                  NULL|       jnardino|               NULL|            0|@VirginAmerica an...|       NULL|2015-02-24 11:14:...|                NULL|Pacific Time (US ...|\n",
            "|  570300767074181121|         negative|                         1.0|    Can't Tell|                   0.6842|Virgin America|                  NULL|       jnardino|               NULL|            0|@VirginAmerica se...|       NULL|                NULL|                NULL|                NULL|\n",
            "|it's really the o...|             NULL|        2015-02-24 11:14:...|          NULL|     Pacific Time (US ...|          NULL|                  NULL|           NULL|               NULL|         NULL|                NULL|       NULL|                NULL|                NULL|                NULL|\n",
            "|  570300616901320704|         positive|                      0.6745|          NULL|                      0.0|Virgin America|                  NULL|     cjmcginnis|               NULL|            0|@VirginAmerica ye...|       NULL|2015-02-24 11:13:...|    San Francisco CA|Pacific Time (US ...|\n",
            "|  570300248553349120|          neutral|                       0.634|          NULL|                     NULL|Virgin America|                  NULL|          pilot|               NULL|            0|@VirginAmerica Re...|       NULL|2015-02-24 11:12:...|         Los Angeles|Pacific Time (US ...|\n",
            "|  570299953286942721|         positive|                      0.6559|          NULL|                     NULL|Virgin America|                  NULL|       dhepburn|               NULL|            0|@virginamerica We...|       NULL|2015-02-24 11:11:...|           San Diego|Pacific Time (US ...|\n",
            "|  570295459631263746|         positive|                         1.0|          NULL|                     NULL|Virgin America|                  NULL|     YupitsTate|               NULL|            0|@VirginAmerica it...|       NULL|2015-02-24 10:53:...|         Los Angeles|Eastern Time (US ...|\n",
            "|  570294189143031808|          neutral|                      0.6769|          NULL|                      0.0|Virgin America|                  NULL|idk_but_youtube|               NULL|            0|@VirginAmerica di...|       NULL|2015-02-24 10:48:...|     1/1 loner squad|Eastern Time (US ...|\n",
            "|  570289724453216256|         positive|                         1.0|          NULL|                     NULL|Virgin America|                  NULL|   HyperCamiLax|               NULL|            0|@VirginAmerica I ...|       NULL|2015-02-24 10:30:...|                 NYC|    America/New_York|\n",
            "|  570289584061480960|         positive|                         1.0|          NULL|                     NULL|Virgin America|                  NULL|   HyperCamiLax|               NULL|            0|@VirginAmerica Th...|       NULL|2015-02-24 10:30:...|                 NYC|    America/New_York|\n",
            "|  570287408438120448|         positive|                      0.6451|          NULL|                     NULL|Virgin America|                  NULL|   mollanderson|               NULL|            0|@VirginAmerica @v...|       NULL|2015-02-24 10:21:...|                NULL|Eastern Time (US ...|\n",
            "|  570285904809598977|         positive|                         1.0|          NULL|                     NULL|Virgin America|                  NULL|       sjespers|               NULL|            0|@VirginAmerica Th...|       NULL|2015-02-24 10:15:...|   San Francisco, CA|Pacific Time (US ...|\n",
            "|  570282469121007616|         negative|                      0.6842|   Late Flight|                   0.3684|Virgin America|                  NULL|smartwatermelon|               NULL|            0|@VirginAmerica SF...|       NULL|2015-02-24 10:01:...|       palo alto, ca|Pacific Time (US ...|\n",
            "|  570277724385734656|         positive|                         1.0|          NULL|                     NULL|Virgin America|                  NULL|  ItzBrianHunty|               NULL|            0|@VirginAmerica So...|       NULL|2015-02-24 09:42:...|         west covina|Pacific Time (US ...|\n",
            "|  570276917301137409|         negative|                         1.0|    Bad Flight|                      1.0|Virgin America|                  NULL|  heatherovieda|               NULL|            0|@VirginAmerica  I...|       NULL|2015-02-24 09:39:...|this place called...|Eastern Time (US ...|\n",
            "|  570270684619923457|         positive|                         1.0|          NULL|                     NULL|Virgin America|                  NULL|   thebrandiray|               NULL|            0|I ❤️ flying @Virg...|       NULL|2015-02-24 09:15:...|Somewhere celebra...|Atlantic Time (Ca...|\n",
            "+--------------------+-----------------+----------------------------+--------------+-------------------------+--------------+----------------------+---------------+-------------------+-------------+--------------------+-----------+--------------------+--------------------+--------------------+\n",
            "only showing top 20 rows\n",
            "\n"
          ]
        }
      ],
      "source": [
        "df.show()"
      ],
      "id": "j8Ik4aY3qeQK"
    },
    {
      "cell_type": "markdown",
      "metadata": {
        "id": "lFZu1AVBHs0X"
      },
      "source": [
        "### EDA & Visualization"
      ],
      "id": "lFZu1AVBHs0X"
    },
    {
      "cell_type": "markdown",
      "metadata": {
        "id": "angry-canyon"
      },
      "source": [
        "#### Visualize the horizontal barplot of airline_sentiment (positive, negative, neutral)\n",
        "\n",
        "Convert the data to handyspark and remove the other records from the column except 3 values mentioned above and plot the graph"
      ],
      "id": "angry-canyon"
    },
    {
      "cell_type": "code",
      "execution_count": null,
      "metadata": {
        "colab": {
          "base_uri": "https://localhost:8080/",
          "height": 489
        },
        "id": "accomplished-crest",
        "outputId": "e3df5163-8e1d-4ab2-cba7-59dfef61a593"
      },
      "outputs": [
        {
          "output_type": "execute_result",
          "data": {
            "text/plain": [
              "<Axes: title={'center': 'airline_sentiment'}, xlabel='airline_sentiment'>"
            ]
          },
          "metadata": {},
          "execution_count": 9
        },
        {
          "output_type": "display_data",
          "data": {
            "text/plain": [
              "<Figure size 640x480 with 1 Axes>"
            ],
            "image/png": "[encoded data removed]"
          },
          "metadata": {}
        }
      ],
      "source": [
        "df_sentiment = df.select(\"*\").where(column(\"airline_sentiment\").isin(\"positive\", \"negative\", \"neutral\"))\n",
        "hdf_sentiment = df_sentiment.toHandy()\n",
        "hdf_sentiment.cols['airline_sentiment'].hist()\n"
      ],
      "id": "accomplished-crest"
    },
    {
      "cell_type": "code",
      "execution_count": null,
      "metadata": {
        "colab": {
          "base_uri": "https://localhost:8080/",
          "height": 487
        },
        "id": "I2yd6BKugGpV",
        "outputId": "ee12c909-130b-4503-f7ed-d768919675ba"
      },
      "outputs": [
        {
          "output_type": "display_data",
          "data": {
            "text/plain": [
              "<Figure size 1000x500 with 1 Axes>"
            ],
            "image/png": "[encoded data removed]"
          },
          "metadata": {}
        }
      ],
      "source": [
        "df_sentiment = df.select(\"airline_sentiment\").where(column(\"airline_sentiment\").isin(\"positive\", \"negative\", \"neutral\"))\n",
        "df_sentiment = df_sentiment.groupby(column('airline_sentiment')).count()\n",
        "list_sentiments_frequency = df_sentiment.rdd.map(lambda x : (x[0], x[1])).take(10)\n",
        "\n",
        "keys, values = zip(*list_sentiments_frequency)\n",
        "\n",
        "plt.figure(figsize=(10,5))\n",
        "plt.barh(keys, values)\n",
        "plt.yticks(keys, fontsize=10, rotation=0)\n",
        "plt.xlabel('No of Tweets', fontsize=10)\n",
        "plt.title(\"No. of Tweets per Sentiment\")\n",
        "plt.show()"
      ],
      "id": "I2yd6BKugGpV"
    },
    {
      "cell_type": "markdown",
      "metadata": {
        "id": "serial-cedar"
      },
      "source": [
        "#### Plot the number of tweets received for each airline"
      ],
      "id": "serial-cedar"
    },
    {
      "cell_type": "code",
      "execution_count": null,
      "metadata": {
        "colab": {
          "base_uri": "https://localhost:8080/",
          "height": 472
        },
        "id": "peripheral-bookmark",
        "outputId": "ed6e58bc-f012-452d-9250-f74191a9e874"
      },
      "outputs": [
        {
          "output_type": "display_data",
          "data": {
            "text/plain": [
              "<Figure size 640x480 with 1 Axes>"
            ],
            "image/png": "[encoded data removed]"
          },
          "metadata": {}
        }
      ],
      "source": [
        "df_tweets = df.select(\"*\").where(column('airline').isNotNull()).groupby(column('airline')).count()\n",
        "df_tweets_airlines = df_tweets.where(column('count') > 10)\n",
        "list_tweets_airlines = df_tweets_airlines.rdd.map(lambda x : (x[0], x[1])).take(10)\n",
        "\n",
        "keys, values = zip(*list_tweets_airlines)\n",
        "\n",
        "plt.barh(keys, values)\n",
        "plt.xlabel(\"Airlines\")\n",
        "plt.ylabel(\"No of Tweets\")\n",
        "plt.title(\"Bar Graph of Airlines and Tweets\")\n",
        "plt.show()"
      ],
      "id": "peripheral-bookmark"
    },
    {
      "cell_type": "markdown",
      "metadata": {
        "id": "surface-major"
      },
      "source": [
        "#### Visualize a stacked barchart of 6 US airlines and 3 sentiments on each bar\n",
        "\n",
        "* Group the sentiment counts for each airline.\n",
        "\n",
        "* Display the count corresponding to each sentiment in each bar."
      ],
      "id": "surface-major"
    },
    {
      "cell_type": "code",
      "execution_count": null,
      "metadata": {
        "colab": {
          "base_uri": "https://localhost:8080/"
        },
        "id": "uLPmHTUBtbKa",
        "outputId": "33bd5eed-ed95-4c04-b802-72d3e7f12a83"
      },
      "outputs": [
        {
          "output_type": "execute_result",
          "data": {
            "text/plain": [
              "['Delta', 'Virgin America', 'United', 'US Airways', 'Southwest', 'American']"
            ]
          },
          "metadata": {},
          "execution_count": 12
        }
      ],
      "source": [
        "df_airline = df.where(column('airline').isNotNull()).groupby(column('airline')).count().where(column('count') > 10)\n",
        "airlines = df_airline.rdd.map(lambda x:x[0]).collect()\n",
        "airlines"
      ],
      "id": "uLPmHTUBtbKa"
    },
    {
      "cell_type": "code",
      "execution_count": null,
      "metadata": {
        "colab": {
          "base_uri": "https://localhost:8080/"
        },
        "id": "FkhT25vtNuz8",
        "outputId": "1ef30f7d-4cc7-4bdc-eba5-ca8c7fea3b10"
      },
      "outputs": [
        {
          "output_type": "stream",
          "name": "stdout",
          "text": [
            "Delta\n",
            "Virgin America\n",
            "United\n",
            "US Airways\n",
            "Southwest\n",
            "American\n"
          ]
        },
        {
          "output_type": "execute_result",
          "data": {
            "text/plain": [
              "([544, 152, 492, 269, 570, 336],\n",
              " [723, 171, 697, 381, 664, 463],\n",
              " [955, 181, 2633, 2263, 1186, 1960])"
            ]
          },
          "metadata": {},
          "execution_count": 13
        }
      ],
      "source": [
        "positive = []\n",
        "negative = []\n",
        "neutral = []\n",
        "\n",
        "for airline in airlines:\n",
        "    print(airline)\n",
        "    df_airline = df.where(column('airline') == airline).groupby(column('airline_sentiment')).agg(count('airline_sentiment'))\n",
        "    airline_stats = df_airline.rdd.map(lambda x : (x[0], x[1])).collect()\n",
        "    positive.append(airline_stats[0][1])\n",
        "    negative.append(airline_stats[1][1])\n",
        "    neutral.append(airline_stats[2][1])\n",
        "\n",
        "positive, negative, neutral"
      ],
      "id": "FkhT25vtNuz8"
    },
    {
      "cell_type": "code",
      "execution_count": null,
      "metadata": {
        "colab": {
          "base_uri": "https://localhost:8080/",
          "height": 603
        },
        "id": "6_-MOLTXlANx",
        "outputId": "b6ff9c51-c74d-47e4-8f4d-04d6e99c9162"
      },
      "outputs": [
        {
          "output_type": "display_data",
          "data": {
            "text/plain": [
              "<Figure size 1000x700 with 1 Axes>"
            ],
            "image/png": "[encoded data removed]"
          },
          "metadata": {}
        }
      ],
      "source": [
        "import numpy as np\n",
        "import matplotlib.pyplot as plt\n",
        "#Get values from the group and categories\n",
        "# airlines, positive, negative, neutral\n",
        "#add colors\n",
        "colors = ['#FF9999', '#00BFFF','#C1FFC1','#CAE1FF','#FFDEAD']\n",
        "# The position of the bars on the x-axis\n",
        "r = range(len(airlines))\n",
        "barWidth = 1\n",
        "#plot bars\n",
        "plt.figure(figsize=(10,7))\n",
        "ax1 = plt.bar(r, positive, color=colors[0], edgecolor='white', width=barWidth, label=\"positive\")\n",
        "ax2 = plt.bar(r, negative, bottom=np.array(positive), color=colors[1], edgecolor='white', width=barWidth, label='negative')\n",
        "ax3 = plt.bar(r, neutral, bottom=np.array(positive)+np.array(negative), color=colors[2], edgecolor='white', width=barWidth, label='neutral')\n",
        "plt.legend()\n",
        "# Custom X axis\n",
        "plt.xticks(r, airlines, fontweight='bold')\n",
        "plt.ylabel(\"sales\")\n",
        "# plt.savefig(\"stacked1.png\")\n",
        "\n",
        "for r1, r2, r3 in zip(ax1, ax2, ax3):\n",
        "    h1 = r1.get_height()\n",
        "    h2 = r2.get_height()\n",
        "    h3 = r3.get_height()\n",
        "    plt.text(r1.get_x() + r1.get_width() / 2., h1 / 2., \"%d\" % h1, ha=\"center\", va=\"center\", color=\"black\", fontsize=12)\n",
        "    plt.text(r2.get_x() + r2.get_width() / 2., h1 + h2 / 2., \"%d\" % h2, ha=\"center\", va=\"center\", color=\"black\", fontsize=12)\n",
        "    plt.text(r3.get_x() + r3.get_width() / 2., h1 + h2 + h3 / 2., \"%d\" % h3, ha=\"center\", va=\"center\", color=\"black\", fontsize=12)\n",
        "\n",
        "plt.show()"
      ],
      "id": "6_-MOLTXlANx"
    },
    {
      "cell_type": "markdown",
      "metadata": {
        "id": "ahead-control"
      },
      "source": [
        "#### Visualize the horizontal barplot of negative reasons"
      ],
      "id": "ahead-control"
    },
    {
      "cell_type": "code",
      "execution_count": null,
      "metadata": {
        "colab": {
          "base_uri": "https://localhost:8080/",
          "height": 472
        },
        "id": "coordinate-rough",
        "outputId": "6e2d353f-3c7a-4829-fab1-f566f486bab4"
      },
      "outputs": [
        {
          "output_type": "display_data",
          "data": {
            "text/plain": [
              "<Figure size 640x480 with 1 Axes>"
            ],
            "image/png": "[encoded data removed]"
          },
          "metadata": {}
        }
      ],
      "source": [
        "df_negativereason = df.where(column('negativereason').isNotNull()).groupby(column('negativereason')).count().where(column('count') > 5)\n",
        "\n",
        "list_negativereasons = df_negativereason.rdd.map(lambda x : (x[0], x[1])).take(20)\n",
        "keys, values = zip(*list_negativereasons)\n",
        "\n",
        "plt.barh(keys, values)\n",
        "plt.xlabel(\"Count of Tweets\")\n",
        "plt.ylabel(\"Negative Reasons\")\n",
        "plt.title(\"Bar Graph of Negative Reason Count\")\n",
        "plt.show()"
      ],
      "id": "coordinate-rough"
    },
    {
      "cell_type": "markdown",
      "metadata": {
        "id": "3qwi5krQH1Q3"
      },
      "source": [
        "### Pre-processing"
      ],
      "id": "3qwi5krQH1Q3"
    },
    {
      "cell_type": "markdown",
      "metadata": {
        "id": "pharmaceutical-agency"
      },
      "source": [
        "#### Check the null values and drop the records where the text value is null"
      ],
      "id": "pharmaceutical-agency"
    },
    {
      "cell_type": "code",
      "execution_count": null,
      "metadata": {
        "colab": {
          "base_uri": "https://localhost:8080/"
        },
        "id": "qTBC_7dWBiG-",
        "outputId": "90ccc4a6-9c01-4911-d7e1-0d27a6a33a96"
      },
      "outputs": [
        {
          "output_type": "stream",
          "name": "stdout",
          "text": [
            "14632\n"
          ]
        }
      ],
      "source": [
        "# Drop the records where text value is null\n",
        "df_clean_text = df.where(col('text').isNotNull())\n",
        "print(df_clean_text.count())\n"
      ],
      "id": "qTBC_7dWBiG-"
    },
    {
      "cell_type": "code",
      "execution_count": null,
      "metadata": {
        "colab": {
          "base_uri": "https://localhost:8080/"
        },
        "id": "VpiE1gE5CopR",
        "outputId": "78db6c66-e96d-48a3-a2cb-20349590b193"
      },
      "outputs": [
        {
          "output_type": "stream",
          "name": "stdout",
          "text": [
            "tweet_id 14632\n",
            "airline_sentiment 14632\n",
            "airline_sentiment_confidence 14632\n",
            "negativereason 9170\n",
            "negativereason_confidence 10514\n",
            "airline 14632\n",
            "airline_sentiment_gold 32\n",
            "name 14632\n",
            "negativereason_gold 24\n",
            "retweet_count 14632\n",
            "text 14632\n",
            "tweet_coord 1069\n",
            "tweet_created 14448\n",
            "tweet_location 9827\n",
            "user_timezone 9734\n",
            "\n",
            "Col dropped: airline_sentiment_gold\n",
            "Col dropped: negativereason_gold\n",
            "Col dropped: tweet_coord\n",
            "+------------------+-----------------+----------------------------+--------------+-------------------------+--------------+----------+-------------+--------------------+--------------------+--------------+--------------------+\n",
            "|          tweet_id|airline_sentiment|airline_sentiment_confidence|negativereason|negativereason_confidence|       airline|      name|retweet_count|                text|       tweet_created|tweet_location|       user_timezone|\n",
            "+------------------+-----------------+----------------------------+--------------+-------------------------+--------------+----------+-------------+--------------------+--------------------+--------------+--------------------+\n",
            "|570306133677760513|          neutral|                         1.0|          NULL|                     NULL|Virgin America|   cairdin|            0|@VirginAmerica Wh...|2015-02-24 11:35:...|          NULL|Eastern Time (US ...|\n",
            "|570301130888122368|         positive|                      0.3486|          NULL|                      0.0|Virgin America|  jnardino|            0|@VirginAmerica pl...|2015-02-24 11:15:...|          NULL|Pacific Time (US ...|\n",
            "|570301083672813571|          neutral|                      0.6837|          NULL|                     NULL|Virgin America|yvonnalynn|            0|@VirginAmerica I ...|2015-02-24 11:15:...|     Lets Play|Central Time (US ...|\n",
            "|570301031407624196|         negative|                         1.0|    Bad Flight|                   0.7033|Virgin America|  jnardino|            0|\"@VirginAmerica i...|2015-02-24 11:15:...|          NULL|Pacific Time (US ...|\n",
            "|570300817074462722|         negative|                         1.0|    Can't Tell|                      1.0|Virgin America|  jnardino|            0|@VirginAmerica an...|2015-02-24 11:14:...|          NULL|Pacific Time (US ...|\n",
            "+------------------+-----------------+----------------------------+--------------+-------------------------+--------------+----------+-------------+--------------------+--------------------+--------------+--------------------+\n",
            "only showing top 5 rows\n",
            "\n"
          ]
        }
      ],
      "source": [
        "def display_column_element_counts(df):\n",
        "    col_names = df.columns\n",
        "    for name in col_names:\n",
        "        count = df.filter(~column(name).isNull()).count()\n",
        "        print(name, count)\n",
        "    print()\n",
        "\n",
        "def drop_cols_below_threshold(df, threshold):\n",
        "    col_names = df.columns\n",
        "    for name in col_names:\n",
        "        count = df.filter(~column(name).isNull()).count()\n",
        "        if (count < threshold):\n",
        "            print(f\"Col dropped: {name}\")\n",
        "            df = df.drop(name)\n",
        "    return df\n",
        "\n",
        "# Display dataframe elements in each column\n",
        "display_column_element_counts(df_clean_text)\n",
        "\n",
        "# Dropping columns with less than 1100 entries\n",
        "df_clean_labels = drop_cols_below_threshold(df_clean_text, 1100)\n",
        "\n",
        "# df_clean = df_clean_labels.drop(cols_to_drop[0], cols_to_drop[1])\n",
        "df_clean_labels.show(5)"
      ],
      "id": "VpiE1gE5CopR"
    },
    {
      "cell_type": "markdown",
      "metadata": {
        "id": "convinced-batch"
      },
      "source": [
        "#### Fill the null values with 0 in all the columns except the target\n",
        "\n",
        "The target should not be empty. Ensure that all features are integer type, convert if needed."
      ],
      "id": "convinced-batch"
    },
    {
      "cell_type": "code",
      "execution_count": null,
      "metadata": {
        "colab": {
          "base_uri": "https://localhost:8080/"
        },
        "id": "anVWj4W3RCFH",
        "outputId": "9c450ec9-5a9c-4b28-e315-98fba5cfdb1d"
      },
      "outputs": [
        {
          "output_type": "execute_result",
          "data": {
            "text/plain": [
              "[('tweet_id', 'string'),\n",
              " ('airline_sentiment', 'string'),\n",
              " ('airline_sentiment_confidence', 'float'),\n",
              " ('negativereason', 'string'),\n",
              " ('negativereason_confidence', 'float'),\n",
              " ('airline', 'string'),\n",
              " ('name', 'string'),\n",
              " ('retweet_count', 'float'),\n",
              " ('text', 'string'),\n",
              " ('tweet_created', 'string'),\n",
              " ('tweet_location', 'string'),\n",
              " ('user_timezone', 'string')]"
            ]
          },
          "metadata": {},
          "execution_count": 18
        }
      ],
      "source": [
        "# df_clean_labels.dtypes\n",
        "numeric_cols = ['airline_sentiment_confidence','negativereason_confidence','retweet_count']\n",
        "for i in range(len(numeric_cols)):\n",
        "    df_clean_labels = df_clean_labels.withColumn(numeric_cols[i], col(numeric_cols[i]).cast(\"float\"))\n",
        "\n",
        "df_clean_labels.dtypes"
      ],
      "id": "anVWj4W3RCFH"
    },
    {
      "cell_type": "code",
      "execution_count": null,
      "metadata": {
        "colab": {
          "base_uri": "https://localhost:8080/"
        },
        "id": "fC4x5l8ISoAf",
        "outputId": "1f3cb7ca-aa6c-4173-fd42-25df40261626"
      },
      "outputs": [
        {
          "output_type": "stream",
          "name": "stdout",
          "text": [
            "tweet_id 14632\n",
            "airline_sentiment 14632\n",
            "airline_sentiment_confidence 14632\n",
            "negativereason 9170\n",
            "negativereason_confidence 14632\n",
            "airline 14632\n",
            "name 14632\n",
            "retweet_count 14632\n",
            "text 14632\n",
            "tweet_created 14448\n",
            "tweet_location 9827\n",
            "user_timezone 9734\n",
            "\n"
          ]
        }
      ],
      "source": [
        "# Replaced NULL values with 0s in numeric columns\n",
        "df_clean_labels = df_clean_labels.fillna(0, subset=numeric_cols)\n",
        "display_column_element_counts(df_clean_labels)\n",
        "\n",
        "non_null_df = df_clean_labels"
      ],
      "id": "fC4x5l8ISoAf"
    },
    {
      "cell_type": "markdown",
      "metadata": {
        "id": "first-david"
      },
      "source": [
        "#### Preprocessing and cleaning the tweets\n",
        "\n",
        "* Convert the text to lower case\n",
        "* Remove usernames, hashtags and links from the text (tweets)"
      ],
      "id": "first-david"
    },
    {
      "cell_type": "code",
      "execution_count": null,
      "metadata": {
        "colab": {
          "base_uri": "https://localhost:8080/"
        },
        "id": "studied-blowing",
        "outputId": "c6f9a7ec-6b09-46e8-9e6f-1847c0162df5"
      },
      "outputs": [
        {
          "output_type": "stream",
          "name": "stdout",
          "text": [
            "+------------------+-----------------+----------------------------+--------------+-------------------------+--------------+----------+-------------+----------------------------------------------------------------------------------------------------------------------------------+-------------------------+--------------+--------------------------+--------------------------------------------------------------------------------------------------------------------+\n",
            "|tweet_id          |airline_sentiment|airline_sentiment_confidence|negativereason|negativereason_confidence|airline       |name      |retweet_count|text                                                                                                                              |tweet_created            |tweet_location|user_timezone             |text_new                                                                                                            |\n",
            "+------------------+-----------------+----------------------------+--------------+-------------------------+--------------+----------+-------------+----------------------------------------------------------------------------------------------------------------------------------+-------------------------+--------------+--------------------------+--------------------------------------------------------------------------------------------------------------------+\n",
            "|570306133677760513|neutral          |1.0                         |NULL          |0.0                      |Virgin America|cairdin   |0.0          |@VirginAmerica What @dhepburn said.                                                                                               |2015-02-24 11:35:52 -0800|NULL          |Eastern Time (US & Canada)|what  said.                                                                                                         |\n",
            "|570301130888122368|positive         |0.3486                      |NULL          |0.0                      |Virgin America|jnardino  |0.0          |@VirginAmerica plus you've added commercials to the experience... tacky.                                                          |2015-02-24 11:15:59 -0800|NULL          |Pacific Time (US & Canada)|plus you've added commercials to the experience... tacky.                                                           |\n",
            "|570301083672813571|neutral          |0.6837                      |NULL          |0.0                      |Virgin America|yvonnalynn|0.0          |@VirginAmerica I didn't today... Must mean I need to take another trip!                                                           |2015-02-24 11:15:48 -0800|Lets Play     |Central Time (US & Canada)|i didn't today... must mean i need to take another trip!                                                            |\n",
            "|570301031407624196|negative         |1.0                         |Bad Flight    |0.7033                   |Virgin America|jnardino  |0.0          |\"@VirginAmerica it's really aggressive to blast obnoxious \"\"entertainment\"\" in your guests' faces &amp; they have little recourse\"|2015-02-24 11:15:36 -0800|NULL          |Pacific Time (US & Canada)|\" it's really aggressive to blast obnoxious \"\"entertainment\"\" in your guests' faces &amp; they have little recourse\"|\n",
            "|570300817074462722|negative         |1.0                         |Can't Tell    |1.0                      |Virgin America|jnardino  |0.0          |@VirginAmerica and it's a really big bad thing about it                                                                           |2015-02-24 11:14:45 -0800|NULL          |Pacific Time (US & Canada)|and it's a really big bad thing about it                                                                            |\n",
            "+------------------+-----------------+----------------------------+--------------+-------------------------+--------------+----------+-------------+----------------------------------------------------------------------------------------------------------------------------------+-------------------------+--------------+--------------------------+--------------------------------------------------------------------------------------------------------------------+\n",
            "only showing top 5 rows\n",
            "\n"
          ]
        }
      ],
      "source": [
        "non_null_df = non_null_df.withColumn('text_new', lower(col('text')))\n",
        "\n",
        "username_pattern = r\"@\\w+\"\n",
        "hashtag_pattern = r\"#\\w+\"\n",
        "link_pattern = r\"http[s]?://\\S+\"\n",
        "\n",
        "non_null_df = non_null_df.withColumn('text_new', regexp_replace(col('text_new'), username_pattern, ''))\n",
        "non_null_df = non_null_df.withColumn('text_new', regexp_replace(col('text_new'), hashtag_pattern, ''))\n",
        "non_null_df = non_null_df.withColumn('text_new', regexp_replace(col('text_new'), link_pattern, ''))\n",
        "\n",
        "non_null_df = non_null_df.withColumn('text_new', trim(col('text_new')))\n",
        "\n",
        "non_null_df.select('*').show(5, truncate=False)"
      ],
      "id": "studied-blowing"
    },
    {
      "cell_type": "markdown",
      "metadata": {
        "id": "subtle-spain"
      },
      "source": [
        "#### Tokenize each sentence into words using nltk word tokenizer"
      ],
      "id": "subtle-spain"
    },
    {
      "cell_type": "code",
      "execution_count": null,
      "metadata": {
        "id": "yellow-wholesale"
      },
      "outputs": [],
      "source": [
        "word_udf = udf(lambda x: word_tokenize(x), ArrayType(StringType()))\n",
        "non_null_df = non_null_df.withColumn(\"words\", word_udf(\"text_new\"))"
      ],
      "id": "yellow-wholesale"
    },
    {
      "cell_type": "code",
      "execution_count": null,
      "metadata": {
        "colab": {
          "base_uri": "https://localhost:8080/"
        },
        "id": "4at1ypAUGl2r",
        "outputId": "bb162cea-3b49-4c1b-af56-1c3f192718c3"
      },
      "outputs": [
        {
          "output_type": "stream",
          "name": "stdout",
          "text": [
            "+------------------+-----------------+----------------------------+--------------+-------------------------+--------------+----------+-------------+----------------------------------------------------------------------------------------------------------------------------------+-------------------------+--------------+--------------------------+--------------------------------------------------------------------------------------------------------------------+--------------------------------------------------------------------------------------------------------------------------------------------------------------+\n",
            "|tweet_id          |airline_sentiment|airline_sentiment_confidence|negativereason|negativereason_confidence|airline       |name      |retweet_count|text                                                                                                                              |tweet_created            |tweet_location|user_timezone             |text_new                                                                                                            |words                                                                                                                                                         |\n",
            "+------------------+-----------------+----------------------------+--------------+-------------------------+--------------+----------+-------------+----------------------------------------------------------------------------------------------------------------------------------+-------------------------+--------------+--------------------------+--------------------------------------------------------------------------------------------------------------------+--------------------------------------------------------------------------------------------------------------------------------------------------------------+\n",
            "|570306133677760513|neutral          |1.0                         |NULL          |0.0                      |Virgin America|cairdin   |0.0          |@VirginAmerica What @dhepburn said.                                                                                               |2015-02-24 11:35:52 -0800|NULL          |Eastern Time (US & Canada)|what  said.                                                                                                         |[what, said, .]                                                                                                                                               |\n",
            "|570301130888122368|positive         |0.3486                      |NULL          |0.0                      |Virgin America|jnardino  |0.0          |@VirginAmerica plus you've added commercials to the experience... tacky.                                                          |2015-02-24 11:15:59 -0800|NULL          |Pacific Time (US & Canada)|plus you've added commercials to the experience... tacky.                                                           |[plus, you, 've, added, commercials, to, the, experience, ..., tacky, .]                                                                                      |\n",
            "|570301083672813571|neutral          |0.6837                      |NULL          |0.0                      |Virgin America|yvonnalynn|0.0          |@VirginAmerica I didn't today... Must mean I need to take another trip!                                                           |2015-02-24 11:15:48 -0800|Lets Play     |Central Time (US & Canada)|i didn't today... must mean i need to take another trip!                                                            |[i, did, n't, today, ..., must, mean, i, need, to, take, another, trip, !]                                                                                    |\n",
            "|570301031407624196|negative         |1.0                         |Bad Flight    |0.7033                   |Virgin America|jnardino  |0.0          |\"@VirginAmerica it's really aggressive to blast obnoxious \"\"entertainment\"\" in your guests' faces &amp; they have little recourse\"|2015-02-24 11:15:36 -0800|NULL          |Pacific Time (US & Canada)|\" it's really aggressive to blast obnoxious \"\"entertainment\"\" in your guests' faces &amp; they have little recourse\"|[``, it, 's, really, aggressive, to, blast, obnoxious, ``, '', entertainment, '', '', in, your, guests, ', faces, &, amp, ;, they, have, little, recourse, '']|\n",
            "|570300817074462722|negative         |1.0                         |Can't Tell    |1.0                      |Virgin America|jnardino  |0.0          |@VirginAmerica and it's a really big bad thing about it                                                                           |2015-02-24 11:14:45 -0800|NULL          |Pacific Time (US & Canada)|and it's a really big bad thing about it                                                                            |[and, it, 's, a, really, big, bad, thing, about, it]                                                                                                          |\n",
            "+------------------+-----------------+----------------------------+--------------+-------------------------+--------------+----------+-------------+----------------------------------------------------------------------------------------------------------------------------------+-------------------------+--------------+--------------------------+--------------------------------------------------------------------------------------------------------------------+--------------------------------------------------------------------------------------------------------------------------------------------------------------+\n",
            "only showing top 5 rows\n",
            "\n"
          ]
        }
      ],
      "source": [
        "non_null_df.select('*').show(5, truncate=False)"
      ],
      "id": "4at1ypAUGl2r"
    },
    {
      "cell_type": "markdown",
      "metadata": {
        "id": "recognized-wrist"
      },
      "source": [
        "#### Remove the stopwords from tokenized words"
      ],
      "id": "recognized-wrist"
    },
    {
      "cell_type": "code",
      "execution_count": null,
      "metadata": {
        "colab": {
          "base_uri": "https://localhost:8080/"
        },
        "id": "scientific-guinea",
        "outputId": "585ef3e2-3deb-40dd-84d6-16096f10c7bd"
      },
      "outputs": [
        {
          "output_type": "stream",
          "name": "stdout",
          "text": [
            "{'itself', 'was', 'o', 'as', 'his', 'down', 'doesn', 'here', 'being', 'until', 'some', 'will', 'after', 'own', 'out', 'did', 'and', 'm', 's', 'again', 'only', 'at', 'there', 'll', 'all', 'my', 'are', 'below', 'me', 'this', 'for', 'doing', 'does', 'so', 'herself', 'then', 'not', 'needn', 'who', 'didn', 'yours', 'the', \"she's\", 'him', 'd', \"won't\", 'once', 'hers', 'an', \"you'd\", 'same', 'wouldn', 'ours', \"mightn't\", 'each', 'or', \"shan't\", 'has', \"weren't\", 'before', \"mustn't\", \"should've\", \"couldn't\", 'wasn', 'just', 'about', \"you've\", 'should', 'both', \"didn't\", 'haven', 'theirs', 'between', 'above', 'what', 'through', 'couldn', 'i', 'up', 'few', 'during', 'to', 'too', \"wasn't\", 'their', 'but', 'by', 'mightn', 'have', 'under', 'while', 'yourselves', 'won', 'if', 'myself', 'over', 'those', 'am', \"don't\", 'your', 're', 'further', 'whom', 'weren', 'we', 'shouldn', 'yourself', 'than', 'ain', \"hasn't\", 'such', \"aren't\", \"that'll\", 'more', 'them', 'were', 'no', 'which', 'very', 'why', 'had', 'because', 'these', 'isn', 'into', 'how', 'of', 'that', 'mustn', 'from', 'you', 'aren', 'himself', 'against', 'on', 'where', 'she', 'do', 'our', \"shouldn't\", 'they', \"you're\", 'with', 'when', 'is', 't', \"it's\", 'most', 'been', 'y', 'now', 'themselves', 'nor', 'other', 'ma', \"haven't\", 'off', 've', \"needn't\", \"you'll\", 'ourselves', \"doesn't\", 'a', 'having', 'be', 'in', 'any', 'hasn', 'shan', 'don', 'can', 'hadn', \"isn't\", 'its', 'he', 'it', \"hadn't\", 'her', \"wouldn't\"}\n",
            "!\"#$%&'()*+,-./:;<=>?@[\\]^_`{|}~\n"
          ]
        }
      ],
      "source": [
        "stop_words = set(stopwords.words('english'))\n",
        "print(stop_words)\n",
        "punctuation = string.punctuation\n",
        "print(punctuation)"
      ],
      "id": "scientific-guinea"
    },
    {
      "cell_type": "code",
      "execution_count": null,
      "metadata": {
        "colab": {
          "base_uri": "https://localhost:8080/"
        },
        "id": "pleased-skiing",
        "outputId": "e095f948-9918-47a8-d1aa-5d15fb517251"
      },
      "outputs": [
        {
          "output_type": "stream",
          "name": "stdout",
          "text": [
            "+------------------+-----------------+----------------------------+--------------+-------------------------+--------------+----------+-------------+----------------------------------------------------------------------------------------------------------------------------------+-------------------------+--------------+--------------------------+--------------------------------------------------------------------------------------------------------------------+-----------------------------------------------------------------------------------------------------------------------+\n",
            "|tweet_id          |airline_sentiment|airline_sentiment_confidence|negativereason|negativereason_confidence|airline       |name      |retweet_count|text                                                                                                                              |tweet_created            |tweet_location|user_timezone             |text_new                                                                                                            |words                                                                                                                  |\n",
            "+------------------+-----------------+----------------------------+--------------+-------------------------+--------------+----------+-------------+----------------------------------------------------------------------------------------------------------------------------------+-------------------------+--------------+--------------------------+--------------------------------------------------------------------------------------------------------------------+-----------------------------------------------------------------------------------------------------------------------+\n",
            "|570306133677760513|neutral          |1.0                         |NULL          |0.0                      |Virgin America|cairdin   |0.0          |@VirginAmerica What @dhepburn said.                                                                                               |2015-02-24 11:35:52 -0800|NULL          |Eastern Time (US & Canada)|what  said.                                                                                                         |[said]                                                                                                                 |\n",
            "|570301130888122368|positive         |0.3486                      |NULL          |0.0                      |Virgin America|jnardino  |0.0          |@VirginAmerica plus you've added commercials to the experience... tacky.                                                          |2015-02-24 11:15:59 -0800|NULL          |Pacific Time (US & Canada)|plus you've added commercials to the experience... tacky.                                                           |[plus, 've, added, commercials, experience, ..., tacky]                                                                |\n",
            "|570301083672813571|neutral          |0.6837                      |NULL          |0.0                      |Virgin America|yvonnalynn|0.0          |@VirginAmerica I didn't today... Must mean I need to take another trip!                                                           |2015-02-24 11:15:48 -0800|Lets Play     |Central Time (US & Canada)|i didn't today... must mean i need to take another trip!                                                            |[n't, today, ..., must, mean, need, take, another, trip]                                                               |\n",
            "|570301031407624196|negative         |1.0                         |Bad Flight    |0.7033                   |Virgin America|jnardino  |0.0          |\"@VirginAmerica it's really aggressive to blast obnoxious \"\"entertainment\"\" in your guests' faces &amp; they have little recourse\"|2015-02-24 11:15:36 -0800|NULL          |Pacific Time (US & Canada)|\" it's really aggressive to blast obnoxious \"\"entertainment\"\" in your guests' faces &amp; they have little recourse\"|[``, 's, really, aggressive, blast, obnoxious, ``, '', entertainment, '', '', guests, faces, amp, little, recourse, '']|\n",
            "|570300817074462722|negative         |1.0                         |Can't Tell    |1.0                      |Virgin America|jnardino  |0.0          |@VirginAmerica and it's a really big bad thing about it                                                                           |2015-02-24 11:14:45 -0800|NULL          |Pacific Time (US & Canada)|and it's a really big bad thing about it                                                                            |['s, really, big, bad, thing]                                                                                          |\n",
            "+------------------+-----------------+----------------------------+--------------+-------------------------+--------------+----------+-------------+----------------------------------------------------------------------------------------------------------------------------------+-------------------------+--------------+--------------------------+--------------------------------------------------------------------------------------------------------------------+-----------------------------------------------------------------------------------------------------------------------+\n",
            "only showing top 5 rows\n",
            "\n"
          ]
        }
      ],
      "source": [
        "punct_udf = udf(lambda x: [w for w in x if not w.lower() in punctuation if not w.lower() in stop_words])\n",
        "non_null_df = non_null_df.withColumn(\"words\", punct_udf(\"words\"))\n",
        "non_null_df.show(5,truncate= False)"
      ],
      "id": "pleased-skiing"
    },
    {
      "cell_type": "markdown",
      "metadata": {
        "id": "persistent-projection"
      },
      "source": [
        "#### Apply Lemmatization to the words"
      ],
      "id": "persistent-projection"
    },
    {
      "cell_type": "code",
      "execution_count": null,
      "metadata": {
        "colab": {
          "base_uri": "https://localhost:8080/"
        },
        "id": "gjbliQVoSD1b",
        "outputId": "17206d72-bde3-4ff0-b7ab-34e62d375476"
      },
      "outputs": [
        {
          "output_type": "stream",
          "name": "stdout",
          "text": [
            "+------------------+-----------------+----------------------------+--------------+-------------------------+--------------+---------------+-------------+--------------------+--------------------+--------------------+--------------------+--------------------+--------------------+\n",
            "|          tweet_id|airline_sentiment|airline_sentiment_confidence|negativereason|negativereason_confidence|       airline|           name|retweet_count|                text|       tweet_created|      tweet_location|       user_timezone|            text_new|               words|\n",
            "+------------------+-----------------+----------------------------+--------------+-------------------------+--------------+---------------+-------------+--------------------+--------------------+--------------------+--------------------+--------------------+--------------------+\n",
            "|570306133677760513|          neutral|                         1.0|          NULL|                      0.0|Virgin America|        cairdin|          0.0|@VirginAmerica Wh...|2015-02-24 11:35:...|                NULL|Eastern Time (US ...|         what  said.|              [said]|\n",
            "|570301130888122368|         positive|                      0.3486|          NULL|                      0.0|Virgin America|       jnardino|          0.0|@VirginAmerica pl...|2015-02-24 11:15:...|                NULL|Pacific Time (US ...|plus you've added...|[plus, 've, added...|\n",
            "|570301083672813571|          neutral|                      0.6837|          NULL|                      0.0|Virgin America|     yvonnalynn|          0.0|@VirginAmerica I ...|2015-02-24 11:15:...|           Lets Play|Central Time (US ...|i didn't today......|[n't, today, ...,...|\n",
            "|570301031407624196|         negative|                         1.0|    Bad Flight|                   0.7033|Virgin America|       jnardino|          0.0|\"@VirginAmerica i...|2015-02-24 11:15:...|                NULL|Pacific Time (US ...|\" it's really agg...|[``, 's, really, ...|\n",
            "|570300817074462722|         negative|                         1.0|    Can't Tell|                      1.0|Virgin America|       jnardino|          0.0|@VirginAmerica an...|2015-02-24 11:14:...|                NULL|Pacific Time (US ...|and it's a really...|['s, really, big,...|\n",
            "|570300767074181121|         negative|                         1.0|    Can't Tell|                   0.6842|Virgin America|       jnardino|          0.0|@VirginAmerica se...|                NULL|                NULL|                NULL|seriously would p...|[seriously, would...|\n",
            "|570300616901320704|         positive|                      0.6745|          NULL|                      0.0|Virgin America|     cjmcginnis|          0.0|@VirginAmerica ye...|2015-02-24 11:13:...|    San Francisco CA|Pacific Time (US ...|yes, nearly every...|[yes, nearly, eve...|\n",
            "|570300248553349120|          neutral|                       0.634|          NULL|                      0.0|Virgin America|          pilot|          0.0|@VirginAmerica Re...|2015-02-24 11:12:...|         Los Angeles|Pacific Time (US ...|really missed a p...|[really, missed, ...|\n",
            "|570299953286942721|         positive|                      0.6559|          NULL|                      0.0|Virgin America|       dhepburn|          0.0|@virginamerica We...|2015-02-24 11:11:...|           San Diego|Pacific Time (US ...|well, i didn't…bu...|[well, didn't…but...|\n",
            "|570295459631263746|         positive|                         1.0|          NULL|                      0.0|Virgin America|     YupitsTate|          0.0|@VirginAmerica it...|2015-02-24 10:53:...|         Los Angeles|Eastern Time (US ...|it was amazing, a...|[amazing, arrived...|\n",
            "|570294189143031808|          neutral|                      0.6769|          NULL|                      0.0|Virgin America|idk_but_youtube|          0.0|@VirginAmerica di...|2015-02-24 10:48:...|     1/1 loner squad|Eastern Time (US ...|did you know that...|[know, suicide, s...|\n",
            "|570289724453216256|         positive|                         1.0|          NULL|                      0.0|Virgin America|   HyperCamiLax|          0.0|@VirginAmerica I ...|2015-02-24 10:30:...|                 NYC|    America/New_York|i &lt;3 pretty gr...|[lt, 3, pretty, g...|\n",
            "|570289584061480960|         positive|                         1.0|          NULL|                      0.0|Virgin America|   HyperCamiLax|          0.0|@VirginAmerica Th...|2015-02-24 10:30:...|                 NYC|    America/New_York|this is such a gr...|[great, deal, alr...|\n",
            "|570287408438120448|         positive|                      0.6451|          NULL|                      0.0|Virgin America|   mollanderson|          0.0|@VirginAmerica @v...|2015-02-24 10:21:...|                NULL|Eastern Time (US ...|i'm flying your  ...|['m, flying, skie...|\n",
            "|570285904809598977|         positive|                         1.0|          NULL|                      0.0|Virgin America|       sjespers|          0.0|@VirginAmerica Th...|2015-02-24 10:15:...|   San Francisco, CA|Pacific Time (US ...|             thanks!|            [thanks]|\n",
            "|570282469121007616|         negative|                      0.6842|   Late Flight|                   0.3684|Virgin America|smartwatermelon|          0.0|@VirginAmerica SF...|2015-02-24 10:01:...|       palo alto, ca|Pacific Time (US ...|sfo-pdx schedule ...|[sfo-pdx, schedul...|\n",
            "|570277724385734656|         positive|                         1.0|          NULL|                      0.0|Virgin America|  ItzBrianHunty|          0.0|@VirginAmerica So...|2015-02-24 09:42:...|         west covina|Pacific Time (US ...|so excited for my...|[excited, first, ...|\n",
            "|570276917301137409|         negative|                         1.0|    Bad Flight|                      1.0|Virgin America|  heatherovieda|          0.0|@VirginAmerica  I...|2015-02-24 09:39:...|this place called...|Eastern Time (US ...|i flew from nyc t...|[flew, nyc, sfo, ...|\n",
            "|570270684619923457|         positive|                         1.0|          NULL|                      0.0|Virgin America|   thebrandiray|          0.0|I ❤️ flying @Virg...|2015-02-24 09:15:...|Somewhere celebra...|Atlantic Time (Ca...|  i ❤️ flying . ☺️👍|  [❤️, flying, ☺️👍]|\n",
            "|570267956648792064|         positive|                         1.0|          NULL|                      0.0|Virgin America|      JNLpierce|          0.0|@VirginAmerica yo...|2015-02-24 09:04:...|    Boston | Waltham|               Quito|you know what wou...|[know, would, ama...|\n",
            "+------------------+-----------------+----------------------------+--------------+-------------------------+--------------+---------------+-------------+--------------------+--------------------+--------------------+--------------------+--------------------+--------------------+\n",
            "only showing top 20 rows\n",
            "\n"
          ]
        }
      ],
      "source": [
        "non_null_df.show()"
      ],
      "id": "gjbliQVoSD1b"
    },
    {
      "cell_type": "code",
      "execution_count": null,
      "metadata": {
        "colab": {
          "base_uri": "https://localhost:8080/"
        },
        "id": "asian-parade",
        "outputId": "a4322955-0125-480f-bb0e-489d97b3c098"
      },
      "outputs": [
        {
          "output_type": "stream",
          "name": "stdout",
          "text": [
            "+---------------------------------------------------------------------------------------------------------------------+\n",
            "|lemmatized_words                                                                                                     |\n",
            "+---------------------------------------------------------------------------------------------------------------------+\n",
            "|[said]                                                                                                               |\n",
            "|[plus, 've, added, commercial, experience, ..., tacky]                                                               |\n",
            "|[n't, today, ..., must, mean, need, take, another, trip]                                                             |\n",
            "|[``, 's, really, aggressive, blast, obnoxious, ``, '', entertainment, '', '', guest, face, amp, little, recourse, '']|\n",
            "+---------------------------------------------------------------------------------------------------------------------+\n",
            "only showing top 4 rows\n",
            "\n"
          ]
        }
      ],
      "source": [
        "# Define a UDF for lemmatization\n",
        "lemmatizer = WordNetLemmatizer()\n",
        "\n",
        "def lemmatize_list(word_list):\n",
        "    return [lemmatizer.lemmatize(word) for word in word_list]\n",
        "\n",
        "lemmatize_udf = udf(lemmatize_list, ArrayType(StringType()))\n",
        "\n",
        "non_null_df = non_null_df.withColumn(\"lemmatized_words\", lemmatize_udf(col(\"words\")))\n",
        "non_null_df.select('lemmatized_words').show(4, truncate=False)\n"
      ],
      "id": "asian-parade"
    },
    {
      "cell_type": "code",
      "source": [
        "# TBD apply Stemming"
      ],
      "metadata": {
        "id": "mdhKO5wPX5M5"
      },
      "id": "mdhKO5wPX5M5",
      "execution_count": null,
      "outputs": []
    },
    {
      "cell_type": "markdown",
      "metadata": {
        "id": "UR5FnuSn-c-S"
      },
      "source": [
        "### Feature Extraction\n",
        "\n",
        "Create the useful features from the text column to train the model\n",
        "\n",
        "For example:\n",
        "* Length of the tweet\n",
        "* No. of hashtags in the tweet starting with '#'\n",
        "* No. of mentions in the tweet starting with '@'\n",
        "\n",
        "Hint: create a new column for each of the above features"
      ],
      "id": "UR5FnuSn-c-S"
    },
    {
      "cell_type": "code",
      "execution_count": null,
      "metadata": {
        "colab": {
          "base_uri": "https://localhost:8080/"
        },
        "id": "lyric-processor",
        "outputId": "aa8ba792-e5b7-43fc-bc07-93667ad89aba"
      },
      "outputs": [
        {
          "output_type": "stream",
          "name": "stdout",
          "text": [
            "root\n",
            " |-- tweet_id: string (nullable = true)\n",
            " |-- airline_sentiment: string (nullable = true)\n",
            " |-- airline_sentiment_confidence: float (nullable = false)\n",
            " |-- negativereason: string (nullable = true)\n",
            " |-- negativereason_confidence: float (nullable = false)\n",
            " |-- airline: string (nullable = true)\n",
            " |-- name: string (nullable = true)\n",
            " |-- retweet_count: float (nullable = false)\n",
            " |-- text: string (nullable = true)\n",
            " |-- tweet_created: string (nullable = true)\n",
            " |-- tweet_location: string (nullable = true)\n",
            " |-- user_timezone: string (nullable = true)\n",
            " |-- text_new: string (nullable = true)\n",
            " |-- words: string (nullable = true)\n",
            " |-- lemmatized_words: array (nullable = true)\n",
            " |    |-- element: string (containsNull = true)\n",
            " |-- no_of_words: integer (nullable = true)\n",
            " |-- no_of_hashtags: integer (nullable = true)\n",
            " |-- no_of_mentions: integer (nullable = true)\n",
            "\n"
          ]
        }
      ],
      "source": [
        "len_udf = udf(lambda x: len(x), IntegerType())\n",
        "non_null_df = non_null_df.withColumn(\"no_of_words\", len_udf(\"words\"))\n",
        "\n",
        "\n",
        "def count_hashtags(tweet):\n",
        "    # Split the tweet by spaces\n",
        "    words = tweet.split()\n",
        "\n",
        "    # Count hashtags that start with '#'\n",
        "    hashtag_count = 0\n",
        "    for word in words:\n",
        "        if word.startswith('#'):\n",
        "            hashtag_count += 1\n",
        "\n",
        "    return hashtag_count\n",
        "hashtagcount_udf = udf(count_hashtags, IntegerType())\n",
        "\n",
        "def count_mentions(tweet):\n",
        "    # Split the tweet by spaces\n",
        "    words = tweet.split()\n",
        "\n",
        "    # Count hashtags that start with '#'\n",
        "    mention_count = 0\n",
        "    for word in words:\n",
        "        if word.startswith('@'):\n",
        "            mention_count += 1\n",
        "\n",
        "    return mention_count\n",
        "mentionscount_udf = udf(count_mentions, IntegerType())\n",
        "\n",
        "non_null_df = non_null_df.withColumn(\"no_of_hashtags\", hashtagcount_udf(col(\"text\")))\n",
        "non_null_df = non_null_df.withColumn(\"no_of_mentions\", mentionscount_udf(col(\"text\")))\n",
        "\n",
        "non_null_df.printSchema()"
      ],
      "id": "lyric-processor"
    },
    {
      "cell_type": "code",
      "execution_count": null,
      "metadata": {
        "colab": {
          "base_uri": "https://localhost:8080/"
        },
        "id": "VEtXXq6rc6y5",
        "outputId": "a181c948-90b0-4da8-a2c6-4d12975b25ff"
      },
      "outputs": [
        {
          "output_type": "stream",
          "name": "stdout",
          "text": [
            "+------------------+-----------------+----------------------------+--------------+-------------------------+--------------+---------------+-------------+--------------------+--------------------+--------------------+--------------------+--------------------+--------------------+--------------------+-----------+--------------+--------------+\n",
            "|          tweet_id|airline_sentiment|airline_sentiment_confidence|negativereason|negativereason_confidence|       airline|           name|retweet_count|                text|       tweet_created|      tweet_location|       user_timezone|            text_new|               words|    lemmatized_words|no_of_words|no_of_hashtags|no_of_mentions|\n",
            "+------------------+-----------------+----------------------------+--------------+-------------------------+--------------+---------------+-------------+--------------------+--------------------+--------------------+--------------------+--------------------+--------------------+--------------------+-----------+--------------+--------------+\n",
            "|570306133677760513|          neutral|                         1.0|          NULL|                      0.0|Virgin America|        cairdin|          0.0|@VirginAmerica Wh...|2015-02-24 11:35:...|                NULL|Eastern Time (US ...|         what  said.|              [said]|              [said]|          1|             0|             2|\n",
            "|570301130888122368|         positive|                      0.3486|          NULL|                      0.0|Virgin America|       jnardino|          0.0|@VirginAmerica pl...|2015-02-24 11:15:...|                NULL|Pacific Time (US ...|plus you've added...|[plus, 've, added...|[plus, 've, added...|          7|             0|             1|\n",
            "|570301083672813571|          neutral|                      0.6837|          NULL|                      0.0|Virgin America|     yvonnalynn|          0.0|@VirginAmerica I ...|2015-02-24 11:15:...|           Lets Play|Central Time (US ...|i didn't today......|[n't, today, ...,...|[n't, today, ...,...|          9|             0|             1|\n",
            "|570301031407624196|         negative|                         1.0|    Bad Flight|                   0.7033|Virgin America|       jnardino|          0.0|\"@VirginAmerica i...|2015-02-24 11:15:...|                NULL|Pacific Time (US ...|\" it's really agg...|[``, 's, really, ...|[``, 's, really, ...|         17|             0|             0|\n",
            "|570300817074462722|         negative|                         1.0|    Can't Tell|                      1.0|Virgin America|       jnardino|          0.0|@VirginAmerica an...|2015-02-24 11:14:...|                NULL|Pacific Time (US ...|and it's a really...|['s, really, big,...|['s, really, big,...|          5|             0|             1|\n",
            "|570300767074181121|         negative|                         1.0|    Can't Tell|                   0.6842|Virgin America|       jnardino|          0.0|@VirginAmerica se...|                NULL|                NULL|                NULL|seriously would p...|[seriously, would...|[seriously, would...|          8|             0|             1|\n",
            "|570300616901320704|         positive|                      0.6745|          NULL|                      0.0|Virgin America|     cjmcginnis|          0.0|@VirginAmerica ye...|2015-02-24 11:13:...|    San Francisco CA|Pacific Time (US ...|yes, nearly every...|[yes, nearly, eve...|[yes, nearly, eve...|         13|             0|             1|\n",
            "|570300248553349120|          neutral|                       0.634|          NULL|                      0.0|Virgin America|          pilot|          0.0|@VirginAmerica Re...|2015-02-24 11:12:...|         Los Angeles|Pacific Time (US ...|really missed a p...|[really, missed, ...|[really, missed, ...|          8|             0|             1|\n",
            "|570299953286942721|         positive|                      0.6559|          NULL|                      0.0|Virgin America|       dhepburn|          0.0|@virginamerica We...|2015-02-24 11:11:...|           San Diego|Pacific Time (US ...|well, i didn't…bu...|[well, didn't…but...|[well, didn't…but...|          3|             0|             1|\n",
            "|570295459631263746|         positive|                         1.0|          NULL|                      0.0|Virgin America|     YupitsTate|          0.0|@VirginAmerica it...|2015-02-24 10:53:...|         Los Angeles|Eastern Time (US ...|it was amazing, a...|[amazing, arrived...|[amazing, arrived...|          6|             0|             1|\n",
            "|570294189143031808|          neutral|                      0.6769|          NULL|                      0.0|Virgin America|idk_but_youtube|          0.0|@VirginAmerica di...|2015-02-24 10:48:...|     1/1 loner squad|Eastern Time (US ...|did you know that...|[know, suicide, s...|[know, suicide, s...|          9|             0|             1|\n",
            "|570289724453216256|         positive|                         1.0|          NULL|                      0.0|Virgin America|   HyperCamiLax|          0.0|@VirginAmerica I ...|2015-02-24 10:30:...|                 NYC|    America/New_York|i &lt;3 pretty gr...|[lt, 3, pretty, g...|[lt, 3, pretty, g...|          8|             0|             1|\n",
            "|570289584061480960|         positive|                         1.0|          NULL|                      0.0|Virgin America|   HyperCamiLax|          0.0|@VirginAmerica Th...|2015-02-24 10:30:...|                 NYC|    America/New_York|this is such a gr...|[great, deal, alr...|[great, deal, alr...|         14|             0|             2|\n",
            "|570287408438120448|         positive|                      0.6451|          NULL|                      0.0|Virgin America|   mollanderson|          0.0|@VirginAmerica @v...|2015-02-24 10:21:...|                NULL|Eastern Time (US ...|i'm flying your  ...|['m, flying, skie...|['m, flying, sky,...|          7|             3|             2|\n",
            "|570285904809598977|         positive|                         1.0|          NULL|                      0.0|Virgin America|       sjespers|          0.0|@VirginAmerica Th...|2015-02-24 10:15:...|   San Francisco, CA|Pacific Time (US ...|             thanks!|            [thanks]|            [thanks]|          1|             0|             1|\n",
            "|570282469121007616|         negative|                      0.6842|   Late Flight|                   0.3684|Virgin America|smartwatermelon|          0.0|@VirginAmerica SF...|2015-02-24 10:01:...|       palo alto, ca|Pacific Time (US ...|sfo-pdx schedule ...|[sfo-pdx, schedul...|[sfo-pdx, schedul...|          4|             0|             1|\n",
            "|570277724385734656|         positive|                         1.0|          NULL|                      0.0|Virgin America|  ItzBrianHunty|          0.0|@VirginAmerica So...|2015-02-24 09:42:...|         west covina|Pacific Time (US ...|so excited for my...|[excited, first, ...|[excited, first, ...|         14|             1|             1|\n",
            "|570276917301137409|         negative|                         1.0|    Bad Flight|                      1.0|Virgin America|  heatherovieda|          0.0|@VirginAmerica  I...|2015-02-24 09:39:...|this place called...|Eastern Time (US ...|i flew from nyc t...|[flew, nyc, sfo, ...|[flew, nyc, sfo, ...|         17|             0|             1|\n",
            "|570270684619923457|         positive|                         1.0|          NULL|                      0.0|Virgin America|   thebrandiray|          0.0|I ❤️ flying @Virg...|2015-02-24 09:15:...|Somewhere celebra...|Atlantic Time (Ca...|  i ❤️ flying . ☺️👍|  [❤️, flying, ☺️👍]|  [❤️, flying, ☺️👍]|          3|             0|             1|\n",
            "|570267956648792064|         positive|                         1.0|          NULL|                      0.0|Virgin America|      JNLpierce|          0.0|@VirginAmerica yo...|2015-02-24 09:04:...|    Boston | Waltham|               Quito|you know what wou...|[know, would, ama...|[know, would, ama...|          8|             0|             1|\n",
            "+------------------+-----------------+----------------------------+--------------+-------------------------+--------------+---------------+-------------+--------------------+--------------------+--------------------+--------------------+--------------------+--------------------+--------------------+-----------+--------------+--------------+\n",
            "only showing top 20 rows\n",
            "\n"
          ]
        }
      ],
      "source": [
        "non_null_df.show()"
      ],
      "id": "VEtXXq6rc6y5"
    },
    {
      "cell_type": "markdown",
      "metadata": {
        "id": "under-point"
      },
      "source": [
        "#### Get the features by applying CountVectorizer\n",
        "CountVectorizer converts the list of tokens to vectors of token counts. See the [documentation](https://spark.apache.org/docs/latest/ml-features.html#countvectorizer) for details."
      ],
      "id": "under-point"
    },
    {
      "cell_type": "code",
      "execution_count": null,
      "metadata": {
        "colab": {
          "base_uri": "https://localhost:8080/"
        },
        "id": "christian-voltage",
        "outputId": "0810435c-a3d8-4eea-812e-750f7f6c0309"
      },
      "outputs": [
        {
          "output_type": "stream",
          "name": "stdout",
          "text": [
            "+------------------+-----------------+----------------------------+--------------+-------------------------+--------------+----------+-------------+------------------------------------------------------------------------+-------------------------+--------------+--------------------------+---------------------------------------------------------+--------------------------------------------------------+--------------------------------------------------------+-----------+--------------+--------------+----------------------------------------------------------------------------+\n",
            "|tweet_id          |airline_sentiment|airline_sentiment_confidence|negativereason|negativereason_confidence|airline       |name      |retweet_count|text                                                                    |tweet_created            |tweet_location|user_timezone             |text_new                                                 |words                                                   |lemmatized_words                                        |no_of_words|no_of_hashtags|no_of_mentions|lemmatized_words_vector                                                     |\n",
            "+------------------+-----------------+----------------------------+--------------+-------------------------+--------------+----------+-------------+------------------------------------------------------------------------+-------------------------+--------------+--------------------------+---------------------------------------------------------+--------------------------------------------------------+--------------------------------------------------------+-----------+--------------+--------------+----------------------------------------------------------------------------+\n",
            "|570306133677760513|neutral          |1.0                         |NULL          |0.0                      |Virgin America|cairdin   |0.0          |@VirginAmerica What @dhepburn said.                                     |2015-02-24 11:35:52 -0800|NULL          |Eastern Time (US & Canada)|what  said.                                              |[said]                                                  |[said]                                                  |1          |0             |2             |(12444,[132],[1.0])                                                         |\n",
            "|570301130888122368|positive         |0.3486                      |NULL          |0.0                      |Virgin America|jnardino  |0.0          |@VirginAmerica plus you've added commercials to the experience... tacky.|2015-02-24 11:15:59 -0800|NULL          |Pacific Time (US & Canada)|plus you've added commercials to the experience... tacky.|[plus, 've, added, commercials, experience, ..., tacky] |[plus, 've, added, commercial, experience, ..., tacky]  |7          |0             |1             |(12444,[13,37,113,431,989,1100,11535],[1.0,1.0,1.0,1.0,1.0,1.0,1.0])        |\n",
            "|570301083672813571|neutral          |0.6837                      |NULL          |0.0                      |Virgin America|yvonnalynn|0.0          |@VirginAmerica I didn't today... Must mean I need to take another trip! |2015-02-24 11:15:48 -0800|Lets Play     |Central Time (US & Canada)|i didn't today... must mean i need to take another trip! |[n't, today, ..., must, mean, need, take, another, trip]|[n't, today, ..., must, mean, need, take, another, trip]|9          |0             |1             |(12444,[1,13,20,41,69,80,109,293,630],[1.0,1.0,1.0,1.0,1.0,1.0,1.0,1.0,1.0])|\n",
            "+------------------+-----------------+----------------------------+--------------+-------------------------+--------------+----------+-------------+------------------------------------------------------------------------+-------------------------+--------------+--------------------------+---------------------------------------------------------+--------------------------------------------------------+--------------------------------------------------------+-----------+--------------+--------------+----------------------------------------------------------------------------+\n",
            "only showing top 3 rows\n",
            "\n"
          ]
        }
      ],
      "source": [
        "# fit a CountVectorizerModel from the corpus.\n",
        "cv = CountVectorizer(inputCol=\"lemmatized_words\", outputCol=\"lemmatized_words_vector\")\n",
        "\n",
        "model_cv = cv.fit(non_null_df)\n",
        "\n",
        "non_null_df = model_cv.transform(non_null_df)\n",
        "non_null_df.show(3, truncate=False)"
      ],
      "id": "christian-voltage"
    },
    {
      "cell_type": "markdown",
      "metadata": {
        "id": "killing-aside"
      },
      "source": [
        "#### Encode the labels\n",
        "\n",
        "Using the `udf` function encode the string values of *airline_sentiment* to integers."
      ],
      "id": "killing-aside"
    },
    {
      "cell_type": "code",
      "execution_count": null,
      "metadata": {
        "id": "assigned-trout"
      },
      "outputs": [],
      "source": [
        "def LabelEncoder(x):\n",
        "    if x == 'positive':\n",
        "        return 0\n",
        "    elif x == 'negative':\n",
        "        return 1\n",
        "    return 2\n",
        "\n",
        "labelEncoder_udf = udf(LabelEncoder, IntegerType())\n",
        "\n",
        "non_null_df = non_null_df.withColumn(\"Encoded_label\", labelEncoder_udf(col(\"airline_sentiment\")))\n"
      ],
      "id": "assigned-trout"
    },
    {
      "cell_type": "code",
      "execution_count": null,
      "metadata": {
        "colab": {
          "base_uri": "https://localhost:8080/"
        },
        "id": "r_SOkoGZAFqc",
        "outputId": "6eeec36c-f1c4-4eb1-9064-c4142ef064e5"
      },
      "outputs": [
        {
          "output_type": "stream",
          "name": "stdout",
          "text": [
            "+-----------------+-----+\n",
            "|airline_sentiment|count|\n",
            "+-----------------+-----+\n",
            "|         positive| 2363|\n",
            "|          neutral| 3099|\n",
            "|         negative| 9170|\n",
            "+-----------------+-----+\n",
            "\n"
          ]
        }
      ],
      "source": [
        "non_null_df.groupby(col('airline_sentiment')).count().show()"
      ],
      "id": "r_SOkoGZAFqc"
    },
    {
      "cell_type": "markdown",
      "metadata": {
        "id": "NqnjXJR9IC5d"
      },
      "source": [
        "### Train the classifier the evaluate"
      ],
      "id": "NqnjXJR9IC5d"
    },
    {
      "cell_type": "markdown",
      "metadata": {
        "id": "attempted-lender"
      },
      "source": [
        "#### Create vector assembler with the selected features to train the model"
      ],
      "id": "attempted-lender"
    },
    {
      "cell_type": "code",
      "execution_count": null,
      "metadata": {
        "colab": {
          "base_uri": "https://localhost:8080/"
        },
        "id": "stuffed-seating",
        "outputId": "2a7a326e-9b56-44f6-9c04-951ca3b7a602"
      },
      "outputs": [
        {
          "output_type": "stream",
          "name": "stdout",
          "text": [
            "+------------------+-----------------+----------------------------+--------------+-------------------------+--------------+----------+-------------+----------------------------------------------------------------------------------------------------------------------------------+-------------------------+----------------+--------------------------+--------------------------------------------------------------------------------------------------------------------+-----------------------------------------------------------------------------------------------------------------------+---------------------------------------------------------------------------------------------------------------------+-----------+--------------+--------------+--------------------------------------------------------------------------------------------------------------------+-------------+\n",
            "|tweet_id          |airline_sentiment|airline_sentiment_confidence|negativereason|negativereason_confidence|airline       |name      |retweet_count|text                                                                                                                              |tweet_created            |tweet_location  |user_timezone             |text_new                                                                                                            |words                                                                                                                  |lemmatized_words                                                                                                     |no_of_words|no_of_hashtags|no_of_mentions|lemmatized_words_vector                                                                                             |Encoded_label|\n",
            "+------------------+-----------------+----------------------------+--------------+-------------------------+--------------+----------+-------------+----------------------------------------------------------------------------------------------------------------------------------+-------------------------+----------------+--------------------------+--------------------------------------------------------------------------------------------------------------------+-----------------------------------------------------------------------------------------------------------------------+---------------------------------------------------------------------------------------------------------------------+-----------+--------------+--------------+--------------------------------------------------------------------------------------------------------------------+-------------+\n",
            "|570306133677760513|neutral          |1.0                         |NULL          |0.0                      |Virgin America|cairdin   |0.0          |@VirginAmerica What @dhepburn said.                                                                                               |2015-02-24 11:35:52 -0800|NULL            |Eastern Time (US & Canada)|what  said.                                                                                                         |[said]                                                                                                                 |[said]                                                                                                               |1          |0             |2             |(12444,[132],[1.0])                                                                                                 |2            |\n",
            "|570301130888122368|positive         |0.3486                      |NULL          |0.0                      |Virgin America|jnardino  |0.0          |@VirginAmerica plus you've added commercials to the experience... tacky.                                                          |2015-02-24 11:15:59 -0800|NULL            |Pacific Time (US & Canada)|plus you've added commercials to the experience... tacky.                                                           |[plus, 've, added, commercials, experience, ..., tacky]                                                                |[plus, 've, added, commercial, experience, ..., tacky]                                                               |7          |0             |1             |(12444,[13,37,113,431,989,1100,11535],[1.0,1.0,1.0,1.0,1.0,1.0,1.0])                                                |0            |\n",
            "|570301083672813571|neutral          |0.6837                      |NULL          |0.0                      |Virgin America|yvonnalynn|0.0          |@VirginAmerica I didn't today... Must mean I need to take another trip!                                                           |2015-02-24 11:15:48 -0800|Lets Play       |Central Time (US & Canada)|i didn't today... must mean i need to take another trip!                                                            |[n't, today, ..., must, mean, need, take, another, trip]                                                               |[n't, today, ..., must, mean, need, take, another, trip]                                                             |9          |0             |1             |(12444,[1,13,20,41,69,80,109,293,630],[1.0,1.0,1.0,1.0,1.0,1.0,1.0,1.0,1.0])                                        |2            |\n",
            "|570301031407624196|negative         |1.0                         |Bad Flight    |0.7033                   |Virgin America|jnardino  |0.0          |\"@VirginAmerica it's really aggressive to blast obnoxious \"\"entertainment\"\" in your guests' faces &amp; they have little recourse\"|2015-02-24 11:15:36 -0800|NULL            |Pacific Time (US & Canada)|\" it's really aggressive to blast obnoxious \"\"entertainment\"\" in your guests' faces &amp; they have little recourse\"|[``, 's, really, aggressive, blast, obnoxious, ``, '', entertainment, '', '', guests, faces, amp, little, recourse, '']|[``, 's, really, aggressive, blast, obnoxious, ``, '', entertainment, '', '', guest, face, amp, little, recourse, '']|17         |0             |0             |(12444,[2,3,10,18,70,376,840,1358,1832,2459,3828,4258,4492],[4.0,1.0,2.0,1.0,1.0,1.0,1.0,1.0,1.0,1.0,1.0,1.0,1.0])  |1            |\n",
            "|570300817074462722|negative         |1.0                         |Can't Tell    |1.0                      |Virgin America|jnardino  |0.0          |@VirginAmerica and it's a really big bad thing about it                                                                           |2015-02-24 11:14:45 -0800|NULL            |Pacific Time (US & Canada)|and it's a really big bad thing about it                                                                            |['s, really, big, bad, thing]                                                                                          |['s, really, big, bad, thing]                                                                                        |5          |0             |1             |(12444,[3,70,127,191,354],[1.0,1.0,1.0,1.0,1.0])                                                                    |1            |\n",
            "|570300767074181121|negative         |1.0                         |Can't Tell    |0.6842                   |Virgin America|jnardino  |0.0          |@VirginAmerica seriously would pay $30 a flight for seats that didn't have this playing.                                          |NULL                     |NULL            |NULL                      |seriously would pay $30 a flight for seats that didn't have this playing.                                           |[seriously, would, pay, 30, flight, seats, n't, playing]                                                               |[seriously, would, pay, 30, flight, seat, n't, playing]                                                              |8          |0             |1             |(12444,[0,1,22,35,178,218,344,1857],[1.0,1.0,1.0,1.0,1.0,1.0,1.0,1.0])                                              |1            |\n",
            "|570300616901320704|positive         |0.6745                      |NULL          |0.0                      |Virgin America|cjmcginnis|0.0          |@VirginAmerica yes, nearly every time I fly VX this “ear worm” won’t go away :)                                                   |2015-02-24 11:13:57 -0800|San Francisco CA|Pacific Time (US & Canada)|yes, nearly every time i fly vx this “ear worm” won’t go away :)                                                    |[yes, nearly, every, time, fly, vx, “, ear, worm, ”, ’, go, away]                                                      |[yes, nearly, every, time, fly, vx, “, ear, worm, ”, ’, go, away]                                                    |13         |0             |1             |(12444,[11,46,56,97,123,169,209,279,352,1303,2089,4634,11423],[1.0,1.0,1.0,1.0,1.0,1.0,1.0,1.0,1.0,1.0,1.0,1.0,1.0])|0            |\n",
            "|570300248553349120|neutral          |0.634                       |NULL          |0.0                      |Virgin America|pilot     |0.0          |@VirginAmerica Really missed a prime opportunity for Men Without Hats parody, there. https://t.co/mWpG7grEZP                      |2015-02-24 11:12:29 -0800|Los Angeles     |Pacific Time (US & Canada)|really missed a prime opportunity for men without hats parody, there.                                               |[really, missed, prime, opportunity, men, without, hats, parody]                                                       |[really, missed, prime, opportunity, men, without, hat, parody]                                                      |8          |0             |1             |(12444,[70,187,236,1447,2418,2788,3786,9332],[1.0,1.0,1.0,1.0,1.0,1.0,1.0,1.0])                                     |2            |\n",
            "|570299953286942721|positive         |0.6559                      |NULL          |0.0                      |Virgin America|dhepburn  |0.0          |@virginamerica Well, I didn't…but NOW I DO! :-D                                                                                   |2015-02-24 11:11:19 -0800|San Diego       |Pacific Time (US & Canada)|well, i didn't…but now i do! :-d                                                                                    |[well, didn't…but, -d]                                                                                                 |[well, didn't…but, -d]                                                                                               |3          |0             |1             |(12444,[143,5767,6210],[1.0,1.0,1.0])                                                                               |0            |\n",
            "|570295459631263746|positive         |1.0                         |NULL          |0.0                      |Virgin America|YupitsTate|0.0          |@VirginAmerica it was amazing, and arrived an hour early. You're too good to me.                                                  |2015-02-24 10:53:27 -0800|Los Angeles     |Eastern Time (US & Canada)|it was amazing, and arrived an hour early. you're too good to me.                                                   |[amazing, arrived, hour, early, 're, good]                                                                             |[amazing, arrived, hour, early, 're, good]                                                                           |6          |0             |1             |(12444,[5,65,74,254,258,436],[1.0,1.0,1.0,1.0,1.0,1.0])                                                             |0            |\n",
            "+------------------+-----------------+----------------------------+--------------+-------------------------+--------------+----------+-------------+----------------------------------------------------------------------------------------------------------------------------------+-------------------------+----------------+--------------------------+--------------------------------------------------------------------------------------------------------------------+-----------------------------------------------------------------------------------------------------------------------+---------------------------------------------------------------------------------------------------------------------+-----------+--------------+--------------+--------------------------------------------------------------------------------------------------------------------+-------------+\n",
            "only showing top 10 rows\n",
            "\n"
          ]
        }
      ],
      "source": [
        "# Feature selection\n",
        "non_null_df.show(10, truncate=False)"
      ],
      "id": "stuffed-seating"
    },
    {
      "cell_type": "code",
      "execution_count": null,
      "metadata": {
        "colab": {
          "base_uri": "https://localhost:8080/"
        },
        "id": "Ysv0dyOZfMnL",
        "outputId": "bef802e0-acc2-46ee-d9f3-bfda3c1b98b6"
      },
      "outputs": [
        {
          "output_type": "stream",
          "name": "stdout",
          "text": [
            "+-----------+--------------+--------------+-----------------------+-------------+\n",
            "|no_of_words|no_of_hashtags|no_of_mentions|lemmatized_words_vector|Encoded_label|\n",
            "+-----------+--------------+--------------+-----------------------+-------------+\n",
            "|          1|             0|             2|    (12444,[132],[1.0])|            2|\n",
            "|          7|             0|             1|   (12444,[13,37,113...|            0|\n",
            "|          9|             0|             1|   (12444,[1,13,20,4...|            2|\n",
            "|         17|             0|             0|   (12444,[2,3,10,18...|            1|\n",
            "|          5|             0|             1|   (12444,[3,70,127,...|            1|\n",
            "|          8|             0|             1|   (12444,[0,1,22,35...|            1|\n",
            "|         13|             0|             1|   (12444,[11,46,56,...|            0|\n",
            "|          8|             0|             1|   (12444,[70,187,23...|            2|\n",
            "|          3|             0|             1|   (12444,[143,5767,...|            0|\n",
            "|          6|             0|             1|   (12444,[5,65,74,2...|            0|\n",
            "+-----------+--------------+--------------+-----------------------+-------------+\n",
            "only showing top 10 rows\n",
            "\n"
          ]
        }
      ],
      "source": [
        "# df_features = non_null_df.select('airline_sentiment_confidence','negativereason_confidence','retweet_count','no_of_words','no_of_hashtags','no_of_mentions','lemmatized_words_vector','Encoded_label')\n",
        "df_features = non_null_df.select('no_of_words','no_of_hashtags','no_of_mentions','lemmatized_words_vector','Encoded_label')\n",
        "df_features.show(10)"
      ],
      "id": "Ysv0dyOZfMnL"
    },
    {
      "cell_type": "markdown",
      "metadata": {
        "id": "bored-metropolitan"
      },
      "source": [
        "#### Arrange features and label and split them into train and test."
      ],
      "id": "bored-metropolitan"
    },
    {
      "cell_type": "code",
      "execution_count": null,
      "metadata": {
        "colab": {
          "base_uri": "https://localhost:8080/"
        },
        "id": "SzoFktLTkFr9",
        "outputId": "8d4d77d2-b262-4d2d-fa4f-fa450bb58920"
      },
      "outputs": [
        {
          "output_type": "stream",
          "name": "stdout",
          "text": [
            "+-----------+--------------+--------------+--------------------------------------------------------------------------------------------------------------------+-------------+----------------------------------------------------------------------------------------------------------------------------------+\n",
            "|no_of_words|no_of_hashtags|no_of_mentions|lemmatized_words_vector                                                                                             |Encoded_label|features                                                                                                                          |\n",
            "+-----------+--------------+--------------+--------------------------------------------------------------------------------------------------------------------+-------------+----------------------------------------------------------------------------------------------------------------------------------+\n",
            "|1          |0             |2             |(12444,[132],[1.0])                                                                                                 |2            |(12447,[0,2,135],[1.0,2.0,1.0])                                                                                                   |\n",
            "|7          |0             |1             |(12444,[13,37,113,431,989,1100,11535],[1.0,1.0,1.0,1.0,1.0,1.0,1.0])                                                |0            |(12447,[0,2,16,40,116,434,992,1103,11538],[7.0,1.0,1.0,1.0,1.0,1.0,1.0,1.0,1.0])                                                  |\n",
            "|9          |0             |1             |(12444,[1,13,20,41,69,80,109,293,630],[1.0,1.0,1.0,1.0,1.0,1.0,1.0,1.0,1.0])                                        |2            |(12447,[0,2,4,16,23,44,72,83,112,296,633],[9.0,1.0,1.0,1.0,1.0,1.0,1.0,1.0,1.0,1.0,1.0])                                          |\n",
            "|17         |0             |0             |(12444,[2,3,10,18,70,376,840,1358,1832,2459,3828,4258,4492],[4.0,1.0,2.0,1.0,1.0,1.0,1.0,1.0,1.0,1.0,1.0,1.0,1.0])  |1            |(12447,[0,5,6,13,21,73,379,843,1361,1835,2462,3831,4261,4495],[17.0,4.0,1.0,2.0,1.0,1.0,1.0,1.0,1.0,1.0,1.0,1.0,1.0,1.0])         |\n",
            "|5          |0             |1             |(12444,[3,70,127,191,354],[1.0,1.0,1.0,1.0,1.0])                                                                    |1            |(12447,[0,2,6,73,130,194,357],[5.0,1.0,1.0,1.0,1.0,1.0,1.0])                                                                      |\n",
            "|8          |0             |1             |(12444,[0,1,22,35,178,218,344,1857],[1.0,1.0,1.0,1.0,1.0,1.0,1.0,1.0])                                              |1            |(12447,[0,2,3,4,25,38,181,221,347,1860],[8.0,1.0,1.0,1.0,1.0,1.0,1.0,1.0,1.0,1.0])                                                |\n",
            "|13         |0             |1             |(12444,[11,46,56,97,123,169,209,279,352,1303,2089,4634,11423],[1.0,1.0,1.0,1.0,1.0,1.0,1.0,1.0,1.0,1.0,1.0,1.0,1.0])|0            |(12447,[0,2,14,49,59,100,126,172,212,282,355,1306,2092,4637,11426],[13.0,1.0,1.0,1.0,1.0,1.0,1.0,1.0,1.0,1.0,1.0,1.0,1.0,1.0,1.0])|\n",
            "|8          |0             |1             |(12444,[70,187,236,1447,2418,2788,3786,9332],[1.0,1.0,1.0,1.0,1.0,1.0,1.0,1.0])                                     |2            |(12447,[0,2,73,190,239,1450,2421,2791,3789,9335],[8.0,1.0,1.0,1.0,1.0,1.0,1.0,1.0,1.0,1.0])                                       |\n",
            "|3          |0             |1             |(12444,[143,5767,6210],[1.0,1.0,1.0])                                                                               |0            |(12447,[0,2,146,5770,6213],[3.0,1.0,1.0,1.0,1.0])                                                                                 |\n",
            "|6          |0             |1             |(12444,[5,65,74,254,258,436],[1.0,1.0,1.0,1.0,1.0,1.0])                                                             |0            |(12447,[0,2,8,68,77,257,261,439],[6.0,1.0,1.0,1.0,1.0,1.0,1.0,1.0])                                                               |\n",
            "+-----------+--------------+--------------+--------------------------------------------------------------------------------------------------------------------+-------------+----------------------------------------------------------------------------------------------------------------------------------+\n",
            "only showing top 10 rows\n",
            "\n"
          ]
        }
      ],
      "source": [
        "# assembler = VectorAssembler(inputCols= ['airline_sentiment_confidence','negativereason_confidence','retweet_count','no_of_words','no_of_hashtags','no_of_mentions','lemmatized_words_vector'], outputCol= \"features\")\n",
        "assembler = VectorAssembler(inputCols= ['no_of_words','no_of_hashtags','no_of_mentions','lemmatized_words_vector'], outputCol= \"features\")\n",
        "output = assembler.transform(df_features)\n",
        "output.show(10, truncate=False)\n"
      ],
      "id": "SzoFktLTkFr9"
    },
    {
      "cell_type": "code",
      "execution_count": null,
      "metadata": {
        "id": "structured-actress"
      },
      "outputs": [],
      "source": [
        "final_data = output.select(\"features\",'Encoded_label')\n",
        "train_data,test_data = final_data.randomSplit([0.7,0.3])"
      ],
      "id": "structured-actress"
    },
    {
      "cell_type": "markdown",
      "metadata": {
        "id": "fiscal-utilization"
      },
      "source": [
        "#### Train the model with train data and make predictions on the test data\n",
        "\n",
        "For classification of text data, implement NaiveBayes classifier. It is a probabilistic machine learning model.\n",
        "\n",
        "For more information about **NaiveBayes Classifier**, click [here](https://spark.apache.org/docs/latest/ml-classification-regression.html#naive-bayes)"
      ],
      "id": "fiscal-utilization"
    },
    {
      "cell_type": "code",
      "execution_count": null,
      "metadata": {
        "id": "destroyed-religion"
      },
      "outputs": [],
      "source": [
        "nb = NaiveBayes(featuresCol='features', labelCol='Encoded_label',modelType=\"multinomial\",smoothing=1.0)\n",
        "# Fit the model with train data\n",
        "model_nb = nb.fit(train_data)"
      ],
      "id": "destroyed-religion"
    },
    {
      "cell_type": "code",
      "execution_count": null,
      "metadata": {
        "colab": {
          "base_uri": "https://localhost:8080/"
        },
        "id": "seeing-money",
        "outputId": "6425d886-c413-4cc9-c611-c18da716917b"
      },
      "outputs": [
        {
          "output_type": "stream",
          "name": "stdout",
          "text": [
            "+--------------------+-------------+--------------------+--------------------+----------+\n",
            "|            features|Encoded_label|       rawPrediction|         probability|prediction|\n",
            "+--------------------+-------------+--------------------+--------------------+----------+\n",
            "|(12447,[0,1,2,3,4...|            0|[-160.03911495163...|[0.63763608916418...|       0.0|\n",
            "|(12447,[0,1,2,3,4...|            0|[-103.91682428764...|[0.00247118143751...|       1.0|\n",
            "|(12447,[0,1,2,3,4...|            0|[-108.57287856179...|[0.00338480811501...|       1.0|\n",
            "|(12447,[0,1,2,3,5...|            2|[-121.62171677679...|[3.54707429580076...|       1.0|\n",
            "|(12447,[0,1,2,3,6...|            0|[-128.90336115641...|[0.50573448281644...|       0.0|\n",
            "|(12447,[0,1,2,3,7...|            2|[-82.269195696998...|[3.36559490806586...|       1.0|\n",
            "|(12447,[0,1,2,3,7...|            2|[-41.650915633811...|[0.02496086423762...|       1.0|\n",
            "|(12447,[0,1,2,3,9...|            0|[-72.761546267003...|[0.81095625591651...|       0.0|\n",
            "|(12447,[0,1,2,3,9...|            0|[-76.258153187604...|[0.79138508559115...|       0.0|\n",
            "|(12447,[0,1,2,3,9...|            0|[-114.09383744869...|[0.98685183070153...|       0.0|\n",
            "+--------------------+-------------+--------------------+--------------------+----------+\n",
            "only showing top 10 rows\n",
            "\n"
          ]
        }
      ],
      "source": [
        "# get the predictions\n",
        "predictions = model_nb.transform(test_data)\n",
        "predictions.where(col('Encoded_label') != 1).show(10)"
      ],
      "id": "seeing-money"
    },
    {
      "cell_type": "markdown",
      "metadata": {
        "id": "foreign-consent"
      },
      "source": [
        "#### Evaluate the model and find the accuracy\n",
        "\n",
        "Compare the labels and predictions and find how many are correct.\n",
        "\n",
        "To find the accuracy, get the count of correct predictions from test data and divide by the total amount of test dataset.\n",
        "\n",
        "**Hint:** convert the predictions dataframe to pandas and compare with labels"
      ],
      "id": "foreign-consent"
    },
    {
      "cell_type": "code",
      "execution_count": null,
      "metadata": {
        "colab": {
          "base_uri": "https://localhost:8080/"
        },
        "id": "greenhouse-crack",
        "outputId": "b07dc6ec-c168-451a-ab76-6d026c324777"
      },
      "outputs": [
        {
          "output_type": "stream",
          "name": "stdout",
          "text": [
            "Model accuracy: 0.7631\n"
          ]
        }
      ],
      "source": [
        "from pyspark.ml.evaluation import MulticlassClassificationEvaluator\n",
        "\n",
        "evaluator = MulticlassClassificationEvaluator(labelCol=\"Encoded_label\", predictionCol=\"prediction\", metricName=\"accuracy\")\n",
        "accuracy = evaluator.evaluate(predictions)\n",
        "print(f\"Model accuracy: {accuracy:.4f}\")"
      ],
      "id": "greenhouse-crack"
    },
    {
      "cell_type": "markdown",
      "source": [
        "Some Random experiments"
      ],
      "metadata": {
        "id": "-ZMNBbpSGH6V"
      },
      "id": "-ZMNBbpSGH6V"
    },
    {
      "cell_type": "code",
      "source": [
        "# test_data.show(5)\n",
        "test_data_pred = test_data.where(col('Encoded_label') == 2)\n",
        "test_data_pred = spark.createDataFrame(test_data_pred.head(1))\n",
        "test_data_pred = test_data_pred.select('features')\n",
        "test_data_pred.show(truncate=False)"
      ],
      "metadata": {
        "colab": {
          "base_uri": "https://localhost:8080/"
        },
        "id": "wP9U7i_dGiNM",
        "outputId": "49c077c0-c4c6-4efc-882d-3206a43b6b62"
      },
      "id": "wP9U7i_dGiNM",
      "execution_count": null,
      "outputs": [
        {
          "output_type": "stream",
          "name": "stdout",
          "text": [
            "+-------------------------------------------------------------------------------------------------+\n",
            "|features                                                                                         |\n",
            "+-------------------------------------------------------------------------------------------------+\n",
            "|(12447,[0,1,2,3,5,13,49,193,228,338,490,6675],[13.0,2.0,1.0,1.0,3.0,3.0,1.0,1.0,1.0,1.0,1.0,1.0])|\n",
            "+-------------------------------------------------------------------------------------------------+\n",
            "\n"
          ]
        }
      ]
    },
    {
      "cell_type": "code",
      "source": [
        "pred_features = predictions.select('features').where(col('prediction') == 2.0)\n",
        "test_data_pred = spark.createDataFrame(pred_features.head(1))\n",
        "test_data_pred = test_data_pred.select('features')\n",
        "test_data_pred.show(truncate=False)"
      ],
      "metadata": {
        "colab": {
          "base_uri": "https://localhost:8080/"
        },
        "id": "PTncMwJKDvBi",
        "outputId": "43053349-daa9-48fd-dbeb-f8057edbd0a7"
      },
      "id": "PTncMwJKDvBi",
      "execution_count": null,
      "outputs": [
        {
          "output_type": "stream",
          "name": "stdout",
          "text": [
            "+-----------------------------------------------------------------------------------------------------------------------------------+\n",
            "|features                                                                                                                           |\n",
            "+-----------------------------------------------------------------------------------------------------------------------------------+\n",
            "|(12447,[0,1,2,3,6,21,39,131,171,265,268,627,851,1519,2158,6813],[13.0,1.0,1.0,1.0,1.0,1.0,1.0,1.0,1.0,1.0,1.0,1.0,1.0,1.0,1.0,1.0])|\n",
            "+-----------------------------------------------------------------------------------------------------------------------------------+\n",
            "\n"
          ]
        }
      ]
    },
    {
      "cell_type": "code",
      "execution_count": null,
      "metadata": {
        "id": "rEgv2HQvgfL5",
        "colab": {
          "base_uri": "https://localhost:8080/"
        },
        "outputId": "84cb067f-b29b-4c0a-d18d-ead71af67ae9"
      },
      "outputs": [
        {
          "output_type": "stream",
          "name": "stdout",
          "text": [
            "+--------------------+--------------------+--------------------+----------+\n",
            "|            features|       rawPrediction|         probability|prediction|\n",
            "+--------------------+--------------------+--------------------+----------+\n",
            "|(12447,[0,1,2,3,6...|[-132.37556516686...|[3.52905991049599...|       2.0|\n",
            "+--------------------+--------------------+--------------------+----------+\n",
            "\n"
          ]
        }
      ],
      "source": [
        "predictions = model_nb.transform(test_data_pred)\n",
        "predictions.show()"
      ],
      "id": "rEgv2HQvgfL5"
    },
    {
      "cell_type": "markdown",
      "metadata": {
        "id": "neugaxggvfrY"
      },
      "source": [
        "### Deployment\n",
        "\n",
        "Let's integrate all the above code snippets in app.py and run it with **Streamlit**.\n",
        "\n",
        "From the start (data loading step), place every code in app.py including data preprocessing, feature extraction and model training.\n",
        "\n",
        "* implement the `predict_users_Input()` function which takes one tweet input from user and returns the prediction using the trained model.\n",
        "\n",
        "* use the same preprocessing techniques and features extraction used for train data on user input.\n",
        "\n",
        "* user input can be captured from the textbox from **Streamlit** app. Action is triggered when predict button is clicked and user input is classified using `predict_users_Input()` function.\n",
        "\n",
        "\n",
        "For More information about Streamlit, click [here](https://docs.streamlit.io/en/stable/)"
      ],
      "id": "neugaxggvfrY"
    },
    {
      "cell_type": "code",
      "execution_count": null,
      "metadata": {
        "colab": {
          "base_uri": "https://localhost:8080/"
        },
        "id": "wnlD5cS9zcsL",
        "outputId": "c4746a40-b94c-40c0-c4ba-bcdaa3c58a44"
      },
      "outputs": [
        {
          "output_type": "stream",
          "name": "stdout",
          "text": [
            "\u001b[2K     \u001b[90m━━━━━━━━━━━━━━━━━━━━━━━━━━━━━━━━━━━━━━━━\u001b[0m \u001b[32m8.4/8.4 MB\u001b[0m \u001b[31m17.0 MB/s\u001b[0m eta \u001b[36m0:00:00\u001b[0m\n",
            "\u001b[2K     \u001b[90m━━━━━━━━━━━━━━━━━━━━━━━━━━━━━━━━━━━━━━━━\u001b[0m \u001b[32m196.4/196.4 kB\u001b[0m \u001b[31m20.6 MB/s\u001b[0m eta \u001b[36m0:00:00\u001b[0m\n",
            "\u001b[2K     \u001b[90m━━━━━━━━━━━━━━━━━━━━━━━━━━━━━━━━━━━━━━━━\u001b[0m \u001b[32m4.8/4.8 MB\u001b[0m \u001b[31m40.3 MB/s\u001b[0m eta \u001b[36m0:00:00\u001b[0m\n",
            "\u001b[2K     \u001b[90m━━━━━━━━━━━━━━━━━━━━━━━━━━━━━━━━━━━━━━━━\u001b[0m \u001b[32m83.0/83.0 kB\u001b[0m \u001b[31m9.8 MB/s\u001b[0m eta \u001b[36m0:00:00\u001b[0m\n",
            "\u001b[2K     \u001b[90m━━━━━━━━━━━━━━━━━━━━━━━━━━━━━━━━━━━━━━━━\u001b[0m \u001b[32m62.7/62.7 kB\u001b[0m \u001b[31m7.3 MB/s\u001b[0m eta \u001b[36m0:00:00\u001b[0m\n",
            "\u001b[?25h"
          ]
        }
      ],
      "source": [
        "# Install streamlit and colab-everything\n",
        "!pip install -qq streamlit"
      ],
      "id": "wnlD5cS9zcsL"
    },
    {
      "cell_type": "markdown",
      "metadata": {
        "id": "5CJI536Q2-u-"
      },
      "source": [
        "Create the `app.py` file and run with Streamlit\n",
        "\n",
        "**Note:** We have provided the required code to execute Streamlit."
      ],
      "id": "5CJI536Q2-u-"
    },
    {
      "cell_type": "code",
      "execution_count": null,
      "metadata": {
        "colab": {
          "base_uri": "https://localhost:8080/"
        },
        "id": "jmpuLMdD7ih9",
        "outputId": "e76f88fe-d020-4463-8081-3550bc65dfa2"
      },
      "outputs": [
        {
          "output_type": "stream",
          "name": "stdout",
          "text": [
            "Writing app.py\n"
          ]
        }
      ],
      "source": [
        "%%writefile app.py\n",
        "import streamlit as st\n",
        "from pyspark.sql import SparkSession\n",
        "from pyspark.sql.functions import *\n",
        "import re\n",
        "import string\n",
        "from pyspark.ml.feature import VectorAssembler\n",
        "from pyspark.ml.feature import CountVectorizer\n",
        "from pyspark.ml.classification import NaiveBayes\n",
        "from pyspark.sql.types import ArrayType, StringType\n",
        "from pyspark.sql.types import *\n",
        "import nltk\n",
        "nltk.download('punkt')\n",
        "nltk.download('stopwords')\n",
        "nltk.download('wordnet')\n",
        "from nltk.corpus import stopwords\n",
        "from nltk.tokenize import word_tokenize\n",
        "from nltk.stem import WordNetLemmatizer\n",
        "\n",
        "st.write(\"Run 3 - 14.26\")\n",
        "\n",
        "st.write(\"Creating a spark session\")\n",
        "spark = SparkSession.builder.appName('TwitterSentiment').getOrCreate()\n",
        "df = spark.read.csv(\"/content/US_Airline_Tweets.csv\",inferSchema=True,header=True)\n",
        "\n",
        "st.write(\"Preprocessing the train data\")\n",
        "# 1. Data preprocessing (PASTE YOUR ENTIRE DATA PREPROCESSING CODE FROM ABOVE)\n",
        "df_clean_text = df.where(col('text').isNotNull())\n",
        "def drop_cols_below_threshold(df, threshold):\n",
        "    col_names = df.columns\n",
        "    for name in col_names:\n",
        "        count = df.filter(~column(name).isNull()).count()\n",
        "        if (count < threshold):\n",
        "            print(f\"Col dropped: {name}\")\n",
        "            df = df.drop(name)\n",
        "    return df\n",
        "# Dropping columns with less than 1100 entries\n",
        "df_clean_labels = drop_cols_below_threshold(df_clean_text, 1100)\n",
        "numeric_cols = ['airline_sentiment_confidence','negativereason_confidence','retweet_count']\n",
        "for i in range(len(numeric_cols)):\n",
        "    df_clean_labels = df_clean_labels.withColumn(numeric_cols[i], col(numeric_cols[i]).cast(\"float\"))\n",
        "df_clean_labels = df_clean_labels.fillna(0, subset=numeric_cols)\n",
        "non_null_df = df_clean_labels\n",
        "non_null_df = non_null_df.withColumn('text_new', lower(col('text')))\n",
        "\n",
        "username_pattern = r\"@\\w+\"\n",
        "hashtag_pattern = r\"#\\w+\"\n",
        "link_pattern = r\"http[s]?://\\S+\"\n",
        "\n",
        "non_null_df = non_null_df.withColumn('text_new', regexp_replace(col('text_new'), username_pattern, ''))\n",
        "non_null_df = non_null_df.withColumn('text_new', regexp_replace(col('text_new'), hashtag_pattern, ''))\n",
        "non_null_df = non_null_df.withColumn('text_new', regexp_replace(col('text_new'), link_pattern, ''))\n",
        "\n",
        "non_null_df = non_null_df.withColumn('text_new', trim(col('text_new')))\n",
        "\n",
        "word_udf = udf(lambda x: word_tokenize(x), ArrayType(StringType()))\n",
        "non_null_df = non_null_df.withColumn(\"words\", word_udf(\"text_new\"))\n",
        "\n",
        "stop_words = set(stopwords.words('english'))\n",
        "punctuation = string.punctuation\n",
        "punct_udf = udf(lambda x: [w for w in x if not w.lower() in punctuation if not w.lower() in stop_words])\n",
        "non_null_df = non_null_df.withColumn(\"words\", punct_udf(\"words\"))\n",
        "\n",
        "lemmatizer = WordNetLemmatizer()\n",
        "def lemmatize_list(word_list):\n",
        "    return [lemmatizer.lemmatize(word) for word in word_list]\n",
        "lemmatize_udf = udf(lemmatize_list, ArrayType(StringType()))\n",
        "non_null_df = non_null_df.withColumn(\"lemmatized_words\", lemmatize_udf(col(\"words\")))\n",
        "\n",
        "\n",
        "st.write(\"Ongoing feature extraction!!\")\n",
        "# 2. Feature Extraction (PASTE YOUR ENTIRE FEATURE EXTRACTION CODE FROM ABOVE)\n",
        "\n",
        "len_udf = udf(lambda x: len(x), IntegerType())\n",
        "non_null_df = non_null_df.withColumn(\"no_of_words\", len_udf(\"words\"))\n",
        "\n",
        "def count_hashtags(tweet):\n",
        "    # Split the tweet by spaces\n",
        "    words = tweet.split()\n",
        "\n",
        "    # Count hashtags that start with '#'\n",
        "    hashtag_count = 0\n",
        "    for word in words:\n",
        "        if word.startswith('#'):\n",
        "            hashtag_count += 1\n",
        "\n",
        "    return hashtag_count\n",
        "hashtagcount_udf = udf(count_hashtags, IntegerType())\n",
        "\n",
        "def count_mentions(tweet):\n",
        "    # Split the tweet by spaces\n",
        "    words = tweet.split()\n",
        "\n",
        "    # Count hashtags that start with '#'\n",
        "    mention_count = 0\n",
        "    for word in words:\n",
        "        if word.startswith('@'):\n",
        "            mention_count += 1\n",
        "\n",
        "    return mention_count\n",
        "mentionscount_udf = udf(count_mentions, IntegerType())\n",
        "\n",
        "non_null_df = non_null_df.withColumn(\"no_of_hashtags\", hashtagcount_udf(col(\"text\")))\n",
        "non_null_df = non_null_df.withColumn(\"no_of_mentions\", mentionscount_udf(col(\"text\")))\n",
        "\n",
        "cv = CountVectorizer(inputCol=\"lemmatized_words\", outputCol=\"lemmatized_words_vector\")\n",
        "model_cv = cv.fit(non_null_df)\n",
        "non_null_df = model_cv.transform(non_null_df)\n",
        "\n",
        "def LabelEncoder(x):\n",
        "    if x == 'positive':\n",
        "        return 0\n",
        "    elif x == 'negative':\n",
        "        return 1\n",
        "    return 2\n",
        "\n",
        "labelEncoder_udf = udf(LabelEncoder, IntegerType())\n",
        "non_null_df = non_null_df.withColumn(\"Encoded_label\", labelEncoder_udf(col(\"airline_sentiment\")))\n",
        "\n",
        "df_features = non_null_df.select('no_of_words','no_of_hashtags','no_of_mentions','lemmatized_words_vector','Encoded_label')\n",
        "assembler = VectorAssembler(inputCols= ['no_of_words','no_of_hashtags','no_of_mentions','lemmatized_words_vector'], outputCol= \"features\")\n",
        "\n",
        "output = assembler.transform(df_features)\n",
        "\n",
        "final_data = output.select(\"features\",'Encoded_label')\n",
        "train_data,test_data = final_data.randomSplit([0.7,0.3])\n",
        "\n",
        "st.write(\"Training the model\")\n",
        "# 3. Training the model (PASTE YOUR MODEL TRAINING CODE FROM ABOVE)\n",
        "\n",
        "nb = NaiveBayes(featuresCol='features', labelCol='Encoded_label',modelType=\"multinomial\",smoothing=1.0)\n",
        "# Fit the model with train data\n",
        "model_nb = nb.fit(train_data)\n",
        "predictions = model_nb.transform(test_data)\n",
        "\n",
        "# def predict_users_Input(user_input):\n",
        "#  df1 = spark.createDataFrame([ (1, user_input)],['Id', 'UserTweet'])\n",
        "\n",
        "  # YOUR CODE HERE for data preprocessing and feature extraction for user input data\n",
        "\n",
        "  # YOUR CODE HERE for predicting the user input vector using trained model\n",
        "\n",
        "#  return predicted_result # return dataframe object\n",
        "\n",
        "def decode(label):\n",
        "  if label == 0:\n",
        "    return \"Positive Tweet!\"\n",
        "  elif label == 1:\n",
        "    return \"Negative Tweet!\"\n",
        "  return \"Neutral Tweet\"\n",
        "\n",
        "def predict_users_Input(user_input):\n",
        "  df1 = spark.createDataFrame([ (1, user_input)],['Id', 'UserTweet'])\n",
        "\n",
        "  df1 = spark.createDataFrame([ (1, user_input)],['Id', 'UserTweet'])\n",
        "  df1 = df1.withColumn('text_new', lower(col('UserTweet')))\n",
        "\n",
        "  username_pattern = r\"@\\w+\"\n",
        "  hashtag_pattern = r\"#\\w+\"\n",
        "  link_pattern = r\"http[s]?://\\S+\"\n",
        "\n",
        "  df1 = df1.withColumn('text_new', regexp_replace(col('text_new'), username_pattern, ''))\n",
        "  df1 = df1.withColumn('text_new', regexp_replace(col('text_new'), hashtag_pattern, ''))\n",
        "  df1 = df1.withColumn('text_new', regexp_replace(col('text_new'), link_pattern, ''))\n",
        "\n",
        "  df1 = df1.withColumn('text_new', trim(col('text_new')))\n",
        "\n",
        "  word_udf = udf(lambda x: word_tokenize(x), ArrayType(StringType()))\n",
        "  df1 = df1.withColumn(\"words\", word_udf(\"text_new\"))\n",
        "\n",
        "  stop_words = set(stopwords.words('english'))\n",
        "  punctuation = string.punctuation\n",
        "  punct_udf = udf(lambda x: [w for w in x if not w.lower() in punctuation if not w.lower() in stop_words])\n",
        "  df1 = df1.withColumn(\"words\", punct_udf(\"words\"))\n",
        "\n",
        "  lemmatizer = WordNetLemmatizer()\n",
        "  lemmatize_udf = udf(lemmatize_list, ArrayType(StringType()))\n",
        "\n",
        "  df1 = df1.withColumn(\"lemmatized_words\", lemmatize_udf(col(\"words\")))\n",
        "\n",
        "  # df1.select('lemmatized_words').show(3, truncate=False)\n",
        "\n",
        "  len_udf = udf(lambda x: len(x), IntegerType())\n",
        "  df1 = df1.withColumn(\"no_of_words\", len_udf(\"words\"))\n",
        "\n",
        "  df1 = df1.withColumn(\"no_of_hashtags\", hashtagcount_udf(col(\"UserTweet\")))\n",
        "  df1 = df1.withColumn(\"no_of_mentions\", mentionscount_udf(col(\"UserTweet\")))\n",
        "\n",
        "  # cv = CountVectorizer(inputCol=\"lemmatized_words\", outputCol=\"lemmatized_words_vector\")\n",
        "  # model = cv.fit(df1)\n",
        "  df1 = model_cv.transform(df1)\n",
        "\n",
        "  # df1.show(5, truncate=False)\n",
        "\n",
        "  df1_features = df1.select('no_of_words','no_of_hashtags','no_of_mentions','lemmatized_words_vector')\n",
        "  # df1_features.show(5, truncate=False)\n",
        "  # print(df1_features.dtypes)\n",
        "\n",
        "  assembler = VectorAssembler(inputCols= ['no_of_words','no_of_hashtags','no_of_mentions','lemmatized_words_vector'], outputCol= \"features\")\n",
        "  output = assembler.transform(df1_features)\n",
        "\n",
        "  final_data = output.select(\"features\")\n",
        "  # final_data.show(5, truncate=False)\n",
        "  predictions = model_nb.transform(final_data)\n",
        "  # predictions.show(5)\n",
        "\n",
        "  return predictions # return dataframe object\n",
        "\n",
        "def decode(label):\n",
        "  if label == 0:\n",
        "    return \"Positive Tweet!\"\n",
        "  elif label == 1:\n",
        "    return \"Negative Tweet!\"\n",
        "  return \"Neutral Tweet\"\n",
        "\n",
        "#user_input = st.text_input(\"Take Input 1\",\"@mention #Hashtag good something!\")\n",
        "#if st.button('predict'):\n",
        "#    result = predict_users_Input(user_input)\n",
        "#    st.write(decode(result.prediction.values[0]))\n",
        "\n",
        "user_input = st.text_input(\"Take Input\",\"@mention #Hashtag good something!\")\n",
        "if st.button('predict'):\n",
        "    result = predict_users_Input(user_input)\n",
        "    st.write(decode(result.collect()[0][3]))"
      ],
      "id": "jmpuLMdD7ih9"
    },
    {
      "cell_type": "code",
      "execution_count": null,
      "metadata": {
        "id": "FYUTiPGyF0xB"
      },
      "outputs": [],
      "source": [
        "# Start app\n",
        "# !streamlit run app.py&>/dev/null&"
      ],
      "id": "FYUTiPGyF0xB"
    },
    {
      "cell_type": "code",
      "execution_count": null,
      "metadata": {
        "colab": {
          "base_uri": "https://localhost:8080/",
          "height": 611
        },
        "id": "xKCBmxOQTdK3",
        "outputId": "12b75a10-b666-4ab4-eca7-40a0c5acb978"
      },
      "outputs": [
        {
          "output_type": "stream",
          "name": "stdout",
          "text": [
            "+---+-------------------------------------------------------------------------+--------------------------------------------------------+--------------------------------------------------------+--------------------------------------------------------+-----------+--------------+--------------+----------------------------------------------------------------------------+\n",
            "|Id |UserTweet                                                                |text_new                                                |words                                                   |lemmatized_words                                        |no_of_words|no_of_hashtags|no_of_mentions|lemmatized_words_vector                                                     |\n",
            "+---+-------------------------------------------------------------------------+--------------------------------------------------------+--------------------------------------------------------+--------------------------------------------------------+-----------+--------------+--------------+----------------------------------------------------------------------------+\n",
            "|1  |@VirginAmerica I didn't today... Must mean I need to take another trip!  |i didn't today... must mean i need to take another trip!|[n't, today, ..., must, mean, need, take, another, trip]|[n't, today, ..., must, mean, need, take, another, trip]|9          |0             |1             |(12444,[1,13,20,41,69,80,109,293,630],[1.0,1.0,1.0,1.0,1.0,1.0,1.0,1.0,1.0])|\n",
            "+---+-------------------------------------------------------------------------+--------------------------------------------------------+--------------------------------------------------------+--------------------------------------------------------+-----------+--------------+--------------+----------------------------------------------------------------------------+\n",
            "\n",
            "+-----------+--------------+--------------+----------------------------------------------------------------------------+\n",
            "|no_of_words|no_of_hashtags|no_of_mentions|lemmatized_words_vector                                                     |\n",
            "+-----------+--------------+--------------+----------------------------------------------------------------------------+\n",
            "|9          |0             |1             |(12444,[1,13,20,41,69,80,109,293,630],[1.0,1.0,1.0,1.0,1.0,1.0,1.0,1.0,1.0])|\n",
            "+-----------+--------------+--------------+----------------------------------------------------------------------------+\n",
            "\n",
            "[('no_of_words', 'int'), ('no_of_hashtags', 'int'), ('no_of_mentions', 'int'), ('lemmatized_words_vector', 'vector')]\n",
            "+-----------+--------------+--------------+----------------------------------------------------------------------------+----------------------------------------------------------------------------------------+\n",
            "|no_of_words|no_of_hashtags|no_of_mentions|lemmatized_words_vector                                                     |features                                                                                |\n",
            "+-----------+--------------+--------------+----------------------------------------------------------------------------+----------------------------------------------------------------------------------------+\n",
            "|9          |0             |1             |(12444,[1,13,20,41,69,80,109,293,630],[1.0,1.0,1.0,1.0,1.0,1.0,1.0,1.0,1.0])|(12447,[0,2,4,16,23,44,72,83,112,296,633],[9.0,1.0,1.0,1.0,1.0,1.0,1.0,1.0,1.0,1.0,1.0])|\n",
            "+-----------+--------------+--------------+----------------------------------------------------------------------------+----------------------------------------------------------------------------------------+\n",
            "\n",
            "[('no_of_words', 'int'), ('no_of_hashtags', 'int'), ('no_of_mentions', 'int'), ('lemmatized_words_vector', 'vector'), ('features', 'vector')]\n",
            "+----------------------------------------------------------------------------------------+\n",
            "|features                                                                                |\n",
            "+----------------------------------------------------------------------------------------+\n",
            "|(12447,[0,2,4,16,23,44,72,83,112,296,633],[9.0,1.0,1.0,1.0,1.0,1.0,1.0,1.0,1.0,1.0,1.0])|\n",
            "+----------------------------------------------------------------------------------------+\n",
            "\n",
            "+--------------------+--------------------+--------------------+----------+\n",
            "|            features|       rawPrediction|         probability|prediction|\n",
            "+--------------------+--------------------+--------------------+----------+\n",
            "|(12447,[0,2,4,16,...|[-82.873348146254...|[1.10775445392570...|       1.0|\n",
            "+--------------------+--------------------+--------------------+----------+\n",
            "\n"
          ]
        },
        {
          "output_type": "execute_result",
          "data": {
            "text/plain": [
              "'Negative Tweet!'"
            ],
            "application/vnd.google.colaboratory.intrinsic+json": {
              "type": "string"
            }
          },
          "metadata": {},
          "execution_count": 46
        }
      ],
      "source": [
        "# Code for streamlit function predict_users_Input\n",
        "\n",
        "def decode(label):\n",
        "  if label == 0:\n",
        "    return \"Positive Tweet!\"\n",
        "  elif label == 1:\n",
        "    return \"Negative Tweet!\"\n",
        "  return \"Neutral Tweet\"\n",
        "\n",
        "def lemmatize_list(word_list):\n",
        "  return [lemmatizer.lemmatize(word) for word in word_list]\n",
        "\n",
        "def predict_users_Input(user_input):\n",
        "  df1 = spark.createDataFrame([ (1, user_input)],['Id', 'UserTweet'])\n",
        "  df1 = df1.withColumn('text_new', lower(col('UserTweet')))\n",
        "\n",
        "  username_pattern = r\"@\\w+\"\n",
        "  hashtag_pattern = r\"#\\w+\"\n",
        "  link_pattern = r\"http[s]?://\\S+\"\n",
        "\n",
        "  df1 = df1.withColumn('text_new', regexp_replace(col('text_new'), username_pattern, ''))\n",
        "  df1 = df1.withColumn('text_new', regexp_replace(col('text_new'), hashtag_pattern, ''))\n",
        "  df1 = df1.withColumn('text_new', regexp_replace(col('text_new'), link_pattern, ''))\n",
        "\n",
        "  df1 = df1.withColumn('text_new', trim(col('text_new')))\n",
        "\n",
        "  word_udf = udf(lambda x: word_tokenize(x), ArrayType(StringType()))\n",
        "  df1 = df1.withColumn(\"words\", word_udf(\"text_new\"))\n",
        "\n",
        "  stop_words = set(stopwords.words('english'))\n",
        "  punctuation = string.punctuation\n",
        "  punct_udf = udf(lambda x: [w for w in x if not w.lower() in punctuation if not w.lower() in stop_words])\n",
        "  df1 = df1.withColumn(\"words\", punct_udf(\"words\"))\n",
        "\n",
        "  lemmatizer = WordNetLemmatizer()\n",
        "  lemmatize_udf = udf(lemmatize_list, ArrayType(StringType()))\n",
        "\n",
        "  df1 = df1.withColumn(\"lemmatized_words\", lemmatize_udf(col(\"words\")))\n",
        "\n",
        "  # df1.select('lemmatized_words').show(3, truncate=False)\n",
        "\n",
        "  len_udf = udf(lambda x: len(x), IntegerType())\n",
        "  df1 = df1.withColumn(\"no_of_words\", len_udf(\"words\"))\n",
        "\n",
        "  df1 = df1.withColumn(\"no_of_hashtags\", hashtagcount_udf(col(\"UserTweet\")))\n",
        "  df1 = df1.withColumn(\"no_of_mentions\", mentionscount_udf(col(\"UserTweet\")))\n",
        "\n",
        "  # cv = CountVectorizer(inputCol=\"lemmatized_words\", outputCol=\"lemmatized_words_vector\")\n",
        "  # model = cv.fit(df1)\n",
        "  df1 = model_cv.transform(df1)\n",
        "\n",
        "  df1.show(5, truncate=False)\n",
        "\n",
        "  df1_features = df1.select('no_of_words','no_of_hashtags','no_of_mentions','lemmatized_words_vector')\n",
        "  df1_features.show(5, truncate=False)\n",
        "  print(df1_features.dtypes)\n",
        "\n",
        "  assembler = VectorAssembler(inputCols= ['no_of_words','no_of_hashtags','no_of_mentions','lemmatized_words_vector'], outputCol= \"features\")\n",
        "  output = assembler.transform(df1_features)\n",
        "  output.show(5, truncate=False)\n",
        "  print(output.dtypes)\n",
        "  # print(assembler.explainParams())\n",
        "\n",
        "  # assembler = VectorAssembler(inputCols= ['no_of_words','no_of_hashtags','no_of_mentions','lemmatized_words_vector'], outputCol= \"features\")\n",
        "  # output = assembler.transform(df1_features)\n",
        "  # output.show(10, truncate=False)\n",
        "\n",
        "  final_data = output.select(\"features\")\n",
        "  final_data.show(5, truncate=False)\n",
        "  predictions = model_nb.transform(final_data)\n",
        "  predictions.show(5)\n",
        "\n",
        "  # predicted_result = df1\n",
        "  return predictions\n",
        "\n",
        "# predict_users_Input(\"@mention #Hashtag good something !\")\n",
        "\n",
        "result = predict_users_Input(\"@VirginAmerica I didn't today... Must mean I need to take another trip!  \")\n",
        "decode(result.collect()[0][3])"
      ],
      "id": "xKCBmxOQTdK3"
    },
    {
      "cell_type": "code",
      "execution_count": null,
      "metadata": {
        "colab": {
          "base_uri": "https://localhost:8080/"
        },
        "id": "iqAq9HYtbMab",
        "outputId": "22f34e94-1c96-4a26-b698-a9ec90086168"
      },
      "outputs": [
        {
          "output_type": "stream",
          "name": "stdout",
          "text": [
            "app.py\tsample_data  US_Airline_Tweets.csv\n"
          ]
        }
      ],
      "source": [
        "# To check if the app.py file has written in the current colab sandbox\n",
        "!ls"
      ],
      "id": "iqAq9HYtbMab"
    },
    {
      "cell_type": "markdown",
      "metadata": {
        "id": "c3A-PIjEbjNQ"
      },
      "source": [
        "#### Ngrok\n",
        "\n",
        "Ngrok is a powerful solution for providing secure tunnels from our local system to the public. Here, we first need to signup to [ngrok.com](https://ngrok.com/) and create a free account.\n",
        "\n",
        "**Acount creation is mandatory to get an authentication token**\n",
        "\n",
        "For more information to run Streamlit apps from Colab refer [here](https://cdn.iisc.talentsprint.com/CDS/MiniProjects/M5_NB_MiniProject_4_End_to_End_Analytics_Pyspark%20medium_com_jcharistech_how_to_run_streamlit_apps_from_colab.pdf)."
      ],
      "id": "c3A-PIjEbjNQ"
    },
    {
      "cell_type": "code",
      "execution_count": null,
      "metadata": {
        "colab": {
          "base_uri": "https://localhost:8080/"
        },
        "id": "iLFWltYPfhfI",
        "outputId": "9ba21aac-d2f9-43e3-8d65-ddb5db941080"
      },
      "outputs": [
        {
          "output_type": "stream",
          "name": "stdout",
          "text": [
            "  Preparing metadata (setup.py) ... \u001b[?25l\u001b[?25hdone\n",
            "  Building wheel for pyngrok (setup.py) ... \u001b[?25l\u001b[?25hdone\n"
          ]
        }
      ],
      "source": [
        "# Install pyngrok, version 4.1.1 is mandatory\n",
        "!pip -qq install pyngrok==4.1.1"
      ],
      "id": "iLFWltYPfhfI"
    },
    {
      "cell_type": "code",
      "execution_count": null,
      "metadata": {
        "id": "xUtWGHADfRA4"
      },
      "outputs": [],
      "source": [
        "# Import ngrok\n",
        "from pyngrok import ngrok"
      ],
      "id": "xUtWGHADfRA4"
    },
    {
      "cell_type": "markdown",
      "metadata": {
        "id": "uO2RHzBjfThT"
      },
      "source": [
        "#### Get Your Authentication Tokens\n",
        "\n",
        "To use ngrok, you will need an authentication token which can be found on the dashboard of your ngrok [account](https://dashboard.ngrok.com/get-started/setup)."
      ],
      "id": "uO2RHzBjfThT"
    },
    {
      "cell_type": "code",
      "execution_count": null,
      "metadata": {
        "colab": {
          "base_uri": "https://localhost:8080/"
        },
        "id": "v9pQQFpfcd2q",
        "outputId": "368fa466-1b7f-4907-8355-dec576523e61"
      },
      "outputs": [
        {
          "output_type": "stream",
          "name": "stdout",
          "text": [
            "Authtoken saved to configuration file: /root/.ngrok2/ngrok.yml\n"
          ]
        }
      ],
      "source": [
        "!ngrok authtoken '2bOIEyUzamnpPbik9XqjNFj7HWy_4maom5pWK1NhtBRZCnxDP'"
      ],
      "id": "v9pQQFpfcd2q"
    },
    {
      "cell_type": "markdown",
      "metadata": {
        "id": "35Uu0FsTaE6D"
      },
      "source": [
        "#### Start the app\n",
        "\n",
        "Now that we have written our app, we can now start our app like we would have done if we were running it locally. But the caveat is to run it in the background so that if the cell finish running, our app will continue to run as a background process behind."
      ],
      "id": "35Uu0FsTaE6D"
    },
    {
      "cell_type": "code",
      "execution_count": null,
      "metadata": {
        "id": "Qo1zgZQvICdF",
        "colab": {
          "base_uri": "https://localhost:8080/"
        },
        "outputId": "09eebd4b-56ce-489c-a50d-883e955c0569"
      },
      "outputs": [
        {
          "output_type": "stream",
          "name": "stdout",
          "text": [
            "\n",
            "Collecting usage statistics. To deactivate, set browser.gatherUsageStats to False.\n",
            "\u001b[0m\n",
            "\u001b[0m\n",
            "\u001b[34m\u001b[1m  You can now view your Streamlit app in your browser.\u001b[0m\n",
            "\u001b[0m\n",
            "\u001b[34m  Network URL: \u001b[0m\u001b[1mhttp://172.28.0.12:8502\u001b[0m\n",
            "\u001b[34m  External URL: \u001b[0m\u001b[1mhttp://34.148.215.221:8502\u001b[0m\n",
            "\u001b[0m\n",
            "\u001b[34m  Stopping...\u001b[0m\n",
            "\u001b[34m  Stopping...\u001b[0m\n",
            "Exception ignored in: <module 'threading' from '/usr/lib/python3.10/threading.py'>\n",
            "Traceback (most recent call last):\n",
            "  File \"/usr/lib/python3.10/threading.py\", line 1518, in _shutdown\n",
            "    def _shutdown():\n",
            "  File \"/usr/local/lib/python3.10/dist-packages/streamlit/web/bootstrap.py\", line 69, in signal_handler\n",
            "    server.stop()\n",
            "  File \"/usr/local/lib/python3.10/dist-packages/streamlit/web/server/server.py\", line 399, in stop\n",
            "    self._runtime.stop()\n",
            "  File \"/usr/local/lib/python3.10/dist-packages/streamlit/runtime/runtime.py\", line 311, in stop\n",
            "    async_objs.eventloop.call_soon_threadsafe(stop_on_eventloop)\n",
            "  File \"/usr/lib/python3.10/asyncio/base_events.py\", line 798, in call_soon_threadsafe\n",
            "    self._check_closed()\n",
            "  File \"/usr/lib/python3.10/asyncio/base_events.py\", line 515, in _check_closed\n",
            "    raise RuntimeError('Event loop is closed')\n",
            "RuntimeError: Event loop is closed\n"
          ]
        }
      ],
      "source": [
        "# Start app\n",
        "!streamlit run app.py&>/dev/null&"
      ],
      "id": "Qo1zgZQvICdF"
    },
    {
      "cell_type": "markdown",
      "metadata": {
        "id": "W73M35dLaN3v"
      },
      "source": [
        "This will start streamlit on the normal default port of 8501."
      ],
      "id": "W73M35dLaN3v"
    },
    {
      "cell_type": "markdown",
      "metadata": {
        "id": "EhrEGJ1HaUe4"
      },
      "source": [
        "#### Create A Secure Tunnel Using Pyngrok\n",
        "\n",
        "Ngrok allows us to create a secure tunnel for accessing our local apps and webhooks. We will be using pyngrok which acts as a python wrapper around ngrok.\n",
        "\n",
        "To create our tunnel we will be using pyngrok and passing in the port from streamlit (ie 8501) .\n",
        "\n",
        "After you execute the code below you will get a web app link where you could perform the sentiment prediction task."
      ],
      "id": "EhrEGJ1HaUe4"
    },
    {
      "cell_type": "code",
      "execution_count": null,
      "metadata": {
        "colab": {
          "base_uri": "https://localhost:8080/",
          "height": 445
        },
        "id": "omN4a9OhIHog",
        "outputId": "dc47f9df-cc74-41ef-9674-805ab35418b3"
      },
      "outputs": [
        {
          "output_type": "stream",
          "name": "stderr",
          "text": [
            "ERROR:pyngrok.process:t=2024-02-13T07:04:39+0000 lvl=eror msg=\"failed to auth\" obj=tunnels.session err=\"Your ngrok-agent version \\\"2.3.41\\\" is too old. The minimum supported agent version for your account is \\\"3.0.0\\\". Please update to a newer version with `ngrok update`, by downloading from https://ngrok.com/download, or by updating your SDK version. Paid accounts are currently excluded from minimum agent version requirements. To begin handling traffic immediately without updating your agent, upgrade to a paid plan: https://dashboard.ngrok.com/billing/subscription.\\r\\n\\r\\nERR_NGROK_121\\r\\n\"\n",
            "\n"
          ]
        },
        {
          "output_type": "error",
          "ename": "PyngrokNgrokError",
          "evalue": "The ngrok process errored on start: Your ngrok-agent version \"2.3.41\" is too old. The minimum supported agent version for your account is \"3.0.0\". Please update to a newer version with `ngrok update`, by downloading from https://ngrok.com/download, or by updating your SDK version. Paid accounts are currently excluded from minimum agent version requirements. To begin handling traffic immediately without updating your agent, upgrade to a paid plan: https://dashboard.ngrok.com/billing/subscription.\\r\\n\\r\\nERR_NGROK_121\\r\\n.",
          "traceback": [
            "\u001b[0;31m---------------------------------------------------------------------------\u001b[0m",
            "\u001b[0;31mPyngrokNgrokError\u001b[0m                         Traceback (most recent call last)",
            "\u001b[0;32m<ipython-input-52-2e41a2897b3b>\u001b[0m in \u001b[0;36m<cell line: 2>\u001b[0;34m()\u001b[0m\n\u001b[1;32m      1\u001b[0m \u001b[0;31m# Generate url\u001b[0m\u001b[0;34m\u001b[0m\u001b[0;34m\u001b[0m\u001b[0m\n\u001b[0;32m----> 2\u001b[0;31m \u001b[0mpublic_url\u001b[0m \u001b[0;34m=\u001b[0m \u001b[0mngrok\u001b[0m\u001b[0;34m.\u001b[0m\u001b[0mconnect\u001b[0m\u001b[0;34m(\u001b[0m\u001b[0mport\u001b[0m\u001b[0;34m=\u001b[0m\u001b[0;34m'8501'\u001b[0m\u001b[0;34m)\u001b[0m\u001b[0;34m\u001b[0m\u001b[0;34m\u001b[0m\u001b[0m\n\u001b[0m\u001b[1;32m      3\u001b[0m \u001b[0mpublic_url\u001b[0m\u001b[0;34m\u001b[0m\u001b[0;34m\u001b[0m\u001b[0m\n",
            "\u001b[0;32m/usr/local/lib/python3.10/dist-packages/pyngrok/ngrok.py\u001b[0m in \u001b[0;36mconnect\u001b[0;34m(port, proto, name, options, pyngrok_config)\u001b[0m\n\u001b[1;32m    167\u001b[0m     \u001b[0moptions\u001b[0m\u001b[0;34m.\u001b[0m\u001b[0mupdate\u001b[0m\u001b[0;34m(\u001b[0m\u001b[0mconfig\u001b[0m\u001b[0;34m)\u001b[0m\u001b[0;34m\u001b[0m\u001b[0;34m\u001b[0m\u001b[0m\n\u001b[1;32m    168\u001b[0m \u001b[0;34m\u001b[0m\u001b[0m\n\u001b[0;32m--> 169\u001b[0;31m     \u001b[0mapi_url\u001b[0m \u001b[0;34m=\u001b[0m \u001b[0mget_ngrok_process\u001b[0m\u001b[0;34m(\u001b[0m\u001b[0mpyngrok_config\u001b[0m\u001b[0;34m)\u001b[0m\u001b[0;34m.\u001b[0m\u001b[0mapi_url\u001b[0m\u001b[0;34m\u001b[0m\u001b[0;34m\u001b[0m\u001b[0m\n\u001b[0m\u001b[1;32m    170\u001b[0m \u001b[0;34m\u001b[0m\u001b[0m\n\u001b[1;32m    171\u001b[0m     \u001b[0mlogger\u001b[0m\u001b[0;34m.\u001b[0m\u001b[0mdebug\u001b[0m\u001b[0;34m(\u001b[0m\u001b[0;34m\"Connecting tunnel with options: {}\"\u001b[0m\u001b[0;34m.\u001b[0m\u001b[0mformat\u001b[0m\u001b[0;34m(\u001b[0m\u001b[0moptions\u001b[0m\u001b[0;34m)\u001b[0m\u001b[0;34m)\u001b[0m\u001b[0;34m\u001b[0m\u001b[0;34m\u001b[0m\u001b[0m\n",
            "\u001b[0;32m/usr/local/lib/python3.10/dist-packages/pyngrok/ngrok.py\u001b[0m in \u001b[0;36mget_ngrok_process\u001b[0;34m(pyngrok_config)\u001b[0m\n\u001b[1;32m    127\u001b[0m     \u001b[0mensure_ngrok_installed\u001b[0m\u001b[0;34m(\u001b[0m\u001b[0mpyngrok_config\u001b[0m\u001b[0;34m.\u001b[0m\u001b[0mngrok_path\u001b[0m\u001b[0;34m)\u001b[0m\u001b[0;34m\u001b[0m\u001b[0;34m\u001b[0m\u001b[0m\n\u001b[1;32m    128\u001b[0m \u001b[0;34m\u001b[0m\u001b[0m\n\u001b[0;32m--> 129\u001b[0;31m     \u001b[0;32mreturn\u001b[0m \u001b[0mprocess\u001b[0m\u001b[0;34m.\u001b[0m\u001b[0mget_process\u001b[0m\u001b[0;34m(\u001b[0m\u001b[0mpyngrok_config\u001b[0m\u001b[0;34m)\u001b[0m\u001b[0;34m\u001b[0m\u001b[0;34m\u001b[0m\u001b[0m\n\u001b[0m\u001b[1;32m    130\u001b[0m \u001b[0;34m\u001b[0m\u001b[0m\n\u001b[1;32m    131\u001b[0m \u001b[0;34m\u001b[0m\u001b[0m\n",
            "\u001b[0;32m/usr/local/lib/python3.10/dist-packages/pyngrok/process.py\u001b[0m in \u001b[0;36mget_process\u001b[0;34m(pyngrok_config)\u001b[0m\n\u001b[1;32m    269\u001b[0m             \u001b[0m_current_processes\u001b[0m\u001b[0;34m.\u001b[0m\u001b[0mpop\u001b[0m\u001b[0;34m(\u001b[0m\u001b[0mpyngrok_config\u001b[0m\u001b[0;34m.\u001b[0m\u001b[0mngrok_path\u001b[0m\u001b[0;34m,\u001b[0m \u001b[0;32mNone\u001b[0m\u001b[0;34m)\u001b[0m\u001b[0;34m\u001b[0m\u001b[0;34m\u001b[0m\u001b[0m\n\u001b[1;32m    270\u001b[0m \u001b[0;34m\u001b[0m\u001b[0m\n\u001b[0;32m--> 271\u001b[0;31m     \u001b[0;32mreturn\u001b[0m \u001b[0m_start_process\u001b[0m\u001b[0;34m(\u001b[0m\u001b[0mpyngrok_config\u001b[0m\u001b[0;34m)\u001b[0m\u001b[0;34m\u001b[0m\u001b[0;34m\u001b[0m\u001b[0m\n\u001b[0m\u001b[1;32m    272\u001b[0m \u001b[0;34m\u001b[0m\u001b[0m\n\u001b[1;32m    273\u001b[0m \u001b[0;34m\u001b[0m\u001b[0m\n",
            "\u001b[0;32m/usr/local/lib/python3.10/dist-packages/pyngrok/process.py\u001b[0m in \u001b[0;36m_start_process\u001b[0;34m(pyngrok_config)\u001b[0m\n\u001b[1;32m    402\u001b[0m \u001b[0;34m\u001b[0m\u001b[0m\n\u001b[1;32m    403\u001b[0m         \u001b[0;32mif\u001b[0m \u001b[0mngrok_process\u001b[0m\u001b[0;34m.\u001b[0m\u001b[0mstartup_error\u001b[0m \u001b[0;32mis\u001b[0m \u001b[0;32mnot\u001b[0m \u001b[0;32mNone\u001b[0m\u001b[0;34m:\u001b[0m\u001b[0;34m\u001b[0m\u001b[0;34m\u001b[0m\u001b[0m\n\u001b[0;32m--> 404\u001b[0;31m             raise PyngrokNgrokError(\"The ngrok process errored on start: {}.\".format(ngrok_process.startup_error),\n\u001b[0m\u001b[1;32m    405\u001b[0m                                     \u001b[0mngrok_process\u001b[0m\u001b[0;34m.\u001b[0m\u001b[0mlogs\u001b[0m\u001b[0;34m,\u001b[0m\u001b[0;34m\u001b[0m\u001b[0;34m\u001b[0m\u001b[0m\n\u001b[1;32m    406\u001b[0m                                     ngrok_process.startup_error)\n",
            "\u001b[0;31mPyngrokNgrokError\u001b[0m: The ngrok process errored on start: Your ngrok-agent version \"2.3.41\" is too old. The minimum supported agent version for your account is \"3.0.0\". Please update to a newer version with `ngrok update`, by downloading from https://ngrok.com/download, or by updating your SDK version. Paid accounts are currently excluded from minimum agent version requirements. To begin handling traffic immediately without updating your agent, upgrade to a paid plan: https://dashboard.ngrok.com/billing/subscription.\\r\\n\\r\\nERR_NGROK_121\\r\\n."
          ]
        }
      ],
      "source": [
        "# Generate url\n",
        "public_url = ngrok.connect(port='8501')\n",
        "public_url"
      ],
      "id": "omN4a9OhIHog"
    },
    {
      "cell_type": "markdown",
      "metadata": {
        "id": "jge7o3ezaaG_"
      },
      "source": [
        "This will generate a public URL that your app will be running on.\n",
        "\n",
        "\n",
        "Refer the screenshot below.\n",
        "![img](https://cdn.iisc.talentsprint.com/CDS/MiniProjects/sentiment_analysis_streamlit_button.JPG)"
      ],
      "id": "jge7o3ezaaG_"
    },
    {
      "cell_type": "code",
      "execution_count": null,
      "metadata": {
        "id": "MmLXKUGCLQzE"
      },
      "outputs": [],
      "source": [
        "# Check if streamlit is running and get the number\n",
        "!pgrep streamlit"
      ],
      "id": "MmLXKUGCLQzE"
    },
    {
      "cell_type": "code",
      "execution_count": null,
      "metadata": {
        "id": "nVhoje9tLUpc"
      },
      "outputs": [],
      "source": [
        "# Kill the process by specifying its number from above\n",
        "!kill 'type number here'"
      ],
      "id": "nVhoje9tLUpc"
    },
    {
      "cell_type": "code",
      "execution_count": null,
      "metadata": {
        "id": "5W57gxUkLEqc"
      },
      "outputs": [],
      "source": [
        "# Shutdown ngrok from python\n",
        "ngrok.kill()"
      ],
      "id": "5W57gxUkLEqc"
    }
  ],
  "metadata": {
    "colab": {
      "provenance": [],
      "include_colab_link": true
    },
    "kernelspec": {
      "display_name": "Python 3",
      "language": "python",
      "name": "python3"
    },
    "language_info": {
      "codemirror_mode": {
        "name": "ipython",
        "version": 3
      },
      "file_extension": ".py",
      "mimetype": "text/x-python",
      "name": "python",
      "nbconvert_exporter": "python",
      "pygments_lexer": "ipython3",
      "version": "3.9.2"
    }
  },
  "nbformat": 4,
  "nbformat_minor": 5
}