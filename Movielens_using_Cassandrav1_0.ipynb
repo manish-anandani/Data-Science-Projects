{
  "nbformat": 4,
  "nbformat_minor": 5,
  "metadata": {
    "kernelspec": {
      "display_name": "Python 3",
      "language": "python",
      "name": "python3"
    },
    "language_info": {
      "codemirror_mode": {
        "name": "ipython",
        "version": 3
      },
      "file_extension": ".py",
      "mimetype": "text/x-python",
      "name": "python",
      "nbconvert_exporter": "python",
      "pygments_lexer": "ipython3",
      "version": "3.9.2"
    },
    "colab": {
      "provenance": [],
      "include_colab_link": true
    }
  },
  "cells": [
    {
      "cell_type": "markdown",
      "metadata": {
        "id": "view-in-github",
        "colab_type": "text"
      },
      "source": [
        "<a href=\"https://colab.research.google.com/github/manish-anandani/Data-Science-Projects/blob/main/Movielens_using_Cassandrav1_0.ipynb\" target=\"_parent\"><img src=\"https://colab.research.google.com/assets/colab-badge.svg\" alt=\"Open In Colab\"/></a>"
      ]
    },
    {
      "cell_type": "markdown",
      "metadata": {
        "id": "nKwRLuRawuMm"
      },
      "source": [
        "## Problem Statement"
      ],
      "id": "nKwRLuRawuMm"
    },
    {
      "cell_type": "markdown",
      "metadata": {
        "id": "GcfsHAkQKicm"
      },
      "source": [
        "Using the Cassandra NoSQL database, explore the **Movielens** dataset and build a movie recommendation engine"
      ],
      "id": "GcfsHAkQKicm"
    },
    {
      "cell_type": "markdown",
      "metadata": {
        "id": "solid-northeast"
      },
      "source": [
        "## Learning Objectives"
      ],
      "id": "solid-northeast"
    },
    {
      "cell_type": "markdown",
      "metadata": {
        "id": "automated-grass"
      },
      "source": [
        "At the end of the mini-project, you will be able to :\n",
        "\n",
        "* understand the concepts of NoSQL platforms\n",
        "* implement the database connectivity using Cassandra\n",
        "* create and insert data to the database\n",
        "* perform querying, retrieving and analyzing the data from database"
      ],
      "id": "automated-grass"
    },
    {
      "cell_type": "markdown",
      "metadata": {
        "id": "danish-guard"
      },
      "source": [
        "### Dataset"
      ],
      "id": "danish-guard"
    },
    {
      "cell_type": "markdown",
      "metadata": {
        "id": "ei4RdaJXKrsQ"
      },
      "source": [
        "The dataset chosen for this mini-project is [Movielens Dataset](https://movielens.org/). The dataset describes movies and ratings from Movielens. It contains movies from year 1919 to 2000 of total 3883 movies. There are 6040 users who have rated one or more than one movie of total 1000209 ratings collected. Movielens is maintained by members of GroupLens Research at the University of Minnesota. There are 3 datasets given, and they are:\n",
        "\n",
        "1. `data_movie.csv` that contains movies information:\n",
        "\n",
        "* MovieId\n",
        "* Title\n",
        "* Genres\n",
        "\n",
        "2. `data_rating.csv` that contains ratings of movies by users:\n",
        "\n",
        "* UserId\n",
        "* MovieId\n",
        "* Rating\n",
        "\n",
        "3. `data_users.csv` that contains users information:\n",
        "\n",
        "* UserId\n",
        "* Age\n",
        "* Gender"
      ],
      "id": "ei4RdaJXKrsQ"
    },
    {
      "cell_type": "markdown",
      "metadata": {
        "id": "color-conference"
      },
      "source": [
        "## Information"
      ],
      "id": "color-conference"
    },
    {
      "cell_type": "markdown",
      "metadata": {
        "id": "included-advocate"
      },
      "source": [
        "#### NoSQL platforms\n",
        "\n",
        "A NoSQL database provides a mechanism for storage and retrieval of data that is modeled in a form other than the tabular relations used in relational databases.\n",
        "\n",
        "**Cassandra**\n",
        "\n",
        "Apache Cassandra is a free and open-source, distributed, wide-column store, NoSQL database management system designed to handle large amounts of data across many commodity servers, providing high availability with no single point of failure. It is a NOSQL database developed by Facebook. It is a great database that allows you to effectively run queries on large amount of structured and semi structured data.\n",
        "\n",
        "To know when you have to choose Cassandra as your database of choice, you need to have an understanding of CAP Theorem.\n",
        "\n",
        "CAP theorem states that it is impossible for a distributed system to satisfy all three of these guarantees together, you need to leave one out.\n",
        "\n",
        "- C is Consistency, means all nodes have the same data at the same time\n",
        "- P is partition tolerance, means that in case of failure the system continues to operate\n",
        "- A is availability , make sure every request receives a response\n",
        "\n",
        "![img](https://developer.ibm.com/developer/default/tutorials/ba-set-up-apache-cassandra-architecture/images/figure1.png)"
      ],
      "id": "included-advocate"
    },
    {
      "cell_type": "markdown",
      "metadata": {
        "id": "circular-ireland"
      },
      "source": [
        "### Components of Cassandra\n",
        "\n",
        "There are following components in the Cassandra\n",
        "\n",
        "![img](https://www.guru99.com/images/cassandra/021116_0524_CassandraAr1.png)\n",
        "\n",
        "**Node**\n",
        "Node is the place where data is stored. It is the basic component of Cassandra.\n",
        "\n",
        "**Data Center**\n",
        "A collection of nodes are called data center. Many nodes are categorized as a data center.\n",
        "\n",
        "**Cluster**\n",
        "The cluster is the collection of many data centers.\n",
        "\n",
        "**Commit Log**\n",
        "Every write operation is written to Commit Log. Commit log is used for crash recovery.\n",
        "\n",
        "**Mem-table**\n",
        "After data written in Commit log, data is written in Mem-table. Data is written in Mem-table temporarily.\n",
        "\n",
        "**SSTable**\n",
        "When Mem-table reaches a certain threshold, data is flushed to an SSTable disk file."
      ],
      "id": "circular-ireland"
    },
    {
      "cell_type": "markdown",
      "metadata": {
        "id": "emotional-michael"
      },
      "source": [
        "### Data Replication\n",
        "\n",
        "As hardware problem can occur or link can be down at any time during data process, a solution is required to provide a backup when the problem has occurred. So data is replicated for assuring no single point of failure.\n",
        "\n",
        "Cassandra places replicas of data on different nodes based on these two factors.\n",
        "- Where to place next replica is determined by the Replication Strategy.\n",
        "- While the total number of replicas placed on different nodes is determined by the Replication Factor.\n",
        "\n",
        "One Replication factor means that there is only a single copy of data while three replication factor means that there are three copies of the data on three different nodes."
      ],
      "id": "emotional-michael"
    },
    {
      "cell_type": "markdown",
      "metadata": {
        "id": "developed-value"
      },
      "source": [
        "**Install the cassandra-driver**"
      ],
      "id": "developed-value"
    },
    {
      "cell_type": "code",
      "metadata": {
        "id": "contrary-saturday",
        "colab": {
          "base_uri": "https://localhost:8080/"
        },
        "outputId": "56e0e409-2b5e-4856-be41-a7cfd1ea43ac"
      },
      "source": [
        "!pip install cassandra-driver"
      ],
      "id": "contrary-saturday",
      "execution_count": null,
      "outputs": [
        {
          "output_type": "stream",
          "name": "stdout",
          "text": [
            "Collecting cassandra-driver\n",
            "  Downloading cassandra_driver-3.29.0-cp310-cp310-manylinux_2_17_x86_64.manylinux2014_x86_64.whl (18.8 MB)\n",
            "\u001b[2K     \u001b[90m━━━━━━━━━━━━━━━━━━━━━━━━━━━━━━━━━━━━━━━━\u001b[0m \u001b[32m18.8/18.8 MB\u001b[0m \u001b[31m65.9 MB/s\u001b[0m eta \u001b[36m0:00:00\u001b[0m\n",
            "\u001b[?25hCollecting geomet<0.3,>=0.1 (from cassandra-driver)\n",
            "  Downloading geomet-0.2.1.post1-py3-none-any.whl (18 kB)\n",
            "Requirement already satisfied: click in /usr/local/lib/python3.10/dist-packages (from geomet<0.3,>=0.1->cassandra-driver) (8.1.7)\n",
            "Requirement already satisfied: six in /usr/local/lib/python3.10/dist-packages (from geomet<0.3,>=0.1->cassandra-driver) (1.16.0)\n",
            "Installing collected packages: geomet, cassandra-driver\n",
            "Successfully installed cassandra-driver-3.29.0 geomet-0.2.1.post1\n"
          ]
        }
      ]
    },
    {
      "cell_type": "markdown",
      "metadata": {
        "id": "recorded-feelings"
      },
      "source": [
        "#### Importing Necessary Packages"
      ],
      "id": "recorded-feelings"
    },
    {
      "cell_type": "code",
      "metadata": {
        "id": "million-maintenance"
      },
      "source": [
        "import pandas as pd\n",
        "import cassandra\n",
        "from cassandra.cluster import Cluster\n",
        "from cassandra.auth import PlainTextAuthProvider\n",
        "from matplotlib import pyplot as plt"
      ],
      "id": "million-maintenance",
      "execution_count": null,
      "outputs": []
    },
    {
      "cell_type": "code",
      "metadata": {
        "id": "further-cowboy",
        "colab": {
          "base_uri": "https://localhost:8080/"
        },
        "outputId": "cef96445-7563-499d-f1e7-281dbba25c25"
      },
      "source": [
        "print(cassandra.__version__)"
      ],
      "id": "further-cowboy",
      "execution_count": null,
      "outputs": [
        {
          "output_type": "stream",
          "name": "stdout",
          "text": [
            "3.29.0\n"
          ]
        }
      ]
    },
    {
      "cell_type": "markdown",
      "metadata": {
        "id": "governmental-front"
      },
      "source": [
        "### Database connection\n",
        "\n",
        "**Astra Datastax login:** Please refer to this [document](https://cdn.iisc.talentsprint.com/CDS/DB_Connect_Docs/Datastax_Connect.pdf) for account creation on DataStax\n",
        "\n",
        "**Connect the database and create keyspace:**\n",
        "\n",
        "* Download Secure Connect Bundle zip file from Datastax [connect](https://docs.datastax.com/en/astra/docs/obtaining-database-credentials.html) section. Follow the instructions on the page\n",
        "* Upload the `Secure-connect-XXXX.zip` file, which is downloaded from datastax.\n",
        "* Generate the token and save the credentials from settings section.\n",
        "    - Hint: Select role as `admin-user` and generate token\n",
        "* Using the credentials generated in settings, specify the `client Id` and `Client Secret` to the variables below."
      ],
      "id": "governmental-front"
    },
    {
      "cell_type": "code",
      "metadata": {
        "id": "accompanied-husband",
        "colab": {
          "base_uri": "https://localhost:8080/",
          "height": 1000
        },
        "outputId": "30a5cbb9-7acf-49e1-80a7-936b39c5cb30"
      },
      "source": [
        "from google.colab import files\n",
        "files.upload()"
      ],
      "id": "accompanied-husband",
      "execution_count": null,
      "outputs": [
        {
          "output_type": "display_data",
          "data": {
            "text/plain": [
              "<IPython.core.display.HTML object>"
            ],
            "text/html": [
              "\n",
              "     <input type=\"file\" id=\"files-17100e49-bdeb-4de8-96f2-edf8d4c1b988\" name=\"files[]\" multiple disabled\n",
              "        style=\"border:none\" />\n",
              "     <output id=\"result-17100e49-bdeb-4de8-96f2-edf8d4c1b988\">\n",
              "      Upload widget is only available when the cell has been executed in the\n",
              "      current browser session. Please rerun this cell to enable.\n",
              "      </output>\n",
              "      <script>// Copyright 2017 Google LLC\n",
              "//\n",
              "// Licensed under the Apache License, Version 2.0 (the \"License\");\n",
              "// you may not use this file except in compliance with the License.\n",
              "// You may obtain a copy of the License at\n",
              "//\n",
              "//      http://www.apache.org/licenses/LICENSE-2.0\n",
              "//\n",
              "// Unless required by applicable law or agreed to in writing, software\n",
              "// distributed under the License is distributed on an \"AS IS\" BASIS,\n",
              "// WITHOUT WARRANTIES OR CONDITIONS OF ANY KIND, either express or implied.\n",
              "// See the License for the specific language governing permissions and\n",
              "// limitations under the License.\n",
              "\n",
              "/**\n",
              " * @fileoverview Helpers for google.colab Python module.\n",
              " */\n",
              "(function(scope) {\n",
              "function span(text, styleAttributes = {}) {\n",
              "  const element = document.createElement('span');\n",
              "  element.textContent = text;\n",
              "  for (const key of Object.keys(styleAttributes)) {\n",
              "    element.style[key] = styleAttributes[key];\n",
              "  }\n",
              "  return element;\n",
              "}\n",
              "\n",
              "// Max number of bytes which will be uploaded at a time.\n",
              "const MAX_PAYLOAD_SIZE = 100 * 1024;\n",
              "\n",
              "function _uploadFiles(inputId, outputId) {\n",
              "  const steps = uploadFilesStep(inputId, outputId);\n",
              "  const outputElement = document.getElementById(outputId);\n",
              "  // Cache steps on the outputElement to make it available for the next call\n",
              "  // to uploadFilesContinue from Python.\n",
              "  outputElement.steps = steps;\n",
              "\n",
              "  return _uploadFilesContinue(outputId);\n",
              "}\n",
              "\n",
              "// This is roughly an async generator (not supported in the browser yet),\n",
              "// where there are multiple asynchronous steps and the Python side is going\n",
              "// to poll for completion of each step.\n",
              "// This uses a Promise to block the python side on completion of each step,\n",
              "// then passes the result of the previous step as the input to the next step.\n",
              "function _uploadFilesContinue(outputId) {\n",
              "  const outputElement = document.getElementById(outputId);\n",
              "  const steps = outputElement.steps;\n",
              "\n",
              "  const next = steps.next(outputElement.lastPromiseValue);\n",
              "  return Promise.resolve(next.value.promise).then((value) => {\n",
              "    // Cache the last promise value to make it available to the next\n",
              "    // step of the generator.\n",
              "    outputElement.lastPromiseValue = value;\n",
              "    return next.value.response;\n",
              "  });\n",
              "}\n",
              "\n",
              "/**\n",
              " * Generator function which is called between each async step of the upload\n",
              " * process.\n",
              " * @param {string} inputId Element ID of the input file picker element.\n",
              " * @param {string} outputId Element ID of the output display.\n",
              " * @return {!Iterable<!Object>} Iterable of next steps.\n",
              " */\n",
              "function* uploadFilesStep(inputId, outputId) {\n",
              "  const inputElement = document.getElementById(inputId);\n",
              "  inputElement.disabled = false;\n",
              "\n",
              "  const outputElement = document.getElementById(outputId);\n",
              "  outputElement.innerHTML = '';\n",
              "\n",
              "  const pickedPromise = new Promise((resolve) => {\n",
              "    inputElement.addEventListener('change', (e) => {\n",
              "      resolve(e.target.files);\n",
              "    });\n",
              "  });\n",
              "\n",
              "  const cancel = document.createElement('button');\n",
              "  inputElement.parentElement.appendChild(cancel);\n",
              "  cancel.textContent = 'Cancel upload';\n",
              "  const cancelPromise = new Promise((resolve) => {\n",
              "    cancel.onclick = () => {\n",
              "      resolve(null);\n",
              "    };\n",
              "  });\n",
              "\n",
              "  // Wait for the user to pick the files.\n",
              "  const files = yield {\n",
              "    promise: Promise.race([pickedPromise, cancelPromise]),\n",
              "    response: {\n",
              "      action: 'starting',\n",
              "    }\n",
              "  };\n",
              "\n",
              "  cancel.remove();\n",
              "\n",
              "  // Disable the input element since further picks are not allowed.\n",
              "  inputElement.disabled = true;\n",
              "\n",
              "  if (!files) {\n",
              "    return {\n",
              "      response: {\n",
              "        action: 'complete',\n",
              "      }\n",
              "    };\n",
              "  }\n",
              "\n",
              "  for (const file of files) {\n",
              "    const li = document.createElement('li');\n",
              "    li.append(span(file.name, {fontWeight: 'bold'}));\n",
              "    li.append(span(\n",
              "        `(${file.type || 'n/a'}) - ${file.size} bytes, ` +\n",
              "        `last modified: ${\n",
              "            file.lastModifiedDate ? file.lastModifiedDate.toLocaleDateString() :\n",
              "                                    'n/a'} - `));\n",
              "    const percent = span('0% done');\n",
              "    li.appendChild(percent);\n",
              "\n",
              "    outputElement.appendChild(li);\n",
              "\n",
              "    const fileDataPromise = new Promise((resolve) => {\n",
              "      const reader = new FileReader();\n",
              "      reader.onload = (e) => {\n",
              "        resolve(e.target.result);\n",
              "      };\n",
              "      reader.readAsArrayBuffer(file);\n",
              "    });\n",
              "    // Wait for the data to be ready.\n",
              "    let fileData = yield {\n",
              "      promise: fileDataPromise,\n",
              "      response: {\n",
              "        action: 'continue',\n",
              "      }\n",
              "    };\n",
              "\n",
              "    // Use a chunked sending to avoid message size limits. See b/62115660.\n",
              "    let position = 0;\n",
              "    do {\n",
              "      const length = Math.min(fileData.byteLength - position, MAX_PAYLOAD_SIZE);\n",
              "      const chunk = new Uint8Array(fileData, position, length);\n",
              "      position += length;\n",
              "\n",
              "      const base64 = btoa(String.fromCharCode.apply(null, chunk));\n",
              "      yield {\n",
              "        response: {\n",
              "          action: 'append',\n",
              "          file: file.name,\n",
              "          data: base64,\n",
              "        },\n",
              "      };\n",
              "\n",
              "      let percentDone = fileData.byteLength === 0 ?\n",
              "          100 :\n",
              "          Math.round((position / fileData.byteLength) * 100);\n",
              "      percent.textContent = `${percentDone}% done`;\n",
              "\n",
              "    } while (position < fileData.byteLength);\n",
              "  }\n",
              "\n",
              "  // All done.\n",
              "  yield {\n",
              "    response: {\n",
              "      action: 'complete',\n",
              "    }\n",
              "  };\n",
              "}\n",
              "\n",
              "scope.google = scope.google || {};\n",
              "scope.google.colab = scope.google.colab || {};\n",
              "scope.google.colab._files = {\n",
              "  _uploadFiles,\n",
              "  _uploadFilesContinue,\n",
              "};\n",
              "})(self);\n",
              "</script> "
            ]
          },
          "metadata": {}
        },
        {
          "output_type": "stream",
          "name": "stdout",
          "text": [
            "Saving secure-connect-db-manish-cds.zip to secure-connect-db-manish-cds.zip\n"
          ]
        },
        {
          "output_type": "execute_result",
          "data": {
            "text/plain": [
              "{'secure-connect-db-manish-cds.zip': b'PK\\x03\\x04\\x14\\x00\\x08\\x00\\x08\\x00Qw/X\\x00\\x00\\x00\\x00\\x00\\x00\\x00\\x00\\x00\\x00\\x00\\x00\\x06\\x00\\t\\x00ca.crtUT\\x05\\x00\\x01\\x1aH\\xa5ed\\x94\\xcd\\x92\\xba8\\x14\\xc5\\xf7<\\xc5\\xec\\xad)\\x01?\\x90\\xc5\\x7fq\\x03!\\x80\\x06\\r\\xf2\\x15w\\x82\\x1a\\xc4\\x06\\x15i\\x02>\\xfdT\\xdb\\x9b\\xa9\\x99,O\\xa5~\\xf7\\x9c\\xba\\xb7\\xce\\xdf?\\x0fa\\xe2\\x05\\x7fY8\\x8c<\\xc7\\xb3 \\xc2\\x1fU\\xa1\\x9egw\\xb6e\\xc1c\\x14 =\\x04\\xc2\\xb3P\\x13K\\x9bq\\x7f}?xe_\\x04\\xc0\\xf0\\x061\\x90\\xe77\\xdeP\\xb8\\x11\\xd0b\\x8cJj%\\t\\x1d\\x14\\xeb\\r>\\x12A\\x82@Dp\\x0b\\x10\\r\\x99\\xc4\\x82\\xdb\\tc.\\x96]\\xc4\\xd3\\x85\\xca\\xf7\\xc8\\xce\\x893\\xf2\\x08\\x87\\x14V\\x1f\\x80UR/$\\x8e\\xaa\\xf0$Py&\\x06\\xbb\\x02\\xfa\\x0bzE(\\x0e^\\xf9,\\xb9\\xd1=\\x97>|`6\\x1e\\xb4\\x8a\\xef\\x177~]\\x94\\xc5,\\x1c\\xf9^\\x93Em\\xde\\x94M\\x1d\\x96\\'\\xe2\\xbcO\\xc4\\x99o\\xea\\xa0\\xcf#8;R\\x1di\\x04\\x03\\xad`\\xa46\\xd6\\xa9\\xed\\x1f\\x1d\\xa9\\xbe\\xff\\xabQ\\xf7\\xf5\\xef\\x08<\\x82\\xaf$\\xa2\\xec%-\\xf6\\x99\\xeaa\\xe9\\xdb,\\xc21E\\xdeo\\xee\\x81nb\\xdd\\xf9>\\x11,\\x98>\\x94E\\x8d\\x07\\x05G\\xb0\\xfb\\x05\\xdc#\\x0b\\x7f\\xdcD?n(\\x9bK\\xfb\\xd7\\xfe\\x06\\xcb\\xc4\\xce\\x89\\xa9\\x1dl\\\\S\\x8b}`0\\xd0\\x13\\xd7\\xf1\\xb7r \\xde7\\xcf\\x02\\xb5\\xa8qW\\xb8~\\x7f\\xb0\\x167\\x9e\\x85?9\\xcb\\xb3\\xb5\\xa8r]\\x95B\\xe0+\\x05\\x95X\\xfb\\'\\xd9{\\xf9\\xccf\\x18\\x01\\x8b\\x01\\xe6\\x1eRl\\t?\\x1f\\xd6p\\xf7\\x100{\\xbdm\\x1e\\xb2\\xa0\\x86\\x0b\\xc7t\\xdb7\\x17t+0\\xdf\\x18R\\xa2\\xee\\xd1\\x9d\\x83b~,2\\xaa\\xd5Q{\\x17\\xfa\\xca\\\\\\x0fBy\\xc5\\x0c\\x8b\\xd36\\xd2\\xf1%\\xbc\\xeeg\\xcf\\xb2\\xdd\\xe5\\x87\\xc6\\x98\\x9c3\\x1e\\x81\\xd1Df\\x9c\\xcd\\x86\\xa6\\xd9\\xc9\\xab\\x88\\xa0\\xc6\\xec\\xc4\\xfa\\xcb\\x14\\xb2\\xa3\\xd1NH\\xf9@w\\xe5y\\x9fZ;\\xd5\\xcf\\xf0\\xa9k;X\\xad\\x13\\xfb\\x99\\x92A4\\xcd#\\n\\xd2\\xdc\\xa9\\x11\\xae\\xac\\x9a\\xe8\\xa69\\xcd\\x1d\\x91\\x92Z\\xf4\\xb0\\xa9J\\x99\\xba\\x10\\x8f\\xd1\\xec\\xe5*e\\xa8\\xa9\\x93\\xb8\\xed8YZ\\xa0\\xc2[[\\xb5r2\\xaa\\xdd\\xa5\\xf0J\\xb2v\\xfbj\\xdb\\x15\\xddE4\\x95\\xfdX\\\\\\xae\\xdf\\xee\\xb2\\xf7\\xf1\\xd9}m\\xd7\\xab^l\\xfd\\xf5R\\x19P\\x94\\x1f\\xd3\\xea\\x02\\xbb\\xa7\\x07\\xed\\xc3J\\x9do\\x81\\xdb\\xf8\\x1d55\\xaf\\r\\xa3\\x0eg\\xb4\\xaa.;\\x87Ndk\\xd1G\\xb6\\xdf\\x06Mm\\xe8z\\xff\\xb0\\xc6\\xea\\xad\\xe5\\x8a4\\xf3\\xe4\\xe4q\\x95\\xe0\\xae?\\xf9\\xef\\xb5\\xcb\\x19\\x9f\\xc2\\xe4\\xd5\\x05IM\\x0f\\x1a\\xd5\\x82w\\x08\\x82\"\\x00R\\xb1\\n\\x01\\x85\\xf9\\xcf\\x1aO\\xb6\\xc4h*\\x19V@zVi\\xc3\\xe9\\xe7\\x16\\xdc}\\x8c\\x9d\\nb$D\\x8b\\x04v\\x10+l\\x10\\xdc[K\\x8e\\x10\\x8b]\\x90X\\xda\\x92\\xdbI\\xa8F\\xc0\\xdc)\\x82X*\\xf0CzC\\x80\\xc4\\xedY\\xde\\xae\\xc4\\x94*\\x02\\xf6r\\x00\\xb6\\x160\\x0c\\x89/\\x97\\xa7$\\xf2c\\x97,\\xc74>\\xecdz\\xbaizx\\xfcv\\x06\\xd7\\x9cL\\x94\\x18i\\xcbK\\xaf\\xcaM0\\x1a+\\x14\\xf0\"\\x99&y\\xf0\\x9c\\xb2r\\xac\\xdff2=\\xeciW\\xb7\\xbe\\xd4\\xa7_\\xc9\\xfcjt\"\\xa1\\x89s;\\x06;|v:w\\xbbQ\\xd4\"\\xf5\\xebd9~;_iJ\\xaa\\xe3avw-\\xd8\\x98 \\xc5|X\\xa6\\xac\\xee\\xe8\\xbd=\\x9f\\x8aG\\xb8\\x87-i\\xcc2\\x9bx\\xf4\\xdc\\x84\\xce|\\x8b\\xbd\\xd5W\\xa7\\x10\\xcdx\\'\\xe4H\\xa3\\xf2`L\\xb7\\xee\\xdb\\xf1z\\x91-\\xc6\\xe6\\xf9e\\xbeB\\x94\\x11\\x15\\xaa\\xe0\\x85\\x88\\xce\\xae\\xbb\\x89\\x9a]\\x8f&\"}_\\xdd\\x9ep\\x19\\xe4c>\\xb7\\x94\\xf4X$\\xaf<O\\x9d\\xb6\\x98\\xb4g^o/\\xf5}\\\\\\xe5\\x9a\\xf3UOE\\x96\\xect;\\xaf(\\x97n\\xb6\\x08\\xd7\\xfd\\xae\\xd3\\xf7\\xcc\\xd8\\xe8\\xd7L\\x1c\\x8f\\xdaq>\\x11\\xa6r\\xf0\\x87i<\\x0b\\x1dw}vr\\xf9\\x087\\x8ek\\xa83\\x07\\xb4TW\\xb5\\x99I\\xafu\\xbb\\xbf\\\\\\x1b\\xf7\\xca\\xf6\\xe3$\\xc5\\xf6\\xcb\\xd8\\xcd5\\xf9\\xe7\\x8f\\xf2iD\\x1c\\xd8\\xffk\\xc9\\x7f\\x02\\x00\\x00\\xff\\xffPK\\x07\\x08\\xd2\\x87\\x16\\xe6\\xe8\\x03\\x00\\x00A\\x05\\x00\\x00PK\\x03\\x04\\x14\\x00\\x08\\x00\\x08\\x00Qw/X\\x00\\x00\\x00\\x00\\x00\\x00\\x00\\x00\\x00\\x00\\x00\\x00\\x03\\x00\\t\\x00keyUT\\x05\\x00\\x01\\x1aH\\xa5el\\xd57\\x12\\xabZ\\x02\\x04\\xd0\\x9cU\\xbc\\x9c\\x9a\\xc2\\n\\x13\\xfc\\xe0\\xe2\\xb9xo2\\xe1\\xad\\x00\\t\\x10h\\xf5S\\xffM:\\x9dv\\xd2\\x1d\\x9d\\xff\\xfc\\x1bAVu\\xfb\\x8f\\x1f\\x80?\\xae\\xaf\\xc7 \\x94\\xff\\x18r\\xf6\\xb7A,]\\x97W\\xa0\\x0b\\x00\\x18\"\\xf0dp\\xc0\\xe5\\xda->\\x9b\\xf1z\\xe8s\\x13\\xa7\\xb9\\xec[\\xb0u\\x8e\\xca6!\\xc2\\xe5\\x8a\\xf3\\xda\\x85V?\\xd0?G\\x1a\\r\\xf3@\\x1c\\xabRBjle~\\xc8\\xa6_]\\xe9\\x1c\\xbbFc\\x93m\\xfa\\xa0\\xbf\\xb4\\xc2\\x9c6w\\xfb\\x18\\x0fC\\x94)\\x98W\\xb4\\xa8l\\xaf\\xad\\xee\\xd0c\\xb3x\\x08\\x1d\\xc0#\\x84Q\\xa7DQ\\xf9\\x94\\x9a\\x88L]\\x04R\\x92\\xb1 \\xcd\\xc6\\xa3\\xce\\x06\\xda\\x9e\\x1a\\x85\\x00}\\xe8N>\\xfdy\\x8e\\xd5\\xe7x\\xca\\xd9\\x97;K-\\x06\\xe7\\t\\xaacj\\x91g\\xef\\xba\\x11E3\\x809\\xbb\\xf3d\\xe7\\xfa9G8\\xe8\\x0e\\x9d\\xaf\\xef3\\xfe\\xc0x\\xb9\\xbfK\\xd6D\\x80\\xafC\\x1f5R\\xe3H\\xe6\\x90\\xafl\\x7f\\x89\\xef\\x19\\xcf\\x1e\\xc8\\x10\\x04.I\\x8e\\xe2\\\\\\xb6\\\\Kf\\x82\\xbf>\\x99\\xca\\x80\\xc6\\'\\x8c~\\xe1gA!?\\x13\\xe9\\x83(S\\x18\\x17R[\\x112\\xba\\xba(\\x9e,\\xc5+\\xe2]\\xb2\\xf3\\x91\\xc9\\xcc\\xcb\\xd3\\x198\\x91>\\xa5\\xe6\\xf0\\x87\\x03\\x04\\xd6\\xfe\\x82\\x1f\\x88\\xbd<\\x88S\\xa4i\\x13L\\xeb\\xe9\\x12\\xf0\\x80\\x00\\x16]\\x00\\x9e(?\\xaa\\x88\\x90\\x7f!#\\x85-D\\xc8\\xa6\\xaa\\xf2G\\xab\\xf8\\xd9Q\\xdb\\xfa\\xf2#\\xa5\\x14\\x85O>\\xf8\\x9dv\\xbcz\\xd5\\xdaJ\\x06\\xe3=l>\\xd7\\xc6\\xac4wBm\\xd0\\x008\\xef#\\x7f\\x85\\x07)@\\x0e9\\x9a8\\x1e\\xac\\xf5\\xbc\\x9bW\\xe6-\\xd8\\xe8\\x10\\xb29\\xd7\\x19\\xcc\\xa9z\\xcd\\xbbY\\xc9\\xd9\\x07\\xfb9\\xb04\\xfe9=\\x01)\\x93\\xd6\\x125iN\\x07\\xd7\\xbf\\xb5\\x16\\xa6\\x13b\\xb9=\\xcc.X\\x8f\\xcd\\xae\\xaef\\xecAK\\x8b\\xad\\x81\\x1c\\x9fo\\x8c\\xab\\x9e\\x90\\x05\\xdd\\xeb\\x8e\\xf8h\\x14\\x9e\\xaf\\x02\\xbbB\\xcc\\x17\\x1d6\\xffiMt\\x9c\\x876\\x94\\x00I\\xd8\\xa6\\x99\\xbfWr\\x19\\xb6\\x9f\\x11\\x19\\xab\\xd1\\x04\\xe3\\x8d;\\xeb\\xd9\\xf2\\x8a\\xb9\\x91\\xe99ny\\x9bK\\xe5\\xea:\\x833P\\xcfE\\xd2z\\xe9\\xb1\\x92\\xe9\\x82\\xc4&\\xef\\x1fR\\xe2h6W\\xab\\xe2\\xaa\\x93\\xe5\\xf3\\t\\xa6\\xa5\\xc5\\xa6\\xee\\xd1!\\xbb\\x93\\xbfh\\xacL\\x99\\xb7&\\xc4\\xc9y\\x89\\x0e\\xc5S\\xa5^\\xad\\xc4dJ\\xdd}\\xec\\x19\\xf4O\\x9bB\\x04\\xb5$\\xc5\\xdbV\\xc0\\xa2\\n\\xc0\\xe6\\xde\\xf8\\xe6G\\x11u\\x91Vw\\xd8\\x8d\\xf1\\x9b|e2\\x15\\xf7lU\\x85O\\xf6<(\\xa3\\x18\\xcf\\xb84\\x8e\\xdb\\x9e\\xf0^{a\"T\\xf1c\\xe2\\xee-\\xe7\\xa2\\x00\\xba\\xa2k\\xa5\\xab\\x8a\\xdd\\x92;\\xa9\\xf4t\\n\\xa0y\\x1b\\xda\\x1e\\xd2i\\x87@\\xbf9\\xd0\\x89\\xec\\xfb\\xc2\\xa6R\\xa4\\xb3\\xdbT\\x8d\\xbe!\\x1f\\x08\\xf3\\x89\\xc5\\x86\\xdc\\xbd\\xe5\\x0c\\x83\\x8f\\xd5\\x99\\xc5\\xdc\\x9d\\xc5\\xe8\\xf7\\xaa\\xc1$\\xf5\\x9c(A~\\n\\xf9\\xb3\\xee\\x0f4^\\x97\\xa4\\xe0\\\\\\x10\\xb1\\xfc\\xf2~\\xffo\\xb1+ \\\\7\\x8d\\xc5T\\xfe{\\x0b;\\xec{\\xd2\\x9c\\xc2\\xf5\\'\\xf8\\xdc6k^\\x07-(n\\x85 \\xf0\\xf1F\\xf1\\xf7\\x16,a;`F\\xb3\\x8aCf\\x8c\\\\i\\xd6\\x94\\x8b\\xc8\\\\\\x0f\\xde33\\x9a\\xb7zx\\xb2\\xf85I\\xf7=\\xfb\\xf5\\xaf\\x0f~\\x0b\\xaf?\\x0f\\xbe%\\xf1\\x89\\xfd\\x848\\xc8\\xf1:\\xfaTVs\\xb0\\x98\\x8e.\\xb7\\xedz\\xaeq\\xc6\\xc80\\x8e5\\xe9\\x04\\x12\\xa9\\xbe5o\\xd0\\x86_\\xaf=f\\xf8\\xe0\\tF\\xf5\\xcc\\xa5\\x0e\\xbdi\\x8e\\xcd\\x07!\\x81E\\x05\\xde\\xf4~EPb\\xd4R\\rPm\\x95\\xb4\\'N 5\\xce+;\\x96\\x87\\xbd\\x1dw.\\x08\\x92\\n\\xa6\\xa5\\x10EU\\x9e79X\\xfa\\xd3$+\\xad\\xf9h\\x17J\\xfc~\\x8f\\xd4c\\x02\\xad\\x11\\xa8\\x93\\xa9\\xd3\\xae\\xfa\\x18e\\x8a!\\xfbem\\xdf\\x1dNrj\\xf1V\\xd3q\\x80\\xd6\\x92\\xf7I\\x87M\\x9f_\\x92G\\xb5\\xc5\\x00\\xf7B\\xc1\\xd3j\\xc3\\xd4F\\xad:{\\x05\\x85sQ\\xaf\\xddVv\\xf8}x\\xc8s!@0\\x93[\\xa1\\xa5>\\xf1\\xfcT{\\xda\\xe3\\'\\x89\\x8bm&\\x839%\\xdf\\xc3~\\xd9\\xe9\\xb6E_Q\\xa3\\xc3\\xb4\\xec\\x02\\xf4\\n\\x1a\\x93/F\\xbd\\x1c\"\\xe5\\xa5#\\x11\\xda\\xcf\\xbc\\xd2\\xba\\xecL*\\xf6|\\xba\\x0cE\\xbdY\\x94\\x07\\x0e[w\\xd1\\x97Kv\\x94sZ\\xcf\\xef\\xf2\\xb4\\xa3\\xd1yc\\xd8\\xdb\\xd0\\x84\\xa2\\xb4\\xf3\\x07\\xc0\\xcd\\xed+!\\xc3x,,\\xaa\\x96\\xb3 \\x13\\xea\\x88cn9\\x12\\xb5q\\xb9y1\\xb2\\x9eo0\\xb4\\x98\\x98\\\\\\xde4\\xfc7K\\x1f\\xa1f0f\\x12\\xa0\\x1f\\xae\\xfc\\xd5\\xbc|\\x1fR\\x8f<\\xee\\xcb\\x82\\xb7,\\xb6\\x99\\xb0I\\x80\\xbd\\x87>\\xc1\\xcc\\x91\\xc4\\xa0\\xc8\\x81\\x87\\xdd\\xda\\x8eT\\xd3\\xea]\\xd4<}|F\\x11\\xfc\\xde{\\x8em${w\\x9aL\\xbc\\xd98D\\xe4\\x98\\x80Q\\xce\\xeb\\xdb\\xf3\\xbc\\\\\\xfa\\xbb&\\xe70\\xf3k\\xe1\\x9b\\xa9\\x92\\x9b\\xd0\\x1e\\xd8`\\xa8&\\xb2P\\xf1>c\\xce\\x88\\x08\\xe0\\xe3\\x86\\xd5\\xab\\x078\\x11_\\x0b\\x9aA\\xe4\\x8c\\xe9\\x93\\x0f=z\\xa3&\\x94-rJ\\xda\\x16tx\\xa6\\nj{\\x96\\xf3\\xb9\\xdap\\x99\\xdc\\xa2K\\xe4\\x8dW\\x9a\\x85\\xe1\\xefB\\xcd\\x87\\x13\\xfc\\xf3\\x0f\\xf2\\x97\\x15\\xd9\\x96\\xfe?7\\xff\\r\\x00\\x00\\xff\\xffPK\\x07\\x08\\xba[<[\\x0b\\x05\\x00\\x00\\x8f\\x06\\x00\\x00PK\\x03\\x04\\x14\\x00\\x08\\x00\\x08\\x00Qw/X\\x00\\x00\\x00\\x00\\x00\\x00\\x00\\x00\\x00\\x00\\x00\\x00\\x04\\x00\\t\\x00certUT\\x05\\x00\\x01\\x1aH\\xa5e\\x8c\\x94M\\xaf\\xba8\\x1f\\x86\\xf7|\\x8ago\\x9e\\x1c^U\\x96-\\x14,P\\xb4\\xbcI\\xd9\\xc9\\xcb\\x01AE\\x0fb\\x81O?\\xd1\\xb3\\x99\\xcc$\\x93\\x7fW\\xbf\\xdci\\xae\\xb6\\xc9\\xd5\\xfb\\xff\\xef\\x05\\x91\\x8d\\xfd\\xff\\x19(\\x88\\xb0\\x85\\r\\x10\\xa1O*\\x10\\x8c\\x115\\r\\x03\\xcc\\xe7\\x1ap\\x0cA\\x8d\\rx\\xeb\\xb9I\\x99\\xe3\\xf6\\x19n^\\x85\\x0f(\\xf2 \\x05\\xbcZ\\x90G@g\\x03)F\\xb0!F\\x92\\x90I0\\x16\\xe0\\xc0\\xdaO \\xa8#\\xd0\\xf9\\x90\\x04\\x94\\xa3\\x9a\\x99\\t\\xa5;\\xc4\\x9f\\x11;j\"\\x0b\\xa1\\x99\\xdb\\xd6\\xcc\"\\x14\\x10\\xb0\\xfd\\x00\\x8c\\x86\\xe0\\xc0\\xb6D\\x81%\\xbe\\xc8\\xd2z2[@~AC\\x04c\\x7f\\xc8\\x95\\xa4#!\\xe3\\x0e\\xf8\\xc0L4I-\\x0b\\xb5\\x8e\\x9d\\xb5\\xa6P\\x82\\x99\\x85\\x12/\\xaez\\'x\\xd7\\xa0)mk)mK\\xf5\\xae\\xfe+\\x8f@eqq\\xf6M0\\x91(\\x9e|3VH\\x0bO\\x16\\x17\\x97\\x7ff\\x04\\xdb?\\x02\\xa1\\x037\\xe8\\xe7\\x14\\x1bq\\'\\x89\\xff\\xf6N\\x03\\x12\\x83\\x8ah\\xb2L\\x10\\xfe\\xde\\xae\\x88\\x0c\\xc9o\\xf2[\\xd0`\\xe4\\x0f,u\\x1a\\x81\\x04\\x88\\x9b\\xfc\\x03p\\x11o\\x10K\\x83&V\\x82\\xa62\\xd1\\x9e\\x00\\xfe\\x0b\\x9a\\x88E\\xe5\\xe9U\\x1e\\xe9\\x94\\xb40\\xfe\\x85\\x91(:\\xfa\\x83p:&ci\\xa8Rf\\x82\\xc9\\x97\\xa9\\xba\\x0f\\xa5\\x8e\\xb5Y\\xebEt\\xda\\xdb\\xe8\\xc9\\xda\\xe6\\xe2\\x9f\\xc59\\x8b\\x88L\\x96B&-\\xd3X\\xd4=Y\\xea\\xdfY(-B\\xae$\\xe2\\xc9Dcf\\xe3\\x91\\xa5\\xbeX\\\\\\xdf\\xb3%\\xbeg\\x96\\xd6#\\x93\\xf5\\'\\xc1\\x18\\xe2\\x16\\xf8\\xb0\\xee\\x1eMw\\xb6u.B@\\x91\\x05\\xc0\\xde\\x10\\x00\\xdd\\x82\\xf7\\x06\\xa3v\\r@\\x11\\x18\\x9d~z\\x12\\x9d]\\xc5\\xaa=g\\x9e\\xa8n\\x19\\xcf7U\\xb6B\\xbed8\\xfd\\x94d\\xd5\\xc1!\\xe7V]\\xf6f\\xe7z\\xa3\\xb0\\'\\xa5\\x15)]\\x8d\\xf4\\x96]\\x96\\xaa\\xc4\\xdb\\xcd=\\xee\\xbe\\xd9\\x03\\xb7\\xf8\\xb6\\xcb\\xbd\\xcb\\xe3\\xf0\\x18\\\\\\xcd5\\x90\\xe2d\\xa5jX\\x8f\\xdb\\xa3jV\\xe3\\x83\\xe8\\x8e\\xb3\\x07\\xba \\xb9U*\\xe5e\\xa0\\xd8Gc]\\xe5\\xa1yd\\x1b\\x90\\xb2n\\xacX\\xab\\xfa\\x97oK\\x02\\xe7\\xe8p\\t\\xd4\\xe1\\xd4\\x95\\xc3xB\\x8co_\\xc5.\\x01\\xaf\\x17(\\xc7K-\\x9c\\xce\\x87C\\xac\\xa8k\\xb0~5\\xaf\\xd7\\xe6Z\\x9d\\xae\\xb1\\x08\\x9a\\x11\\xeb\\xd5\\xfcJ\\x06\\'\\xe9g\\xde\\xb3\\xef\\x18\\xe8U\\x14\\xac\\xdc\\xd4\\x1d\\x8f\\xd7H/\\xfd\\xa0O\\xe6\\xab\\xc84\\xa1\\r\\xc3\\x83,w\\xc6\\xb5\\xa8\\xb7\\xb5\\xcc`p?\\xadK\\xd7q\\x87(^\\xa2\\xa1_9\\xfaUJ5\\xa9H\\x9d$7\\xebRB\\xab\\xfba%\\x1e\\xfb\\xfc\\x16\\xeb\\x07\\xb9\\t\\x84\\x8b\\x97\\x15\\xaf}\\xbb5\\xd4\\x97\\xf9=\\x06\\xed\\x08B\\xf2\\xbc9\\x83\\xf3u\\xa3\\x8e\\xa8\\xc8\\x9e/\\xadk\\x8aM@\\x01\\xecU\\xbb \\xd8\\xce\\x08P\\xdf~\\x94&GP\\xf8\\xe2\\x14\\x01\\x8ew\\xb5\\t\\xca\\xb7 \\xbb0FV\\x0bbX\\xd7?\\xb0F\\x16\\xa4\\x85\\tj\\x86]\\xce \\xa4\\xf1\\x0ep\\xc4\\xcd\\xf7g\\x0b\\xc4=\\x04\\x05\\x12 E\\x06\\xe0\\xd4&V\\xfd\\xa1\"\\x1a\\x04\\x04\\xad\\x8c\\xb7e\\x7f\"\\x99\\xf0_\\x96\\xfd\\x89d\\x02\\x01\\xa2m\\x84\\x0f;\\xc4\\xb9bR\\x04\\r\\x1e\\x03\\xa0b\\x08(\\x90\\x97\\xe3}\\xea\\x8du9\\xb2[\\xc9\\xf8\\xc2\\xbd\\r\\xef\\xef\\x06\\xfe\\xf1Af~m5}u X\\x88\\xbcv\\x7f\\x9e\\xc2\\xafKVVm\\xb8\\x85\\xa78]\\xfb\\xa7\\xeex\\xe7\\xf6\\xba*}S\\r\\x06\\x0b_\\xfbEL\\x89\\xb2\\xfd\\xda\\x1d\\xad\\rq\\x9e\\x92\\x83\\xe5\\x97\\xc6\\xc7~\\x06\\xc2N\\xbdk\\xe5|\\xff\\x16g\\xa6\\xae\\xf5G\\xaeUE\\x8e\\xd4[\\x19\\xcc\\x92\\xb6\\x97\\xd4\\xa0WfK<U\\xad+\\xed\\xb2\\xc1\\xe9\\xcf\\xe9V9\\xd4\\x17^\\xef\\xb1{\\xbf\\xeb\\x1e\\x17\\xb2\\x1d\\x9e\\xb8\\x0c\\xda\\xe0\\x99\\xbb\\xed\\xb6n\\x82\\xa7\\x1b\\xd3\\xf0n\\xdb\\xf71\\xadi\\xd5J}\\xdbZ\\xf7\\xb88\\xa9\\x96S[\\xc4\\x1a\\xa0\\x96\\xed\\xe0&2;\\xc5\\xd8\\x1c\\n&\\xa0>\\xcf\\xd2\\xc7f\\xfc\\x1e\\xc0\\xc1\\xf6\\x80,GE\\x8b\\xcf\\xe5\\x88\\xea/\\xd8\\xe4\\xd3\\x90\\x05\\x9b\\xac\\xe2\\xde\\x80\\xc5\\xabU:\\xf6e8\\xbbJ\\x1d\\xde\\xc6\\x93\\xfcx\\xceK\\x82\\x85A\\x8a6AvT5\\xa0mn\\x1bz\\xa5Q\\xbc\\xa0\\xa7\\x1e\\xbd\\xc2\\xe7\\x8fU/~\\xca\\xe9\\xe6bzsI\\xca\\xc4[~B\\xe1S\\xe6\\xc87\\xff]\\xf0\\x7f\\x05\\x00\\x00\\xff\\xffPK\\x07\\x08\\x8dpb\\xf23\\x04\\x00\\x00\\xfd\\x05\\x00\\x00PK\\x03\\x04\\x14\\x00\\x08\\x00\\x08\\x00Qw/X\\x00\\x00\\x00\\x00\\x00\\x00\\x00\\x00\\x00\\x00\\x00\\x00\\x0c\\x00\\t\\x00identity.jksUT\\x05\\x00\\x01\\x1aH\\xa5e\\x8c\\x94{p\\x13e\\xbf\\xc7Sh\\x0b\\x06\\xb0\\xa8\\x14\\x90R\\x10)\\x8aDl\\xaeMR\\x14\\xdc\\xdd\\xec&\\x9bd7\\xd9\\xcdu\\x83\\xe0\\xc9\\xad\\x9bl\\x9a[s\\xd9$\\xa0R@nB)\\xda\\xf6`\\xa9\\x1c(p\\xc0Z\\n\\xf4\\x82\\xc8M\\xe9\\xc8\\xb5\\x9e\\x03(R\\xa0r\\xd7R\\xca\\xe5(r\\xadP\\xce\\xb4\\xfc\\xf3\\xce\\xfb\\xce\\xbc\\xe33\\xf3\\xcc\\xfc\\xe67\\xcf|\\x9e\\xe7\\x99\\xf9\\xfc\\xbe\\xbd\\xb7zoq8\\x9c\\x01\\x1c\\x0e\\'\\xad\\x7fg:\\x8b\\xbd\\xee@\\x94\\xc3I[1l\\xfd\\xe6o8\\x9c\\x0c\\x0e\\x7f~\\xfac\\xfe\\xf3\\x99\\\\^fZz\\xda\\x94\\x01/\\xa4\\xa5ep\\xd2\\xe7\\xa7w\\xdd\\x19\\xd3qj\\x85\\x9ak\\x9b#[\\xd9\\xb4\\xde\\xea\\x89\\xedG\\x0e\\x19LUC2\\x9f\\xdc\\x0e\\xfe1\\xeb\\xb4\\xa1\\xf1)4\\xe8Zm\\x85\\xa7e\\xf6\\xc3\\xd2\\xd8\\xb6?\\xd6\\xbc2OZ\\xa7?\\xb3\\xfb#\\xd7\\xd9k\\x95;c\\xe9_5nr\\xae\\xde\\xfb\\xc9\\x89EG\\x87\\xbc\\xf9\\xc1\\x03\\x9bz\\xb3\\xea\\xe6\\xd8\\x0b\\x93\\xaf\\x08\\xb7\\xfby\\x82%\\xc37\\xbfN\\xb6\\x1c\\x1ae\\x7f,\\x0f\\xcc\\x9e\\xd8\\xf3e\\xe9\\xb2\\xb61%\\xf1\\x8f<\\xa6\\xcb\\xe95\\xaf\\x17~?\\xec\\xa5\\x91i\\xc1F\\xfa$\\xf7\\xeda3\\xa0\\x81\\x01\\xf4\\xf6\\xbar\\x1dtq[\\xef\\x93\\tuyU?Gk\\x07\\xac\\xc6\\xd8\\xc9\\xf4\\x8b\\xf3n\\xa4\\xc2\\xe5\\x1d\\xe2\\xef\\x1f\\xd6Z\\xce\\xafx_\\xd3T\\x84$\\xafT_\\x9f\\xfeW\\x1d\\xd9P\\x93\\xeal\\x90\\xad\\xda\\x9c\\xdd\\xde\\xf9\\xdc\\x83\\xa9\\xe9\\x87\\x12\\x9e=i\\xd9+\\x7fVfo\\\\R\\xf4P\\xde\\xfb\\xedvo\\xe1\\xbaQ\\xcd\\xaa}3g\\xeb\\xb6\\xbf\\xb7\\xb3m\\xe2\\xd6\\x05ohe\\xbb\\xde\\xd9y.\\xb5c.\\xaf:^\\xa3[v[\\xf7\\t\\xf3Cw\\xfe\\xa3{\\xb5#{2\\x1e\\xd4o\\xfamD\\xfb\\x85\\xa6\\x9b/D\\xd2\\x9a\\xb7e\\x85\\x0e\\x0fDr\\xc7\\xf0\\xf7$BXv7h\\xb6\\xc7\\xca\\xbf\\x18;`\\xdc\\x7f?\\xc7\\xcbm9n\\xe3\\xa8\\x0eM;\\\\\\xc7\\x0c\\xe0\\x95\\xef?\\xbbt\\xc9_\\xed\\x93\\xd6\\xe2\\x1b\\xd3\\x8f\\x8f\\x1d\\x9d\\xa3\\xda\\xbf\\xbf\":y\\xa2~\\xd4$`\\xb9Au5\\xd30nw\\xcd[C\\xda\\xb7\\x97\\xcd\\xac\\xd8T?\\x02\\xee\\xcc;\\xf0*;\\xf7\\xdc \\xed\\x0f\\xc4\\x0b\\x85\\x1d\\xa3s2\\xd6\\xdc\\x9ec\\x1cU3\\xd0\\x9c\\xb3\\xa1y\\xc2\\xcd6\\xd3\\x1eu\\xfd\\xa0\\xbc\\xc1\\x99\\xa7\\xeb\\'\\x9d\\xfdua\\xc5b\\xc3\\xcc\\xf4o*\\x1fOy\\xa3L7\\xf2K\\x84\\xdf\\xb5\\xbd\\x91s \\xad\\xac\\xde\\x8b\\xa9Z>\\x9ez\\xc6}\\xf2\\xf6\\x93\\x15\\xcbO>h+\\x0co\\x81\\xc3\\x16\\xacl\\x05^S\\xea\\x12w]\\xa0\\x1a\\x1a\\xceS\\x0f.\\x15\\xde\\\\[{%Z\\xfa\\xd3\\x86;\\x17\\xafB\\xfe1>\\xff\\xf9\\x11\\x13+\\x97\\xeb,wiC\\xd5g-\\xc9\\x0b[\\xee,s\\xdc\\xdb\\x85uq\\xd7M\\xc5?\\xbfq\\xa8+&\\x7f~\\xeb\\xa5\\xfds_|$\\xf9\\xb5\\xadW>\\x8b\\xd4\\x9c\\x18u\\xbdc\\xe1\\x89\\x1c\\xe1\\xd2\\xc5\\xc7^\\xd37\\xc1\\x1f\\x1f\\x06\\x96\\x1e\\xe1\\xb7\\x9e\\xba\\xdf\\xf3\\xee\\xcc\\xac\\xcfg4\\x8c^\\xbc\\xe9t\\xc3\\xd3cB\\xf1\\xa8\\xea\\xd2\\xeb\\xd0\\xf2\\x83\\xe7\\x17\\xdf\\xc5\\xbf[\\xc0;\\xb9\\x07\\xce\\x9a\\xca\\xe2\\xed\\xb5\\x149||\\xce\\xc4\\x9a\\xa6\\xddC\\xea\\xaa\\xbf\\x9bu\\xfeq\\x954\\xed\\xb9\\xda5Y\\xaf\\xe5\\xa6\\xed~\\xfaZ\\xd6\\xdb[7}\\\\\\xda\\xb2\\xf5\\xda\\xae\\x193\\xa6w\\x93\\x9c\\xecM\\x8f\\x02\\xd5\\x85\\xd16Qv\\xe8\\xb8}\\x98\\xea\\xdc\\xa4\\xado\\xc68[9Fp\\xcb\\xceU\\xd7\\x02>\\xae>r/no\\xda\\xf7\\xc3\\xa9\\xf4\\x0f;\\x1e\\x15\\xa4+\\x86\\x83\\xe9;\\xc36f\\xc4\\x049\\x82M\\x8c\\xff\\x98\\xef\\xbf\\xcf\\xb9\\x7f\\x0c\\xc6\\xaf\\x84\\xe6\\xaf\\xc9X0\\xcdW7[\\x1c\\xb8\\xfbm\\xf0\\x17\\xf9W\\x85G\\xa6L\\xfe\\xdfJ\\xac\\xeb\\xa2\\xc84b\\x89.7\\xd05\\x97\\x9f+\\x8f\\x8c\\x98>nZ\\xd3\\xf5\\xd6\\xab\\x9d5\\xdb\\xb1E\\xf2#E?m9x\\xe4\\xe0\\xa9\\x81+G\\x0f\\xed^wT\\xc8\\xf8\\xdcohr\\xff\\xef\\xc3p\\xc5\\xef\\xeb\\x97%\\xae\\x8f\\xcd\\xdf^5\\xdb\\x1b\\xcf}\\xafq\\x95*\\xfb\\xc1\\xbe@\\xc6x\\xb4\\xa3\\xe7\"\\xc5\\x9b^\\xf4\\xf5\\xee\\xbc\\xfa\\xa2]\\xcd\\x05\\xad\\x8e\\x82\\x97z\\x1eb\\xd0\\xcc;\\x91\\xd6w\\x9bZ\\x9f8\\x0f\\xe7\\x94\\x89\\x07\\xad\\xde[\\xb8\\xecq\\xe9\\xe5\\xc2\\x01t2\\xaf\\xb7\\xf1O\\xf1F\\xb0.g\\xb9~uI\\xb1\\x9c\\x9c;\\xe9\\xcf\\xb7\\x86\\xef\\x08\\x1d\\xdc\\xb1\\xa2\\xfcX\\xf3\\xcc[\\xcdG\\xbb\\xdf\\xf9\\xa9\\xad\\xaarC\\xed\\xa5;w\\x97fA\\x93\\xba\\xc6\\x05\\xea\\x87\\xb5O\\xbbR( &\\xdeh\\x1d\\xb1\\xeb\\xf2\\xd5\\x90\\xf8\\xd1\\xed\\x13K\\x1a\\'T|\\x95o\\xf8\\xedB\\xbc\\xee\\xdc\\xef\\x1b\\xcbv46\\xac\\xc1+\\xc7\\xf74\\xcd\\xfb\\xfd\\xd2q\\xe0\\xde\\x96\\xf2\\xb6!\\xf6\\x87\\xff\\xd3\\xda\\xfa\\xe9x\\xfa\\x88\\xb8\\xda\\x9e\\xa7\\xef\\xf9L\\xf1\\xeb\\xc37\\'\\x9f\\xc8\\xdd\\xf7\\xb9g\\xd5\\xd3\\xd3\\x1f\\xdd*\\xdf\\xb1h\\xc3\\xb7\\xdd-\\xe5\\xf7\\xe7\\x83o\\xb9O,~9\\xffB\\xb3\\xf2\\x8f\\xaa\\xea\\xea\\xdd\\x93\\xef\\x8c\\x14^\\xfek\\xcb\\xac@OO\\xf5\\xab\\x13\\x92\\xe7\\'\\x89:\\x86\\x1dM\\r.\\xa9+\\x92\\x1e__=\\xa8kf%T\\xa5\\xcd\\x93o:\\xbbo\\xe1\\xd5\\xaf\\xff\\xf3\\xd2\\xfd\\xee\\xdb\\xd9\\xd7\\x1e.\\xcc\\xeb5=-Y\\xb1\\x809{&\\x7f\\xc8\\xce[sz\\x1a^\\x99Sa\\xfar\\xce\\xc6\\xe5\\xf33+\\xe5\\r\\xff1k\\xd8\\x9e\\xbd\\x13*\\xd6\\x0e\\x9eO\\xff\\xe9jof*D\\xc5\\xcaF\\xc1\\xf4\\xb2m\\xb5n\\xfb\\xb4\\xc8\\xba\\xf5\\xee5\\x19\\x85\\xa3\\xee\\x88\\xb9\\xf9\\xff\\x95\\x19\\\\\\xb0x\\xc7\\xeb\\x17\\x7f\\xac/\\x19\\xecg\\xe7\\xad\\xfc4\\xebL\\xfe\\xdbY@\\xce\\xcb\\x1d<m\\x19\\xb7\\xf3\\xd1\\xab\\xb2\\x94\\xea\\xe6\\xdei\\x81\\x9a\\x80f\\xca\\xdd\\xa1\\xd7J\\x87\\xde\\xfd\\xfa\\xfd]7\\x88\\xc7\\xfaqke\\x1b6?\\xed>o\\xf9\\xf0\\xd3\\x13\\xbf`\\xfa\\xceV\\xb5s\\xca\\x81\\xdc\\x95\\xf3\\x06\\xe6v\\x16\\x90\\'\\xaf\\x00\\x07N\\xeaG^\\xea\\xfc\\xcc\\xf5\\xc5\\x07\\x95;\\xfas1\\xdd*\\xe1\\xcb9\\x9c\\x8c\\'S\\xfb\\x16\\x08+Q\\xfc\\x15\\x08&\\x8d(\\x82B\\x80\\x11\\xee\\xefr1\\x14\\x85\\t\\x05\\x04\\x01I/\\r\\xb0(\\x08\\xd0(\\x04\\x06\\x82\\xac\\x82\\xa0\\xd4\\x9a\\xa0\\r\\xf5\\xc4\\x9d8@\\xc0Z\\x90\\x00Xw\\n\\xd6b\\x80O\\t\\x08L0\\xe8\\xc1 \\xb3\\x19Kp\\xa1\\x14\\xa0\\x06i\\xdc\\x0c\\x02\\xb4\\x11\\xf0\\xe1 F\\x12,LS\\n3A\\xa8`6j\\xa4,\\x12>e\\x00\\x15\\x0e%\\x92\\xa4\\x8c0\\x89\\x01\\xb2~\\x00\\xe4\\xc1PR\\x89\\xf0\\xb9\\x94\\x19\\xe7SV:\\xa1`\\x00\\xec\\x19(b\\x04Mx\\xc4!2\\xfb0\\x03\\xc5\\xaa\\x81~\\x98\\x02N\\x08\\x18\\xca \\xf1Q^\\x89\\xc7)\"\\x93\\x94A\\xc0:\\xfdr\\x1fW\\xeb\\'=.%\\x92r)\\x11\\xb1\\xd6\\x8f\\xc7\\x1dF\\xc0\\x8d\\xb0\\xfc$\\xae\\x00\\x12\\x98\\xd1\\x94\\xc0\\x15&\\x11\\xc6\\x80v\\x84\\xe5\\xa7\\xfe\\xb9\\x87\\xa1\\xca\\x12.FDX\\x88\\xe8\\xbfE\\t\\xb3j\\xb3\\xe9\\x1f\\xfe\\t\\x81\\x18D\\xf0\\xe1\\x04\\xa2\\x00\\x0c\\xcf^\\xe74B\\x02\\xdc\\xe3\\x08\\x90\\x1e\\x14\\xc6#\\x94U\\xed\\xe1b$\\xcc*\\xd8~\\x80\\x06f=0e%=&\\x11\\xe9q+`\\x1d\\x06\\xb0\\xcf@\\t\\x0c!\\x84\\x89\\xb8\\xcbB$\\xcc\\x0chz\\x06\\xc3\\x8cF\\x0b\\x1e\\xe1\\xda-\\xe6\\x98\\x0b\\x12\\x0bl\\n \\x81\\x0b\\t\\xb1\\xce \\xf0Q\\x8c\\x8d\\xd1\\x1a\\x89\\x84N\\tG)\\xc6S\\x8c{\\xf9I\\x9b\\x11\\x13b)\\xa7\\x10c(\\te\\xf4E)+\\x1e\\xa2\\x0c\\x82\\x14\\xd7!2\\xf3\\xed\\n8fS\\xa21\\xca\\x8a\\xf3\\x9d\\xfe\\xbe\\x1a\\xe1\\xf7\\xd5\\x94\\x95\\x8eQBy\\x14CQ\\x10e\\x00\\x1c\\xa4}a\\x8f\\xcf\\xab\\x94\\xb3|\\x10 `\\x04\\x00t\\x10\\x17 d@\\xdf\\x01\\x88\\xd6@\\x00\\x01\\x031u0\\x11\\xc5\\xe4\\x94\\x9f\\xeff\\xbc6-_,\\xa3X\\x87\\xd4m\\xe3\\xc1\\xb8\\x00R\\x07\\x13f\\x9b[\\xaf\\xc6\\xbc\\x8c8\\xa5S\\xf84\\xda\\x18W\\x87\\xb9\\x10\\xa3\\xc8G\\xc3r\\x86*N\\xb9]\\xa8L\\x1a2\\xf9\\x8a\\xa80\\xca\\xa0\\x01\\x95C[\\x1c\\xd6\\x87#\\x1a\\x89\\x06\\x82Ej\\x9bK\\x0c!\\xe1@\\xd8\\xed\\xe1\\xc5\\xc2\\x98\\\\\\xad\\xd6\\x01r\\xae@\\xe3\\xb6\\n\\x1c.R\\xa4\\xb4@\\x05n\\x87Aa\\xa1\\xa4\\x80\\x95\\xf2\\xc5\\xdc\\x14#\\xc6\\x8b\\x8b\\x10\\x01\\xe05\\xea\\x8bIq\\xc4\\xeesEbv\\x98beq\\xa7\\xca\\x0c\\xc4\\xe3\\x80+VLs\\xed^\\xbd\\xde$\\x12\\x17\\x00\\x05qO<.\\xf5\\xbb\\xed~\\x13\\x1f\\xf0\\xc4P\\xb9;\\x197G\\xd4\\xe6`\\x92\\rRE&@\\xee6\\x92<\\x8dU\\x13\\xb3\\xf8\\x8dr\\x17N\\x06\\xcdI?\\x9f\\x92p\\x19\\x83A/\\x14\\xfa \\xbf\\x93\\x96\\xd1B\\n$C\\xf6\\x02\\x97F\\xad\\x89\\x18M)c$\\xc8S\\xcb\\xfd\\x02\\xabD\\xe0\\xb4\\xaa\\xcd\\x0e\\x05\\xed\\x12\\xc0\\xbc\\x90\\x9e\\xc7\\xb7\\x04\\x1d\\x01\\x93\\\\/\\xf4\\x90\\xdcb\\xad\\xcd\\x19\\xd712H\\x1cW\\x14\\xc5H&\\x06\\x18\\xb0h@\\x1dQ\\xe7\\x07\\x085_$\\xd4\\xe2\\x82\\x02\\x9a@\\x15\\x00\\x01\\x80A\\xb1\\xd2\\x89\\xa1J\\x1b\\x06\\x88\\xfb\\xfcp)X\\x18\\xe4\\xe6\\xb3\\x04\\x0c\\xb0\\xa8\\x8aV\\x00\\xae>AT\\x06\\x13\\x8c0\\x80\\t\\xa4\\xe9\\x12\\x90\\x86\\x11\\x90p*\\x00\\x9aB5,\\x05\\x82\\x84I\\x05\\xb00\\xab\\xe8\\x1b6\\x92\\xaf\\x03\\x01\\'\\xcc\\x05\\t\\x18\\x02XB\\x89!t?\\x15&H\\x12\\x83yP\\x9fe\\x7fG2\\xee\\xbf\\xb3\\xec\\xefH\\xc6\\xc5\\x00\\xbe\\x122\\x84\\x95\\x06\\xd4!R\\x100\\x08\\xb1&\\x00\\x10\\xa3 @\\x00\\xc2\\x94%\\x94\\x08B\\x05\\xae\\x18\\x15pQl\\x8a\\xd5J\\xd9`\\x08BKp\\xc0\\xa6\\xc8\\x97I\\xe4<=\\x86r\\x8dZF\\xe7M\\x18\\xf2\\x8bm.7c\\x90\\x81v\\x93\\xb5\\x00\\xb7\\xfb,!VY\\xe0v\\xe1\\n1\\x19AP\\x7f0\\xc5\\xb7b\"Y\\xbe\\xca\\x82H1uT\\xa0F\\x85q\\t\\x1b\\x0b&\\x01\\xaeJ\\x1c\\x92\\xb8\\x92\\xa1\"~\\x92\\x12\\x17\\xc8\\xc3\\x0e\\x89\\xdb\\xe9\\x80\\xc5\\x01\\x17\\x99\\x14Ht\\x021\\x19\\x14%\\x11\\xbe\\xdd\\xcdh\\x04*[D\\x1d\\xf4Ze\"=]\\xcc\\xd2:T\\x13\\n\\xc9\\xb5,\\xd7\\xa6B\\x13\\xac\\x10`\\xc8\\xa8C\\xc3\\xc8h\\x0f\\x19\\xd5\\x98\\x08CH\\xa9\\x0c\\xc5\\xac4\\xe1f\\x04A\\x86AB&\\xa7]\\x8c\\xa8i\\x04C\"\\xa0\\xc4\\xa6\\x02\\xa5F\\x85O\\x04I\\xf5N\\x8a\\x0b\\x07\\x1d6kX\\x1a+\\x8a\\x00z\\xa5\\x16\\x10\\n\\x8dN\\x06\\xf5\\xbab0\\x9d\\x0fz\\x1c\\x89\\x88\\x8d\\x94\\xda\\xdc\\xac6\\x82\\xf2\\xfd\\x88K\\xad,\\x8ex5\"\\xda\\x10\\x88\\xd9\\x85\\xe1h2eF\\xb9\\x11\\x81QJ\\xda,b\\t \\x91\\x06\\xa4\\x84\\x9f0\\x9aRpTn\\x8c\\x1b\\xa2%\\x08\\x9d\\xc2\\xad,!-Vh\\x93.\\xcce\\xd6\\xa6J\\x0c\\xdc\\xfe0\\x87q\\xc5\\xbf\\x06|\\xcb\\xd6EF\\x91\\xf7\\x80\\xf9{~\\xfb\\xd5\\x9b\\xef\\xf4\\xfeR\\xbd\\\\6\\xf4\\xff\\x03\\x00\\x00\\xff\\xffPK\\x07\\x080\\xc1\\x9b\\xaeS\\n\\x00\\x00C\\x0b\\x00\\x00PK\\x03\\x04\\x14\\x00\\x08\\x00\\x08\\x00Qw/X\\x00\\x00\\x00\\x00\\x00\\x00\\x00\\x00\\x00\\x00\\x00\\x00\\x0e\\x00\\t\\x00trustStore.jksUT\\x05\\x00\\x01\\x1aH\\xa5ed\\x94=\\xaf\\xea\\xc6\\x1a\\x859W\\xf7\\xde\\xc2\\xd2\\xfd\\tWJ\\x8f\"l\\xf3a\\x1c\\xe9\\x14\\xef\\xd8\\xe3/\\x18\\xc3\\x18\\x7f\\xd2a\\x03c\\xcc\\xb6\\x01\\xe3\\xed\\xb1iS\\xa7N\\x1d\\xa5H\\x9b6E\\xfeB\\xbat\\xf9\\x0bG\\xa9\\xd2\\x1eE\\x9b\\xddD\\xc94#-\\x8d\\x9eYK\\xef\\xab\\xf5\\xf9\\xd3\\xe7O\\x83\\xc1\\xe0_\\x83\\xc1\\xe0\\xc3\\xf3\\xfeo}(/\\xcda0\\xf8\\xf0\\xcd\\xff\\xbe\\xfb\\xe1\\xa7\\xc1\\xbf\\xe3\\xa9\\xa8\\x0e\\x06\\xff\\x81/\\xdf\\x0e\\xc2\\xa6\\xed~\\xa1a\\xcf\\xb7\\r[\\x03\\x1f?U\\x81\\xd8\\xb6\\xde\\xe8\\x9a\\x06\\xd7\\x9e\\x01\\xb7\\x110[CU\\xc0u\\x9a8\\x8b\\xcb\\xd6\\xce\\xdb\\xcc\\x05\\x8a\\x97\\x88\\x02?<\\xf0\\x92\\xc0\\xd9\\x04)\\xc0(\\'Z\\x18\\x92N\\xd0\\x1e\\xe0 \\xe6\\x86\\x08\\x98\\x0fg\\x17\\x11\\x8fr\\xcc\\x12=\\xa4\\xd4\\xc2\\xbc\\xf1\\x93h*&\\x1b\\xa4\\xa7\\xa6\\xd1\\'>\\xf6\\x08\\xcc\\x9f\\x00-\\'\\xb6g\\x1a\\xa2\\x90\\x84\\xae\\x98\\xc4\\xac\\xd3\\x0b \\xef\\xa0\\xbb\\x8f\\x02\\xf7\\x9e\\x8e\\xc33\\xd9$\\xdc\\x81\\'L\\xc7\\x9dT$\\x9b\\xe999M\\xf3l\\xec\\xf5\\xc9F\\xe2Y\\xa9\\x9e\\x85e\\xe9\\xe5{\\xd3x\\xecMc\\xb2,\\xdd6\\xf5\\xe1`p\\xb1\\'>t\\xa4\\x80\\x9e\\xe8X&\\xba\\xb33\\xb8\\xf8\\xf8\\xbbF\\xac\\xfb_#$>\\xbc\\x84>\\xa1w\\xae\\xd1\\xe7\\xaf6\\xe6\\x8eN}\\x1c\\x10d\\xbf\\xe7\\xee\\xc82\\x90\\x8d\\xd7\\xbd\\x89\\x19\\x95\\xbb<+q\\'`\\x1f\\xd6\\xef\\x80\\x8b\\xaf\\xe1\\xa7\\x1b\\xff\\xcd\\r\\xa1\\x13\\xae\\xbf\\xdb_b\\x1e\\xea\\xa9\\xa9J[\\x1d\\x97D\\xa3O\\x18td\\x9f\\xc8\\xf8U\\xd8\\x9a\\xf6k\\x12\\xbbbV\\xe2&\\xb3\\x9cv\\xabM\\xcfI\\xec\\xbd\\xe5\\xcc\\x0f\\xda\\xb4He\\x913\\x86O\\x04DS\\xdb\\xdc\\xcc\\x8d\\x9d\\x8eu\\x8a\\x11\\xd0\\x00`b#A\\xe7\\xf0\\xf6`\\x01\\x17\\x1b\\x01\\xd5\\x17\\xab\\xea\\xca3\\xa2X\\xb0\\x8bVmuD\\xe7\\x0c\\'K\\x85s\\xd4\\\\\\x9b\\x83\\x9bMvYL\\xa4\\xd2\\xaf/L\\x9e\\xab\\x8b\\x8e\\t\\xf7\\x80b\\xb6_\\xf92>z\\xa7\\xcd\\xf8\\x96\\xd7\\xebt[)\\xc3C\\x9c\\xf8\\xa0T\\xbe\\x1a\\xc4\\xe3\\xae\\xaa\\xd6\\xfc\\xc4|(1\\xdd\\xd3\\xf68\\x82x\\xa7\\xd4C3\\xbf\\xa2\\x8bp\\xbb\\x8c\\xb4\\xb5\\xe8\\xc4x\\xdf\\xd4\\r\\xcc\\x17\\xa1~\\x8b\\xcc\\x8eU\\xd5\\xd5w\\xa3\\xd4(\\x11.\\xb4\\xd2\\x94Uu\\x94\\x1a,2K\\xd6\\xc2\\xb2\\xc8ydA\\xd0\\xfb\\xe3\\xbb%\\xe4\\x9e$\\x0e\\x83\\xbaI\\xcc\\x99\\x06\"<\\xa4y\\xcd\\x87\\xbd\\xd8\\x1c3;7\\x17V[\\xac\\x9a\\xac9\\xb2\\xaa\\xd0\\xaf\\xd3\\xe3\\xe9\\xd5\\x9a\\xb5\\x0e>X\\xf7\\xd5b\\xde\\xb2\\x95\\xb3\\x98\\t\\x1d\\xf2\\xd3]T\\x1ca}\\xb3\\xa1\\xbej\\x91\\xf1\\xcap\\x1d<\\xfc\\xaaLJE)\\xbd1)\\x8a\\xe3\\xda C^k\\xe4\\x1aoVnU*\\xb2\\xdc^\\xb5\\xbexH\\xa9\\xc0\\xd54\\xdc\\xdb\\x89h\\xe2\\xa6\\xdd;\\x8f\\x85\\x95\\xd0d\\x04\\xc3{\\xe3\\x86%\\xd9JDr\\x1f\\x1e0\\x82\\x00\\xcc\\x82\\x16\\x08\\x08L\\xde\\xc6\\xb8\\xd79F#N\\xb1\\x00\\xdc\\xd6r\\x1d\\xf6o\\xbb`m\\x02l\\x14\\x10 \\xc6j\\xc4\\xb0\\x81h\\xa6\\x03K\\xec\\x05O\\x10\\xa2\\x81\\x05\\x1cs\\x9d\\'z\\xe8\\x89>Pk\\x84 \\xe0\\x02\\xbc\\x91\\x1e\\xe0\"v\\xbe\\xe5\\xe7\\x93\\xa9r\\x11\\x01\\xbd\\x1b\\x00+\\r(\\x86\\xd0\\xe1\\xb3}\\xe8;\\x81e\\xce\\xfa(\\xd8\\xaey\\xb4?K\\xb2\\xb7{5:K\\x1d\\x0e\\x85\\x00I\\xb3c+\\xf2\\xa5\\xdb+s\\xe4&Y8\\nS\\xf76\\xa2y_>\\xd4p\\xb4\\xdd\\x90\\xa6\\xac\\x1d.\\x8f^\\xc2\\xc9IiXHB\\xe3\\xbcs\\xd7\\xf8`4\\xd6j)\\x88Y\\xe4\\x94\\xe1\\xac\\x7f5^\\xa2\\xc8,v\\xdb\\xf1\\xc5\\xd2`\\xa9\\x02g\\x93n\\x16\\xd1\\xb2!\\x97\\xfa\\xb0\\xcf\\xae\\xde\\x06Vf\\xa5\\xe6\\xf1\\xd0&\\x87\\xca3&+l\\xcf_\\x1a\\xc1\\x94\\x94Gh\\xee\\x88\\x9fo\\x95\\xd1\\xcaz\\x18v\\xcb\\xe2i_\\xdd^\\xd4\\xbb\\x87bS\\x84\\xc2\\xbd#S\\xa6\\xa7\\xf5P\\x8cO;\\x15\\x99m[\\x9cop\\xec\\xf8u2\\xd1\\x84h\\x97\\x85\\xf74\\x8d\\x8c:\\x1b\\xd6\\x87\\xa4\\\\\\x1d\\xcbK?O%\\xe3\\xa5\\x1c\\xb18\\\\\\xcbzZ\\x90\\x84[\\xf1\\xd4[\\xb4\\xebF\\xdePe)\\x9fb\\xb6\\xdbI\\xbb\\xc9\\x90\\xa9\\xc2\\xd6\\xe9F\\xc1\\xd83\\xac\\xc5\\xc1H\\xf9\\xd5[\\x1a\\x96\"\\x8e\\r\\x90\"Y\\x94\\xc6*9\\x95\\xf5\\xe6x\\xaa\\xac\\x13\\xdd\\xf4\\xc3\\x08\\xebwe=\\x91\\xf8\\xc7\\x8f\\xc2\\xb3\\x11\\xb1\\xab\\xff\\xa3%\\xbf\\xfe\\xfe<\\xfcv\\xfaG\\xb6\\xfd\\xcd?\\xff\\xfe\\xcb\\x8f\\xeb_\\xff\\xff\\xd5\\xcf\\x7f\\x06\\x00\\x00\\xff\\xffPK\\x07\\x08h*\\xfe\\x9bG\\x04\\x00\\x00\\x7f\\x05\\x00\\x00PK\\x03\\x04\\x14\\x00\\x08\\x00\\x08\\x00Qw/X\\x00\\x00\\x00\\x00\\x00\\x00\\x00\\x00\\x00\\x00\\x00\\x00\\x0b\\x00\\t\\x00config.jsonUT\\x05\\x00\\x01\\x1aH\\xa5el\\x91_O\\xf20\\x14\\xc6\\xef\\xf9\\x14d\\xd7o\\xfbn\\x83\\x95\\xce;\\x9dJL\\xf0\\x0f!\\xc6xe\\x0em\\x95\\xc2X\\xb1\\xe7\\x80,\\xc6\\xefn\\n\\x98m\\xd1\\xdb\\xdf\\xf3\\x9c\\xdfIO?{\\xfd~\\xb4pH\\xd1Y?\\xcat\\x9c\\x8c\\xb4\\xcc\\x99\\x9e\\x0b\\xc5\\x86\\x89\\x046\\x97F\\xb0\\xd4\\x0c\\xc4`$R\\x91C\\xce\\x00-0t[Z$\\\\\\xcf9 y\\xe0\\x1a\\x08\\x90`\\xcf\\x95[G\\xff\\x82s\\xe3|p\\xa6y,\\xe3\\x03P\\xef\\xe5K\\x03\\x87\\xe9\\x01\\xaeL\\x8d\\x1bP&l_\\xbb\\x9d5\\xa5\\xa9\\xf0((\\x9d\\x82\\xf2\\xb2\\x08Ik\\xe51SP\\x18O\\x13\\xa7\\x80\\xac\\xabB\\x85\\xffW\\xc0\\x95\\xa7\\xe8G\\xdb\\rW\\xa6>M\\xfe\\x9e3\\xad\\xa9\\x199o\\xba\\xb9\\xd5\\xa6\"K5_\\xae\\xb0\\xdb{\\x00\\xc4\\x0f\\xe7u\\xe8\\xd9i\\x9e\\xc6\\xe5Fn\\x97O\\xb7\\x13w^g\\xc7*\\xf9-\\xd2\\x1f\\xd2\\x867\\xda\\x86\\xb5\\xc5o\\xe2ZC2.\\xb2\\xbb\\xfb\\xe7\\xd1\\x8d\\x95\\x17\\xa7w\\xe0\\xaek\\x0c?p\\xba\\xfc\\xeb>\\\\\\xa7-\\xc9D\\xadf\\xfaq\\\\\\\\M\\xab]b\\xe3A\\xd4\\xfb\\xea}\\x07\\x00\\x00\\xff\\xffPK\\x07\\x08\\xb0-\\x13\\xc5\\x1a\\x01\\x00\\x00\\xfb\\x01\\x00\\x00PK\\x03\\x04\\x14\\x00\\x08\\x00\\x08\\x00Qw/X\\x00\\x00\\x00\\x00\\x00\\x00\\x00\\x00\\x00\\x00\\x00\\x00\\x07\\x00\\t\\x00cqlshrcUT\\x05\\x00\\x01\\x1aH\\xa5e4\\xca\\xc1n\\xc20\\x0c\\x80\\xe1\\xbb\\x9f\\xc2/\\x90\\x8c\\x16\\x16\\xdaC\\xde`\\xb7\\xed\\x868\\xb8\\x89\\'\"B2\\xd9.\\x1ao?\\xd1\\x89\\xe3\\xff\\xeb;\\xa5\\xde\\x1a\\'+\\xbd\\x9d\\xe1\\xd2\\xd5\\x1a\\xdd\\x18#\\xbe\\xe7\\xddp\\xcc\\xd3\\xec\\xf2\\x12\\x92;\\x0c\\x13\\xb9e\\xe2\\xe0F\\xde\\x87\\xfd1\\x8ca\\xa6\\xd9\\x91\\x16r\\xdaW\\xbb\\x0c>/\\x9e\\xd4\\x84|&#5\\xfa\\xf5\\xa9\\xdf\\xe0\\xa7\\x8ba\\xc4q\\xde\\x1dFP\\xad\\x18\\xd1de\\x80\\x93j=\\xc3\\x9dj\\xc9d\\xfc\\xda\\x89\\xc5\\xbeK}\\xb6\\x7fK\\xe4\\x93\\x18\\xac\\xcar\\xe5\\xc7\\xb6\\xae\\xfc\\xd8\\xfa\\xe9\\xfe\\r\\x8b\\xc1\\x9dEKo\\x18\\xf1\\xeb\\xe3\\xf3/\\x00\\x00\\xff\\xffPK\\x07\\x08O\\x01\\x82\\x8c\\xa8\\x00\\x00\\x00\\xd1\\x00\\x00\\x00PK\\x03\\x04\\x14\\x00\\x08\\x00\\x08\\x00Qw/X\\x00\\x00\\x00\\x00\\x00\\x00\\x00\\x00\\x00\\x00\\x00\\x00\\x08\\x00\\t\\x00cert.pfxUT\\x05\\x00\\x01\\x1aH\\xa5eT\\xd6y8\\x13\\x8e\\xe3\\x07pf\\x86a\\x8e\\\\\\x99\\\\\\x8br\\x8f!\\xf7\\x9d\\x903W\\xa8\\xb0\\xdcJ\"D\\x84a\\x94\\xcc\\xfdE\\xce\\x11\\x12#1\\xf7\\x99\\xdc\\xe7\\x07\\x1ba\\x983793\\xf2{\\xbe\\xcf\\xf3\\xbb\\xbe\\x7f\\xbe\\x9f\\xf7\\xf3\\xfe\\xf7\\xfd\\xbc\\xe0(\\xc8S\\x005\\r\\x1c\\x05\\x91\\x011\\x88\\xa3\\r\\xd0\\xa7\\xcc\\xd4t\\xd4\\x05(\\x88 \\x10\\x05\\xe1\\x83\\xa3 <p\\x14\\xfd\\xe8\\xffU\\xa0\\x02\\x14}\\x07\\x1cE\\xdf\\x02\\xa0\\xa6\\x82\\xa3\\xe8\\xf1\\xffo\\x04\\xe7\\x03\\x81\\xff;0Q\\x83\\xe0\\x10 =:8ic\\xa9\\x91\\xb9\\x07\\x00\\xa0\\xa7\\x8a@\\xd1\\xc7q\\xa48\\xf0\\xde{\\xd3\\xf1\\xd4\\x85\\xb6G\\xaf\\x00L\\x7fv\\x7f\\xb0\\xc9\\xd7t\\xec\\xde\\xe6JDc-\\xd4\\xd3\\x9du\\xa26ph\\xeb4(\\xc4\\xa8Deus=Y\\xd7\\xc4\\xac\\xc8\\x05\\xae\\x10#&\\xa2b\\xd7\\x84\\xc8\\x08\\xad\\xb5\\xd0\\xfa\\xcc\\xc1\\xb5l9\\xa2\\xa7\\x0e\\x84\\xe4\\xd75\\x95Vs\\xe1\\x91I\\x92j\\xb2\\x06J\\xc6a\\xf2\\x01\\xac\\x8b\\x94\\xcb(~\\x0e\\xb5\\xeaa\\xfd\\x97.NE\\x9fx\\x0e\\xfbzW\\xf7\\xda8\\xa3\\xdb\\x82\\xf3\\xf6\\xbb:\\xe7\\xa5\\xd6\\x87\\x15\\x0e[\\xa2\\xaf\\xa2-D\\xafn\\xf9\\xe7G~4\\xd1\\xe1zGSZ\\xdf\\xffy\\x98+9\\t\\x05\\x90\\x1c\\xa90\\\\ 5\\x90Z\\x052\\xf3\\xd3^\\xb7\\xa1\\x85\\xac\\xeb4\\x97\\xf7\\xb8\\xeb\\xd1\\xbf<d\\x175L\\x90Ka\\x9a\\xc7\\xbb\\x07\\xdf$\\xf3\\x8a\\xba_\\xcfN\\xab\\x83\\x02\\x8b~\\xe4\\xb6\\xeaFX\\xef\\xb0\\xe7\\x06\\x04u\\t\\x82\\xa2:E\\x97d\\x9fJ\\x02\\xf4\\x83\\x0cS\\x85V%\\x11\\xa8\\xc8\\xdcl\\xa9\\xd3i\\xdagf\\x997\\xff\\xa8T)\\tNE\\xf0\\xb2\\xb8\\x8b\\xdb-^\\x8aP\\x07\\xe0op\\x14\\xbf\\xb70\\xd3\\x93\\x1cV\\xefi\\xe3\\x84n\\x9b\\xcb\\x80E\\xf0\\xe9\\xbd\\xe4\\x8bt\"\\xed\\x176->\\xe3.6!c:\\x91G\\x9aSk\\x07y#\\xc3,1\\x18\\x11\\x0bu,DK\\xa3\\xcai\\x0b\\xf7\\xa0>c\\xec\\xb7\\x87\\\\M*\\xf9\\'\\xf7;|\\x89\\x87\\x91/\\x94\\xf2\\x83K\\x8d\\xc3\\xdd\\xd4Ja\\xe9\\xe3q\\xc6*\\xebs5K\\xd5\\xe1\\x0e\\xed\\x1f\\x7f\\xdc+m\\xc1\\xaag\\x99\\xea\\xb4\\xf9\\xcfU\\xa5\\x1b\\x89B\\xda\\xa4\\t\\x1b>\\n&\\xe6\\x85\\x90\\xe2\\xc5\\xe4\\x11q\\xeb7\\x06\\xcb\\xc5(\\xe34\\xd0\\xccG\\x16M(\\xf7\\xf7\\x0b\\x14\\xbc~\\xa5/\\xa9\\xdd\\x92>(Q\\xc9\\x99Z\\xf9\\xc1\\xb3j\\x1979\\xf13\\xfc\\x12_\\x1d\\x1e\\x99\\xf8\\x13\\x92\\xc4\\xa1\\xc7\\xdedl\\x81\\xa9\\xa4\\x96\\xf5\\x13Ns-d\\x16\\xfc\\xa8\\x08-\\xd6\\x05\\x82\\xe8\\xef\\x1c9\\xbd\\xc0<\\xc27\\xbf\\xfaL|\\x8878\\xa9\\x1bn\\xb7(\\xec\\x962:\\x97\\n\\xf0_<\\xdeY\\x82\\xde\\\\J=\\x17\\x85\\xfa\\xb6u\\xf5\\x88c\\n\\x0f\\xc4\\xa7w\\x9d>\\xe8\\xafG=\\x17\\xa4\\x02\\xa1\\x89q\\xbb\\xfb\\xf9\\x87y\\xdd\\n\\x1c2\\xaf\\xd5q\\xef\\x80\\x12\\x96r\\xa1\\xa4\\'\\x97,[\\xaa\\x7f\\xa6BO\\xe9/\\x94A6\\x97\\x90w\\x0e\\r\\x05\\xbf\\x93\\x17\\xa5\\r\\xadXt*\\x8a\\xb5_\\x0e\\x1f\\x1c\\x1e\\x9e\\xefep\\xe9\\n\\xda0\\x08<\\xdc\\xadt\\xc0^\\x8e\\xb1\\xe7l\\xe7\\xc9<\\x102d7U3\\xc1\\x00\\xadJ~\\\\\\x0c\\x08\\xc5\\n*Mz4\\xbf6\\xa1)\\xe2<W\\xde-\\x95=\\xac/ \\xc1\\x8a\\xdcX\\xaa\\xeb\\xb4\\x9f\\x85\\x1e\\xdeT\\x10k\\x9e\\xb6\\x8bPH\\x16\\xe3\\x13\\x82H\\xa0s;\\xf6\\xe5\\xe5\\xd8\\x03\\x12M\\x98\\xbd0\\xfb\\x06+\\xb7\\xe4jXQ\\xaaX\\xb3\\xd4u7\\xbbrQay\\xc1\\x85\\x8fkW\\xe4\\\\9\\xa7\\xbbJW\\x8aK(fi\\xe2\\x92L\\x85%o\\xd9\\x9a\\xc6q\\xd6N\\xd3\\xae\\x81\\x90\\xf5\\xfd\\x1a\\\\\\xa1\\x96\\xf8\\x07$\"\\x0f\\x17\\x9dE\\xbcGP\\xe1l{\\xe8\\x93\\xe3\\xa5B]MH\\x90\\xd3\\xb6\\x97\\xf3\\x01\\xeb\\xbe\\xb5y\\xf2\\xe6\\xed\\xea~\\x88\\xed_)m;l+\\\\\\x86\\xf1\\xc0\\xa7\\xa6\\xdc\\xbf\\xabG\\xcdq5\\x11\\xdb\\xfa\\xe3\\xc1>\\xd41\\xf2Q\\xc8Tp\\x02t\\x81\\xb5x\\x05-\\x03\\xd3\\x832\\x87\\xc9<\\x8f\\xe3W\\xb47\\x15Kb\\xd4hzWQ\\xa2\\xae\\xc1\\xd0\\x0f\\x02\\xba\\xc4\\x13\\x8b\\x1b\\x83\\x9f7\\t\\x1bw\\xc6\\xf7\\x7f\\xdb\\x0bq\\x88\\xfc\\x1dCv\\x89\\xdc_\\xbe\\x00\\x88\\xa6\\xf9u{\\x98\\xe5\\\\1\\xb1\\xfb\\xcf\\x9e\\xab\\xe1\\x94\\x84%\\xb3^\\x8c\\xf1\\x06\\x15\\xfd\\xd1\\xe1 \\xf8\\xa6\\xde\\xde6:\\x0eq.\\xce\\xbb\\x02\\x15<~\\xbcVu\\xc5g^\\xc7/v\\x03\\x8cvI\\x7fw\\xaan\\xf1\\x9cx\\xe5\\x9b5\\xecE\\x01\\xec,\\x8a~\\xfe\\x93\\xdc\\x11\\xb6d\\x9c\\x83\\xec@\\xf6-\\xca\\xd4Bs|\\x7f&<\\x9b\\x93{-\\xf1\\xe6i\\xa7\\xd1\\xf9\\x86\\xdd\\x1f\\x01g`\\x7f\\x93\\xd8\\xfd3\\xc4\\xa1\\xa8\\xf3\\xc1\\xaf#\\xb4\\xaaTj\\xaei\\x05\\xa7,n\\xd2\\x81\\xe7\\xc6+\\xcb\"\\xeb\\xa2\\xcah\\xb3\\xfe\\x1f\\xfcE\\x05\\xcd\\xb0\\xf1)\\x8d\"CZ\\xa9\\xeb\\xd9\\xd5\\x87\\x18G\\x8a\\x87\\xeba\\x83\\xf2\\xc5\\xe3\\xc28\\xd3\\x9d>\\x8c\\x9c\\xaf\\x8d\\xf6/\\xcd\\xd09\\x0fPv\\x99\\xf0\\xf8\\xe4\\x8e\\xf7\\xf0\\xd1\\xe2\\x159n\\x92\\x1bC\\xe2\\xac\\xf9H\\xb8\\xcf;\\x11s\\x95\\xa2\\x9ck\\xd9M\\xa8MZ\\xcf\\xa2&Z\\xed\\xb5\\x16\\xb3<\\x9c\\x98v(D\\x1c<\\xfe]\\xb7\\xa61w\\xd0\\xc6e\\xfe\\xa9\\x8cY\\xd3\\xbey\\xecgs\\xd6WY\\xbb\\x14qZ\\x97S+\\x92[_7N\\xce\\xad\\x8cD\\xfe[\\x90\\xc9E\\xe7[\\xee\\xd5\\xa2,\\xab\\xe5\\xff\\xfe0\\xf1\\xef\\xef\\xbc\\xe0\\x83\\xb5=\\x84v\\x9f\\x10\\xc4\\x84\\x994+\\xe6\\xce~M\\xdc\\xc4\\xf3;!y\\x17\\x96\\xfb\\xc5\\xaay\\xbcw\\xc0\\x99C\\x16\\xd3\\x88\\xaem<gPe\\xff\\x12\\x92t\\xcb\\xea\\xb9<t\\xc8\\xc0\\x81\\x0fd\\xec\\xe0\\xc118\\xd9\\x80p\\xef/\\x8cUebp\\xcf\\x89\\x93\\xf0\\x9f\\x90ek\\nU\\xa3\\xa7\\xfe2\\xef]\\x80\\x1a\\x94f\\x9c\\xd0P\\xdb\\x83\\x9e+\\r?2\\xf4m\\xccx\\xb4\\xc2\\xd7\\x9e\\xdcF\\xc8\\x91\\xcc\\xc9@\\x84\\x17\\x0e&\\x14z3y\\xf9DF\\x90\\xbe\\xaa8r\\xe1,\\xf7\\xe2\\xfb\\x19%Z\\x82\\xc9u\\xe5\\'5xI\\xf7\\x96\\xac\\x10\\xb3\\x88;s\\xbf\\xe6A\\x1f\\xde\\xb6\\xb3\\xdc\\xbc\\xdb\\xcb/0a\\xcbd\\xccG\\xdd!\\xcb\\xa8x\\xa8\\x1c\\x94b\\xfa/\\xb6\\x03)\\x01\\xaf\\xafH3n(\\xa0\\x15,8\\xedz\\xb0kI\\xcc\\xdd\\xbe\\x1d\\x86C\\x90=\\xad\\x1a.,\\ns!\\xfc\\xd6\\xd1rt\\xf7.\\x9e\\x97\\xfd\\xa5\\xa4&6\\x84\\xdb3\\xc1\\xca\\xb7\\xfd*\\x16\\x8e\\xc6<B9;\\x1c\\xc3\\xb2\\x1dj\\xee\\xf2\\xdf\\x89\\x15\\x83\\x17b7\\xc2\\xd99k&v\\x83\\xa5R\\xb1Bh\\xbad\\xa8\\x8e\\xed\\x1b\\x1dh\\xfe\\x1a\\x8d\\xd8\\x932\\xd7j;\\x11_m!SX\\x1c\\xcd\\xb5\\xb5w[\\x1d\\x83X\\x14\\x03/\\xec\\xabV\\xe9\\xdb_\\xe7\\xeb\\x1e\\xce\\n#Rg\\x8d\\x84\\x87\\xba\\xdfO\\x9ey\\xeb\\xb7\\x04\\xd5\\xd4\\xcc\\xfc\\x95\\xddN\\xb4\\xa5\\xabE\\xfd\\t\\x11\\xb5\\x8f\\x15kl\\xdbs\\xcd1\\xb0\\xe8R\\xfc6\\xb2D\\xdd\\xc4\\x02\\xd48\\xbe\\x1c-\\xdccmjL\\x15\\x9b\\x9d\\x06\\xac\\x87\\xbf\\xf4\\xccX\\x9f\\x12\\xf8\\xf8\\x85}\\xa3\\x88\\xcd\\xce\\x0f\\x8f0\\xec\\xfbf\\xf3\\x8f\\xf1\\xc2!\\xcb\\xb1@\\x85\\xcc\\x8a7,\\xbd\\x14\\xe4\\xb01o\\xd4\\xf4\\x10{\\xcd\\xc6\\xb1i\\xa9\\xe1\\xe5\\xe2\\x13\\xfc\\xeeh\\xadV[\\xe4\\xe3\\xd1M\\xad\\xba\\x8d^\\xee\\x00\\t\\xbb\\xb3\\x16\\x13\\xa6-0\\xeb\\x86_\\xb24L\\xeb\\xafy\"\\xd9\\xfdoJ\\xf5W\\xaf\\xb6\\xc2\\x0b\\xe1\\xdb$\\xba\\x9asF\\xb6\\xa0\\xfd\\x12i\\xb7G\\xcf\\xc0>_z>\\x8b\\xde\\xfeY\\xde\\x19B\\x1eRI4G=\\xe5i\\xd2?\\x99\\xdbJ\\xb4`\\xec\\x8br\\x1d\\x7f5\\xa6\\x95.\\xaf\\x9f\\xbd47(\\x0c\\xd4o\\xea\\xd5\\x1a\\xb1Yf\\xba\\xe7j\\x9bq\\x81\\x89\\x00\\xcaw\\xfe\\xcb\\xe0w\\xca\\x86\\xd2\\x88}U\\xaf)\\x85\\xed\\xad\\x97\\xf5\\xf8\\xa1\\xa7v\\xbf\\xb3\\xfe\\xa4\\xd8\\xa4\\rA\\xe5sk\\xe6\\x96\\xdaS\\x81D\\x89{L\\xd7}k\\xc6N!J\\x86\\xb0\\x03\\xe1\\xcd\\xca~a?\\x9e\\xf7\\xc8\\x87\\xbe\\x05\\x92U\\xc2\\xd2\\xa6a\\x0e\\x1a\\xb9\\x1fr\\xfa,\\x06Z,wF\\xfa}\\x87_\\xce\\xcbx\\x04\\x9a\\x85\\x96#y\\xc6\\xba\\x97\\xb2#\\xd8ZR\\x07`B,\\xf8\\xe2\\xd5\\x9fe=\\x08\\xab\\xbb\\x9e\\xfd\\x18\\x7f\\xe6\\xc8\\x1c\\xa7\\x9e\\x0b\\xb1\\xc9\\xfd\\x92\\xb5\\xa7\\xc2M\\xd0 \\x8c\\xc1L\\xc0z\\xc5\\xf6\\xfd\\x9a\\x1b[\\xed\\x87\\xec:<\\xe0\\xd7\\xff\\xb0b9\\xc2\\xe3g\\x06\\xd7\\x88XA7\\n\\xab\\x12\\xf6&}\\xd2\\x87\\xdb\\xf5Q\\x07\\x99<\\xcd\\xd9\\x0f\\xcf|:\\xb4\\xdb\\x0bK\\xa7.\\xf9e\\xc2f\\x00Q^\\xe0K\\xfe\\xf0?\\x18\\x1b\\x18%a\\xc8gG@\\xd3\\x9e\\xee!\\xaf\\xeea\\x95\\xea6G\\xed\\xb5\\xda\\xa1\\x84\\x81\\xa3$LM\\xec.\\xaf\\xc7nX\\xc2]\\xc9\\xe52wy\\xdb\\x14\\x8d\\xfd\\xc1\\xd0QOU#\\x10\\'0\\xd35;\\xc5\\x81\\x12\\xe3\\xfc\\xa5]\\xf7\\x84\\x98\\'Q\\xe0\\xa7\\x10\\xfd~|c\\x83W8\\xd5\\xb6\\xab\\x00\\xfd4\\x1aT\\xfdL\\xca\\xefB\\x07\\x14\\xdd\\xf6\\x03+\\xa5\\x1c\\x95\\xa9\\x0fzNsS\\xc9\\xaboFGGW\\xe1\\xf0\\xa8aH\\xe8f\\xec+56\\xc6\\xc9\\xa2\\xecQ\\xb2W\\x14j\\x9cN\\xe7~\\xdc\\x86d\\xfc\\x8bX3\\xee\\x8a\\x1c\\x9a\\\\\\xa0{\\xd5~NN4\\xa9\\xd1\\xb6X\\xc2\\xa2\\xe6q\\xf4\\x89\\xa2\\xb8\\x98\\x1dZnu\\xea\\xb6ht0YD09\\x99\\x821\\xaesy\\x97\\x83\\xaf\\xddy\\xc0_\\x9e\\xfe\\xab.\\x9b\\x06\\xae\\xd9,\\xb3\\xea\\x1f\\x7f\\xbc\\x02\\xfeTK\\x88\\xa1\\x0c\\x06\\xa8\\x0b:Zd=z\\xa0\\xf6\\xde\\xfdN\\xd4\\xa6\\xc6\\x19Eq\\x160S/k9\\x1b\\x97\\xd9\\xa5\\x16!\\xf0\\xcc\\xfe\\xae9\\x1cE\\xab\\xfd\\x1f\\xda\\xa1\\x95\\x03\\xa2h\\xa5\\xe1(Zq8\\x8aV\\x14\\xc4\\xf8?\\x8c\\x01S\\x03\\nP\\xc0]8\\n\\xb8\\xf9\\x1f\\xba\\xa1\\xf9\\xb7n\\xea\\x0cu\\x87[\\x15\\xcfB\\xfe\\xad\\x1b \\n\\xd8w\\xd3z\\xab\\x84\\x97P\\x9f\\xb4\\xa2\\x7fQ\\xadb\\t\\x95\\xa6\\xf0\\x99\\'\\x143\\x7f\\xed\\x17\\xf9\\x99U\\xe4 *\\x9d\\xf0\\xb2\\xfb\\xcd/\\xea\\xc89\\xdfN\\x95i\\xc9\\xd3WtcG\\x1e\\xc9\\xaeEN\\xdci#\\x01\\x82\\x03\\x96,\\xdfU6\\x98\\x1e\\xe8A\\x02\\x99\\xc6J\\xedn\\x8d\\x8c7L\\\\\\xd7\\x1b\\x1b\\xfb\\xf2\\xbdu\\x892Z(a\\x16\\xcc\\xcb\\x88\\xaa\\xdc\\xeb\\xf9\\xe6\\x85\\x19\\xdfU\\xf20DX\\xc3\\xda!\\xc8\\xbak,\"c\\xb6\\xdb\\x89zR\\xec\\x1du\\xea\\xd6\\xed$o\\x01\\x19~\\xd6J\\x16\\x96(\\xd4]\\xfb\\x0e\\x99\\xf5\\xcf6\\x97L\\xdd\\xc8\\x7fz\\xeb\\xf7\\xdf\\xc0K\\xdd\\xca\\x9f\\xcfxS\\xa3\\xd7\\xbd\\xf0\\xae\\xca6\\x0f\\x08\\x83UN\\xf8i\\x10o\\xeb\\xa16\\x01\\x94\\x07\\xe0F\\xf7~\\x1bs\\xdaeV\\xb7\\xfe\\x16h\\x16\\xf5#\\xe8\\xd3\\xb6\\xcf\\xb0\\xd4\\xdd[\\x08\\xb7\\xd8\\x8fb0\\xf3\\x17\\xb7yG\\x90zeT\\x88\\xd5\\x13\\xbb!\\xf1k\\xfb\\xfc\\xe5.\\xd2\\x810\\xc0\\xb6\\xa8T\\xbdU\\xe5\\xf8\\x9d\\xc5\\xeb\\x10\\x1d\\xbf)9<\\x98\\x8c\\xe7\\xdc$\\x12\\xb2\\xd1Q\\xcc\\x16\\xf0\\xf2\\xbaR\\xa2\\xc8\\xf8\\xb4[\\xec\\xc2E\\xa6\\xba%\\xb9\\x9e#\\x9b\\x19o\\xec6\\xa3|+M\\x9f\\x99$;\\xacs\\xe14\\xbf1qP\\xcbi\\x00^\\xa0\\xe9-_\\x1b\\xd8X\\n\\x95x\\xb5;/6\\x93\\xc4\\x83\\xcaXf\\xbeNv7\\xbcZ\\x16\\xa4\\xaa]1\\x99T\\xb2N\\xc5\\x11\\xf7\\x03\\x19\\xd0o&H\\xef\\xcbw\\xcf\\x85\\x9c\\xf3k\\xae\\x96\\x9d@\\xean\\xba\\t\\xd0]{q\\xbe>y\\x7f\\xf3\\xb9\\x85\\x0e\\xb6\\x13\\xe5O\\xa8\\xfa\\x83\\xb3Pa\\x8d\\xb4\\xeb\\xc9\\xa4\\xfd\\x17p\\x06\\xa6\\t\\xfd\\xb2\\xee\\x1e\\x02\\x95\\xfe\\xfcQ\\xd5#\\xe3%\\xa7\\x01\\xdd?\\x1e\\x18C\\x89\\x05\\xaf\\x8e\\x1b1z\\x8e\\x9f\\xb3\\x1b\\xfb\\x7f#\\xc8H\\x1f\\xf9h\\xbd{\\xe9\\x8a\\x8c\\xfeyq\\xb0\\xed;%\\xb7\\xd3\\x0b\\xbc\\x03\\xd24\\x88|\\xfdk\\xeb\\xaf\\xd1\\'\\x8bG]x\\xcdUJ\\xdb\\xe3\\xd3\\xbd\\xd1|\\x8d.\\xa6>\\x9e7\\xe1\\x08\\xd4\\xc47s\\xb3\\xac\\xfa\\xa6eU\\x9c\\xc6-\\xa9\\xa2$\\xee\\x1b\\xad\\xedmt!\\xe1I\\x81\\xd9\\xabg\\n\\x9e=\\xae\\x06\\t\\x9ds\\xf03[\\xaa[\\xf8\\xb3#\\x00\\x95\\xf1\\t\\xdf\\xd4\\x9d\\x17\\x10\\xa7\\x0f\\xaa\\x8a\\xa8\\xaa\\xbc\\xfc\\xbb\\x97i4\\xf1E\\xee,:\\x10\\x87\\xda\\x8e\\xea\\x15{\\xa6\\x14\\x1fy/\\xc0\\xb5o\\xe1\\x8fmxQ\\xca(h\\x8b\\x19\\x18<a\\x82!H\\xedm\\xf0\\xfd\\xd08Y\\xe7\\xd1\\xd543\\xb7\\x91u\\xc4\\x8ef\\xc9CZP\\x95\\xbc<Q\\xb4\\x8c\\x94K\\xe6tgB\\x0fCI~#L;\\xf6/\\xc9\\xfa\\xeb\\x10\\xbc\\xd3G/\\xe6\\xb2\\xda\\x06\\xfcA\\xab\\x90\\xca\\x1c\\xd9]\\xb0\\xe3\\xfba\\xd3F\\x93\\xb1\\xd5\\xc0\\xb90-\\xfa\\xe4\\x93T+\\xa3\\xe1\\xb3\\xcc8\\xcfG\\xc0\\x8f\\xb0`\\xe0i8\\xf4\\xdc\\xa06\\xf78\\xb9\\xc6B\\xabQ\\x0f\\x12ca\\x18m\\xeaF\\xba?\\x00\\x9bR\\xa6JI\\xdd*%\\x8b\\x03\\xfboc\\x8c\\xdde\\x1a\\xe6\\xfb\\xee\\x13\\x9f\\x90\\xf40\\xa6\\x8fY\\tE\\x05\\xa9\\xd6c\\x9cj\\xfe\\x8b\\x13\\xa7=\\xde\\x81n\\xbc\\xdfw\\xeeEX\\x1f\\x10\\x1dh\\x83\\xcab\\xc8\\xd3\\x95aJtq\"\\\\\\x9f\\xe4+\\xba\\xeeN\\x1a\\xe1Uq\\x19\\xc8\\xf1\\xe33\\x19~1\\x17\\x85\\xcb\\x80\\xe1t\\r\\x03\\'=_nD\\xaf\\t\\xedD\\xd0\\xca\\xd38\\xdcu\\xf2j\\xfaX\\xb2\\x845\\x0b\\xf3\\xbd\\x91\\xf2fu0\\x0b\\xccY\\x11\\x8c]\\xa7\\xb0)\\x7f\\x80\\xae\\x1a\\xbf~`\\xc5\\xad\\x7f?\\x11 \\x9e\\xd6\\xb8_\\xa6J\\'G\\xf3+\\xd8_P\\x92-\\xde\\x9d0\\xc4\\xc7\\xc4j\\xb41[z\\x1c\\x9f\\xac\\xd0\\\\\\x83\\x9c4 \\xe8\\x1eU\\xc2\\x91/g\\xa5\\x03\\xfd\\xc2\\\\\\\\\\xb9EK\\x90o\\x1b\\t\\xf7\\x1eX\\xb1Z\\xb8_c\\xea\\xf4\\xc0e\\xd0C\\xb1\\x95\\xeeu\\'|48\\xc1\\xb7\\x1f!\\xad HM\\xa5\\x9cP\\x0eg\\xfc\\xd2\\x96\\x13^\\xff1n\\xc9\\x93\\x81\\xbb\\xdb\\x82\\xffV\\xc1\\xa5m.\\xee\\xe4\\xc9\\x0bI\\x9a\\xaf\\xf9\\x7fO\\x9a\\x1c\\xba\\xde28\\xd3Zz\\xbe\\x8e\\xd4\\x1ae\\xd3\\xdf\\xc3nE5\\xcc\\xa1\\xe5\\xf3\\x018\\xeb\\x98L\\x9b\\x9e\\xd9\\xf8\\x17\\xb0\\xf4h\\xbf!\\xaa\\xce\\xbe\\x05S\\xfbc\\n\\x9d\\xe5\\xc2\\x0b>x\\xc5p8\\xb8\\x1cb\\xc8\\xed`n\\x8b\\xbd\\xd4\\x8e\\xa0Gj\\x87^\\xb4s\\x9b v\\xcc\\xd4\\x1d\\xda\\x1c\\x99\\n\\x7f\\x14\\xb7kY\\xcbQ2Y\\xc7\\xe1$\\x9cm\\x85P\\xb1\\xb7\\x00$\\x7f\\xeb\\xcd\\xb9\\x9e\\xb9,\\xa7\\x10A\\xcbs\\xc5\\xc8I. !\\xfa\\xa5r\\xfb\\xebi\\xdc\\xbf\\xae\\x03.\\xf1\\xa5)*\\x86a\\x1b\\x88~ \\x132l\\xc3\\x15\\xe8\\xd1\\x990\\xb5\\xc6\\x91sA\\x95\\x92\\xd1\\x0c\\xfb\\xde\\x8d\\x90\\t\"\\xe8\\x83_\\xd1\\x8c\\xa7\\r\\x17i\\xbe\\x998\\xb1\\x12\\x1e7\\x94\\x95\\xbf\\r\\xdd\\xfd\\xa9F\\xe4YO\\x04\\xcd\\x0f\\xe8\\xdc\\xaf\\xacE^\\x89`\\xb5%\\x08\\x94\\xf2\\x14\\xde\\x92;.\\xa1^\\xf6\\xb3m\\xdc\\xdf\\xab\\xd0D\\xc4P\\xa4\\xca\\x9ds#\\xfa\\xcbo4T&\\xff0o\\xb2\\xfaw\\xcb\\x8a\\xc0a\\xff\\xfb\\x8e\\x0c\\x9c\\xb2\\\\@\\x8e\\xbc)\\x1b\\xc9@\\xd5\\xcbj\\x11]\\x07b\\xa0\\xfc/m\\xff8\\xadOp\\t\\xb8\\x00\\x9c\\x0eD+\\x01\\xa1\\x01\\xf0\\x029v^\\xe1onf\\x0f\\xc9\\x079\\xc6\"\\x1a\\xbf\\x1a\\x88=\\xe2+\\xb5\\x05\\xd2\\xdbx\\'\\xbeu\\x8d\\x9b\\x19\\xfa\\xaf\\x00\\x00\\x00\\xff\\xffPK\\x07\\x08\\xd8\\x851\\x82n\\x0e\\x00\\x00g\\x0e\\x00\\x00PK\\x01\\x02\\x14\\x03\\x14\\x00\\x08\\x00\\x08\\x00Qw/X\\xd2\\x87\\x16\\xe6\\xe8\\x03\\x00\\x00A\\x05\\x00\\x00\\x06\\x00\\t\\x00\\x00\\x00\\x00\\x00\\x00\\x00\\x00\\x00\\x80\\x81\\x00\\x00\\x00\\x00ca.crtUT\\x05\\x00\\x01\\x1aH\\xa5ePK\\x01\\x02\\x14\\x03\\x14\\x00\\x08\\x00\\x08\\x00Qw/X\\xba[<[\\x0b\\x05\\x00\\x00\\x8f\\x06\\x00\\x00\\x03\\x00\\t\\x00\\x00\\x00\\x00\\x00\\x00\\x00\\x00\\x00\\x80\\x81%\\x04\\x00\\x00keyUT\\x05\\x00\\x01\\x1aH\\xa5ePK\\x01\\x02\\x14\\x03\\x14\\x00\\x08\\x00\\x08\\x00Qw/X\\x8dpb\\xf23\\x04\\x00\\x00\\xfd\\x05\\x00\\x00\\x04\\x00\\t\\x00\\x00\\x00\\x00\\x00\\x00\\x00\\x00\\x00\\x80\\x81j\\t\\x00\\x00certUT\\x05\\x00\\x01\\x1aH\\xa5ePK\\x01\\x02\\x14\\x03\\x14\\x00\\x08\\x00\\x08\\x00Qw/X0\\xc1\\x9b\\xaeS\\n\\x00\\x00C\\x0b\\x00\\x00\\x0c\\x00\\t\\x00\\x00\\x00\\x00\\x00\\x00\\x00\\x00\\x00\\xa4\\x81\\xd8\\r\\x00\\x00identity.jksUT\\x05\\x00\\x01\\x1aH\\xa5ePK\\x01\\x02\\x14\\x03\\x14\\x00\\x08\\x00\\x08\\x00Qw/Xh*\\xfe\\x9bG\\x04\\x00\\x00\\x7f\\x05\\x00\\x00\\x0e\\x00\\t\\x00\\x00\\x00\\x00\\x00\\x00\\x00\\x00\\x00\\xa4\\x81n\\x18\\x00\\x00trustStore.jksUT\\x05\\x00\\x01\\x1aH\\xa5ePK\\x01\\x02\\x14\\x03\\x14\\x00\\x08\\x00\\x08\\x00Qw/X\\xb0-\\x13\\xc5\\x1a\\x01\\x00\\x00\\xfb\\x01\\x00\\x00\\x0b\\x00\\t\\x00\\x00\\x00\\x00\\x00\\x00\\x00\\x00\\x00\\xa4\\x81\\xfa\\x1c\\x00\\x00config.jsonUT\\x05\\x00\\x01\\x1aH\\xa5ePK\\x01\\x02\\x14\\x03\\x14\\x00\\x08\\x00\\x08\\x00Qw/XO\\x01\\x82\\x8c\\xa8\\x00\\x00\\x00\\xd1\\x00\\x00\\x00\\x07\\x00\\t\\x00\\x00\\x00\\x00\\x00\\x00\\x00\\x00\\x00\\xa4\\x81V\\x1e\\x00\\x00cqlshrcUT\\x05\\x00\\x01\\x1aH\\xa5ePK\\x01\\x02\\x14\\x03\\x14\\x00\\x08\\x00\\x08\\x00Qw/X\\xd8\\x851\\x82n\\x0e\\x00\\x00g\\x0e\\x00\\x00\\x08\\x00\\t\\x00\\x00\\x00\\x00\\x00\\x00\\x00\\x00\\x00\\xa4\\x81<\\x1f\\x00\\x00cert.pfxUT\\x05\\x00\\x01\\x1aH\\xa5ePK\\x05\\x06\\x00\\x00\\x00\\x00\\x08\\x00\\x08\\x00\\xf9\\x01\\x00\\x00\\xe9-\\x00\\x00\\x00\\x00'}"
            ]
          },
          "metadata": {},
          "execution_count": 3
        }
      ]
    },
    {
      "cell_type": "markdown",
      "metadata": {
        "id": "bulgarian-michael"
      },
      "source": [
        "set the `Secure connect bundle zip file` path and specify the `clientID` and `Client_Secret`"
      ],
      "id": "bulgarian-michael"
    },
    {
      "cell_type": "code",
      "metadata": {
        "id": "bearing-roads"
      },
      "source": [
        "# Enter the credentials below\n",
        "# zip_path = ''\n",
        "# Client_ID = ''\n",
        "# Client_Secret = ''\n",
        "zip_path = '/content/secure-connect-db-manish-cds.zip'\n",
        "Client_ID = 'KMnfWsZfbEfvYaKzHRdBZWDA'\n",
        "Client_Secret = 'SRZPhd7UpTH_1ZTPginuR2mSfwk_3j0QfG4AoYA4EQ2b.xHrPTHlC,fAfpLdxNtynQbe9S,1OEUmW.6i3D4Z7aEirtidZb3pGf4B-7r,-616jZps8YktGDw1zyqQQUaB'"
      ],
      "id": "bearing-roads",
      "execution_count": null,
      "outputs": []
    },
    {
      "cell_type": "markdown",
      "metadata": {
        "id": "u0GXrsCHK0H6"
      },
      "source": [
        "#### Create a Cluster instance to connect to your Astra database.\n",
        "\n",
        "You will typically have one instance of Cluster for each Cassandra cluster you want to interact with. Create a session object using the cluster.\n",
        "\n",
        "**Hint:** Refer Python documentation under Connect."
      ],
      "id": "u0GXrsCHK0H6"
    },
    {
      "cell_type": "code",
      "metadata": {
        "id": "personal-string",
        "colab": {
          "base_uri": "https://localhost:8080/"
        },
        "outputId": "e5a26675-7afc-4c70-c920-efe5b16be451"
      },
      "source": [
        "cloud_config= {\n",
        "        'secure_connect_bundle': zip_path\n",
        "}\n",
        "auth_provider = PlainTextAuthProvider(Client_ID,\n",
        "                                      Client_Secret)\n",
        "cluster = Cluster(cloud=cloud_config, auth_provider=auth_provider)\n",
        "session = cluster.connect()"
      ],
      "id": "personal-string",
      "execution_count": null,
      "outputs": [
        {
          "output_type": "stream",
          "name": "stderr",
          "text": [
            "WARNING:cassandra.cluster:Downgrading core protocol version from 66 to 65 for 5d017d89-db6c-418a-b8e6-2e36376269a9-asia-south1.db.astra.datastax.com:29042:056a4a91-2687-448b-9873-6730a3416eea. To avoid this, it is best practice to explicitly set Cluster(protocol_version) to the version supported by your cluster. http://datastax.github.io/python-driver/api/cassandra/cluster.html#cassandra.cluster.Cluster.protocol_version\n",
            "WARNING:cassandra.cluster:Downgrading core protocol version from 65 to 5 for 5d017d89-db6c-418a-b8e6-2e36376269a9-asia-south1.db.astra.datastax.com:29042:056a4a91-2687-448b-9873-6730a3416eea. To avoid this, it is best practice to explicitly set Cluster(protocol_version) to the version supported by your cluster. http://datastax.github.io/python-driver/api/cassandra/cluster.html#cassandra.cluster.Cluster.protocol_version\n",
            "ERROR:cassandra.connection:Closing connection <AsyncoreConnection(136451951498944) 5d017d89-db6c-418a-b8e6-2e36376269a9-asia-south1.db.astra.datastax.com:29042:056a4a91-2687-448b-9873-6730a3416eea> due to protocol error: Error from server: code=000a [Protocol error] message=\"Beta version of the protocol used (5/v5-beta), but USE_BETA flag is unset\"\n",
            "WARNING:cassandra.cluster:Downgrading core protocol version from 5 to 4 for 5d017d89-db6c-418a-b8e6-2e36376269a9-asia-south1.db.astra.datastax.com:29042:056a4a91-2687-448b-9873-6730a3416eea. To avoid this, it is best practice to explicitly set Cluster(protocol_version) to the version supported by your cluster. http://datastax.github.io/python-driver/api/cassandra/cluster.html#cassandra.cluster.Cluster.protocol_version\n"
          ]
        }
      ]
    },
    {
      "cell_type": "markdown",
      "metadata": {
        "id": "sorted-modern"
      },
      "source": [
        "#### Verifying the database connection\n",
        "\n",
        "execute a simple query and verify the database connection"
      ],
      "id": "sorted-modern"
    },
    {
      "cell_type": "code",
      "metadata": {
        "id": "alike-alcohol",
        "colab": {
          "base_uri": "https://localhost:8080/"
        },
        "outputId": "ac476c41-e9f3-4233-f3ba-621016ee81ea"
      },
      "source": [
        "row = session.execute(\"select release_version from system.local\").one()\n",
        "if row:\n",
        "    print(row[0])\n",
        "    # print(row)\n",
        "else:\n",
        "    print(\"An error occurred.\")"
      ],
      "id": "alike-alcohol",
      "execution_count": null,
      "outputs": [
        {
          "output_type": "stream",
          "name": "stdout",
          "text": [
            "4.0.0.6816\n"
          ]
        }
      ]
    },
    {
      "cell_type": "markdown",
      "metadata": {
        "id": "earlier-cedar"
      },
      "source": [
        "#### Setting the Key Space\n",
        "\n",
        "A keyspace is the top-level database object that controls the replication for the object it contains at each datacenter in the cluster. Keyspaces contain tables, materialized views and user-defined types, functions and aggregates. Typically, a cluster has one keyspace per application. Since replication is controlled on a per-keyspace basis, store data with different replication requirements (at the same datacenter) in different keyspaces.\n",
        "\n",
        "Before creating tables and inserting data let's create and set the keyspace\n",
        "\n",
        "* we can create keyspace manually on Datastax dashboard or also using the CQL command. (use lowercase to avoid errors)\n",
        "\n",
        "    * [Hint](https://docs.datastax.com/en/cql-oss/3.x/cql/cql_reference/cqlCreateKeyspace.html)\n",
        "\n",
        "* once the keyspace is created successfully, set the keyspace using the command `set_keyspace()`"
      ],
      "id": "earlier-cedar"
    },
    {
      "cell_type": "code",
      "metadata": {
        "id": "complicated-decision"
      },
      "source": [
        "try:\n",
        "    session.set_keyspace('movielens')\n",
        "except Exception as e:\n",
        "    print(e)"
      ],
      "id": "complicated-decision",
      "execution_count": null,
      "outputs": []
    },
    {
      "cell_type": "markdown",
      "metadata": {
        "id": "MwAu-oEU3KWP"
      },
      "source": [
        "### Insert the data into Database\n",
        "\n",
        "To insert the data into database, we can create a table in keyspace and insert the data by using CQL command or we can directly upload the data on the datstax dashboard using [Astra Dataloader](https://docs.datastax.com/en/astra/docs/develop/dev-upload-data.html)\n",
        "\n",
        "As there is huge amount of data, insertion of data using CQL commands may take time, preferable method is Astra Dataloader.\n",
        "\n",
        "* Download the below mentioned 3 datasets and upload to Datastax Astra dashboard using Astra Dataloader\n",
        "    * [data_movies](https://cdn.iisc.talentsprint.com/CDS/MiniProjects/data_movies.csv)\n",
        "    * [data_ratings](https://cdn.iisc.talentsprint.com/CDS/MiniProjects/data_ratings.csv)\n",
        "    * [data_users](https://cdn.iisc.talentsprint.com/CDS/MiniProjects/data_users.csv)\n",
        "    \n",
        "while uploading data using Datastax Astra dataloader you may encounter the below error message due to formatting issues or bulk data. In that case, click on upload button for second time for data upload.\n",
        "![img](https://cdn.iisc.talentsprint.com/CDS/MiniProjects/data_upload_error.JPG)\n",
        "\n",
        "Note: Cassandra also handles non-SQL data formats such as JSON (see [insert JSON data](https://docs.datastax.com/en/cql-oss/3.3/cql/cql_using/useInsertJSON.html)). However for the purpose of this Mini-project, we are using a tabular data format (.csv)."
      ],
      "id": "MwAu-oEU3KWP"
    },
    {
      "cell_type": "code",
      "source": [
        "# Tables in keyspace = movielens\n",
        "query = \"SELECT * FROM system_schema.tables WHERE keyspace_name = 'movielens';\"\n",
        "rows = session.execute(query)\n",
        "\n",
        "for row in rows:\n",
        "    print(row[1])"
      ],
      "metadata": {
        "colab": {
          "base_uri": "https://localhost:8080/"
        },
        "id": "aX57COET6imw",
        "outputId": "4be7c8e7-bbe9-4d08-f4f1-8b8cfc6738b5"
      },
      "id": "aX57COET6imw",
      "execution_count": null,
      "outputs": [
        {
          "output_type": "stream",
          "name": "stdout",
          "text": [
            "data_movies\n",
            "data_ratings\n",
            "data_users\n"
          ]
        }
      ]
    },
    {
      "cell_type": "markdown",
      "metadata": {
        "id": "relevant-vacuum"
      },
      "source": [
        "### Querying the database"
      ],
      "id": "relevant-vacuum"
    },
    {
      "cell_type": "markdown",
      "metadata": {
        "id": "OHtkA5P8gHku"
      },
      "source": [
        "* Select First 10 rows of the data_movies table\n",
        "* How many Users have watched the movie  `'Contact (1997)'` with MovieId = 1584\n",
        "* Select the count of teenage male users\n",
        "\n",
        "**Note:** For syntax related issues, try the **CQLConsole** on Datastax dashboard\n",
        "\n",
        "**Hint:** [CQL command for select](https://docs.datastax.com/en/cql-oss/3.3/cql/cql_using/useQueryColumnsSort.html)"
      ],
      "id": "OHtkA5P8gHku"
    },
    {
      "cell_type": "code",
      "metadata": {
        "id": "familiar-architecture",
        "colab": {
          "base_uri": "https://localhost:8080/"
        },
        "outputId": "1a59c051-1415-4311-ee00-2a722c81c917"
      },
      "source": [
        "# First 10 rows of the data_movies table\n",
        "query = 'SELECT * FROM movielens.data_movies LIMIT 10;'\n",
        "rows=session.execute(query)\n",
        "\n",
        "for row in rows:\n",
        "    print(row)"
      ],
      "id": "familiar-architecture",
      "execution_count": null,
      "outputs": [
        {
          "output_type": "stream",
          "name": "stdout",
          "text": [
            "Row(movieid=3372, title='Bridge at Remagen, The (1969)', genres='Action|War')\n",
            "Row(movieid=1584, title='Contact (1997)', genres='Drama|Sci-Fi')\n",
            "Row(movieid=2731, title='400 Blows, The (Les Quatre cents coups) (1959)', genres='Drama')\n",
            "Row(movieid=2713, title='Lake Placid (1999)', genres='Horror|Thriller')\n",
            "Row(movieid=769, title='Marlene Dietrich: Shadow and Light (1996)', genres='Documentary')\n",
            "Row(movieid=1863, title='Major League: Back to the Minors (1998)', genres='Comedy')\n",
            "Row(movieid=2453, title='Boy Who Could Fly, The (1986)', genres='Drama|Fantasy')\n",
            "Row(movieid=2302, title='My Cousin Vinny (1992)', genres='Comedy')\n",
            "Row(movieid=3733, title='Paper Chase, The (1973)', genres='Drama')\n",
            "Row(movieid=1765, title='Letter From Death Row, A (1998)', genres='Crime|Drama')\n"
          ]
        }
      ]
    },
    {
      "cell_type": "code",
      "source": [
        "query = 'SELECT * FROM movielens.data_ratings LIMIT 10;'\n",
        "rows=session.execute(query)\n",
        "for row in rows:\n",
        "    print(row)"
      ],
      "metadata": {
        "colab": {
          "base_uri": "https://localhost:8080/"
        },
        "id": "7n30Kdsj_CV_",
        "outputId": "82114789-3304-454b-f303-5ff91538f19a"
      },
      "id": "7n30Kdsj_CV_",
      "execution_count": null,
      "outputs": [
        {
          "output_type": "stream",
          "name": "stdout",
          "text": [
            "Row(movieid=3372, userid=299, rating=4)\n",
            "Row(movieid=3372, userid=344, rating=5)\n",
            "Row(movieid=3372, userid=348, rating=3)\n",
            "Row(movieid=3372, userid=435, rating=4)\n",
            "Row(movieid=3372, userid=637, rating=4)\n",
            "Row(movieid=3372, userid=646, rating=5)\n",
            "Row(movieid=3372, userid=702, rating=3)\n",
            "Row(movieid=3372, userid=1218, rating=4)\n",
            "Row(movieid=3372, userid=1328, rating=4)\n",
            "Row(movieid=3372, userid=1465, rating=4)\n"
          ]
        }
      ]
    },
    {
      "cell_type": "code",
      "metadata": {
        "id": "younger-audit",
        "colab": {
          "base_uri": "https://localhost:8080/"
        },
        "outputId": "fdf5fb2e-b9d3-4625-e3dd-0d5452d441d8"
      },
      "source": [
        "\n",
        "# Users that have watched the movie 'Contact (1997)' with MovieId = 1584\n",
        "Query = \"\"\"SELECT COUNT(*) FROM movielens.data_ratings where movieid=1584 ALLOW FILTERING;\"\"\"\n",
        "rows = session.execute(Query)\n",
        "\n",
        "print(rows.one())\n"
      ],
      "id": "younger-audit",
      "execution_count": null,
      "outputs": [
        {
          "output_type": "stream",
          "name": "stdout",
          "text": [
            "Row(count=1382)\n"
          ]
        }
      ]
    },
    {
      "cell_type": "code",
      "source": [
        "\n",
        "# the count of teenage male users\n",
        "Query = \"\"\"SELECT COUNT(*) FROM movielens.data_users where gender='M' ALLOW FILTERING;\"\"\"\n",
        "rows = session.execute(Query)\n",
        "\n",
        "print(rows.one())\n"
      ],
      "metadata": {
        "colab": {
          "base_uri": "https://localhost:8080/"
        },
        "id": "ppgbUWCR89Vm",
        "outputId": "1323032f-ec54-4308-a0e6-3b27a4a2176d"
      },
      "id": "ppgbUWCR89Vm",
      "execution_count": null,
      "outputs": [
        {
          "output_type": "stream",
          "name": "stderr",
          "text": [
            "WARNING:cassandra.protocol:Server warning: Aggregation query used without partition key\n"
          ]
        },
        {
          "output_type": "stream",
          "name": "stdout",
          "text": [
            "Row(count=4331)\n"
          ]
        }
      ]
    },
    {
      "cell_type": "markdown",
      "metadata": {
        "id": "sustainable-underwear"
      },
      "source": [
        "* Select the count of movies with Top rating from the entire ratings table"
      ],
      "id": "sustainable-underwear"
    },
    {
      "cell_type": "code",
      "metadata": {
        "id": "better-heath",
        "colab": {
          "base_uri": "https://localhost:8080/"
        },
        "outputId": "3f7c34d1-b34b-4188-c9a1-745b3a12e23f"
      },
      "source": [
        "Query = \"\"\"SELECT movieid FROM movielens.data_ratings where rating=5 ALLOW FILTERING;\"\"\"\n",
        "rows = session.execute(Query)\n",
        "\n",
        "# list(rows)\n",
        "unique_movies = {}\n",
        "for row in rows:\n",
        "    unique_movies[row.movieid]=1\n",
        "\n",
        "unique_movies = [*unique_movies]\n",
        "print(len(unique_movies))"
      ],
      "id": "better-heath",
      "execution_count": null,
      "outputs": [
        {
          "output_type": "stream",
          "name": "stdout",
          "text": [
            "3232\n"
          ]
        }
      ]
    },
    {
      "cell_type": "markdown",
      "metadata": {
        "id": "alleged-notebook"
      },
      "source": [
        "* Select the count of movies, ONLY in Comedy genre from the entire movies table"
      ],
      "id": "alleged-notebook"
    },
    {
      "cell_type": "code",
      "source": [
        "# Count of movies, ONLY in Comedy genre\n",
        "query = \"\"\"SELECT genres FROM movielens.data_movies ;\"\"\"\n",
        "rows=session.execute(query)\n",
        "\n",
        "count=0\n",
        "genre = 'Comedy'\n",
        "for row in rows:\n",
        "    if genre in str(row):\n",
        "        count = count+1\n",
        "print(f\"Number of movies in Comedy genre : {count}\")"
      ],
      "metadata": {
        "colab": {
          "base_uri": "https://localhost:8080/"
        },
        "id": "fC6MMcdyw7TP",
        "outputId": "5df844ac-07a4-45ca-ad88-7782e2b46161"
      },
      "id": "fC6MMcdyw7TP",
      "execution_count": null,
      "outputs": [
        {
          "output_type": "stream",
          "name": "stdout",
          "text": [
            "Number of movies in Comedy genre : 1200\n"
          ]
        }
      ]
    },
    {
      "cell_type": "markdown",
      "metadata": {
        "id": "afraid-france"
      },
      "source": [
        "### Visualizing the Data\n",
        "Retrieve the data using CQL queries and visualize using matplotlib"
      ],
      "id": "afraid-france"
    },
    {
      "cell_type": "markdown",
      "metadata": {
        "id": "damaged-laugh"
      },
      "source": [
        "* Visualize the frequencies of movie genres from the entire data"
      ],
      "id": "damaged-laugh"
    },
    {
      "cell_type": "code",
      "metadata": {
        "id": "acquired-solid"
      },
      "source": [
        "from collections import Counter\n",
        "\n",
        "query = \"\"\"SELECT genres FROM movielens.data_movies ;\"\"\"\n",
        "rows=session.execute(query)\n",
        "\n",
        "geners = []\n",
        "for row in rows:\n",
        "    genre = row.genres\n",
        "    genre = genre.split('|')\n",
        "    geners = geners + genre\n",
        "\n",
        "frequency_geners = Counter(geners)\n",
        "\n",
        "# Extract elements and frequencies for plotting\n",
        "elements = list(frequency_geners.keys())\n",
        "frequencies = list(frequency_geners.values())\n",
        "\n",
        "# Create a bar plot\n",
        "plt.figure(figsize=(12, 5))\n",
        "plt.bar(elements, frequencies)\n",
        "plt.xlabel('Elements')\n",
        "plt.ylabel('Frequency')\n",
        "plt.title('Frequency of Elements in the List')\n",
        "plt.xticks(rotation=90)\n",
        "plt.show()"
      ],
      "id": "acquired-solid",
      "execution_count": null,
      "outputs": []
    },
    {
      "cell_type": "markdown",
      "metadata": {
        "id": "instant-immigration"
      },
      "source": [
        "* Visualize the bar plot showing no.of movies released in a particular year"
      ],
      "id": "instant-immigration"
    },
    {
      "cell_type": "code",
      "metadata": {
        "id": "theoretical-carol",
        "colab": {
          "base_uri": "https://localhost:8080/",
          "height": 450
        },
        "outputId": "6c7eb92e-f2b3-46ac-a49d-7a59dd69ad7f"
      },
      "source": [
        "from collections import Counter\n",
        "import re\n",
        "\n",
        "query = \"\"\"SELECT title FROM movielens.data_movies ;\"\"\"\n",
        "rows=session.execute(query)\n",
        "count=0\n",
        "rel_years = []\n",
        "\n",
        "for row in rows:\n",
        "    # print(row)\n",
        "    year_pattern = r'\\((\\d{4})\\)'\n",
        "    # Use re.search to find the match\n",
        "    match = re.search(year_pattern, str(row))\n",
        "\n",
        "    # Extract the year if there is a match\n",
        "    if match:\n",
        "        extracted_year = match.group(1)\n",
        "        rel_years.append(extracted_year)\n",
        "    else:\n",
        "        print(\"No year found in the string.\")\n",
        "\n",
        "# Use Counter to count the frequency of each element\n",
        "frequency_years = Counter(sorted(rel_years))\n",
        "\n",
        "# Extract elements and frequencies for plotting\n",
        "elements = list(frequency_years.keys())\n",
        "frequencies = list(frequency_years.values())\n",
        "\n",
        "# Create a bar plot\n",
        "plt.figure(figsize=(20, 5))\n",
        "plt.bar(elements, frequencies)\n",
        "# plt.xlabel('Elements')\n",
        "plt.ylabel('Frequency')\n",
        "plt.title('Num of movies released per year')\n",
        "plt.xticks(rotation=90)\n",
        "plt.show()"
      ],
      "id": "theoretical-carol",
      "execution_count": null,
      "outputs": [
        {
          "output_type": "display_data",
          "data": {
            "text/plain": [
              "<Figure size 2000x500 with 1 Axes>"
            ],
            "image/png": "[encoded data removed]"
          },
          "metadata": {}
        }
      ]
    },
    {
      "cell_type": "markdown",
      "metadata": {
        "id": "pediatric-clothing"
      },
      "source": [
        "* Depict the plot of Age groups ratio who are active in watching movies"
      ],
      "id": "pediatric-clothing"
    },
    {
      "cell_type": "code",
      "metadata": {
        "id": "desirable-selection",
        "colab": {
          "base_uri": "https://localhost:8080/",
          "height": 472
        },
        "outputId": "9a61b1d4-c7cf-4414-ff13-083920ee0ec5"
      },
      "source": [
        "from collections import Counter\n",
        "import re\n",
        "\n",
        "query = \"\"\"SELECT age FROM movielens.data_users ;\"\"\"\n",
        "rows=session.execute(query)\n",
        "\n",
        "count=0\n",
        "age_list = []\n",
        "\n",
        "for row in rows:\n",
        "    age_list.append(row.age)\n",
        "\n",
        "# Define the age bins\n",
        "bins = [0, 10, 20, 30, 40, 50, 60,70]\n",
        "\n",
        "# Create a histogram\n",
        "plt.hist(age_list, bins=bins, edgecolor='black')\n",
        "# Customize the plot\n",
        "plt.xlabel('Age Bins')\n",
        "plt.ylabel('Number of Users')\n",
        "plt.title('Number of Users in Age Bins')\n",
        "plt.show()\n",
        "\n"
      ],
      "id": "desirable-selection",
      "execution_count": null,
      "outputs": [
        {
          "output_type": "display_data",
          "data": {
            "text/plain": [
              "<Figure size 640x480 with 1 Axes>"
            ],
            "image/png": "[encoded data removed]"
          },
          "metadata": {}
        }
      ]
    },
    {
      "cell_type": "markdown",
      "metadata": {
        "id": "extensive-billy"
      },
      "source": [
        "### Analyzing the Data\n",
        "\n",
        "Analyzing the correlation between the movies records, implement a function to recommend movies based on search term"
      ],
      "id": "extensive-billy"
    },
    {
      "cell_type": "markdown",
      "metadata": {
        "id": "southeast-buffalo"
      },
      "source": [
        "* Retrieve all the data from ratings table"
      ],
      "id": "southeast-buffalo"
    },
    {
      "cell_type": "code",
      "metadata": {
        "id": "related-google",
        "colab": {
          "base_uri": "https://localhost:8080/"
        },
        "outputId": "0a844b76-a829-4909-ab9d-0faf46d61188"
      },
      "source": [
        "query = \"\"\"SELECT * FROM movielens.data_ratings ;\"\"\"\n",
        "rows=session.execute(query)\n",
        "\n",
        "count=0\n",
        "for row in rows:\n",
        "    print(row)\n",
        "    count+=1\n",
        "    if count > 4:\n",
        "        break\n",
        "\n",
        "# Convert ResultSet to Pandas DataFrame\n",
        "df_ratings = pd.DataFrame(rows)"
      ],
      "id": "related-google",
      "execution_count": null,
      "outputs": [
        {
          "output_type": "stream",
          "name": "stdout",
          "text": [
            "Row(movieid=3372, userid=299, rating=4)\n",
            "Row(movieid=3372, userid=344, rating=5)\n",
            "Row(movieid=3372, userid=348, rating=3)\n",
            "Row(movieid=3372, userid=435, rating=4)\n",
            "Row(movieid=3372, userid=637, rating=4)\n"
          ]
        }
      ]
    },
    {
      "cell_type": "markdown",
      "metadata": {
        "id": "continent-travel"
      },
      "source": [
        "* Create a movie matrix by applying pivot table with the above retrieved ratings data\n",
        "\n",
        "* use `pd.pivot_table` with index = `userid`, columns = `movieid` and Values = `rating`\n",
        "\n",
        " **Hint:** create a dataframe with above retrieved ratings data to apply pivot table"
      ],
      "id": "continent-travel"
    },
    {
      "cell_type": "code",
      "metadata": {
        "id": "prospective-polls",
        "colab": {
          "base_uri": "https://localhost:8080/",
          "height": 455
        },
        "outputId": "374d7653-8e81-4276-b781-74cefd802211"
      },
      "source": [
        "# Use pivot_table to create a pivot table\n",
        "movie_mat_df = pd.pivot_table(df_ratings, values='rating', index='userid', columns='movieid')\n",
        "movie_mat_df"
      ],
      "id": "prospective-polls",
      "execution_count": null,
      "outputs": [
        {
          "output_type": "execute_result",
          "data": {
            "text/plain": [
              "movieid  1     2     3     4     5     6     7     8     9     10    ...  \\\n",
              "userid                                                               ...   \n",
              "1         5.0   NaN   NaN   NaN   NaN   NaN   NaN   NaN   NaN   NaN  ...   \n",
              "2         NaN   NaN   NaN   NaN   NaN   NaN   NaN   NaN   NaN   NaN  ...   \n",
              "3         NaN   NaN   NaN   NaN   NaN   NaN   NaN   NaN   NaN   NaN  ...   \n",
              "4         NaN   NaN   NaN   NaN   NaN   NaN   NaN   NaN   NaN   NaN  ...   \n",
              "5         NaN   NaN   NaN   NaN   NaN   2.0   NaN   NaN   NaN   NaN  ...   \n",
              "...       ...   ...   ...   ...   ...   ...   ...   ...   ...   ...  ...   \n",
              "6036      NaN   NaN   NaN   2.0   NaN   3.0   NaN   NaN   NaN   NaN  ...   \n",
              "6037      NaN   NaN   NaN   NaN   NaN   NaN   NaN   NaN   NaN   NaN  ...   \n",
              "6038      NaN   NaN   NaN   NaN   NaN   NaN   NaN   NaN   NaN   NaN  ...   \n",
              "6039      NaN   NaN   NaN   NaN   NaN   NaN   NaN   NaN   NaN   NaN  ...   \n",
              "6040      3.0   NaN   NaN   NaN   NaN   NaN   NaN   NaN   NaN   NaN  ...   \n",
              "\n",
              "movieid  3943  3944  3945  3946  3947  3948  3949  3950  3951  3952  \n",
              "userid                                                               \n",
              "1         NaN   NaN   NaN   NaN   NaN   NaN   NaN   NaN   NaN   NaN  \n",
              "2         NaN   NaN   NaN   NaN   NaN   NaN   NaN   NaN   NaN   NaN  \n",
              "3         NaN   NaN   NaN   NaN   NaN   NaN   NaN   NaN   NaN   NaN  \n",
              "4         NaN   NaN   NaN   NaN   NaN   NaN   NaN   NaN   NaN   NaN  \n",
              "5         NaN   NaN   NaN   NaN   NaN   NaN   NaN   NaN   NaN   NaN  \n",
              "...       ...   ...   ...   ...   ...   ...   ...   ...   ...   ...  \n",
              "6036      NaN   NaN   NaN   NaN   NaN   NaN   NaN   NaN   NaN   NaN  \n",
              "6037      NaN   NaN   NaN   NaN   NaN   NaN   NaN   NaN   NaN   NaN  \n",
              "6038      NaN   NaN   NaN   NaN   NaN   NaN   NaN   NaN   NaN   NaN  \n",
              "6039      NaN   NaN   NaN   NaN   NaN   NaN   NaN   NaN   NaN   NaN  \n",
              "6040      NaN   NaN   NaN   NaN   NaN   NaN   NaN   NaN   NaN   NaN  \n",
              "\n",
              "[6040 rows x 3706 columns]"
            ],
            "text/html": [
              "\n",
              "  <div id=\"df-cbd793de-5d25-440b-8297-770a5f443b21\" class=\"colab-df-container\">\n",
              "    <div>\n",
              "<style scoped>\n",
              "    .dataframe tbody tr th:only-of-type {\n",
              "        vertical-align: middle;\n",
              "    }\n",
              "\n",
              "    .dataframe tbody tr th {\n",
              "        vertical-align: top;\n",
              "    }\n",
              "\n",
              "    .dataframe thead th {\n",
              "        text-align: right;\n",
              "    }\n",
              "</style>\n",
              "<table border=\"1\" class=\"dataframe\">\n",
              "  <thead>\n",
              "    <tr style=\"text-align: right;\">\n",
              "      <th>movieid</th>\n",
              "      <th>1</th>\n",
              "      <th>2</th>\n",
              "      <th>3</th>\n",
              "      <th>4</th>\n",
              "      <th>5</th>\n",
              "      <th>6</th>\n",
              "      <th>7</th>\n",
              "      <th>8</th>\n",
              "      <th>9</th>\n",
              "      <th>10</th>\n",
              "      <th>...</th>\n",
              "      <th>3943</th>\n",
              "      <th>3944</th>\n",
              "      <th>3945</th>\n",
              "      <th>3946</th>\n",
              "      <th>3947</th>\n",
              "      <th>3948</th>\n",
              "      <th>3949</th>\n",
              "      <th>3950</th>\n",
              "      <th>3951</th>\n",
              "      <th>3952</th>\n",
              "    </tr>\n",
              "    <tr>\n",
              "      <th>userid</th>\n",
              "      <th></th>\n",
              "      <th></th>\n",
              "      <th></th>\n",
              "      <th></th>\n",
              "      <th></th>\n",
              "      <th></th>\n",
              "      <th></th>\n",
              "      <th></th>\n",
              "      <th></th>\n",
              "      <th></th>\n",
              "      <th></th>\n",
              "      <th></th>\n",
              "      <th></th>\n",
              "      <th></th>\n",
              "      <th></th>\n",
              "      <th></th>\n",
              "      <th></th>\n",
              "      <th></th>\n",
              "      <th></th>\n",
              "      <th></th>\n",
              "      <th></th>\n",
              "    </tr>\n",
              "  </thead>\n",
              "  <tbody>\n",
              "    <tr>\n",
              "      <th>1</th>\n",
              "      <td>5.0</td>\n",
              "      <td>NaN</td>\n",
              "      <td>NaN</td>\n",
              "      <td>NaN</td>\n",
              "      <td>NaN</td>\n",
              "      <td>NaN</td>\n",
              "      <td>NaN</td>\n",
              "      <td>NaN</td>\n",
              "      <td>NaN</td>\n",
              "      <td>NaN</td>\n",
              "      <td>...</td>\n",
              "      <td>NaN</td>\n",
              "      <td>NaN</td>\n",
              "      <td>NaN</td>\n",
              "      <td>NaN</td>\n",
              "      <td>NaN</td>\n",
              "      <td>NaN</td>\n",
              "      <td>NaN</td>\n",
              "      <td>NaN</td>\n",
              "      <td>NaN</td>\n",
              "      <td>NaN</td>\n",
              "    </tr>\n",
              "    <tr>\n",
              "      <th>2</th>\n",
              "      <td>NaN</td>\n",
              "      <td>NaN</td>\n",
              "      <td>NaN</td>\n",
              "      <td>NaN</td>\n",
              "      <td>NaN</td>\n",
              "      <td>NaN</td>\n",
              "      <td>NaN</td>\n",
              "      <td>NaN</td>\n",
              "      <td>NaN</td>\n",
              "      <td>NaN</td>\n",
              "      <td>...</td>\n",
              "      <td>NaN</td>\n",
              "      <td>NaN</td>\n",
              "      <td>NaN</td>\n",
              "      <td>NaN</td>\n",
              "      <td>NaN</td>\n",
              "      <td>NaN</td>\n",
              "      <td>NaN</td>\n",
              "      <td>NaN</td>\n",
              "      <td>NaN</td>\n",
              "      <td>NaN</td>\n",
              "    </tr>\n",
              "    <tr>\n",
              "      <th>3</th>\n",
              "      <td>NaN</td>\n",
              "      <td>NaN</td>\n",
              "      <td>NaN</td>\n",
              "      <td>NaN</td>\n",
              "      <td>NaN</td>\n",
              "      <td>NaN</td>\n",
              "      <td>NaN</td>\n",
              "      <td>NaN</td>\n",
              "      <td>NaN</td>\n",
              "      <td>NaN</td>\n",
              "      <td>...</td>\n",
              "      <td>NaN</td>\n",
              "      <td>NaN</td>\n",
              "      <td>NaN</td>\n",
              "      <td>NaN</td>\n",
              "      <td>NaN</td>\n",
              "      <td>NaN</td>\n",
              "      <td>NaN</td>\n",
              "      <td>NaN</td>\n",
              "      <td>NaN</td>\n",
              "      <td>NaN</td>\n",
              "    </tr>\n",
              "    <tr>\n",
              "      <th>4</th>\n",
              "      <td>NaN</td>\n",
              "      <td>NaN</td>\n",
              "      <td>NaN</td>\n",
              "      <td>NaN</td>\n",
              "      <td>NaN</td>\n",
              "      <td>NaN</td>\n",
              "      <td>NaN</td>\n",
              "      <td>NaN</td>\n",
              "      <td>NaN</td>\n",
              "      <td>NaN</td>\n",
              "      <td>...</td>\n",
              "      <td>NaN</td>\n",
              "      <td>NaN</td>\n",
              "      <td>NaN</td>\n",
              "      <td>NaN</td>\n",
              "      <td>NaN</td>\n",
              "      <td>NaN</td>\n",
              "      <td>NaN</td>\n",
              "      <td>NaN</td>\n",
              "      <td>NaN</td>\n",
              "      <td>NaN</td>\n",
              "    </tr>\n",
              "    <tr>\n",
              "      <th>5</th>\n",
              "      <td>NaN</td>\n",
              "      <td>NaN</td>\n",
              "      <td>NaN</td>\n",
              "      <td>NaN</td>\n",
              "      <td>NaN</td>\n",
              "      <td>2.0</td>\n",
              "      <td>NaN</td>\n",
              "      <td>NaN</td>\n",
              "      <td>NaN</td>\n",
              "      <td>NaN</td>\n",
              "      <td>...</td>\n",
              "      <td>NaN</td>\n",
              "      <td>NaN</td>\n",
              "      <td>NaN</td>\n",
              "      <td>NaN</td>\n",
              "      <td>NaN</td>\n",
              "      <td>NaN</td>\n",
              "      <td>NaN</td>\n",
              "      <td>NaN</td>\n",
              "      <td>NaN</td>\n",
              "      <td>NaN</td>\n",
              "    </tr>\n",
              "    <tr>\n",
              "      <th>...</th>\n",
              "      <td>...</td>\n",
              "      <td>...</td>\n",
              "      <td>...</td>\n",
              "      <td>...</td>\n",
              "      <td>...</td>\n",
              "      <td>...</td>\n",
              "      <td>...</td>\n",
              "      <td>...</td>\n",
              "      <td>...</td>\n",
              "      <td>...</td>\n",
              "      <td>...</td>\n",
              "      <td>...</td>\n",
              "      <td>...</td>\n",
              "      <td>...</td>\n",
              "      <td>...</td>\n",
              "      <td>...</td>\n",
              "      <td>...</td>\n",
              "      <td>...</td>\n",
              "      <td>...</td>\n",
              "      <td>...</td>\n",
              "      <td>...</td>\n",
              "    </tr>\n",
              "    <tr>\n",
              "      <th>6036</th>\n",
              "      <td>NaN</td>\n",
              "      <td>NaN</td>\n",
              "      <td>NaN</td>\n",
              "      <td>2.0</td>\n",
              "      <td>NaN</td>\n",
              "      <td>3.0</td>\n",
              "      <td>NaN</td>\n",
              "      <td>NaN</td>\n",
              "      <td>NaN</td>\n",
              "      <td>NaN</td>\n",
              "      <td>...</td>\n",
              "      <td>NaN</td>\n",
              "      <td>NaN</td>\n",
              "      <td>NaN</td>\n",
              "      <td>NaN</td>\n",
              "      <td>NaN</td>\n",
              "      <td>NaN</td>\n",
              "      <td>NaN</td>\n",
              "      <td>NaN</td>\n",
              "      <td>NaN</td>\n",
              "      <td>NaN</td>\n",
              "    </tr>\n",
              "    <tr>\n",
              "      <th>6037</th>\n",
              "      <td>NaN</td>\n",
              "      <td>NaN</td>\n",
              "      <td>NaN</td>\n",
              "      <td>NaN</td>\n",
              "      <td>NaN</td>\n",
              "      <td>NaN</td>\n",
              "      <td>NaN</td>\n",
              "      <td>NaN</td>\n",
              "      <td>NaN</td>\n",
              "      <td>NaN</td>\n",
              "      <td>...</td>\n",
              "      <td>NaN</td>\n",
              "      <td>NaN</td>\n",
              "      <td>NaN</td>\n",
              "      <td>NaN</td>\n",
              "      <td>NaN</td>\n",
              "      <td>NaN</td>\n",
              "      <td>NaN</td>\n",
              "      <td>NaN</td>\n",
              "      <td>NaN</td>\n",
              "      <td>NaN</td>\n",
              "    </tr>\n",
              "    <tr>\n",
              "      <th>6038</th>\n",
              "      <td>NaN</td>\n",
              "      <td>NaN</td>\n",
              "      <td>NaN</td>\n",
              "      <td>NaN</td>\n",
              "      <td>NaN</td>\n",
              "      <td>NaN</td>\n",
              "      <td>NaN</td>\n",
              "      <td>NaN</td>\n",
              "      <td>NaN</td>\n",
              "      <td>NaN</td>\n",
              "      <td>...</td>\n",
              "      <td>NaN</td>\n",
              "      <td>NaN</td>\n",
              "      <td>NaN</td>\n",
              "      <td>NaN</td>\n",
              "      <td>NaN</td>\n",
              "      <td>NaN</td>\n",
              "      <td>NaN</td>\n",
              "      <td>NaN</td>\n",
              "      <td>NaN</td>\n",
              "      <td>NaN</td>\n",
              "    </tr>\n",
              "    <tr>\n",
              "      <th>6039</th>\n",
              "      <td>NaN</td>\n",
              "      <td>NaN</td>\n",
              "      <td>NaN</td>\n",
              "      <td>NaN</td>\n",
              "      <td>NaN</td>\n",
              "      <td>NaN</td>\n",
              "      <td>NaN</td>\n",
              "      <td>NaN</td>\n",
              "      <td>NaN</td>\n",
              "      <td>NaN</td>\n",
              "      <td>...</td>\n",
              "      <td>NaN</td>\n",
              "      <td>NaN</td>\n",
              "      <td>NaN</td>\n",
              "      <td>NaN</td>\n",
              "      <td>NaN</td>\n",
              "      <td>NaN</td>\n",
              "      <td>NaN</td>\n",
              "      <td>NaN</td>\n",
              "      <td>NaN</td>\n",
              "      <td>NaN</td>\n",
              "    </tr>\n",
              "    <tr>\n",
              "      <th>6040</th>\n",
              "      <td>3.0</td>\n",
              "      <td>NaN</td>\n",
              "      <td>NaN</td>\n",
              "      <td>NaN</td>\n",
              "      <td>NaN</td>\n",
              "      <td>NaN</td>\n",
              "      <td>NaN</td>\n",
              "      <td>NaN</td>\n",
              "      <td>NaN</td>\n",
              "      <td>NaN</td>\n",
              "      <td>...</td>\n",
              "      <td>NaN</td>\n",
              "      <td>NaN</td>\n",
              "      <td>NaN</td>\n",
              "      <td>NaN</td>\n",
              "      <td>NaN</td>\n",
              "      <td>NaN</td>\n",
              "      <td>NaN</td>\n",
              "      <td>NaN</td>\n",
              "      <td>NaN</td>\n",
              "      <td>NaN</td>\n",
              "    </tr>\n",
              "  </tbody>\n",
              "</table>\n",
              "<p>6040 rows × 3706 columns</p>\n",
              "</div>\n",
              "    <div class=\"colab-df-buttons\">\n",
              "\n",
              "  <div class=\"colab-df-container\">\n",
              "    <button class=\"colab-df-convert\" onclick=\"convertToInteractive('df-cbd793de-5d25-440b-8297-770a5f443b21')\"\n",
              "            title=\"Convert this dataframe to an interactive table.\"\n",
              "            style=\"display:none;\">\n",
              "\n",
              "  <svg xmlns=\"http://www.w3.org/2000/svg\" height=\"24px\" viewBox=\"0 -960 960 960\">\n",
              "    <path d=\"M120-120v-720h720v720H120Zm60-500h600v-160H180v160Zm220 220h160v-160H400v160Zm0 220h160v-160H400v160ZM180-400h160v-160H180v160Zm440 0h160v-160H620v160ZM180-180h160v-160H180v160Zm440 0h160v-160H620v160Z\"/>\n",
              "  </svg>\n",
              "    </button>\n",
              "\n",
              "  <style>\n",
              "    .colab-df-container {\n",
              "      display:flex;\n",
              "      gap: 12px;\n",
              "    }\n",
              "\n",
              "    .colab-df-convert {\n",
              "      background-color: #E8F0FE;\n",
              "      border: none;\n",
              "      border-radius: 50%;\n",
              "      cursor: pointer;\n",
              "      display: none;\n",
              "      fill: #1967D2;\n",
              "      height: 32px;\n",
              "      padding: 0 0 0 0;\n",
              "      width: 32px;\n",
              "    }\n",
              "\n",
              "    .colab-df-convert:hover {\n",
              "      background-color: #E2EBFA;\n",
              "      box-shadow: 0px 1px 2px rgba(60, 64, 67, 0.3), 0px 1px 3px 1px rgba(60, 64, 67, 0.15);\n",
              "      fill: #174EA6;\n",
              "    }\n",
              "\n",
              "    .colab-df-buttons div {\n",
              "      margin-bottom: 4px;\n",
              "    }\n",
              "\n",
              "    [theme=dark] .colab-df-convert {\n",
              "      background-color: #3B4455;\n",
              "      fill: #D2E3FC;\n",
              "    }\n",
              "\n",
              "    [theme=dark] .colab-df-convert:hover {\n",
              "      background-color: #434B5C;\n",
              "      box-shadow: 0px 1px 3px 1px rgba(0, 0, 0, 0.15);\n",
              "      filter: drop-shadow(0px 1px 2px rgba(0, 0, 0, 0.3));\n",
              "      fill: #FFFFFF;\n",
              "    }\n",
              "  </style>\n",
              "\n",
              "    <script>\n",
              "      const buttonEl =\n",
              "        document.querySelector('#df-cbd793de-5d25-440b-8297-770a5f443b21 button.colab-df-convert');\n",
              "      buttonEl.style.display =\n",
              "        google.colab.kernel.accessAllowed ? 'block' : 'none';\n",
              "\n",
              "      async function convertToInteractive(key) {\n",
              "        const element = document.querySelector('#df-cbd793de-5d25-440b-8297-770a5f443b21');\n",
              "        const dataTable =\n",
              "          await google.colab.kernel.invokeFunction('convertToInteractive',\n",
              "                                                    [key], {});\n",
              "        if (!dataTable) return;\n",
              "\n",
              "        const docLinkHtml = 'Like what you see? Visit the ' +\n",
              "          '<a target=\"_blank\" href=https://colab.research.google.com/notebooks/data_table.ipynb>data table notebook</a>'\n",
              "          + ' to learn more about interactive tables.';\n",
              "        element.innerHTML = '';\n",
              "        dataTable['output_type'] = 'display_data';\n",
              "        await google.colab.output.renderOutput(dataTable, element);\n",
              "        const docLink = document.createElement('div');\n",
              "        docLink.innerHTML = docLinkHtml;\n",
              "        element.appendChild(docLink);\n",
              "      }\n",
              "    </script>\n",
              "  </div>\n",
              "\n",
              "\n",
              "<div id=\"df-465593c8-35e3-46a3-b6ba-421f54f07346\">\n",
              "  <button class=\"colab-df-quickchart\" onclick=\"quickchart('df-465593c8-35e3-46a3-b6ba-421f54f07346')\"\n",
              "            title=\"Suggest charts\"\n",
              "            style=\"display:none;\">\n",
              "\n",
              "<svg xmlns=\"http://www.w3.org/2000/svg\" height=\"24px\"viewBox=\"0 0 24 24\"\n",
              "     width=\"24px\">\n",
              "    <g>\n",
              "        <path d=\"M19 3H5c-1.1 0-2 .9-2 2v14c0 1.1.9 2 2 2h14c1.1 0 2-.9 2-2V5c0-1.1-.9-2-2-2zM9 17H7v-7h2v7zm4 0h-2V7h2v10zm4 0h-2v-4h2v4z\"/>\n",
              "    </g>\n",
              "</svg>\n",
              "  </button>\n",
              "\n",
              "<style>\n",
              "  .colab-df-quickchart {\n",
              "      --bg-color: #E8F0FE;\n",
              "      --fill-color: #1967D2;\n",
              "      --hover-bg-color: #E2EBFA;\n",
              "      --hover-fill-color: #174EA6;\n",
              "      --disabled-fill-color: #AAA;\n",
              "      --disabled-bg-color: #DDD;\n",
              "  }\n",
              "\n",
              "  [theme=dark] .colab-df-quickchart {\n",
              "      --bg-color: #3B4455;\n",
              "      --fill-color: #D2E3FC;\n",
              "      --hover-bg-color: #434B5C;\n",
              "      --hover-fill-color: #FFFFFF;\n",
              "      --disabled-bg-color: #3B4455;\n",
              "      --disabled-fill-color: #666;\n",
              "  }\n",
              "\n",
              "  .colab-df-quickchart {\n",
              "    background-color: var(--bg-color);\n",
              "    border: none;\n",
              "    border-radius: 50%;\n",
              "    cursor: pointer;\n",
              "    display: none;\n",
              "    fill: var(--fill-color);\n",
              "    height: 32px;\n",
              "    padding: 0;\n",
              "    width: 32px;\n",
              "  }\n",
              "\n",
              "  .colab-df-quickchart:hover {\n",
              "    background-color: var(--hover-bg-color);\n",
              "    box-shadow: 0 1px 2px rgba(60, 64, 67, 0.3), 0 1px 3px 1px rgba(60, 64, 67, 0.15);\n",
              "    fill: var(--button-hover-fill-color);\n",
              "  }\n",
              "\n",
              "  .colab-df-quickchart-complete:disabled,\n",
              "  .colab-df-quickchart-complete:disabled:hover {\n",
              "    background-color: var(--disabled-bg-color);\n",
              "    fill: var(--disabled-fill-color);\n",
              "    box-shadow: none;\n",
              "  }\n",
              "\n",
              "  .colab-df-spinner {\n",
              "    border: 2px solid var(--fill-color);\n",
              "    border-color: transparent;\n",
              "    border-bottom-color: var(--fill-color);\n",
              "    animation:\n",
              "      spin 1s steps(1) infinite;\n",
              "  }\n",
              "\n",
              "  @keyframes spin {\n",
              "    0% {\n",
              "      border-color: transparent;\n",
              "      border-bottom-color: var(--fill-color);\n",
              "      border-left-color: var(--fill-color);\n",
              "    }\n",
              "    20% {\n",
              "      border-color: transparent;\n",
              "      border-left-color: var(--fill-color);\n",
              "      border-top-color: var(--fill-color);\n",
              "    }\n",
              "    30% {\n",
              "      border-color: transparent;\n",
              "      border-left-color: var(--fill-color);\n",
              "      border-top-color: var(--fill-color);\n",
              "      border-right-color: var(--fill-color);\n",
              "    }\n",
              "    40% {\n",
              "      border-color: transparent;\n",
              "      border-right-color: var(--fill-color);\n",
              "      border-top-color: var(--fill-color);\n",
              "    }\n",
              "    60% {\n",
              "      border-color: transparent;\n",
              "      border-right-color: var(--fill-color);\n",
              "    }\n",
              "    80% {\n",
              "      border-color: transparent;\n",
              "      border-right-color: var(--fill-color);\n",
              "      border-bottom-color: var(--fill-color);\n",
              "    }\n",
              "    90% {\n",
              "      border-color: transparent;\n",
              "      border-bottom-color: var(--fill-color);\n",
              "    }\n",
              "  }\n",
              "</style>\n",
              "\n",
              "  <script>\n",
              "    async function quickchart(key) {\n",
              "      const quickchartButtonEl =\n",
              "        document.querySelector('#' + key + ' button');\n",
              "      quickchartButtonEl.disabled = true;  // To prevent multiple clicks.\n",
              "      quickchartButtonEl.classList.add('colab-df-spinner');\n",
              "      try {\n",
              "        const charts = await google.colab.kernel.invokeFunction(\n",
              "            'suggestCharts', [key], {});\n",
              "      } catch (error) {\n",
              "        console.error('Error during call to suggestCharts:', error);\n",
              "      }\n",
              "      quickchartButtonEl.classList.remove('colab-df-spinner');\n",
              "      quickchartButtonEl.classList.add('colab-df-quickchart-complete');\n",
              "    }\n",
              "    (() => {\n",
              "      let quickchartButtonEl =\n",
              "        document.querySelector('#df-465593c8-35e3-46a3-b6ba-421f54f07346 button');\n",
              "      quickchartButtonEl.style.display =\n",
              "        google.colab.kernel.accessAllowed ? 'block' : 'none';\n",
              "    })();\n",
              "  </script>\n",
              "</div>\n",
              "\n",
              "  <div id=\"id_7b2eeef7-0761-43b5-8e66-b4be391a1534\">\n",
              "    <style>\n",
              "      .colab-df-generate {\n",
              "        background-color: #E8F0FE;\n",
              "        border: none;\n",
              "        border-radius: 50%;\n",
              "        cursor: pointer;\n",
              "        display: none;\n",
              "        fill: #1967D2;\n",
              "        height: 32px;\n",
              "        padding: 0 0 0 0;\n",
              "        width: 32px;\n",
              "      }\n",
              "\n",
              "      .colab-df-generate:hover {\n",
              "        background-color: #E2EBFA;\n",
              "        box-shadow: 0px 1px 2px rgba(60, 64, 67, 0.3), 0px 1px 3px 1px rgba(60, 64, 67, 0.15);\n",
              "        fill: #174EA6;\n",
              "      }\n",
              "\n",
              "      [theme=dark] .colab-df-generate {\n",
              "        background-color: #3B4455;\n",
              "        fill: #D2E3FC;\n",
              "      }\n",
              "\n",
              "      [theme=dark] .colab-df-generate:hover {\n",
              "        background-color: #434B5C;\n",
              "        box-shadow: 0px 1px 3px 1px rgba(0, 0, 0, 0.15);\n",
              "        filter: drop-shadow(0px 1px 2px rgba(0, 0, 0, 0.3));\n",
              "        fill: #FFFFFF;\n",
              "      }\n",
              "    </style>\n",
              "    <button class=\"colab-df-generate\" onclick=\"generateWithVariable('movie_mat_df')\"\n",
              "            title=\"Generate code using this dataframe.\"\n",
              "            style=\"display:none;\">\n",
              "\n",
              "  <svg xmlns=\"http://www.w3.org/2000/svg\" height=\"24px\"viewBox=\"0 0 24 24\"\n",
              "       width=\"24px\">\n",
              "    <path d=\"M7,19H8.4L18.45,9,17,7.55,7,17.6ZM5,21V16.75L18.45,3.32a2,2,0,0,1,2.83,0l1.4,1.43a1.91,1.91,0,0,1,.58,1.4,1.91,1.91,0,0,1-.58,1.4L9.25,21ZM18.45,9,17,7.55Zm-12,3A5.31,5.31,0,0,0,4.9,8.1,5.31,5.31,0,0,0,1,6.5,5.31,5.31,0,0,0,4.9,4.9,5.31,5.31,0,0,0,6.5,1,5.31,5.31,0,0,0,8.1,4.9,5.31,5.31,0,0,0,12,6.5,5.46,5.46,0,0,0,6.5,12Z\"/>\n",
              "  </svg>\n",
              "    </button>\n",
              "    <script>\n",
              "      (() => {\n",
              "      const buttonEl =\n",
              "        document.querySelector('#id_7b2eeef7-0761-43b5-8e66-b4be391a1534 button.colab-df-generate');\n",
              "      buttonEl.style.display =\n",
              "        google.colab.kernel.accessAllowed ? 'block' : 'none';\n",
              "\n",
              "      buttonEl.onclick = () => {\n",
              "        google.colab.notebook.generateWithVariable('movie_mat_df');\n",
              "      }\n",
              "      })();\n",
              "    </script>\n",
              "  </div>\n",
              "\n",
              "    </div>\n",
              "  </div>\n"
            ]
          },
          "metadata": {},
          "execution_count": 27
        }
      ]
    },
    {
      "cell_type": "markdown",
      "metadata": {
        "id": "surgical-level"
      },
      "source": [
        "* Define a function named `recommend_movies()` which will take a movieid as argument and return the top 5 similar movieid's\n",
        "\n",
        "    * Considering the argument (movieid) as search item collect the particular row data\n",
        "    \n",
        "    * Using movie matrix calculate correlation between movie search Item data and all the remaining data\n",
        "    \n",
        "        * Hint: [corr_with()](https://pandas.pydata.org/docs/reference/api/pandas.DataFrame.corrwith.html)\n",
        "        \n",
        "    * Sort the result by ascending order and return the top 5 items"
      ],
      "id": "surgical-level"
    },
    {
      "cell_type": "code",
      "metadata": {
        "id": "excellent-perth",
        "colab": {
          "base_uri": "https://localhost:8080/"
        },
        "outputId": "70016754-46ef-49e8-ec5e-53fa3be52ab1"
      },
      "source": [
        "import warnings\n",
        "\n",
        "def recommend_movie(movieId):\n",
        "\n",
        "    col = movie_mat_df.iloc[:,movieId]\n",
        "\n",
        "    # Suppress RuntimeWarning\n",
        "    with warnings.catch_warnings():\n",
        "        warnings.simplefilter(\"ignore\", category=RuntimeWarning)\n",
        "\n",
        "        corrMat = movie_mat_df.corrwith(col, axis=0)\n",
        "        top_5_movies = corrMat.sort_values(ascending=False).index[0:5]\n",
        "\n",
        "    return top_5_movies\n",
        "\n",
        "recommend_movie(1584)"
      ],
      "id": "excellent-perth",
      "execution_count": null,
      "outputs": [
        {
          "output_type": "execute_result",
          "data": {
            "text/plain": [
              "Int64Index([3934, 2632, 578, 3592, 3657], dtype='int64', name='movieid')"
            ]
          },
          "metadata": {},
          "execution_count": 28
        }
      ]
    },
    {
      "cell_type": "markdown",
      "metadata": {
        "id": "afraid-ivory"
      },
      "source": [
        "* write a query to get MovieId of a Title (your choice) and the result MovieId as a search item by calling the above defined function"
      ],
      "id": "afraid-ivory"
    },
    {
      "cell_type": "code",
      "metadata": {
        "id": "damaged-starter",
        "colab": {
          "base_uri": "https://localhost:8080/"
        },
        "outputId": "cbe7983a-c1c9-4928-ed61-218f59e7003b"
      },
      "source": [
        "movieid_for_recco = 110\n",
        "\n",
        "prepared_stmt = session.prepare(\"SELECT title,genres FROM movielens.data_movies where movieid = ?\")\n",
        "rows = session.execute(prepared_stmt, [movieid_for_recco])\n",
        "print(\"Movie on which recommendations are based:\")\n",
        "for row in rows:\n",
        "    print(row)"
      ],
      "id": "damaged-starter",
      "execution_count": null,
      "outputs": [
        {
          "output_type": "stream",
          "name": "stdout",
          "text": [
            "Movie on which recommendations are based:\n",
            "Row(title='Braveheart (1995)', genres='Action|Drama|War')\n"
          ]
        }
      ]
    },
    {
      "cell_type": "markdown",
      "metadata": {
        "id": "altered-testimony"
      },
      "source": [
        "* Now taking the result of top 5 items (MovieId's) write a query to retrieve the Movie title from movies table"
      ],
      "id": "altered-testimony"
    },
    {
      "cell_type": "code",
      "metadata": {
        "id": "knowing-keyboard",
        "colab": {
          "base_uri": "https://localhost:8080/"
        },
        "outputId": "fa940b1a-0886-49f3-92ac-f0882c3d52c5"
      },
      "source": [
        "print(\"Recommendations:\")\n",
        "top_5_recco = recommend_movie(movieid_for_recco)\n",
        "variable_value = list(top_5_recco)\n",
        "\n",
        "prepared_stmt = session.prepare(\"SELECT title, genres FROM movielens.data_movies where movieid in ?\")\n",
        "rows = session.execute(prepared_stmt, [variable_value])\n",
        "\n",
        "for row in rows:\n",
        "    print(row)"
      ],
      "id": "knowing-keyboard",
      "execution_count": null,
      "outputs": [
        {
          "output_type": "stream",
          "name": "stdout",
          "text": [
            "Recommendations:\n",
            "Row(title='Cold Comfort Farm (1995)', genres='Comedy')\n",
            "Row(title='Artemisia (1997)', genres='Drama')\n",
            "Row(title='Indiana Jones and the Temple of Doom (1984)', genres='Action|Adventure')\n",
            "Row(title='Lifeforce (1985)', genres='Horror|Sci-Fi')\n",
            "Row(title='First Blood (1982)', genres='Action')\n"
          ]
        }
      ]
    }
  ]
}