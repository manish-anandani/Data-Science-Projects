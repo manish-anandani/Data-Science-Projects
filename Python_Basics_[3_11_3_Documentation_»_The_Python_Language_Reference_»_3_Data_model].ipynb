{
  "cells": [
    {
      "cell_type": "markdown",
      "metadata": {
        "id": "view-in-github",
        "colab_type": "text"
      },
      "source": [
        "<a href=\"https://colab.research.google.com/github/manish-anandani/CDS/blob/main/Python_Basics_%5B3_11_3_Documentation_%C2%BB_The_Python_Language_Reference_%C2%BB_3_Data_model%5D.ipynb\" target=\"_parent\"><img src=\"https://colab.research.google.com/assets/colab-badge.svg\" alt=\"Open In Colab\"/></a>"
      ]
    },
    {
      "cell_type": "markdown",
      "id": "99204c7a",
      "metadata": {
        "id": "99204c7a"
      },
      "source": [
        "**Summary from the 3.11.3 Documentation » The Python Language Reference » 3. Data model**\n",
        "\n",
        "All data in a Python program is represented by objects or by relations between objects.\n",
        "Every object has an identity, a type, and a value. \n",
        "An object’s identity never changes once it has been created; you may think of it as the object’s address in memory.\n",
        "The `type()` function returns an object’s type (which is an object itself).\n",
        "\n",
        "\n",
        "*   The *`is`* operator compares the identity of two objects.\n",
        "*   The `id()` function returns an integer representing its identity. \n",
        "*   The `type()` function returns an object’s type (which is an object itself).\n",
        "\n",
        "Will we see same o/p in the 2 print statements below?\n"
      ]
    },
    {
      "cell_type": "code",
      "execution_count": 31,
      "id": "62a022b5",
      "metadata": {
        "colab": {
          "base_uri": "https://localhost:8080/"
        },
        "id": "62a022b5",
        "outputId": "bd8225ba-c201-48f8-fe19-17eadad8559c"
      },
      "outputs": [
        {
          "output_type": "stream",
          "name": "stdout",
          "text": [
            "140322382391728\n",
            "140322382391760\n",
            "False\n",
            "140322382391760 140322382391760 True\n",
            "140321116826224 140321116827312 False\n"
          ]
        }
      ],
      "source": [
        "a=5\n",
        "print(id(a))\n",
        "a=6\n",
        "print(id(a))\n",
        "print(a is b)\n",
        "\n",
        "a=6\n",
        "b=6\n",
        "print(id(a), id(b), a is b)\n",
        "\n",
        "\n",
        "a=500\n",
        "b=500\n",
        "print(id(a), id(b), a is b)"
      ]
    },
    {
      "cell_type": "markdown",
      "source": [
        "Python distinguishes between integers, floating point numbers, and complex numbers:\n",
        "\n",
        "*   Integers (`int`) Booleans (`bool`) Real (`float`) Complex (`complex`)\n",
        "*   Immutable sequences - Strings, Tuples and Bytes  \n",
        "*   Mutable sequences - Strings, Tuples, Sets and Bytes  \n",
        "\n",
        "---\n",
        "\n",
        "\n",
        "*   Immutable sequences - Strings\n",
        "> These represent finite ordered sets indexed by non-negative numbers. The built-in function len() returns the number of items of a sequence.\n",
        "> * `ord()` inbuilt function converts a string of length 1 to corresponding integer value\n",
        "> * `chr()` inbuilt function converts an integer to its string vallue \n",
        "\n",
        "This is how Python provides the datatype `char`\n"
      ],
      "metadata": {
        "id": "anyz3BRTBsW-"
      },
      "id": "anyz3BRTBsW-"
    },
    {
      "cell_type": "code",
      "source": [
        "str1 = \"A\"\n",
        "print(ord(str1))\n",
        "val1 = chr(65)\n",
        "print(val1)"
      ],
      "metadata": {
        "colab": {
          "base_uri": "https://localhost:8080/"
        },
        "id": "gV4PDU5BGSE9",
        "outputId": "5131ada7-314b-46b0-c8af-d36d89cc513d"
      },
      "id": "gV4PDU5BGSE9",
      "execution_count": 2,
      "outputs": [
        {
          "output_type": "stream",
          "name": "stdout",
          "text": [
            "65\n",
            "A\n"
          ]
        }
      ]
    },
    {
      "cell_type": "markdown",
      "source": [
        "*   Immutable sequences - Tuples\n",
        "\n",
        "> The items of a tuple are arbitrary Python objects. Tuples of two or more items are formed by comma-separated lists of expressions. The built-in function len() returns the number of items of a tuple. Check the finer nuances when declaring a tuple in code below\n",
        "\n",
        "*   Immutable sequences - Bytes\n",
        "\n",
        "> A bytes object is an immutable array. The items are 8-bit bytes, represented by integers in the range 0 <= x < 256.\n"
      ],
      "metadata": {
        "id": "t0hCNag7G04y"
      },
      "id": "t0hCNag7G04y"
    },
    {
      "cell_type": "code",
      "source": [
        "tup1 = ()\n",
        "tup2 = (1)\n",
        "tup3 = (1,)\n",
        "print(type(tup1), type(tup2), type(tup3))"
      ],
      "metadata": {
        "colab": {
          "base_uri": "https://localhost:8080/"
        },
        "id": "RdUNsk-wIQyn",
        "outputId": "8dc1c667-62d0-40b1-da51-d0ad2a922ad6"
      },
      "id": "RdUNsk-wIQyn",
      "execution_count": 25,
      "outputs": [
        {
          "output_type": "stream",
          "name": "stdout",
          "text": [
            "<class 'tuple'> <class 'int'> <class 'tuple'>\n"
          ]
        }
      ]
    },
    {
      "cell_type": "markdown",
      "source": [],
      "metadata": {
        "id": "cfUewUNaJqMG"
      },
      "id": "cfUewUNaJqMG"
    }
  ],
  "metadata": {
    "kernelspec": {
      "display_name": "Python 3 (ipykernel)",
      "language": "python",
      "name": "python3"
    },
    "language_info": {
      "codemirror_mode": {
        "name": "ipython",
        "version": 3
      },
      "file_extension": ".py",
      "mimetype": "text/x-python",
      "name": "python",
      "nbconvert_exporter": "python",
      "pygments_lexer": "ipython3",
      "version": "3.11.2"
    },
    "varInspector": {
      "cols": {
        "lenName": 16,
        "lenType": 16,
        "lenVar": 40
      },
      "kernels_config": {
        "python": {
          "delete_cmd_postfix": "",
          "delete_cmd_prefix": "del ",
          "library": "var_list.py",
          "varRefreshCmd": "print(var_dic_list())"
        },
        "r": {
          "delete_cmd_postfix": ") ",
          "delete_cmd_prefix": "rm(",
          "library": "var_list.r",
          "varRefreshCmd": "cat(var_dic_list()) "
        }
      },
      "types_to_exclude": [
        "module",
        "function",
        "builtin_function_or_method",
        "instance",
        "_Feature"
      ],
      "window_display": false
    },
    "colab": {
      "provenance": [],
      "include_colab_link": true
    }
  },
  "nbformat": 4,
  "nbformat_minor": 5
}