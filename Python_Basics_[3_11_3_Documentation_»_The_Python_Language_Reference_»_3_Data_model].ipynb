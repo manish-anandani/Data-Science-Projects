{
  "cells": [
    {
      "cell_type": "markdown",
      "metadata": {
        "id": "view-in-github",
        "colab_type": "text"
      },
      "source": [
        "<a href=\"https://colab.research.google.com/github/manish-anandani/Python-for-CDS/blob/main/Python_Basics_%5B3_11_3_Documentation_%C2%BB_The_Python_Language_Reference_%C2%BB_3_Data_model%5D.ipynb\" target=\"_parent\"><img src=\"https://colab.research.google.com/assets/colab-badge.svg\" alt=\"Open In Colab\"/></a>"
      ]
    },
    {
      "cell_type": "markdown",
      "id": "99204c7a",
      "metadata": {
        "id": "99204c7a"
      },
      "source": [
        "## Summary from the 3.11.3 Documentation » Objects, Values and Types\n",
        "\n",
        "All data in a Python program is represented by objects or by relations between objects.\n",
        "Every object has an identity, a type, and a value. \n",
        "An object’s identity never changes once it has been created; you may think of it as the object’s address in memory.\n",
        "The `type()` function returns an object’s type (which is an object itself).\n",
        "\n",
        "\n",
        "*   The *`is`* operator compares the identity of two objects.\n",
        "*   The `id()` function returns an integer representing its identity. \n",
        "*   The `type()` function returns an object’s type (which is an object itself).\n",
        "\n",
        "Will we see same o/p in the 2 print statements below?\n"
      ]
    },
    {
      "cell_type": "code",
      "execution_count": 1,
      "id": "62a022b5",
      "metadata": {
        "id": "62a022b5",
        "colab": {
          "base_uri": "https://localhost:8080/"
        },
        "outputId": "0840bbbb-ee29-45c0-ebc2-fc3f740699a4"
      },
      "outputs": [
        {
          "output_type": "stream",
          "name": "stdout",
          "text": [
            "140209199614384\n",
            "140209199614416\n",
            "\n",
            "\n",
            "140209199614416 140209199614416 True\n",
            "\n",
            "\n",
            "140208690234960 140208690235664 False\n"
          ]
        }
      ],
      "source": [
        "a=5\n",
        "print(id(a))\n",
        "a=6\n",
        "print(id(a)) # a new value is created at a new memory location even when the label is same\n",
        "print(\"\\n\")\n",
        "\n",
        "a=6\n",
        "b=6\n",
        "print(id(a), id(b), a is b) # Two labels pointing to the same memory address - where \"6\" is stored - <a is b results in True>\n",
        "print(\"\\n\")\n",
        "\n",
        "a=500\n",
        "b=500\n",
        "print(id(a), id(b), a is b) # Two labels pointing to the same memory address - where \"500\" is stored - <a is b results in False> because of interning - see note below"
      ]
    },
    {
      "cell_type": "markdown",
      "source": [
        "For purposes of optimization, the interpreter creates objects for the integers in the range [-5, 256] at startup, and then reuses them during program execution. Thus, when you assign separate variables to an integer value in this range, they will actually reference the same object.\n",
        "\n",
        "**The below image compares a C Integer and Python Integer in memory** "
      ],
      "metadata": {
        "id": "jUJr7_bdk9vp"
      },
      "id": "jUJr7_bdk9vp"
    },
    {
      "cell_type": "markdown",
      "source": [
        "![image.png](data:image/png;base64,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)"
      ],
      "metadata": {
        "id": "8jgPPSdtCzvy"
      },
      "id": "8jgPPSdtCzvy"
    },
    {
      "cell_type": "markdown",
      "source": [
        "Python distinguishes between integers, floating point numbers, and complex numbers:\n",
        "\n",
        "*   Integers (`int`) Booleans (`bool`) Real (`float`) Complex (`complex`)\n",
        "*   Immutable sequences - Strings, Tuples and Bytes  \n",
        "*   Mutable sequences - Lists and Byte Arrays\n",
        "\n",
        "\n",
        "---\n",
        "\n",
        "\n",
        "*   Immutable sequences - Strings\n",
        "> These represent finite ordered sets indexed by non-negative numbers. The built-in function len() returns the number of items of a sequence.\n",
        "> * `ord()` inbuilt function converts a string of length 1 to corresponding integer value\n",
        "> * `chr()` inbuilt function converts an integer to its string vallue \n",
        "\n"
      ],
      "metadata": {
        "id": "anyz3BRTBsW-"
      },
      "id": "anyz3BRTBsW-"
    },
    {
      "cell_type": "code",
      "source": [
        "str1 = \"A\"\n",
        "print(ord(str1))\n",
        "val1 = chr(65)\n",
        "print(val1)"
      ],
      "metadata": {
        "id": "gV4PDU5BGSE9"
      },
      "id": "gV4PDU5BGSE9",
      "execution_count": null,
      "outputs": []
    },
    {
      "cell_type": "markdown",
      "source": [
        "*   Immutable sequences - Tuples\n",
        "\n",
        "> The items of a tuple are arbitrary Python objects. Tuples of two or more items are formed by comma-separated lists of expressions. The built-in function len() returns the number of items of a tuple. Check the finer nuances when declaring a tuple in code below\n",
        "\n",
        "*   Immutable sequences - Bytes\n",
        "\n",
        "> A bytes object is an immutable array. The items are 8-bit bytes, represented by integers in the range 0 <= x < 256.\n"
      ],
      "metadata": {
        "id": "t0hCNag7G04y"
      },
      "id": "t0hCNag7G04y"
    },
    {
      "cell_type": "code",
      "source": [
        "var1 = ()\n",
        "var2 = (1)\n",
        "var3 = (1,)\n",
        "print(type(var1), type(var2), type(var3))"
      ],
      "metadata": {
        "id": "RdUNsk-wIQyn"
      },
      "id": "RdUNsk-wIQyn",
      "execution_count": null,
      "outputs": []
    },
    {
      "cell_type": "markdown",
      "source": [
        "*   Mutable sequences -- Mutable sequences can be changed after they are created. The subscription and slicing notations can be used as the target of assignment and del (delete) statements.\n",
        "\n",
        "There are currently two intrinsic mutable sequence types:\n",
        "\n",
        " > * Lists - The items of a list are arbitrary Python objects. Lists are formed by placing a comma-separated list of expressions in square brackets. \n",
        "\n",
        "> * Byte Arrays - A bytearray object is a mutable array. They are created by the built-in bytearray() constructor. "
      ],
      "metadata": {
        "id": "cfUewUNaJqMG"
      },
      "id": "cfUewUNaJqMG"
    },
    {
      "cell_type": "markdown",
      "source": [
        "- Set types\n",
        "\n",
        "> These represent unordered, finite sets of unique, immutable objects. As such, they cannot be indexed by any subscript. However, they can be iterated over, and the built-in function len() returns the number of items in a set. Common uses for sets are fast membership testing, removing duplicates from a sequence, and computing mathematical operations such as intersection, union, difference, and symmetric difference.\n",
        "\n"
      ],
      "metadata": {
        "id": "SQBPKj_FSg6a"
      },
      "id": "SQBPKj_FSg6a"
    },
    {
      "cell_type": "code",
      "source": [
        "var1 = {1,2,3}\n",
        "print(type(var1)) #Set\n",
        "\n",
        "var1 = {}\n",
        "print(type(var1)) #Voila Dict\n",
        "\n",
        "var1 = {...} #Set again\n",
        "print(type(var1))\n",
        "\n",
        "var1 = {... : ...} #Dict  clearly \n",
        "print(type(var1))"
      ],
      "metadata": {
        "id": "dB8efZhjSe8k"
      },
      "id": "dB8efZhjSe8k",
      "execution_count": null,
      "outputs": []
    },
    {
      "cell_type": "markdown",
      "source": [
        "- Mappings\n",
        "These represent finite sets of objects indexed by arbitrary index sets. The subscript notation a[k] selects the item indexed by k from the mapping a; this can be used in expressions and as the target of assignments or del statements. \n",
        "\n",
        "There is currently a single intrinsic mapping type:\n",
        "\n",
        "> * Dictionaries\n",
        "These represent finite sets of objects indexed by nearly arbitrary values. **The only types of values not acceptable as keys are values containing lists or dictionaries or other mutable types** that are compared by value rather than by object identity. \n",
        ">> * Dictionaries preserve insertion order, meaning that keys will be produced in the same order they were added sequentially over the dictionary. Replacing an existing key does not change the order, however removing a key and re-inserting it will add it to the end instead of keeping its old place."
      ],
      "metadata": {
        "id": "bzLPjP3ZUko0"
      },
      "id": "bzLPjP3ZUko0"
    },
    {
      "cell_type": "code",
      "source": [
        "keys=[1,2,3,4]\n",
        "var1 = {keys[0]:\"a\", keys[1]:['a','b'], keys[2]:(1,2,3), keys[3]:{\"a\":1, \"b\":2}} #Make a dictionary with different dtypes of keys and values \n",
        "print(var1)\n",
        "\n",
        "#keys.append([1,2]) \n",
        "#var1[keys[-1]]=\"Test\"  # try adding a list as a key - it will error out - uncomment this section to see the error\n",
        "\n",
        "keys.append((1,2))\n",
        "var1[keys[-1]]=\"Test\" # try adding a tuple as a key - this works as it is immutable\n",
        "print(var1)\n"
      ],
      "metadata": {
        "colab": {
          "base_uri": "https://localhost:8080/"
        },
        "id": "CxHX4GGfYlI5",
        "outputId": "0feee38d-fc53-4e57-928e-8bbc0aa51b65"
      },
      "id": "CxHX4GGfYlI5",
      "execution_count": null,
      "outputs": [
        {
          "output_type": "stream",
          "name": "stdout",
          "text": [
            "{1: 'a', 2: ['a', 'b'], 3: (1, 2, 3), 4: {'a': 1, 'b': 2}}\n",
            "{1: 'a', 2: ['a', 'b'], 3: (1, 2, 3), 4: {'a': 1, 'b': 2}, (1, 2): 'Test'}\n"
          ]
        }
      ]
    }
  ],
  "metadata": {
    "kernelspec": {
      "display_name": "Python 3 (ipykernel)",
      "language": "python",
      "name": "python3"
    },
    "language_info": {
      "codemirror_mode": {
        "name": "ipython",
        "version": 3
      },
      "file_extension": ".py",
      "mimetype": "text/x-python",
      "name": "python",
      "nbconvert_exporter": "python",
      "pygments_lexer": "ipython3",
      "version": "3.11.2"
    },
    "varInspector": {
      "cols": {
        "lenName": 16,
        "lenType": 16,
        "lenVar": 40
      },
      "kernels_config": {
        "python": {
          "delete_cmd_postfix": "",
          "delete_cmd_prefix": "del ",
          "library": "var_list.py",
          "varRefreshCmd": "print(var_dic_list())"
        },
        "r": {
          "delete_cmd_postfix": ") ",
          "delete_cmd_prefix": "rm(",
          "library": "var_list.r",
          "varRefreshCmd": "cat(var_dic_list()) "
        }
      },
      "types_to_exclude": [
        "module",
        "function",
        "builtin_function_or_method",
        "instance",
        "_Feature"
      ],
      "window_display": false
    },
    "colab": {
      "provenance": [],
      "include_colab_link": true
    }
  },
  "nbformat": 4,
  "nbformat_minor": 5
}