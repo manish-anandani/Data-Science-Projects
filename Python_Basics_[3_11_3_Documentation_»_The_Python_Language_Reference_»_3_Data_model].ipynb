{
  "cells": [
    {
      "cell_type": "markdown",
      "metadata": {
        "id": "view-in-github",
        "colab_type": "text"
      },
      "source": [
        "<a href=\"https://colab.research.google.com/github/manish-anandani/Python-for-CDS/blob/main/Python_Basics_%5B3_11_3_Documentation_%C2%BB_The_Python_Language_Reference_%C2%BB_3_Data_model%5D.ipynb\" target=\"_parent\"><img src=\"https://colab.research.google.com/assets/colab-badge.svg\" alt=\"Open In Colab\"/></a>"
      ]
    },
    {
      "cell_type": "markdown",
      "id": "99204c7a",
      "metadata": {
        "id": "99204c7a"
      },
      "source": [
        "**Summary from the 3.11.3 Documentation » The Python Language Reference » 3. Data model**\n",
        "\n",
        "All data in a Python program is represented by objects or by relations between objects.\n",
        "Every object has an identity, a type, and a value. \n",
        "An object’s identity never changes once it has been created; you may think of it as the object’s address in memory.\n",
        "The `type()` function returns an object’s type (which is an object itself).\n",
        "\n",
        "\n",
        "*   The *`is`* operator compares the identity of two objects.\n",
        "*   The `id()` function returns an integer representing its identity. \n",
        "*   The `type()` function returns an object’s type (which is an object itself).\n",
        "\n",
        "Will we see same o/p in the 2 print statements below?\n"
      ]
    },
    {
      "cell_type": "code",
      "execution_count": null,
      "id": "62a022b5",
      "metadata": {
        "id": "62a022b5"
      },
      "outputs": [],
      "source": [
        "a=5\n",
        "print(id(a))\n",
        "a=6\n",
        "print(id(a)) # a new value is created at a new memory location even when the label is same\n",
        "print(\"\\n\")\n",
        "\n",
        "a=6\n",
        "b=6\n",
        "print(id(a), id(b), a is b) # Two labels pointing to the same memory address - where \"6\" is stored - <a is b results in True>\n",
        "print(\"\\n\")\n",
        "\n",
        "a=500\n",
        "b=500\n",
        "print(id(a), id(b), a is b) # Two labels pointing to the same memory address - where \"500\" is stored - <a is b results in False> because of interning - see note below"
      ]
    },
    {
      "cell_type": "markdown",
      "source": [
        "For purposes of optimization, the interpreter creates objects for the integers in the range [-5, 256] at startup, and then reuses them during program execution. Thus, when you assign separate variables to an integer value in this range, they will actually reference the same object."
      ],
      "metadata": {
        "id": "jUJr7_bdk9vp"
      },
      "id": "jUJr7_bdk9vp"
    },
    {
      "cell_type": "markdown",
      "source": [
        "Python distinguishes between integers, floating point numbers, and complex numbers:\n",
        "\n",
        "*   Integers (`int`) Booleans (`bool`) Real (`float`) Complex (`complex`)\n",
        "*   Immutable sequences - Strings, Tuples and Bytes  \n",
        "*   Mutable sequences - Lists and Byte Arrays\n",
        "\n",
        "\n",
        "---\n",
        "\n",
        "\n",
        "*   Immutable sequences - Strings\n",
        "> These represent finite ordered sets indexed by non-negative numbers. The built-in function len() returns the number of items of a sequence.\n",
        "> * `ord()` inbuilt function converts a string of length 1 to corresponding integer value\n",
        "> * `chr()` inbuilt function converts an integer to its string vallue \n",
        "\n"
      ],
      "metadata": {
        "id": "anyz3BRTBsW-"
      },
      "id": "anyz3BRTBsW-"
    },
    {
      "cell_type": "code",
      "source": [
        "str1 = \"A\"\n",
        "print(ord(str1))\n",
        "val1 = chr(65)\n",
        "print(val1)"
      ],
      "metadata": {
        "id": "gV4PDU5BGSE9"
      },
      "id": "gV4PDU5BGSE9",
      "execution_count": null,
      "outputs": []
    },
    {
      "cell_type": "markdown",
      "source": [
        "*   Immutable sequences - Tuples\n",
        "\n",
        "> The items of a tuple are arbitrary Python objects. Tuples of two or more items are formed by comma-separated lists of expressions. The built-in function len() returns the number of items of a tuple. Check the finer nuances when declaring a tuple in code below\n",
        "\n",
        "*   Immutable sequences - Bytes\n",
        "\n",
        "> A bytes object is an immutable array. The items are 8-bit bytes, represented by integers in the range 0 <= x < 256.\n"
      ],
      "metadata": {
        "id": "t0hCNag7G04y"
      },
      "id": "t0hCNag7G04y"
    },
    {
      "cell_type": "code",
      "source": [
        "var1 = ()\n",
        "var2 = (1)\n",
        "var3 = (1,)\n",
        "print(type(var1), type(var2), type(var3))"
      ],
      "metadata": {
        "id": "RdUNsk-wIQyn"
      },
      "id": "RdUNsk-wIQyn",
      "execution_count": null,
      "outputs": []
    },
    {
      "cell_type": "markdown",
      "source": [
        "*   Mutable sequences -- Mutable sequences can be changed after they are created. The subscription and slicing notations can be used as the target of assignment and del (delete) statements.\n",
        "\n",
        "There are currently two intrinsic mutable sequence types:\n",
        "\n",
        " > * Lists - The items of a list are arbitrary Python objects. Lists are formed by placing a comma-separated list of expressions in square brackets. \n",
        "\n",
        "> * Byte Arrays - A bytearray object is a mutable array. They are created by the built-in bytearray() constructor. "
      ],
      "metadata": {
        "id": "cfUewUNaJqMG"
      },
      "id": "cfUewUNaJqMG"
    },
    {
      "cell_type": "markdown",
      "source": [
        "- Set types\n",
        "\n",
        "> These represent unordered, finite sets of unique, immutable objects. As such, they cannot be indexed by any subscript. However, they can be iterated over, and the built-in function len() returns the number of items in a set. Common uses for sets are fast membership testing, removing duplicates from a sequence, and computing mathematical operations such as intersection, union, difference, and symmetric difference.\n",
        "\n"
      ],
      "metadata": {
        "id": "SQBPKj_FSg6a"
      },
      "id": "SQBPKj_FSg6a"
    },
    {
      "cell_type": "code",
      "source": [
        "var1 = {1,2,3}\n",
        "print(type(var1)) #Set\n",
        "\n",
        "var1 = {}\n",
        "print(type(var1)) #Voila Dict\n",
        "\n",
        "var1 = {...} #Set again\n",
        "print(type(var1))\n",
        "\n",
        "var1 = {... : ...} #Dict  clearly \n",
        "print(type(var1))"
      ],
      "metadata": {
        "id": "dB8efZhjSe8k"
      },
      "id": "dB8efZhjSe8k",
      "execution_count": null,
      "outputs": []
    },
    {
      "cell_type": "markdown",
      "source": [
        "- Mappings\n",
        "These represent finite sets of objects indexed by arbitrary index sets. The subscript notation a[k] selects the item indexed by k from the mapping a; this can be used in expressions and as the target of assignments or del statements. \n",
        "\n",
        "There is currently a single intrinsic mapping type:\n",
        "\n",
        "> * Dictionaries\n",
        "These represent finite sets of objects indexed by nearly arbitrary values. **The only types of values not acceptable as keys are values containing lists or dictionaries or other mutable types** that are compared by value rather than by object identity. \n",
        ">> * Dictionaries preserve insertion order, meaning that keys will be produced in the same order they were added sequentially over the dictionary. Replacing an existing key does not change the order, however removing a key and re-inserting it will add it to the end instead of keeping its old place."
      ],
      "metadata": {
        "id": "bzLPjP3ZUko0"
      },
      "id": "bzLPjP3ZUko0"
    },
    {
      "cell_type": "code",
      "source": [
        "keys=[1,2,3,4]\n",
        "var1 = {keys[0]:\"a\", keys[1]:['a','b'], keys[2]:(1,2,3), keys[3]:{\"a\":1, \"b\":2}} #Make a dictionary with different dtypes of keys and values \n",
        "print(var1)\n",
        "\n",
        "#keys.append([1,2]) \n",
        "#var1[keys[-1]]=\"Test\"  # try adding a list as a key - it will error out - uncomment this section to see the error\n",
        "\n",
        "keys.append((1,2))\n",
        "var1[keys[-1]]=\"Test\" # try adding a tuple as a key - this works as it is immutable\n",
        "print(var1)\n"
      ],
      "metadata": {
        "colab": {
          "base_uri": "https://localhost:8080/"
        },
        "id": "CxHX4GGfYlI5",
        "outputId": "6c3bd2a4-394c-46b8-f375-c07d4941bfae"
      },
      "id": "CxHX4GGfYlI5",
      "execution_count": 76,
      "outputs": [
        {
          "output_type": "stream",
          "name": "stdout",
          "text": [
            "{1: 'a', 2: ['a', 'b'], 3: (1, 2, 3), 4: {'a': 1, 'b': 2}}\n",
            "{1: 'a', 2: ['a', 'b'], 3: (1, 2, 3), 4: {'a': 1, 'b': 2}, (1, 2): 'Test'}\n"
          ]
        }
      ]
    },
    {
      "cell_type": "markdown",
      "source": [],
      "metadata": {
        "id": "YiGkJ4uua94d"
      },
      "id": "YiGkJ4uua94d"
    }
  ],
  "metadata": {
    "kernelspec": {
      "display_name": "Python 3 (ipykernel)",
      "language": "python",
      "name": "python3"
    },
    "language_info": {
      "codemirror_mode": {
        "name": "ipython",
        "version": 3
      },
      "file_extension": ".py",
      "mimetype": "text/x-python",
      "name": "python",
      "nbconvert_exporter": "python",
      "pygments_lexer": "ipython3",
      "version": "3.11.2"
    },
    "varInspector": {
      "cols": {
        "lenName": 16,
        "lenType": 16,
        "lenVar": 40
      },
      "kernels_config": {
        "python": {
          "delete_cmd_postfix": "",
          "delete_cmd_prefix": "del ",
          "library": "var_list.py",
          "varRefreshCmd": "print(var_dic_list())"
        },
        "r": {
          "delete_cmd_postfix": ") ",
          "delete_cmd_prefix": "rm(",
          "library": "var_list.r",
          "varRefreshCmd": "cat(var_dic_list()) "
        }
      },
      "types_to_exclude": [
        "module",
        "function",
        "builtin_function_or_method",
        "instance",
        "_Feature"
      ],
      "window_display": false
    },
    "colab": {
      "provenance": [],
      "include_colab_link": true
    }
  },
  "nbformat": 4,
  "nbformat_minor": 5
}