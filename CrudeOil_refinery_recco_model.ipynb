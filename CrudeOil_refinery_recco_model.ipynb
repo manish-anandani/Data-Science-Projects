{
  "nbformat": 4,
  "nbformat_minor": 0,
  "metadata": {
    "colab": {
      "provenance": [],
      "include_colab_link": true
    },
    "kernelspec": {
      "display_name": "Python 3",
      "language": "python",
      "name": "python3"
    },
    "language_info": {
      "codemirror_mode": {
        "name": "ipython",
        "version": 3
      },
      "file_extension": ".py",
      "mimetype": "text/x-python",
      "name": "python",
      "nbconvert_exporter": "python",
      "pygments_lexer": "ipython3",
      "version": "3.8.5"
    }
  },
  "cells": [
    {
      "cell_type": "markdown",
      "metadata": {
        "id": "view-in-github",
        "colab_type": "text"
      },
      "source": [
        "<a href=\"https://colab.research.google.com/github/manish-anandani/Data-Science-Projects/blob/main/CrudeOil_refinery_recco_model.ipynb\" target=\"_parent\"><img src=\"https://colab.research.google.com/assets/colab-badge.svg\" alt=\"Open In Colab\"/></a>"
      ]
    },
    {
      "cell_type": "markdown",
      "metadata": {
        "id": "TnGEuHJusOup"
      },
      "source": [
        "## Problem Statement"
      ]
    },
    {
      "cell_type": "markdown",
      "metadata": {
        "id": "xlkm2qM2sQ-T"
      },
      "source": [
        " The task is to advise a petroleum company on how to meet the demands of their customers for motor oil, diesel oil and gasoline."
      ]
    },
    {
      "cell_type": "markdown",
      "metadata": {
        "id": "cs0B3ScgUVRv"
      },
      "source": [
        "## Objectives"
      ]
    },
    {
      "cell_type": "markdown",
      "metadata": {
        "id": "Sq5piVQRUVRw"
      },
      "source": [
        "At the end of the experiment, we will be able to\n",
        "\n",
        "* create arrays and matrices in python\n",
        "* understand the concepts of linear equations\n",
        "* solve the system of linear equations"
      ]
    },
    {
      "cell_type": "markdown",
      "metadata": {
        "id": "IvKa0MVttqXf"
      },
      "source": [
        "### Data"
      ]
    },
    {
      "cell_type": "markdown",
      "metadata": {
        "id": "dRrGFyZOtsAj"
      },
      "source": [
        "From a barrel of crude oil, in one day, factory $A$ can produce\n",
        "* 20 gallons of motor oil,\n",
        "* 10 gallons of diesel oil, and\n",
        "* 5 gallons of gasoline\n",
        "\n",
        "Similarly, factory $B$ can produce\n",
        "* 4 gallons of motor oil,\n",
        "* 14 gallons of diesel oil, and\n",
        "* 5 gallons of gasoline\n",
        "\n",
        "while factory $C$ can produce\n",
        "* 4 gallons of motor oil,\n",
        "* 5 gallons of diesel oil, and\n",
        "* 12 gallons of gasoline\n",
        "\n",
        "There is also waste in the form of paraffin, among other things. Factory $A$ has 3 gallons of paraffin to dispose of per barrel of crude, factory $B$ 5 gallons, and factory $C$ 2 gallons."
      ]
    },
    {
      "cell_type": "markdown",
      "metadata": {
        "id": "zAitCztdraex"
      },
      "source": [
        "### Create an array\n",
        "\n",
        "Create an array of size 2x3 with arbitrary values."
      ]
    },
    {
      "cell_type": "code",
      "metadata": {
        "id": "owKFXLLzrqVb"
      },
      "source": [
        "import numpy as np\n",
        "import sympy as sy\n",
        "\n",
        "#solve_fuel Computes the “exact” solution, x, of the well-determined, i.e., full rank, linear matrix equation ax = b.\n",
        "#numpy.linalg.solve() Solve a linear matrix equation, or system of linear scalar equations.\n",
        "\n",
        "def solve_fuel(A, b):\n",
        "  x = np.ceil(np.linalg.solve(A, b))\n",
        "  return x"
      ],
      "execution_count": 6,
      "outputs": []
    },
    {
      "cell_type": "markdown",
      "metadata": {
        "id": "K_7EztnGvzDK"
      },
      "source": [
        "### Create the system of Linear Equations"
      ]
    },
    {
      "cell_type": "markdown",
      "metadata": {
        "id": "zL9M9kmrv_ZA"
      },
      "source": [
        "Suppose the current daily demand from distributors is 6600 gallons of motor oil, 5100 gallons of diesel oil and 3100 of gasoline.\n",
        "\n",
        "Set up the system of equations which describes the above situation. Please include the units as well."
      ]
    },
    {
      "cell_type": "markdown",
      "metadata": {
        "id": "nbOcii0EZpUI"
      },
      "source": [
        "Let the number of barrels used by factory $A$, $B$ and $C$ are $x$, $y$ and $z$ respectively.\n",
        "\n",
        "Then the system of linear equations will be\n",
        "\n",
        "$$Motor\\ oil:\\ \\ \\ 20x + 4y + 4z = 6600$$\n",
        "\n",
        "$$Diesel\\ oil:\\ \\ \\ 10x + 14y + 5z = 5100$$\n",
        "\n",
        "$$Gasoline:\\ \\ \\ 5x + 5y + 12z = 3100$$"
      ]
    },
    {
      "cell_type": "markdown",
      "metadata": {
        "id": "FzjOkaq21_8L"
      },
      "source": [
        "How many barrels of crude oil each plant should get in order to meet the demand as a group. Remember that we can only provide each plant with an integral number of barrels."
      ]
    },
    {
      "cell_type": "code",
      "metadata": {
        "id": "Plx-kStlcGOW",
        "colab": {
          "base_uri": "https://localhost:8080/"
        },
        "outputId": "698722c5-fb80-4755-f897-dc973cc5e3c2"
      },
      "source": [
        "# Coefficients matrix\n",
        "coefficients = np.array([[20, 4, 4], [10, 14, 5], [5, 5, 12]])\n",
        "\n",
        "# Constants vector\n",
        "constants = np.array([6600, 5100, 3100])\n",
        "\n",
        "# Solve the system of equations\n",
        "solution = np.linalg.solve(coefficients, constants)\n",
        "\n",
        "# Round the solutions to the nearest integer\n",
        "solution = np.round(solution).astype(int) #ceil\n",
        "\n",
        "# Print the solution\n",
        "print(\"Number of barrels: A =\", solution[0], \", B =\", solution[1], \", C =\", solution[2])\n",
        "\n",
        "Coef_aug = sy.Matrix([[20, 4, 4, 6600], [10, 14, 5, 5100], [5, 5, 12, 3100]])\n",
        "Coef_aug.rref()"
      ],
      "execution_count": 7,
      "outputs": [
        {
          "output_type": "stream",
          "name": "stdout",
          "text": [
            "Number of barrels: A = 287 , B = 129 , C = 85\n"
          ]
        },
        {
          "output_type": "execute_result",
          "data": {
            "text/plain": [
              "(Matrix([\n",
              " [1, 0, 0, 1149/4],\n",
              " [0, 1, 0,  515/4],\n",
              " [0, 0, 1,     85]]),\n",
              " (0, 1, 2))"
            ]
          },
          "metadata": {},
          "execution_count": 7
        }
      ]
    },
    {
      "cell_type": "markdown",
      "metadata": {
        "id": "nY-rFiKAbVl3"
      },
      "source": [
        "Suppose the total demand for all products **doubled**. What would the solution now be? How does it compare to the original solution? Why, mathematically, should this have been expected?"
      ]
    },
    {
      "cell_type": "code",
      "metadata": {
        "colab": {
          "base_uri": "https://localhost:8080/"
        },
        "outputId": "d51dd24b-57ae-424b-90ef-cfd691c6bb98",
        "id": "AFjVCfgjXR6E"
      },
      "source": [
        "# Coefficients matrix\n",
        "coefficients = np.array([[20, 4, 4], [10, 14, 5], [5, 5, 12]])\n",
        "\n",
        "# Constants vector\n",
        "constants = np.array([13200, 10200, 6200])\n",
        "\n",
        "# Solve the system of equations\n",
        "solution = np.linalg.solve(coefficients, constants)\n",
        "\n",
        "# Round the solutions to the nearest integer\n",
        "solution = np.round(solution).astype(int)\n",
        "\n",
        "# Print the solution\n",
        "print(\"Number of barrels: A =\", solution[0], \", B =\", solution[1], \", C =\", solution[2])\n",
        "\n",
        "# results are doubled as the output is also doubled\n",
        "# AX = B\n",
        "# 2(AX) = 2B\n",
        "# A(2X) = 2B\n",
        "# properties of linear maps - scaling and homogenity"
      ],
      "execution_count": 8,
      "outputs": [
        {
          "output_type": "stream",
          "name": "stdout",
          "text": [
            "Number of barrels: A = 574 , B = 258 , C = 170\n"
          ]
        }
      ]
    },
    {
      "cell_type": "markdown",
      "source": [
        "In the updated solution, when the total demand for all products is doubled, the number of barrels required by each factory has also increased proportionally compared to the original solution.Here the number of barrels required in each case got doubled.\n",
        "\n",
        "Mathematically, this increase in the number of barrels required can be expected because doubling the demand effectively doubles the right-hand side values of the equations. As a result, the solution values (x, y, z) need to increase to satisfy the new demand levels. This relationship between the demand and solution values is inherent in the linear equations and reflects the direct proportionality between the demand and the required production quantities.\n"
      ],
      "metadata": {
        "id": "Mc_mgGU5XEdO"
      }
    },
    {
      "cell_type": "markdown",
      "metadata": {
        "id": "p_1a-z0Gds6D"
      },
      "source": [
        "Suppose that the company acquires another group of distributors and that the daily demand of this group is 2000 gallons of motor oil, 4000 gallons of gasoline, and 4000 gallons of diesel oil. How would you set up production of just this supply? Are there any options (more than one way)?"
      ]
    },
    {
      "cell_type": "markdown",
      "source": [
        "Now the system of linear equations will be\n",
        "\n",
        "Motor oil:   20x+4y+4z=2000\n",
        "\n",
        "Diesel oil:   10x+14y+5z=4000\n",
        "\n",
        "Gasoline:   5x+5y+12z=4000\n"
      ],
      "metadata": {
        "id": "umT8EKclZLtk"
      }
    },
    {
      "cell_type": "code",
      "metadata": {
        "colab": {
          "base_uri": "https://localhost:8080/"
        },
        "outputId": "14b71eb3-5200-44c0-a54b-05d61d5ca0e2",
        "id": "NKddxYFMZnHa"
      },
      "source": [
        "# Coefficients matrix\n",
        "coefficients = np.array([[20, 4, 4], [10, 14, 5], [5, 5, 12]])\n",
        "\n",
        "# Constants vector\n",
        "constants = np.array([2000, 4000, 4000])\n",
        "\n",
        "# Solve the system of equations\n",
        "solution = np.linalg.solve(coefficients, constants)\n",
        "\n",
        "# Round the solutions to the nearest integer\n",
        "solution = np.round(solution).astype(int)  # ceil  x = np.ceil(np.linalg.solve(A, b))\n",
        "\n",
        "# Print the solution\n",
        "print(\"Number of barrels: A =\", solution[0], \", B =\", solution[1], \", C =\", solution[2])\n",
        "\n",
        "\n"
      ],
      "execution_count": 9,
      "outputs": [
        {
          "output_type": "stream",
          "name": "stdout",
          "text": [
            "Number of barrels: A = 12 , B = 188 , C = 250\n"
          ]
        }
      ]
    },
    {
      "cell_type": "markdown",
      "metadata": {
        "id": "H4sayZf1etbN"
      },
      "source": [
        "Next, calculate the needs of each factory (in barrels of crude, as usual) to meet the total demand of both groups of distributors. When you have done this, compare your answer to results already obtained. What mathematical conclusion can you draw?"
      ]
    },
    {
      "cell_type": "code",
      "metadata": {
        "colab": {
          "base_uri": "https://localhost:8080/"
        },
        "outputId": "ae268d70-7734-4048-e71f-01e1fc242653",
        "id": "jKhNSEAdbw-_"
      },
      "source": [
        "# Coefficients matrix\n",
        "coefficients = np.array([[20, 4, 4], [10, 14, 5], [5, 5, 12]])\n",
        "\n",
        "# Constants vector\n",
        "constants = np.array([2000, 4000, 4000]) + np.array([6600, 5100, 3100])\n",
        "\n",
        "# Solve the system of equations\n",
        "solution = np.linalg.solve(coefficients, constants)\n",
        "\n",
        "# Round the solutions to the nearest integer\n",
        "solution = np.round(solution).astype(int)\n",
        "\n",
        "# Print the solution\n",
        "print(\"Number of barrels: A =\", solution[0], \", B =\", solution[1], \", C =\", solution[2])\n",
        "\n",
        "\n",
        "# AC1 = B1\n",
        "# AC2 = B2\n",
        "# B1+B2 = AC1 + AC2\n",
        "# B3 = A(C1+C2)\n",
        "# B3 = A(C3)   => C3 = C1+C2\n",
        "#linear maps property\n",
        "# This can be proved by comparing the 2 outputs in code - ToDo"
      ],
      "execution_count": 10,
      "outputs": [
        {
          "output_type": "stream",
          "name": "stdout",
          "text": [
            "Number of barrels: A = 300 , B = 316 , C = 335\n"
          ]
        }
      ]
    },
    {
      "cell_type": "markdown",
      "source": [
        "*Comparing this solution to the previously obtained results (without considering the additional group of distributors), we can observe that the needs of each factory have increased. This increase was expected mathematically since the total demand has increased with the inclusion of the new group of distributors. As a result, the factories require more barrels of crude oil to produce the increased quantity of products demanded by both groups.*\n",
        "\n",
        "### AC1 = B1\n",
        "### AC2 = B2\n",
        "### B1+B2 = AC1 + AC2\n",
        "### B3 = A(C1+C2)\n",
        "### B3 = A(C3)   => C3 = C1+C2\n",
        "\n",
        "Therefore, the mathematical conclusion we can draw is that the needs of each factory are directly proportional to the total demand. When the total demand increases, the needs of each factory also increase accordingly."
      ],
      "metadata": {
        "id": "G0a1ZeI4cMev"
      }
    },
    {
      "cell_type": "markdown",
      "metadata": {
        "id": "G1MVw0x_fQMC"
      },
      "source": [
        "In real life applications, constants are rarely ever exactly equal to their stated value; certain amounts of uncertainty are always present. This is part of the reason for the science of statistics. In the above model, the daily productions for the plants would be averages over a period of time. Explore what effect small changes in the parameters have on the output.\n",
        "\n",
        "To do this, pick any 3 coefficients, one at a time, and increase or decrease them by 3%. For each case , note what effect this has on the solution, as a percentage change. Can you draw any overall conclusion?"
      ]
    },
    {
      "cell_type": "code",
      "metadata": {
        "id": "ObBZDKvYfqie",
        "colab": {
          "base_uri": "https://localhost:8080/"
        },
        "outputId": "6dfa0843-458a-4b07-f37e-94e3b00bac99"
      },
      "source": [
        "# Coefficients of the system of equations\n",
        "coefficients = np.array([[20, 4, 4], [10, 14, 5], [5, 5, 12]])\n",
        "\n",
        "# Constants of the system of equations\n",
        "constants = np.array([6600, 5100, 3100])\n",
        "\n",
        "# Solve the system of equations\n",
        "solution = np.linalg.solve(coefficients, constants)\n",
        "\n",
        "# Round the solutions to the nearest integer\n",
        "solution = np.round(solution).astype(int)\n",
        "\n",
        "print(\"Original Solution:\")\n",
        "print(\"Number of barrels: A =\", solution[0], \", B =\", solution[1], \", C =\", solution[2])\n",
        "\n",
        "# Modify coefficients by ±3%\n",
        "modified_coefficients = coefficients.copy()\n",
        "modified_coefficients[0, 0] *= 1.03  # Increase motor oil coefficient by 3%\n",
        "modified_coefficients[1, 1] *= 0.97  # Decrease diesel oil coefficient by 3%\n",
        "modified_coefficients[2, 2] *= 1.03  # Increase gasoline coefficient by 3%\n",
        "\n",
        "# Solve the modified system of equations\n",
        "modified_solution = np.linalg.solve(modified_coefficients, constants)\n",
        "\n",
        "# Round the solutions to the nearest integer\n",
        "modified_solution = np.round(modified_solution).astype(int)\n",
        "\n",
        "\n",
        "print(\"\\nModified Solution:\")\n",
        "print(\"Number of barrels: A =\", modified_solution[0], \", B =\", modified_solution[1], \", C =\", modified_solution[2])\n",
        "\n",
        "# Calculate percentage changes\n",
        "percentage_change = (modified_solution - solution) / solution * 100\n",
        "\n",
        "print(\"\\nPercentage Change:\")\n",
        "print(\"Motor Oil:   {:.2f}%\".format(percentage_change[0]))\n",
        "print(\"Diesel Oil:  {:.2f}%\".format(percentage_change[1]))\n",
        "print(\"Gasoline:    {:.2f}%\".format(percentage_change[2]))\n"
      ],
      "execution_count": 11,
      "outputs": [
        {
          "output_type": "stream",
          "name": "stdout",
          "text": [
            "Original Solution:\n",
            "Number of barrels: A = 287 , B = 129 , C = 85\n",
            "\n",
            "Modified Solution:\n",
            "Number of barrels: A = 286 , B = 142 , C = 80\n",
            "\n",
            "Percentage Change:\n",
            "Motor Oil:   -0.35%\n",
            "Diesel Oil:  10.08%\n",
            "Gasoline:    -5.88%\n"
          ]
        }
      ]
    },
    {
      "cell_type": "code",
      "source": [
        "def print_output(c):\n",
        "  print('Number of barrels used by A:%d'%c[0])\n",
        "  print('Number of barrels used by B:%d'%c[1])\n",
        "  print('Number of barrels used by C:%d'%c[2])\n",
        "\n",
        "\n",
        "a4 = np.array([[20.0, 4.0, 4.0],\n",
        "              [10.0, 14.0, 5.0],\n",
        "              [5.0, 5.0, 12.0]])\n",
        "\n",
        "b4 = np.array([6600,5100,3100])\n",
        "print('Original production requirement')\n",
        "c4 = np.linalg.solve(a4,b4)\n",
        "c4 = np.ceil(c4)\n",
        "print_output(c4)\n",
        "\n",
        "#reducing A factory output by 3%\n",
        "print('reducing A factory output by 3%')\n",
        "a5=a4\n",
        "a5[0:3,0] = a5[0:3,0]*0.97\n",
        "print(a5)\n",
        "c4 = np.linalg.solve(a5,b4)\n",
        "c4 = np.ceil(c4)\n",
        "print_output(c4)\n",
        "\n",
        "print('reducing B factory output by 3%')\n",
        "a5[0:3,1] = a5[0:3,1]*0.97\n",
        "print(a5)\n",
        "c4 = np.linalg.solve(a5,b4)\n",
        "c4 = np.ceil(c4)\n",
        "print_output(c4)\n",
        "\n",
        "print('reducing C factory output by 3%')\n",
        "a5[0:3,2] = a5[0:3,2]*0.97\n",
        "print(a5)\n",
        "c4 = np.linalg.solve(a5,b4)\n",
        "c4 = np.ceil(c4)\n",
        "print_output(c4)\n",
        "\n",
        "# when we start reducing the output of the factory one by one by 3%, corresponding requirement from the factory increased by 3%\n",
        "print(\"Conclusion: when we start reducing the output of the factory one by one by 3%, corresponding output of the factory increased by 3%.\\n\" \\\n",
        "      \"At the end all factories requirement is increase by 3 %\")\n",
        "\n",
        "print(\" AC=B \\n\" \\\n",
        "\" When A => 0.97 * A , there is corresponding increase in C => 1.03 * C,  to maintain the RHS side same as B\\n\" \\\n",
        "\" 0.97 *1.03 ~ 1\")\n",
        "\n",
        "print(\"\\nThe condition number for corffiecient matrix - this is to understand the quality of the matrix\")\n",
        "print(np.linalg.cond(a4))\n",
        "\n",
        "#Since the condition number is 3 (relatively low) the coefficient matrix is well conditioned"
      ],
      "metadata": {
        "colab": {
          "base_uri": "https://localhost:8080/"
        },
        "id": "xYuLJIvfvyIJ",
        "outputId": "d4583c9e-87c7-40fe-f293-a8ac259f2112"
      },
      "execution_count": 12,
      "outputs": [
        {
          "output_type": "stream",
          "name": "stdout",
          "text": [
            "Original production requirement\n",
            "Number of barrels used by A:288\n",
            "Number of barrels used by B:129\n",
            "Number of barrels used by C:85\n",
            "reducing A factory output by 3%\n",
            "[[19.4   4.    4.  ]\n",
            " [ 9.7  14.    5.  ]\n",
            " [ 4.85  5.   12.  ]]\n",
            "Number of barrels used by A:297\n",
            "Number of barrels used by B:129\n",
            "Number of barrels used by C:85\n",
            "reducing B factory output by 3%\n",
            "[[19.4   3.88  4.  ]\n",
            " [ 9.7  13.58  5.  ]\n",
            " [ 4.85  4.85 12.  ]]\n",
            "Number of barrels used by A:297\n",
            "Number of barrels used by B:133\n",
            "Number of barrels used by C:85\n",
            "reducing C factory output by 3%\n",
            "[[19.4   3.88  3.88]\n",
            " [ 9.7  13.58  4.85]\n",
            " [ 4.85  4.85 11.64]]\n",
            "Number of barrels used by A:297\n",
            "Number of barrels used by B:133\n",
            "Number of barrels used by C:88\n",
            "Conclusion: when we start reducing the output of the factory one by one by 3%, corresponding output of the factory increased by 3%.\n",
            "At the end all factories requirement is increase by 3 %\n",
            " AC=B \n",
            " When A => 0.97 * A , there is corresponding increase in C => 1.03 * C,  to maintain the RHS side same as B\n",
            " 0.97 *1.03 ~ 1\n",
            "\n",
            "The condition number for corffiecient matrix - this is to understand the quality of the matrix\n",
            "3.5155322884709035\n"
          ]
        }
      ]
    },
    {
      "cell_type": "markdown",
      "source": [
        "Overall Conclusion:\n",
        "Conclusion: when we start reducing the output of the factory one by one by 3%, corresponding crude oil barrels of the factory increased by 3%."
      ],
      "metadata": {
        "id": "ekzft9OefQp5"
      }
    },
    {
      "cell_type": "markdown",
      "metadata": {
        "id": "Dbm0HcJ7frNz"
      },
      "source": [
        "Suppose factory $C$ is shut down by the EPA (Environmental Protection Agency) temporarily for excessive emissions into the atmosphere. If your demand is as it was originally (6600, 5100, 3100), what would you now say about the companies ability to meet it? What do you recommend they schedule for production now?"
      ]
    },
    {
      "cell_type": "markdown",
      "source": [
        "If Factory C is temporarily shut down by the EPA due to excessive emissions, it means that the production capacity of Factory C is unavailable. In this scenario, the company would need to adjust its production schedule to meet the original demand from distributors (6600 gallons of motor oil, 5100 gallons of diesel oil, and 3100 gallons of gasoline).\n",
        "\n",
        "Since Factory C is not operational, it cannot contribute to the production. Therefore, the company's ability to meet the demand will be affected. The production capacity of Factories A and B alone will not be sufficient to meet the entire demand.\n",
        "\n",
        "To determine the production schedule, we can solve the system of linear equations considering only Factories A and B. The system of equations without Factory C would be:\n",
        "\n",
        "Motor oil: 20x + 4y = 6600\n",
        "\n",
        "Diesel oil: 10x + 14y = 5100\n",
        "\n",
        "Gasoline: 5x + 5y = 3100"
      ],
      "metadata": {
        "id": "AAnLvEA8fzUr"
      }
    },
    {
      "cell_type": "code",
      "metadata": {
        "id": "gpbtzvrVAST3",
        "colab": {
          "base_uri": "https://localhost:8080/"
        },
        "outputId": "392c6ba0-dcba-478f-8c3c-d2dd7486750d"
      },
      "source": [
        "#Linear equations once factory C is shut down\n",
        "\n",
        "oils = ['motor oil','deisel oil','gasoline']\n",
        "A = np.array([[20.0, 4.0],\n",
        "              [10.0, 14.0],\n",
        "              [5.0, 5.0]\n",
        "            ])\n",
        "\n",
        "b = np.array([6600, 5100, 3100])\n",
        "\n",
        "print(\"Expected production of oils :\")\n",
        "for k in range(len(oils)):\n",
        "  print(f\"{oils[k]} = {b[k]}\")\n",
        "print()\n",
        "\n",
        "# Option 1 - Solve for x and y using the least squares method\n",
        "x, residuals, _, _ = np.linalg.lstsq(A, b, rcond=None)\n",
        "x = np.ceil(x)\n",
        "# Display the solution for the over determined system\n",
        "print(\"Solution 1 : Using least squares: Number of barrels used by factory A, and B\")\n",
        "print(x)\n",
        "print()\n",
        "for i in range(len(oils)):\n",
        "  print(f\"Amount of {oils[i]} produced\")\n",
        "  print(A[i][0]*x[0]+A[i][1]*x[1])\n",
        "\n",
        "print(\"\\nThe motor oil and deisel oil produced are ok - gasoline needs to be produced more\")\n",
        "print()\n",
        "\n",
        "# Option 2 - Solve for x and y using any 2 equations\n",
        "\n",
        "for i in range(A.shape[0]): # for combinations of 2 equations\n",
        "  # print(A.shape[0], i)\n",
        "  if (i < A.shape[0]-1):\n",
        "    A1 = A[i:i+2]\n",
        "    b1 = b[i:i+2]\n",
        "  if (i == A.shape[0]-1):\n",
        "    A1 = A[[0,-1],:]\n",
        "    b1 = [b[0]] + [b[-1]]\n",
        "  # print(A1, b1)\n",
        "\n",
        "  x = solve_fuel(A1, b1)\n",
        "  # Display the solution\n",
        "  print(f\"Solution {i+2} : Using 2 equations of 3: Number of barrels used by factory A, and B\")\n",
        "  print(x)\n",
        "\n",
        "  for j in range(len(oils)):\n",
        "    print(f\"Amount of {oils[j]} produced\")\n",
        "    print(A[j][0]*x[0]+A[j][1]*x[1])\n",
        "  print()\n",
        "\n",
        "print(\"\\nConclusion - Solution 1 with least square method fits best when compared if any combination of 2 equations is used to solve for y and z\")\n",
        "\n"
      ],
      "execution_count": 13,
      "outputs": [
        {
          "output_type": "stream",
          "name": "stdout",
          "text": [
            "Expected production of oils :\n",
            "motor oil = 6600\n",
            "deisel oil = 5100\n",
            "gasoline = 3100\n",
            "\n",
            "Solution 1 : Using least squares: Number of barrels used by factory A, and B\n",
            "[300. 169.]\n",
            "\n",
            "Amount of motor oil produced\n",
            "6676.0\n",
            "Amount of deisel oil produced\n",
            "5366.0\n",
            "Amount of gasoline produced\n",
            "2345.0\n",
            "\n",
            "The motor oil and deisel oil produced are ok - gasoline needs to be produced more\n",
            "\n",
            "Solution 2 : Using 2 equations of 3: Number of barrels used by factory A, and B\n",
            "[300. 150.]\n",
            "Amount of motor oil produced\n",
            "6600.0\n",
            "Amount of deisel oil produced\n",
            "5100.0\n",
            "Amount of gasoline produced\n",
            "2250.0\n",
            "\n",
            "Solution 3 : Using 2 equations of 3: Number of barrels used by factory A, and B\n",
            "[ 895. -275.]\n",
            "Amount of motor oil produced\n",
            "16800.0\n",
            "Amount of deisel oil produced\n",
            "5100.0\n",
            "Amount of gasoline produced\n",
            "3100.0\n",
            "\n",
            "Solution 4 : Using 2 equations of 3: Number of barrels used by factory A, and B\n",
            "[258. 363.]\n",
            "Amount of motor oil produced\n",
            "6612.0\n",
            "Amount of deisel oil produced\n",
            "7662.0\n",
            "Amount of gasoline produced\n",
            "3105.0\n",
            "\n",
            "\n",
            "Conclusion - Solution 1 with least square method fits best when compared if any combination of 2 equations is used to solve for y and z\n"
          ]
        }
      ]
    },
    {
      "cell_type": "code",
      "source": [
        "Prodtable9 = np.array([[20, 4],\n",
        "                        [10, 14],\n",
        "                        [5, 5]])\n",
        "\n",
        "\n",
        "Output9 = np.array([6600, 5100, 3100])\n",
        "\n",
        "Barrles9 = np.linalg.lstsq(Prodtable9, Output9, rcond=None)[0]\n",
        "\n",
        "Barrles9 = np.round(Barrles9).astype(int)\n",
        "\n",
        "\n",
        "print(\"If Factory C shuts down and complete production is handled by Factory A and Factory B\")\n",
        "print(\"FactA9 barrel requirement:\", Barrles9[0])\n",
        "print(\"FactB9 barrel requirement:\", Barrles9[1])"
      ],
      "metadata": {
        "colab": {
          "base_uri": "https://localhost:8080/"
        },
        "id": "2aZ3B03B1VqG",
        "outputId": "98ff1d6f-9b2f-4ab4-e029-ca51101c566b"
      },
      "execution_count": 14,
      "outputs": [
        {
          "output_type": "stream",
          "name": "stdout",
          "text": [
            "If Factory C shuts down and complete production is handled by Factory A and Factory B\n",
            "FactA9 barrel requirement: 299\n",
            "FactB9 barrel requirement: 168\n"
          ]
        }
      ]
    },
    {
      "cell_type": "markdown",
      "metadata": {
        "id": "tZpzEVmEpzhx"
      },
      "source": [
        "### Buying another plant"
      ]
    },
    {
      "cell_type": "markdown",
      "metadata": {
        "id": "X0ghbS-s3Mel"
      },
      "source": [
        "####(Note the following given information. You will see questions in continuation to this, in the subsequent sections)\n",
        "\n",
        "This situation has caused enough concern that the CEO is considering buying another plant, identical to the third, and using it permanently. Assuming that all 4 plants are on line, what production do you recommend to meet the current demand (5000, 8500, 10000)? In general, what can you say about any increased flexibility that the 4th plant might provide?"
      ]
    },
    {
      "cell_type": "markdown",
      "metadata": {
        "id": "IcbiTq8zpzhx"
      },
      "source": [
        "Let the number of barrels used by factory $A$, $B$, $C$ and $D$ are $x$, $y$, $z$ and $w$ respectively.\n",
        "\n",
        "Then the system of linear equations will be\n",
        "\n",
        "$$20x + 4y + 4z + 4w = 5000$$\n",
        "\n",
        "$$10x + 14y + 5z + 5w = 8500$$\n",
        "\n",
        "$$5x + 5y + 12z + 12w = 10000$$\n",
        "\n",
        "The above system of linear equation has fewer equations than variables, hence it is *underdetermined* and cannot have a unique solution. In this case, there are either infinitely many solutions or no exact solution. We can solve it by keeping $w$ as constant and using [rref](http://linear.ups.edu/html/section-RREF.html) form to solve the system of linear equation.\n",
        "\n",
        "To know about rref implementation in python refer [here](https://docs.sympy.org/latest/tutorial/matrices.html#rref)."
      ]
    },
    {
      "cell_type": "code",
      "metadata": {
        "id": "DnCYG65tB8gp",
        "colab": {
          "base_uri": "https://localhost:8080/"
        },
        "outputId": "e33e4f4b-0a32-48e8-c3dc-a14ceb2a24a5"
      },
      "source": [
        "import sympy as sy\n",
        "\n",
        "# create symbol 'w'\n",
        "w = sy.Symbol(\"w\")\n",
        "A_aug = sy.Matrix([[20, 4, 4, 5000-4*w],\n",
        "                   [10, 14, 5, 8500-5*w],\n",
        "                   [5, 5, 12, 10000-12*w]])\n",
        "# show rref form\n",
        "A_aug.rref()"
      ],
      "execution_count": 15,
      "outputs": [
        {
          "output_type": "execute_result",
          "data": {
            "text/plain": [
              "(Matrix([\n",
              " [1, 0, 0,   195/4],\n",
              " [0, 1, 0,  1325/4],\n",
              " [0, 0, 1, 675 - w]]),\n",
              " (0, 1, 2))"
            ]
          },
          "metadata": {},
          "execution_count": 15
        }
      ]
    },
    {
      "cell_type": "markdown",
      "metadata": {
        "id": "1lcEL3n5pzhz"
      },
      "source": [
        "From the above result, it can be seen that 4th plant will share the number of barrels required by the 3rd plant only, while the requirement of 1st and 2nd plant will remain unaffected."
      ]
    },
    {
      "cell_type": "markdown",
      "metadata": {
        "id": "yE9hCfAMpzhz"
      },
      "source": [
        "### Calculate the amount of Paraffin supplied (1 point)"
      ]
    },
    {
      "cell_type": "markdown",
      "metadata": {
        "id": "u9HSGUeZquXD"
      },
      "source": [
        "The company has just found a candle company that will buy its paraffin. Under the current conditions (i.e, after buying another plant) for demand (5000, 8500, 10000), how much can be supplied to them per day?"
      ]
    },
    {
      "cell_type": "markdown",
      "metadata": {
        "id": "ilEui1GHA3Oh"
      },
      "source": [
        "According to the problem statement, factory $A$ has 3 gallons of paraffin to dispose of per barrel of crude oil, factory $B$ 5 gallons, and factory $C$ 2 gallons."
      ]
    },
    {
      "cell_type": "code",
      "metadata": {
        "id": "gJnUalG2_r0i",
        "colab": {
          "base_uri": "https://localhost:8080/"
        },
        "outputId": "5fbf1409-1fd9-46d5-adaf-7f20b5e25223"
      },
      "source": [
        "# YOUR CODE HERE\n",
        "A_paraffin= (195/4)*3\n",
        "B_paraffin= (1325/4)*5\n",
        "C_and_D_paraffin=675*2\n",
        "Total_paraffin=A_paraffin+B_paraffin+C_and_D_paraffin\n",
        "print(Total_paraffin)"
      ],
      "execution_count": 16,
      "outputs": [
        {
          "output_type": "stream",
          "name": "stdout",
          "text": [
            "3152.5\n"
          ]
        }
      ]
    },
    {
      "cell_type": "code",
      "source": [
        "NewFactoryD = np.array([[20, 4, 4, 4],\n",
        "                        [10, 14, 5, 5],\n",
        "                        [5, 5, 12, 12]])\n",
        "\n",
        "\n",
        "Output10 = np.array([5000, 8500, 10000])\n",
        "\n",
        "\n",
        "\n",
        "Barrelreq10, residuals, _, _ = np.linalg.lstsq(NewFactoryD, Output10, rcond=None)\n",
        "Barrelreq10 = np.round(Barrelreq10).astype(int)\n",
        "\n",
        "print(\"Barrel Requirement with New Factory D:\")\n",
        "print(\"FactoryA10:\", Barrelreq10[0])\n",
        "print(\"FactoryB10:\", Barrelreq10[1])\n",
        "print(\"FactoryC10:\", Barrelreq10[2])\n",
        "print(\"FactoryD10:\", Barrelreq10[3])\n",
        "\n",
        "#Barrel Requirement with New Factory D:\n",
        "A10: 49\n",
        "B10: 331\n",
        "C10: 338\n",
        "D10: 338\n",
        "\n",
        "#Paraffin outputcalculation\n",
        "FactoryA10Paraffin = 49*3\n",
        "FactoryB10Paraffin = 331*5\n",
        "FactoryC10Paraffin = 338*5\n",
        "FactoryD10Paraffin = 338*5\n",
        "TotalParaffin10 = (49 * 3) + (331 * 5) + (338 * 2) + (338 * 2)\n",
        "\n",
        "print(\"Factory A10 Paraffin output:\", FactoryA10Paraffin, \"galons\")\n",
        "print(\"Factory B10 Paraffin output:\", FactoryB10Paraffin, \"galons\")\n",
        "print(\"Factory C10 Paraffin output:\", FactoryC10Paraffin, \"galons\")\n",
        "print(\"Factory D10 Paraffin output:\", FactoryD10Paraffin, \"galons\")\n",
        "print(\"Total Paraffin 10:\", TotalParaffin10, \"galons\")"
      ],
      "metadata": {
        "id": "9XkE-w0s4kkZ",
        "colab": {
          "base_uri": "https://localhost:8080/"
        },
        "outputId": "ce98124d-34b7-4a56-8dd6-95925487537c"
      },
      "execution_count": 17,
      "outputs": [
        {
          "output_type": "stream",
          "name": "stdout",
          "text": [
            "Barrel Requirement with New Factory D:\n",
            "FactoryA10: 49\n",
            "FactoryB10: 331\n",
            "FactoryC10: 338\n",
            "FactoryD10: 338\n",
            "Factory A10 Paraffin output: 147 galons\n",
            "Factory B10 Paraffin output: 1655 galons\n",
            "Factory C10 Paraffin output: 1690 galons\n",
            "Factory D10 Paraffin output: 1690 galons\n",
            "Total Paraffin 10: 3154 galons\n"
          ]
        }
      ]
    },
    {
      "cell_type": "markdown",
      "metadata": {
        "id": "sSpnIH4Ypzh0"
      },
      "source": [
        "### Selling the first plant (1 point)"
      ]
    },
    {
      "cell_type": "markdown",
      "metadata": {
        "id": "8l3c1GN14EDp"
      },
      "source": [
        "The management is also considering selling the first plant due to aging equipment and high workman's compensation costs for the state it is located in. They would like to know what this would do to their production capability. Specifically, they would like an example of a demand they could not meet with only plants 2 and 3, and also what effect having plant 4 has (recall it is identical to plant 3). They would also like an example of a demand that they could meet with just plants 2 and 3. Any general statements you could make here would be helpful."
      ]
    },
    {
      "cell_type": "markdown",
      "metadata": {
        "id": "qYz46wb2GTo7"
      },
      "source": [
        "Let the number of barrels used by factory $B$, $C$ and $D$ are $y$, $z$ and $w$ respectively.\n",
        "\n",
        "When considering only plants 2 and 3, and demand (5000, 8500, 10000) then we have\n",
        "\n",
        "$$4y + 4z = 5000$$\n",
        "\n",
        "$$14y + 5z = 8500$$\n",
        "\n",
        "$$5y + 12z = 10000$$"
      ]
    },
    {
      "cell_type": "markdown",
      "metadata": {
        "id": "bLsK1-zNEP0T"
      },
      "source": [
        "Taking 4th plant into consideration.\n",
        "Let the number of barrels used by factory $B$, $C$ and $D$ are $y$, $z$ and $w$ respectively.\n",
        "\n",
        "Then for demand (5000, 8500, 10000) the system of linear equations will be\n",
        "\n",
        "$$4y + 4z + 4w = 5000$$\n",
        "\n",
        "$$14y + 5z + 5w = 8500$$\n",
        "\n",
        "$$5y + 12z + 12w = 10000$$\n",
        "\n",
        "Solve it using rref form."
      ]
    },
    {
      "cell_type": "code",
      "source": [
        "import sympy as sy\n",
        "\n",
        "# Create symbols for variables y, z, w\n",
        "y, z, w = sy.symbols('y z w')\n",
        "\n",
        "# Create the augmented matrix\n",
        "A_aug = sy.Matrix([[4, 4, 4, 5000],\n",
        "                   [14, 5, 5, 8500],\n",
        "                   [5, 12, 12, 10000]])\n",
        "\n",
        "# Compute the rref form\n",
        "rref_A_aug = A_aug.rref()[0]\n",
        "print(rref_A_aug)\n",
        "\n",
        "# Extract the solutions\n",
        "y_solution = rref_A_aug[0, -1]\n",
        "z_solution = rref_A_aug[1, -1]\n",
        "w_solution = rref_A_aug[2, -1]\n",
        "\n",
        "# Print the solutions\n",
        "print(\"Solution:\")\n",
        "print(f\"y: {y_solution}\")\n",
        "print(f\"z: {z_solution}\")\n",
        "print(f\"w: {w_solution}\")\n",
        "\n",
        "print(\"The rref output shows that this set of equations does not have an unique solution - for a unique solution the first 3 columns should be identity matrix\")\n",
        "print(\"An alternate is to use the least squares method which give the best possible fit\")"
      ],
      "metadata": {
        "colab": {
          "base_uri": "https://localhost:8080/"
        },
        "id": "qMXCsxHPhsYW",
        "outputId": "7239af50-b441-4e4b-d7a0-c7abd2546847"
      },
      "execution_count": 18,
      "outputs": [
        {
          "output_type": "stream",
          "name": "stdout",
          "text": [
            "Matrix([[1, 0, 0, 0], [0, 1, 1, 0], [0, 0, 0, 1]])\n",
            "Solution:\n",
            "y: 0\n",
            "z: 0\n",
            "w: 1\n",
            "The rref output shows that this set of equations does not have an unique solution - for a unique solution the first 3 columns should be identity matrix\n",
            "An alternate is to use the least squares method which give the best possible fit\n"
          ]
        }
      ]
    },
    {
      "cell_type": "code",
      "source": [
        "B = np.array([[4.0, 4.0, 4.0],\n",
        "              [14.0, 5.0, 5.0],\n",
        "              [5.0, 12.0, 12.0]])\n",
        "\n",
        "B_aug = sy.Matrix([[4.0, 4.0, 4.0],\n",
        "              [14.0, 5.0, 5.0],\n",
        "              [5.0, 12.0, 12.0]])\n",
        "\n",
        "c = np.array([5000, 8500, 10000])\n",
        "\n",
        "oils = ['motor oil','deisel oil','gasoline']\n",
        "\n",
        "print(B_aug.rref())\n",
        "print(\"The new Linear equation matrix is rank deficiet and hence cannot be evaluated for a unique solution\")\n",
        "print(\"\\nUsing least squares method\")\n",
        "\n",
        "x8, residuals, _, _ = np.linalg.lstsq(B, c, rcond=None)\n",
        "x8 = np.ceil(x8)\n",
        "# x8 = np.linalg.solve(B, c)\n",
        "# # Display the solution\n",
        "print(\"Solution : Total requirement of barrels for Factories B, C and D\")\n",
        "print(x8)\n",
        "print()\n",
        "\n",
        "for j in range(len(oils)):\n",
        "  print(f\"Amount of {oils[j]} produced\")\n",
        "  print(B[j][0]*x8[0]+B[j][1]*x8[1]+B[j][2]*x8[2])"
      ],
      "metadata": {
        "colab": {
          "base_uri": "https://localhost:8080/"
        },
        "id": "iLD7FgkensXB",
        "outputId": "23683c38-4739-4ff2-a9e1-6698dcb5b786"
      },
      "execution_count": 19,
      "outputs": [
        {
          "output_type": "stream",
          "name": "stdout",
          "text": [
            "(Matrix([\n",
            "[1, 0,   0],\n",
            "[0, 1, 1.0],\n",
            "[0, 0,   0]]), (0, 1))\n",
            "The new Linear equation matrix is rank deficiet and hence cannot be evaluated for a unique solution\n",
            "\n",
            "Using least squares method\n",
            "Solution : Total requirement of barrels for Factories B, C and D\n",
            "[370. 348. 348.]\n",
            "\n",
            "Amount of motor oil produced\n",
            "4264.0\n",
            "Amount of deisel oil produced\n",
            "8660.0\n",
            "Amount of gasoline produced\n",
            "10202.0\n"
          ]
        }
      ]
    },
    {
      "cell_type": "markdown",
      "metadata": {
        "id": "u7SDjgFkP5fj"
      },
      "source": [
        "Now, changing demand to (6600, 5100, 3100) and solving the system of equation using rref form."
      ]
    },
    {
      "cell_type": "code",
      "source": [
        "B = np.array([[4.0, 4.0, 4.0],\n",
        "              [14.0, 5.0, 5.0],\n",
        "              [5.0, 12.0, 12.0]])\n",
        "\n",
        "B_aug = sy.Matrix([[4.0, 4.0, 4.0, 6600],\n",
        "              [14.0, 5.0, 5.0, 5100],\n",
        "              [5.0, 12.0, 12.0, 3100]])\n",
        "\n",
        "c = np.array([6600, 5100, 3100])\n",
        "\n",
        "print(B_aug.rref())\n",
        "print(\"The new Linear equation matrix is rank deficiet and hence cannot be evaluated for a unique solution\")\n",
        "\n",
        "print(\"\\nTrying least squares method\")\n",
        "x9, residuals, _, _ = np.linalg.lstsq(B, c, rcond=None)\n",
        "x9 = np.ceil(x9)\n",
        "# x8 = np.linalg.solve(B, c)\n",
        "# # Display the solution\n",
        "print(\"Solution : Total requirement of barrels for Fact B, C and D with revised demand\")\n",
        "print(x9)\n",
        "print()\n",
        "\n",
        "for j in range(len(oils)):\n",
        "  print(f\"Amount of {oils[j]} produced\")\n",
        "  print(B[j][0]*x9[0]+B[j][1]*x9[1]+B[j][2]*x9[2])"
      ],
      "metadata": {
        "colab": {
          "base_uri": "https://localhost:8080/"
        },
        "id": "3u2HRAkDrTMC",
        "outputId": "04a6d3c3-6236-4fc8-a62b-338b5ad2ce36"
      },
      "execution_count": 20,
      "outputs": [
        {
          "output_type": "stream",
          "name": "stdout",
          "text": [
            "(Matrix([\n",
            "[1, 0,   0, 0],\n",
            "[0, 1, 1.0, 0],\n",
            "[0, 0,   0, 1]]), (0, 1, 3))\n",
            "The new Linear equation matrix is rank deficiet and hence cannot be evaluated for a unique solution\n",
            "\n",
            "Trying least squares method\n",
            "Solution : Total requirement of barrels for Fact B, C and D with revised demand\n",
            "[353. 102. 102.]\n",
            "\n",
            "Amount of motor oil produced\n",
            "2228.0\n",
            "Amount of deisel oil produced\n",
            "5962.0\n",
            "Amount of gasoline produced\n",
            "4213.0\n"
          ]
        }
      ]
    },
    {
      "cell_type": "markdown",
      "metadata": {
        "id": "fngUPMK_pzh1"
      },
      "source": [
        "### Set rates for Products (1 point)"
      ]
    },
    {
      "cell_type": "markdown",
      "metadata": {
        "id": "8Go0tQYtpzh1"
      },
      "source": [
        "Company wants to set the rates of motor oil, diesel oil, and gasoline. For this purpose they have few suggestions given as follows:\n",
        "\n",
        "* 100, 66, 102 Rupees per gallon,\n",
        "\n",
        "* 104, 64, 100 Rupees per gallon,\n",
        "\n",
        "* 102, 68, 98 Rupees per gallon, and\n",
        "\n",
        "* 96, 68, 100 Rupees per gallon\n",
        "\n",
        "for motor oil, diesel oil, and gasoline respectively.\n",
        "\n",
        "Using matrix multiplication, find the rates which result in maximum total price."
      ]
    },
    {
      "cell_type": "markdown",
      "metadata": {
        "id": "9yRue5zIpzh1"
      },
      "source": [
        "Let $M$ denote the matrix such that rows represents different plants (A, B and C), columns represents different products (motor oil, diesel oil and gasoline) and each value represents production of that product from one barrel of crude oil for that plant.\n",
        "\n",
        "$$M = \\begin{bmatrix}\n",
        "20 & 10 & 5 \\\\\n",
        "4 & 14 & 5  \\\\\n",
        " 4 & 5 & 12  \n",
        "\\end{bmatrix}$$\n",
        "\n",
        "Also, $R$ is a matrix having different rates as its columns.\n",
        "\n",
        "$$R = \\begin{bmatrix}\n",
        "100 & 104 & 102 & 96 \\\\\n",
        "66 & 64 & 68 & 68  \\\\\n",
        "102 & 100 & 98 & 100  \n",
        "\\end{bmatrix}$$"
      ]
    },
    {
      "cell_type": "code",
      "source": [
        "import numpy as np\n",
        "\n",
        "M = np.array([[20, 10, 5],\n",
        "              [4, 14, 5],\n",
        "              [4, 5, 12]])\n",
        "R = np.array([[100, 104, 102, 96],\n",
        "             [66, 64, 68, 68],\n",
        "             [102, 100, 98, 100]])\n",
        "result = np.matmul(M, R)\n",
        "column_sum = np.sum(result, axis=0)\n",
        "\n",
        "max_total_price = np.max(column_sum)\n",
        "max_total_price_combination = np.argmax(column_sum)\n",
        "\n",
        "best_rates = R[:, max_total_price_combination]\n",
        "\n",
        "print (\"Below are the combination of cost per barrel of production \")\n",
        "print (result)\n",
        "print(\"                   \")\n",
        "print ('Maximum total price')\n",
        "print (column_sum)\n",
        "print(\"                   \")\n",
        "print(\"Maximum Total Price: \", max_total_price)\n",
        "print(\"Rates for Maximum Total Price: \", best_rates)"
      ],
      "metadata": {
        "colab": {
          "base_uri": "https://localhost:8080/"
        },
        "id": "yD_omHCI0qLN",
        "outputId": "815bba97-c570-48b5-dc54-2756beeaae3d"
      },
      "execution_count": 21,
      "outputs": [
        {
          "output_type": "stream",
          "name": "stdout",
          "text": [
            "Below are the combination of cost per barrel of production \n",
            "[[3170 3220 3210 3100]\n",
            " [1834 1812 1850 1836]\n",
            " [1954 1936 1924 1924]]\n",
            "                   \n",
            "Maximum total price\n",
            "[6958 6968 6984 6860]\n",
            "                   \n",
            "Maximum Total Price:  6984\n",
            "Rates for Maximum Total Price:  [102  68  98]\n"
          ]
        }
      ]
    },
    {
      "cell_type": "markdown",
      "metadata": {
        "id": "cga8JrkApzh1"
      },
      "source": [
        "### Marginal Cost (1 point)"
      ]
    },
    {
      "cell_type": "markdown",
      "metadata": {
        "id": "8nN5V5NXpzh2"
      },
      "source": [
        "The total cost $C(x)$ in Rupees, associated with the production of $x$ gallons of gasoline is given by\n",
        "\n",
        "$$C(x) = 0.005 x^3 – 0.02 x^2 + 30x + 5000$$\n",
        "\n",
        "Find the marginal cost when $22$ gallons are produced, where, marginal cost means the instantaneous rate of change of total cost at any level of output."
      ]
    },
    {
      "cell_type": "code",
      "source": [
        "import sympy as sym\n",
        "\n",
        "# Define the variable x\n",
        "x = sym.Symbol('x')\n",
        "\n",
        "# Define the function C(x)\n",
        "C = 0.005 * x**3 - 0.02 * x**2 + 30 * x + 5000\n",
        "\n",
        "# Differentiate C(x) with respect to x\n",
        "dC_dx = sym.diff(C, x)\n",
        "\n",
        "\n",
        "# Print the result\n",
        "print(\"dC/dx =\", dC_dx)\n",
        "\n"
      ],
      "metadata": {
        "colab": {
          "base_uri": "https://localhost:8080/"
        },
        "id": "mDp5U_wOJJUN",
        "outputId": "a88d97ea-528c-46f7-cd05-6e8d9c4c3003"
      },
      "execution_count": 22,
      "outputs": [
        {
          "output_type": "stream",
          "name": "stdout",
          "text": [
            "dC/dx = 0.015*x**2 - 0.04*x + 30\n"
          ]
        }
      ]
    },
    {
      "cell_type": "code",
      "source": [
        "# YOUR CODE HERE\n",
        "x = 22\n",
        "marginal_cost = 0.015 * x**2 - 0.04 * x + 30\n",
        "print(marginal_cost)\n"
      ],
      "metadata": {
        "colab": {
          "base_uri": "https://localhost:8080/"
        },
        "id": "WpsFMRBaKDou",
        "outputId": "822de433-99a1-456d-f50e-a7205936e82d"
      },
      "execution_count": 23,
      "outputs": [
        {
          "output_type": "stream",
          "name": "stdout",
          "text": [
            "36.38\n"
          ]
        }
      ]
    },
    {
      "cell_type": "markdown",
      "metadata": {
        "id": "qOMlrDEhpzh2"
      },
      "source": [
        "### Marginal Revenue (1 point)"
      ]
    },
    {
      "cell_type": "markdown",
      "metadata": {
        "id": "bfS88lmWpzh2"
      },
      "source": [
        "The total revenue in Rupees received from the sale of $x$ gallons of a motor oil is given by $$R(x) = 3x^2 + 36x + 5.$$\n",
        "\n",
        "Find the marginal revenue, when $x = 28$, where, marginal revenue means the rate of change of total revenue with respect to the number of items sold at an instant."
      ]
    },
    {
      "cell_type": "code",
      "metadata": {
        "id": "rb0h6p49pzh2",
        "colab": {
          "base_uri": "https://localhost:8080/"
        },
        "outputId": "ea667ad9-4899-422d-9d2c-8c192526d2b4"
      },
      "source": [
        "# YOUR CODE HERE\n",
        "# Define the symbolic variable\n",
        "x = sy.Symbol('x')\n",
        "\n",
        "#Define the function\n",
        "R_x = 3*x**2 + 36*x + 5\n",
        "\n",
        "# Define the derivative of the polynomial\n",
        "gradient = sy.diff(R_x, x)\n",
        "print(sy.latex(gradient))\n",
        "\n",
        "# Evaluate the derivative at x = 22\n",
        "x_value = 28\n",
        "gradient_value = gradient.subs(x, x_value)\n",
        "\n",
        "# Display the value of the gradient at x = 22\n",
        "print(\"Value of the gradient at x = 28:\")\n",
        "print(round(gradient_value,2))\n"
      ],
      "execution_count": 24,
      "outputs": [
        {
          "output_type": "stream",
          "name": "stdout",
          "text": [
            "6 x + 36\n",
            "Value of the gradient at x = 28:\n",
            "204\n"
          ]
        }
      ]
    },
    {
      "cell_type": "markdown",
      "metadata": {
        "id": "ZKb5VuM_pzh2"
      },
      "source": [
        "### Pouring crude oil in tank (1 point)"
      ]
    },
    {
      "cell_type": "markdown",
      "metadata": {
        "id": "TD9zv5jPpzh2"
      },
      "source": [
        "In a cylindrical tank of radius 10 meter, crude oil is being poured at the rate of 314 cubic meter per hour. Then find\n",
        "\n",
        "* the rate at which the height of crude oil is increasing in the tank, and\n",
        "* the height of crude oil in tank after 2 hours."
      ]
    },
    {
      "cell_type": "markdown",
      "source": [
        "V = πr^2h\n",
        "\n",
        "where V is the volume, r is the radius, and h is the height of the cylinder.\n",
        "\n",
        "Given that the radius is 10 meters and the rate of change of volume is 314 cubic meters per hour, we can differentiate the volume equation with respect to time (t) to find the rate of change of height (dh/dt):\n",
        "\n",
        "dV/dt = πr^2 * dh/dt\n",
        "\n",
        "Simplifying, we have:\n",
        "\n",
        "314 = π * (10^2) * (dh/dt)\n",
        "\n",
        "Now we can solve for dh/dt, which represents the rate at which the height of crude oil is increasing:\n",
        "\n",
        "dh/dt = 314 / (π * 100)\n",
        "\n",
        "To find the height of the crude oil in the tank after 2 hours, we can integrate dh/dt with respect to t:\n",
        "\n",
        "h = ∫(314 / (π * 100)) dt\n",
        "\n",
        "Integrating, we have:\n",
        "\n",
        "h = (314 / (π * 100)) * t + C\n",
        "\n",
        "where C is the constant of integration.\n",
        "\n",
        "Now we can plug in t = 2 hours to find the height of the crude oil after 2 hours.\n",
        "\n",
        "since this will be a definite integral ,so constant of integration will be zero."
      ],
      "metadata": {
        "id": "5iWytmuvE50I"
      }
    },
    {
      "cell_type": "code",
      "metadata": {
        "id": "g6ntcdNypzh2",
        "colab": {
          "base_uri": "https://localhost:8080/"
        },
        "outputId": "fe5d76bb-ac4f-4ddc-dd59-816c6ee5648b"
      },
      "source": [
        "# YOUR CODE HERE\n",
        "import math\n",
        "\n",
        "# Calculate the rate at which the height is increasing\n",
        "rate_of_increase = 314 / (math.pi * 100)\n",
        "print(\"Rate of increase of height:\", rate_of_increase, \"meters per hour\")\n",
        "\n",
        "# Calculate the height of the crude oil after 2 hours\n",
        "t = 2  # hours\n",
        "height = (314 / (math.pi * 100)) * t\n",
        "print(\"Height of crude oil after 2 hours:\", height, \"meters\")\n"
      ],
      "execution_count": 25,
      "outputs": [
        {
          "output_type": "stream",
          "name": "stdout",
          "text": [
            "Rate of increase of height: 0.9994930426171027 meters per hour\n",
            "Height of crude oil after 2 hours: 1.9989860852342054 meters\n"
          ]
        }
      ]
    },
    {
      "cell_type": "code",
      "source": [
        "v = sy.Symbol('v')\n",
        "r = 10\n",
        "h = 1/(np.pi*r**2)*v\n",
        "\n",
        "#rate_of_change_of_height_wrt_vol = dh/dv\n",
        "dhdv = sy.diff(h, v)\n",
        "print(f\"The rate at which the height of crude oil is increasing wrt Vol is : {round(dhdv,5)} meter square\")\n",
        "\n",
        "#rate_of_change_of_vol_wrt_time = dv/dt\n",
        "dvdt = 314\n",
        "\n",
        "#multiple dh/dv * dv/dt = dh/dt - rate of change of height wrt to time = dh/dt\n",
        "dhdt = dhdv * dvdt\n",
        "print(f\"The rate at which height of crude oil is increasing wrt time : {round(dhdt)} meter/hour\")\n",
        "\n",
        "t = 2\n",
        "height = t * dhdt\n",
        "print(f\"Hieght of crude oil in tank after {t} hours is : {round(height)} meters\")"
      ],
      "metadata": {
        "colab": {
          "base_uri": "https://localhost:8080/"
        },
        "id": "IM_bOOnB1gpu",
        "outputId": "90de20b1-a93a-4f9b-ec7a-0fa40b7286bd"
      },
      "execution_count": 26,
      "outputs": [
        {
          "output_type": "stream",
          "name": "stdout",
          "text": [
            "The rate at which the height of crude oil is increasing wrt Vol is : 0.00318 meter square\n",
            "The rate at which height of crude oil is increasing wrt time : 1 meter/hour\n",
            "Hieght of crude oil in tank after 2 hours is : 2 meters\n"
          ]
        }
      ]
    }
  ]
}